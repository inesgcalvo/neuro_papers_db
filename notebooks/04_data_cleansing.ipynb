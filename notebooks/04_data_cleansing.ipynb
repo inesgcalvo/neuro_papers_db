{
 "cells": [
  {
   "cell_type": "markdown",
   "id": "f9d5ba3a",
   "metadata": {},
   "source": [
    "# 04. Data Cleansing\n",
    "\n",
    "This notebook focuses on comprehensive **data cleansing** of the extracted article DataFrame obtained from PubMed, along with the enriched data from CrossRef's two additional columns. The script further enhances the DataFrame by incorporating two new essential columns: 'first_author' and 'last_author,' providing insights into the first and last authors of each article, respectively."
   ]
  },
  {
   "cell_type": "code",
   "execution_count": 1,
   "id": "711a8d2e",
   "metadata": {},
   "outputs": [],
   "source": [
    "# Libraries Importation\n",
    "import sys\n",
    "import ast\n",
    "import pandas as pd\n",
    "\n",
    "# and Functions\n",
    "sys.path.append('../py')\n",
    "from src import *\n",
    "\n",
    "import warnings\n",
    "warnings.filterwarnings('ignore')"
   ]
  },
  {
   "cell_type": "code",
   "execution_count": 2,
   "id": "a9e3cd11",
   "metadata": {},
   "outputs": [],
   "source": [
    "articles = pd.read_csv('../data/pubmed_articles_raw.csv')"
   ]
  },
  {
   "cell_type": "code",
   "execution_count": 3,
   "id": "459fc695",
   "metadata": {},
   "outputs": [
    {
     "data": {
      "text/html": [
       "<div>\n",
       "<style scoped>\n",
       "    .dataframe tbody tr th:only-of-type {\n",
       "        vertical-align: middle;\n",
       "    }\n",
       "\n",
       "    .dataframe tbody tr th {\n",
       "        vertical-align: top;\n",
       "    }\n",
       "\n",
       "    .dataframe thead th {\n",
       "        text-align: right;\n",
       "    }\n",
       "</style>\n",
       "<table border=\"1\" class=\"dataframe\">\n",
       "  <thead>\n",
       "    <tr style=\"text-align: right;\">\n",
       "      <th></th>\n",
       "      <th>DOI</th>\n",
       "      <th>title</th>\n",
       "      <th>authors</th>\n",
       "      <th>affiliations</th>\n",
       "      <th>journal</th>\n",
       "      <th>year</th>\n",
       "      <th>month</th>\n",
       "      <th>volume</th>\n",
       "      <th>first_page</th>\n",
       "      <th>last_page</th>\n",
       "      <th>PMID</th>\n",
       "      <th>PMCID</th>\n",
       "      <th>abstract</th>\n",
       "    </tr>\n",
       "  </thead>\n",
       "  <tbody>\n",
       "    <tr>\n",
       "      <th>0</th>\n",
       "      <td>10.1177/17585732221102399</td>\n",
       "      <td>Surgical management of the spastic elbow</td>\n",
       "      <td>['Weisang Luo  1 ', ' Matthew Nixon  1   2']</td>\n",
       "      <td>['Countess of Chester Hospital, Chester, UK.',...</td>\n",
       "      <td>Shoulder Elbow</td>\n",
       "      <td>2023</td>\n",
       "      <td>Oct</td>\n",
       "      <td>15(5)</td>\n",
       "      <td>534</td>\n",
       "      <td>543</td>\n",
       "      <td>37811394</td>\n",
       "      <td>PMC10557929</td>\n",
       "      <td>['Background: We performed a retrospective rev...</td>\n",
       "    </tr>\n",
       "    <tr>\n",
       "      <th>1</th>\n",
       "      <td>10.1007/s11571-022-09871-6</td>\n",
       "      <td>Three-dimensional memristive Morris-Lecar mode...</td>\n",
       "      <td>['Han Bao  1 ', ' Xihong Yu  1 ', ' Quan Xu  1...</td>\n",
       "      <td>[\"School of Microelectronics and Control Engin...</td>\n",
       "      <td>Cogn Neurodyn</td>\n",
       "      <td>2023</td>\n",
       "      <td>Aug</td>\n",
       "      <td>17(4)</td>\n",
       "      <td>1079</td>\n",
       "      <td>1092</td>\n",
       "      <td>37522038</td>\n",
       "      <td>PMC10374513</td>\n",
       "      <td>['To characterize the magnetic induction flow ...</td>\n",
       "    </tr>\n",
       "  </tbody>\n",
       "</table>\n",
       "</div>"
      ],
      "text/plain": [
       "                          DOI  \\\n",
       "0   10.1177/17585732221102399   \n",
       "1  10.1007/s11571-022-09871-6   \n",
       "\n",
       "                                               title  \\\n",
       "0           Surgical management of the spastic elbow   \n",
       "1  Three-dimensional memristive Morris-Lecar mode...   \n",
       "\n",
       "                                             authors  \\\n",
       "0       ['Weisang Luo  1 ', ' Matthew Nixon  1   2']   \n",
       "1  ['Han Bao  1 ', ' Xihong Yu  1 ', ' Quan Xu  1...   \n",
       "\n",
       "                                        affiliations         journal  year  \\\n",
       "0  ['Countess of Chester Hospital, Chester, UK.',...  Shoulder Elbow  2023   \n",
       "1  [\"School of Microelectronics and Control Engin...   Cogn Neurodyn  2023   \n",
       "\n",
       "  month volume first_page last_page      PMID        PMCID  \\\n",
       "0   Oct  15(5)        534       543  37811394  PMC10557929   \n",
       "1   Aug  17(4)       1079      1092  37522038  PMC10374513   \n",
       "\n",
       "                                            abstract  \n",
       "0  ['Background: We performed a retrospective rev...  \n",
       "1  ['To characterize the magnetic induction flow ...  "
      ]
     },
     "execution_count": 3,
     "metadata": {},
     "output_type": "execute_result"
    }
   ],
   "source": [
    "articles.head(2)"
   ]
  },
  {
   "cell_type": "code",
   "execution_count": 4,
   "id": "682ed237",
   "metadata": {},
   "outputs": [
    {
     "data": {
      "text/plain": [
       "(926, 13)"
      ]
     },
     "execution_count": 4,
     "metadata": {},
     "output_type": "execute_result"
    }
   ],
   "source": [
    "articles.shape"
   ]
  },
  {
   "cell_type": "markdown",
   "id": "043617ef",
   "metadata": {},
   "source": [
    "___\n",
    "\n",
    "### Insert the CrossRef columns:"
   ]
  },
  {
   "cell_type": "code",
   "execution_count": 7,
   "id": "21c92dec",
   "metadata": {},
   "outputs": [],
   "source": [
    "cross_ref = pd.read_csv('../data/cross_ref')"
   ]
  },
  {
   "cell_type": "code",
   "execution_count": 9,
   "id": "0ec84f98",
   "metadata": {},
   "outputs": [
    {
     "data": {
      "text/html": [
       "<div>\n",
       "<style scoped>\n",
       "    .dataframe tbody tr th:only-of-type {\n",
       "        vertical-align: middle;\n",
       "    }\n",
       "\n",
       "    .dataframe tbody tr th {\n",
       "        vertical-align: top;\n",
       "    }\n",
       "\n",
       "    .dataframe thead th {\n",
       "        text-align: right;\n",
       "    }\n",
       "</style>\n",
       "<table border=\"1\" class=\"dataframe\">\n",
       "  <thead>\n",
       "    <tr style=\"text-align: right;\">\n",
       "      <th></th>\n",
       "      <th>href</th>\n",
       "      <th>json_href</th>\n",
       "    </tr>\n",
       "  </thead>\n",
       "  <tbody>\n",
       "    <tr>\n",
       "      <th>0</th>\n",
       "      <td>https://doi.org/10.1177/17585732221102399</td>\n",
       "      <td>https://api.crossref.org/works/10.1177/1758573...</td>\n",
       "    </tr>\n",
       "    <tr>\n",
       "      <th>1</th>\n",
       "      <td>https://doi.org/10.1007/s11571-022-09871-6</td>\n",
       "      <td>https://api.crossref.org/works/10.1007/s11571-...</td>\n",
       "    </tr>\n",
       "  </tbody>\n",
       "</table>\n",
       "</div>"
      ],
      "text/plain": [
       "                                         href  \\\n",
       "0   https://doi.org/10.1177/17585732221102399   \n",
       "1  https://doi.org/10.1007/s11571-022-09871-6   \n",
       "\n",
       "                                           json_href  \n",
       "0  https://api.crossref.org/works/10.1177/1758573...  \n",
       "1  https://api.crossref.org/works/10.1007/s11571-...  "
      ]
     },
     "execution_count": 9,
     "metadata": {},
     "output_type": "execute_result"
    }
   ],
   "source": [
    "cross_ref.head(2)"
   ]
  },
  {
   "cell_type": "code",
   "execution_count": 13,
   "id": "adeef90e",
   "metadata": {},
   "outputs": [
    {
     "data": {
      "text/plain": [
       "(926, 2)"
      ]
     },
     "execution_count": 13,
     "metadata": {},
     "output_type": "execute_result"
    }
   ],
   "source": [
    "cross_ref.shape"
   ]
  },
  {
   "cell_type": "code",
   "execution_count": 16,
   "id": "126f5d12",
   "metadata": {},
   "outputs": [],
   "source": [
    "articles['href'] = cross_ref['href']\n",
    "articles['json_href'] = cross_ref['json_href']"
   ]
  },
  {
   "cell_type": "code",
   "execution_count": 17,
   "id": "9ae7e8f1",
   "metadata": {},
   "outputs": [
    {
     "data": {
      "text/plain": [
       "(926, 15)"
      ]
     },
     "execution_count": 17,
     "metadata": {},
     "output_type": "execute_result"
    }
   ],
   "source": [
    "articles.shape"
   ]
  },
  {
   "cell_type": "markdown",
   "id": "0e06866c",
   "metadata": {},
   "source": [
    "___\n",
    "\n",
    "### Data cleansing protocol for the DataFrame:\n",
    "\n",
    "    01. remove empty space from column names and cells:\n",
    "    remove_spaces_column_names(df);\n",
    "    remove_spaces_columns(df);\n",
    "\n",
    "    02. Find duplicates and remove them if needed:\n",
    "    any_duplicate(df)\n",
    "    specific_duplicates(df, col1, col2)\n",
    "    drop_duplicates(df)\n",
    "\n",
    "    03. Find NaN values and visualize them.\n",
    "    nan(df) \n",
    "    view_nan(df) \n",
    "\n",
    "    04. Check the columns that are constant or present low variance:\n",
    "    low_variance(df) \n",
    "    unique_values(df)\n",
    "    constant_columns(df)\n",
    "\n",
    "    * Evaluate if the constant or low variance columns are needed or can be droped:\n",
    "    df.drop('column', axis = 1, inplace = True)\n",
    "\n",
    "    05. Find cells containing special characters:\n",
    "    find_special_chars(df, patron = r'[?¿*$%&]')\n",
    "\n",
    "    06. export the clean table as csv:\n",
    "    df.to_csv('../output_clean/df.csv', index = False)"
   ]
  },
  {
   "cell_type": "code",
   "execution_count": 18,
   "id": "5b17004d",
   "metadata": {},
   "outputs": [],
   "source": [
    "# Remove spaces drom the column names and over the columns\n",
    "remove_spaces_column_names(articles);\n",
    "remove_spaces_columns(articles);"
   ]
  },
  {
   "cell_type": "code",
   "execution_count": 19,
   "id": "1555c574",
   "metadata": {},
   "outputs": [
    {
     "data": {
      "text/plain": [
       "True"
      ]
     },
     "execution_count": 19,
     "metadata": {},
     "output_type": "execute_result"
    }
   ],
   "source": [
    "# Search for duplicates\n",
    "any_duplicate(articles)"
   ]
  },
  {
   "cell_type": "code",
   "execution_count": 20,
   "id": "bb7fd0a4",
   "metadata": {},
   "outputs": [
    {
     "data": {
      "text/plain": [
       "(783, 15)"
      ]
     },
     "execution_count": 20,
     "metadata": {},
     "output_type": "execute_result"
    }
   ],
   "source": [
    "drop_duplicates(articles)\n",
    "articles.shape"
   ]
  },
  {
   "cell_type": "code",
   "execution_count": 24,
   "id": "cb0e793f",
   "metadata": {},
   "outputs": [
    {
     "data": {
      "text/plain": [
       "last_page    454\n",
       "volume       238\n",
       "href          40\n",
       "json_href     40\n",
       "DOI            0\n",
       "dtype: int64"
      ]
     },
     "execution_count": 24,
     "metadata": {},
     "output_type": "execute_result"
    }
   ],
   "source": [
    "# Search NaN values\n",
    "nan(articles).head()"
   ]
  },
  {
   "cell_type": "code",
   "execution_count": 25,
   "id": "50ca434c",
   "metadata": {},
   "outputs": [
    {
     "data": {
      "image/png": "[encoded data removed]",
      "text/plain": [
       "<Figure size 1000x600 with 1 Axes>"
      ]
     },
     "metadata": {
      "needs_background": "light"
     },
     "output_type": "display_data"
    }
   ],
   "source": [
    "view_nan(articles) "
   ]
  },
  {
   "cell_type": "code",
   "execution_count": 26,
   "id": "382929cd",
   "metadata": {},
   "outputs": [
    {
     "data": {
      "text/plain": [
       "25        8\n",
       "193       8\n",
       "232       5\n",
       "202       5\n",
       "ENEURO    5\n",
       "         ..\n",
       "1740      1\n",
       "e428      1\n",
       "e430      1\n",
       "553       1\n",
       "86        1\n",
       "Name: first_page, Length: 685, dtype: int64"
      ]
     },
     "execution_count": 26,
     "metadata": {},
     "output_type": "execute_result"
    }
   ],
   "source": [
    "# There are NaN values in two columns: \n",
    "# volumnes and last_page.\n",
    "# This is because the absence of protocol \n",
    "# form in the article source\n",
    "\n",
    "articles['first_page'].value_counts()"
   ]
  },
  {
   "cell_type": "code",
   "execution_count": 27,
   "id": "5c4a2bf4",
   "metadata": {},
   "outputs": [],
   "source": [
    "bad_results = {'article_source': [], \n",
    "               'index': []}\n",
    "\n",
    "bad_res = articles['first_page'].str.split(\"\\n\").tolist()\n",
    "\n",
    "for i, res in enumerate(bad_res):\n",
    "    if len(res) > 1:\n",
    "        bad_results['article_source'].append(res)\n",
    "        bad_results['index'].append(i)\n",
    "    else:\n",
    "        continue"
   ]
  },
  {
   "cell_type": "code",
   "execution_count": 28,
   "id": "ffd3bffc",
   "metadata": {},
   "outputs": [
    {
     "data": {
      "text/html": [
       "<div>\n",
       "<style scoped>\n",
       "    .dataframe tbody tr th:only-of-type {\n",
       "        vertical-align: middle;\n",
       "    }\n",
       "\n",
       "    .dataframe tbody tr th {\n",
       "        vertical-align: top;\n",
       "    }\n",
       "\n",
       "    .dataframe thead th {\n",
       "        text-align: right;\n",
       "    }\n",
       "</style>\n",
       "<table border=\"1\" class=\"dataframe\">\n",
       "  <thead>\n",
       "    <tr style=\"text-align: right;\">\n",
       "      <th></th>\n",
       "      <th>article_source</th>\n",
       "      <th>index</th>\n",
       "    </tr>\n",
       "  </thead>\n",
       "  <tbody>\n",
       "    <tr>\n",
       "      <th>0</th>\n",
       "      <td>[Neurosci Res, . 2023 Jun:191:48-56.]</td>\n",
       "      <td>4</td>\n",
       "    </tr>\n",
       "    <tr>\n",
       "      <th>1</th>\n",
       "      <td>[Int J Biol Macromol, . 2023 Jan 31:226:90-101.]</td>\n",
       "      <td>28</td>\n",
       "    </tr>\n",
       "  </tbody>\n",
       "</table>\n",
       "</div>"
      ],
      "text/plain": [
       "                                     article_source  index\n",
       "0             [Neurosci Res, . 2023 Jun:191:48-56.]      4\n",
       "1  [Int J Biol Macromol, . 2023 Jan 31:226:90-101.]     28"
      ]
     },
     "execution_count": 28,
     "metadata": {},
     "output_type": "execute_result"
    }
   ],
   "source": [
    "bad_results_df = pd.DataFrame(bad_results)\n",
    "bad_results_df.head(2)"
   ]
  },
  {
   "cell_type": "code",
   "execution_count": 29,
   "id": "85739904",
   "metadata": {},
   "outputs": [],
   "source": [
    "# I need to extract the information from 'first_page' \n",
    "# to feed 'volumne' and 'last_page'\n",
    "# and maintain just the good value in 'first_page' \n",
    "\n",
    "for i in range(228):\n",
    "\n",
    "    article_source = bad_results_df['article_source'][i][-1]\n",
    "\n",
    "    # Using Regex to find the value in between ':' for volume\n",
    "    match_vol = re.search(r\"^(.*):(.*):(.*)$\", article_source)\n",
    "\n",
    "    # Si se encuentra un valor, lo agrega a la nueva columna\n",
    "    if match_vol:\n",
    "        bad_results_df.loc[i, 'volumes'] = match_vol.group(2)\n",
    "        \n",
    "        try:\n",
    "            bad_results_df.loc[i, 'first_page'] = match_vol.group(3).split('-')[0]\n",
    "        except:\n",
    "            continue\n",
    "            \n",
    "        try:    \n",
    "            bad_results_df.loc[i, 'last_page'] = match_vol.group(3).split('-')[1]\n",
    "        except:\n",
    "            continue\n",
    "\n",
    "            break"
   ]
  },
  {
   "cell_type": "code",
   "execution_count": 30,
   "id": "8b382f34",
   "metadata": {},
   "outputs": [
    {
     "data": {
      "text/html": [
       "<div>\n",
       "<style scoped>\n",
       "    .dataframe tbody tr th:only-of-type {\n",
       "        vertical-align: middle;\n",
       "    }\n",
       "\n",
       "    .dataframe tbody tr th {\n",
       "        vertical-align: top;\n",
       "    }\n",
       "\n",
       "    .dataframe thead th {\n",
       "        text-align: right;\n",
       "    }\n",
       "</style>\n",
       "<table border=\"1\" class=\"dataframe\">\n",
       "  <thead>\n",
       "    <tr style=\"text-align: right;\">\n",
       "      <th></th>\n",
       "      <th>article_source</th>\n",
       "      <th>index</th>\n",
       "      <th>volumes</th>\n",
       "      <th>first_page</th>\n",
       "      <th>last_page</th>\n",
       "    </tr>\n",
       "  </thead>\n",
       "  <tbody>\n",
       "    <tr>\n",
       "      <th>0</th>\n",
       "      <td>[Neurosci Res, . 2023 Jun:191:48-56.]</td>\n",
       "      <td>4</td>\n",
       "      <td>191</td>\n",
       "      <td>48</td>\n",
       "      <td>56.</td>\n",
       "    </tr>\n",
       "    <tr>\n",
       "      <th>1</th>\n",
       "      <td>[Int J Biol Macromol, . 2023 Jan 31:226:90-101.]</td>\n",
       "      <td>28</td>\n",
       "      <td>226</td>\n",
       "      <td>90</td>\n",
       "      <td>101.</td>\n",
       "    </tr>\n",
       "    <tr>\n",
       "      <th>2</th>\n",
       "      <td>[Front Neurosci, . 2023 Jan 24:16:1082375.]</td>\n",
       "      <td>29</td>\n",
       "      <td>16</td>\n",
       "      <td>1082375.</td>\n",
       "      <td>NaN</td>\n",
       "    </tr>\n",
       "    <tr>\n",
       "      <th>3</th>\n",
       "      <td>[Front Neurol, . 2023 Jan 17:13:1064619.]</td>\n",
       "      <td>30</td>\n",
       "      <td>13</td>\n",
       "      <td>1064619.</td>\n",
       "      <td>NaN</td>\n",
       "    </tr>\n",
       "    <tr>\n",
       "      <th>4</th>\n",
       "      <td>[Front Neurosci, . 2023 Jan 16:16:1009542.]</td>\n",
       "      <td>31</td>\n",
       "      <td>16</td>\n",
       "      <td>1009542.</td>\n",
       "      <td>NaN</td>\n",
       "    </tr>\n",
       "  </tbody>\n",
       "</table>\n",
       "</div>"
      ],
      "text/plain": [
       "                                     article_source  index volumes first_page  \\\n",
       "0             [Neurosci Res, . 2023 Jun:191:48-56.]      4     191         48   \n",
       "1  [Int J Biol Macromol, . 2023 Jan 31:226:90-101.]     28     226         90   \n",
       "2       [Front Neurosci, . 2023 Jan 24:16:1082375.]     29      16   1082375.   \n",
       "3         [Front Neurol, . 2023 Jan 17:13:1064619.]     30      13   1064619.   \n",
       "4       [Front Neurosci, . 2023 Jan 16:16:1009542.]     31      16   1009542.   \n",
       "\n",
       "  last_page  \n",
       "0       56.  \n",
       "1      101.  \n",
       "2       NaN  \n",
       "3       NaN  \n",
       "4       NaN  "
      ]
     },
     "execution_count": 30,
     "metadata": {},
     "output_type": "execute_result"
    }
   ],
   "source": [
    "# Now, the extracteddd data from thee article source is categorized\n",
    "bad_results_df.head()"
   ]
  },
  {
   "cell_type": "code",
   "execution_count": 31,
   "id": "4f19c3a9",
   "metadata": {},
   "outputs": [],
   "source": [
    "for j in range(len(bad_results_df)):\n",
    "    for i in bad_results_df['index']:\n",
    "        articles.loc[i, 'first_page'] = bad_results_df.loc[j, 'first_page']\n",
    "        articles.loc[i, 'last_page'] = bad_results_df.loc[j, 'last_page']\n",
    "        articles.loc[i, 'volume'] = bad_results_df.loc[j, 'volumes']"
   ]
  },
  {
   "cell_type": "code",
   "execution_count": 41,
   "id": "9a9cb4a2",
   "metadata": {},
   "outputs": [
    {
     "data": {
      "text/html": [
       "<div>\n",
       "<style scoped>\n",
       "    .dataframe tbody tr th:only-of-type {\n",
       "        vertical-align: middle;\n",
       "    }\n",
       "\n",
       "    .dataframe tbody tr th {\n",
       "        vertical-align: top;\n",
       "    }\n",
       "\n",
       "    .dataframe thead th {\n",
       "        text-align: right;\n",
       "    }\n",
       "</style>\n",
       "<table border=\"1\" class=\"dataframe\">\n",
       "  <thead>\n",
       "    <tr style=\"text-align: right;\">\n",
       "      <th></th>\n",
       "      <th>DOI</th>\n",
       "      <th>title</th>\n",
       "      <th>authors</th>\n",
       "      <th>affiliations</th>\n",
       "      <th>journal</th>\n",
       "      <th>year</th>\n",
       "      <th>month</th>\n",
       "      <th>volume</th>\n",
       "      <th>first_page</th>\n",
       "      <th>last_page</th>\n",
       "      <th>PMID</th>\n",
       "      <th>PMCID</th>\n",
       "      <th>abstract</th>\n",
       "      <th>href</th>\n",
       "      <th>json_href</th>\n",
       "    </tr>\n",
       "  </thead>\n",
       "  <tbody>\n",
       "    <tr>\n",
       "      <th>0</th>\n",
       "      <td>10.1177/17585732221102399</td>\n",
       "      <td>Surgical management of the spastic elbow</td>\n",
       "      <td>['Weisang Luo  1 ', ' Matthew Nixon  1   2']</td>\n",
       "      <td>['Countess of Chester Hospital, Chester, UK.',...</td>\n",
       "      <td>Shoulder Elbow</td>\n",
       "      <td>2023.0</td>\n",
       "      <td>Oct</td>\n",
       "      <td>15(5)</td>\n",
       "      <td>534</td>\n",
       "      <td>543</td>\n",
       "      <td>37811394.0</td>\n",
       "      <td>PMC10557929</td>\n",
       "      <td>['Background: We performed a retrospective rev...</td>\n",
       "      <td>https://doi.org/10.1177/17585732221102399</td>\n",
       "      <td>https://api.crossref.org/works/10.1177/1758573...</td>\n",
       "    </tr>\n",
       "    <tr>\n",
       "      <th>1</th>\n",
       "      <td>10.1007/s11571-022-09871-6</td>\n",
       "      <td>Three-dimensional memristive Morris-Lecar mode...</td>\n",
       "      <td>['Han Bao  1 ', ' Xihong Yu  1 ', ' Quan Xu  1...</td>\n",
       "      <td>[\"School of Microelectronics and Control Engin...</td>\n",
       "      <td>Cogn Neurodyn</td>\n",
       "      <td>2023.0</td>\n",
       "      <td>Aug</td>\n",
       "      <td>17(4)</td>\n",
       "      <td>1079</td>\n",
       "      <td>1092</td>\n",
       "      <td>37522038.0</td>\n",
       "      <td>PMC10374513</td>\n",
       "      <td>['To characterize the magnetic induction flow ...</td>\n",
       "      <td>https://doi.org/10.1007/s11571-022-09871-6</td>\n",
       "      <td>https://api.crossref.org/works/10.1007/s11571-...</td>\n",
       "    </tr>\n",
       "  </tbody>\n",
       "</table>\n",
       "</div>"
      ],
      "text/plain": [
       "                          DOI  \\\n",
       "0   10.1177/17585732221102399   \n",
       "1  10.1007/s11571-022-09871-6   \n",
       "\n",
       "                                               title  \\\n",
       "0           Surgical management of the spastic elbow   \n",
       "1  Three-dimensional memristive Morris-Lecar mode...   \n",
       "\n",
       "                                             authors  \\\n",
       "0       ['Weisang Luo  1 ', ' Matthew Nixon  1   2']   \n",
       "1  ['Han Bao  1 ', ' Xihong Yu  1 ', ' Quan Xu  1...   \n",
       "\n",
       "                                        affiliations         journal    year  \\\n",
       "0  ['Countess of Chester Hospital, Chester, UK.',...  Shoulder Elbow  2023.0   \n",
       "1  [\"School of Microelectronics and Control Engin...   Cogn Neurodyn  2023.0   \n",
       "\n",
       "  month volume first_page last_page        PMID        PMCID  \\\n",
       "0   Oct  15(5)        534       543  37811394.0  PMC10557929   \n",
       "1   Aug  17(4)       1079      1092  37522038.0  PMC10374513   \n",
       "\n",
       "                                            abstract  \\\n",
       "0  ['Background: We performed a retrospective rev...   \n",
       "1  ['To characterize the magnetic induction flow ...   \n",
       "\n",
       "                                         href  \\\n",
       "0   https://doi.org/10.1177/17585732221102399   \n",
       "1  https://doi.org/10.1007/s11571-022-09871-6   \n",
       "\n",
       "                                           json_href  \n",
       "0  https://api.crossref.org/works/10.1177/1758573...  \n",
       "1  https://api.crossref.org/works/10.1007/s11571-...  "
      ]
     },
     "execution_count": 41,
     "metadata": {},
     "output_type": "execute_result"
    }
   ],
   "source": [
    "articles.head(2)"
   ]
  },
  {
   "cell_type": "code",
   "execution_count": 33,
   "id": "7589deea",
   "metadata": {},
   "outputs": [
    {
     "data": {
      "text/plain": [
       "True"
      ]
     },
     "execution_count": 33,
     "metadata": {},
     "output_type": "execute_result"
    }
   ],
   "source": [
    "any_duplicate(articles)"
   ]
  },
  {
   "cell_type": "code",
   "execution_count": 34,
   "id": "858a76f3",
   "metadata": {},
   "outputs": [
    {
     "data": {
      "text/plain": [
       "False"
      ]
     },
     "execution_count": 34,
     "metadata": {},
     "output_type": "execute_result"
    }
   ],
   "source": [
    "drop_duplicates(articles)\n",
    "any_duplicate(articles)"
   ]
  },
  {
   "cell_type": "code",
   "execution_count": 35,
   "id": "ab9ce67c",
   "metadata": {},
   "outputs": [
    {
     "data": {
      "image/png": "[encoded data removed]",
      "text/plain": [
       "<Figure size 1000x600 with 1 Axes>"
      ]
     },
     "metadata": {
      "needs_background": "light"
     },
     "output_type": "display_data"
    }
   ],
   "source": [
    "view_nan(articles) "
   ]
  },
  {
   "cell_type": "code",
   "execution_count": 36,
   "id": "d85bd42d",
   "metadata": {},
   "outputs": [],
   "source": [
    "articles = articles.loc[articles['DOI'].notnull()]"
   ]
  },
  {
   "cell_type": "code",
   "execution_count": 37,
   "id": "8a50fe9f",
   "metadata": {},
   "outputs": [],
   "source": [
    "articles['volume'].fillna('none', inplace = True)\n",
    "articles['first_page'].fillna('none', inplace = True)\n",
    "articles['last_page'].fillna('none', inplace = True)\n",
    "articles['href'].fillna('none', inplace = True)\n",
    "articles['json_href'].fillna('none', inplace = True)"
   ]
  },
  {
   "cell_type": "code",
   "execution_count": 46,
   "id": "d8a62905",
   "metadata": {},
   "outputs": [
    {
     "data": {
      "image/png": "[encoded data removed]",
      "text/plain": [
       "<Figure size 1000x600 with 1 Axes>"
      ]
     },
     "metadata": {
      "needs_background": "light"
     },
     "output_type": "display_data"
    }
   ],
   "source": [
    "view_nan(articles) "
   ]
  },
  {
   "cell_type": "code",
   "execution_count": 47,
   "id": "dd401c01",
   "metadata": {},
   "outputs": [
    {
     "data": {
      "text/plain": [
       "[]"
      ]
     },
     "execution_count": 47,
     "metadata": {},
     "output_type": "execute_result"
    }
   ],
   "source": [
    "low_variance(articles) "
   ]
  },
  {
   "cell_type": "code",
   "execution_count": 48,
   "id": "72663cd3",
   "metadata": {},
   "outputs": [
    {
     "data": {
      "text/plain": [
       "[('year', 3),\n",
       " ('month', 24),\n",
       " ('last_page', 252),\n",
       " ('journal', 353),\n",
       " ('volume', 357),\n",
       " ('href', 479),\n",
       " ('json_href', 479),\n",
       " ('first_page', 499),\n",
       " ('affiliations', 723),\n",
       " ('authors', 724),\n",
       " ('DOI', 726),\n",
       " ('title', 726),\n",
       " ('PMID', 726),\n",
       " ('PMCID', 726),\n",
       " ('abstract', 726)]"
      ]
     },
     "execution_count": 48,
     "metadata": {},
     "output_type": "execute_result"
    }
   ],
   "source": [
    "unique_values(articles)"
   ]
  },
  {
   "cell_type": "code",
   "execution_count": 49,
   "id": "cbadf148",
   "metadata": {},
   "outputs": [
    {
     "data": {
      "text/plain": [
       "([], [])"
      ]
     },
     "execution_count": 49,
     "metadata": {},
     "output_type": "execute_result"
    }
   ],
   "source": [
    "constant_columns(articles)"
   ]
  },
  {
   "cell_type": "code",
   "execution_count": 50,
   "id": "935c2f6c",
   "metadata": {},
   "outputs": [],
   "source": [
    "find_special_chars(articles, patron = r'[?¿*$%&]')"
   ]
  },
  {
   "cell_type": "code",
   "execution_count": 51,
   "id": "a96dbc06",
   "metadata": {},
   "outputs": [],
   "source": [
    "articles = articles.reset_index(drop = True)"
   ]
  },
  {
   "cell_type": "markdown",
   "id": "19e3465a",
   "metadata": {},
   "source": [
    "### Create columns: first_author and last_author"
   ]
  },
  {
   "cell_type": "code",
   "execution_count": 53,
   "id": "72efc06d",
   "metadata": {},
   "outputs": [],
   "source": [
    "first_author = []\n",
    "last_author = []"
   ]
  },
  {
   "cell_type": "code",
   "execution_count": 54,
   "id": "ebcc7962",
   "metadata": {},
   "outputs": [],
   "source": [
    "for i in range(len(articles)):\n",
    "    first = ast.literal_eval(articles['authors'][i])\n",
    "    last = ast.literal_eval(articles['authors'][i])\n",
    "    first_author.append(first[0])\n",
    "    last_author.append(last[-1])"
   ]
  },
  {
   "cell_type": "code",
   "execution_count": 55,
   "id": "aa4f1873",
   "metadata": {},
   "outputs": [],
   "source": [
    "articles['first_author'] = first_author\n",
    "articles['last_author'] = last_author"
   ]
  },
  {
   "cell_type": "code",
   "execution_count": 56,
   "id": "dbbc8ba7",
   "metadata": {},
   "outputs": [
    {
     "data": {
      "text/plain": [
       "(783, 17)"
      ]
     },
     "execution_count": 56,
     "metadata": {},
     "output_type": "execute_result"
    }
   ],
   "source": [
    "articles.shape"
   ]
  },
  {
   "cell_type": "code",
   "execution_count": 58,
   "id": "c0dfa9a0",
   "metadata": {},
   "outputs": [
    {
     "data": {
      "text/html": [
       "<div>\n",
       "<style scoped>\n",
       "    .dataframe tbody tr th:only-of-type {\n",
       "        vertical-align: middle;\n",
       "    }\n",
       "\n",
       "    .dataframe tbody tr th {\n",
       "        vertical-align: top;\n",
       "    }\n",
       "\n",
       "    .dataframe thead th {\n",
       "        text-align: right;\n",
       "    }\n",
       "</style>\n",
       "<table border=\"1\" class=\"dataframe\">\n",
       "  <thead>\n",
       "    <tr style=\"text-align: right;\">\n",
       "      <th></th>\n",
       "      <th>DOI</th>\n",
       "      <th>title</th>\n",
       "      <th>authors</th>\n",
       "      <th>affiliations</th>\n",
       "      <th>journal</th>\n",
       "      <th>year</th>\n",
       "      <th>month</th>\n",
       "      <th>volume</th>\n",
       "      <th>first_page</th>\n",
       "      <th>last_page</th>\n",
       "      <th>PMID</th>\n",
       "      <th>PMCID</th>\n",
       "      <th>abstract</th>\n",
       "      <th>href</th>\n",
       "      <th>json_href</th>\n",
       "      <th>first_author</th>\n",
       "      <th>last_author</th>\n",
       "    </tr>\n",
       "  </thead>\n",
       "  <tbody>\n",
       "    <tr>\n",
       "      <th>0</th>\n",
       "      <td>10.1177/17585732221102399</td>\n",
       "      <td>Surgical management of the spastic elbow</td>\n",
       "      <td>['Weisang Luo  1 ', ' Matthew Nixon  1   2']</td>\n",
       "      <td>['Countess of Chester Hospital, Chester, UK.',...</td>\n",
       "      <td>Shoulder Elbow</td>\n",
       "      <td>2023.0</td>\n",
       "      <td>Oct</td>\n",
       "      <td>15(5)</td>\n",
       "      <td>534</td>\n",
       "      <td>543</td>\n",
       "      <td>37811394.0</td>\n",
       "      <td>PMC10557929</td>\n",
       "      <td>['Background: We performed a retrospective rev...</td>\n",
       "      <td>https://doi.org/10.1177/17585732221102399</td>\n",
       "      <td>https://api.crossref.org/works/10.1177/1758573...</td>\n",
       "      <td>Weisang Luo  1</td>\n",
       "      <td>Matthew Nixon  1   2</td>\n",
       "    </tr>\n",
       "    <tr>\n",
       "      <th>1</th>\n",
       "      <td>10.1007/s11571-022-09871-6</td>\n",
       "      <td>Three-dimensional memristive Morris-Lecar mode...</td>\n",
       "      <td>['Han Bao  1 ', ' Xihong Yu  1 ', ' Quan Xu  1...</td>\n",
       "      <td>[\"School of Microelectronics and Control Engin...</td>\n",
       "      <td>Cogn Neurodyn</td>\n",
       "      <td>2023.0</td>\n",
       "      <td>Aug</td>\n",
       "      <td>17(4)</td>\n",
       "      <td>1079</td>\n",
       "      <td>1092</td>\n",
       "      <td>37522038.0</td>\n",
       "      <td>PMC10374513</td>\n",
       "      <td>['To characterize the magnetic induction flow ...</td>\n",
       "      <td>https://doi.org/10.1007/s11571-022-09871-6</td>\n",
       "      <td>https://api.crossref.org/works/10.1007/s11571-...</td>\n",
       "      <td>Han Bao  1</td>\n",
       "      <td>Bocheng Bao  1</td>\n",
       "    </tr>\n",
       "  </tbody>\n",
       "</table>\n",
       "</div>"
      ],
      "text/plain": [
       "                          DOI  \\\n",
       "0   10.1177/17585732221102399   \n",
       "1  10.1007/s11571-022-09871-6   \n",
       "\n",
       "                                               title  \\\n",
       "0           Surgical management of the spastic elbow   \n",
       "1  Three-dimensional memristive Morris-Lecar mode...   \n",
       "\n",
       "                                             authors  \\\n",
       "0       ['Weisang Luo  1 ', ' Matthew Nixon  1   2']   \n",
       "1  ['Han Bao  1 ', ' Xihong Yu  1 ', ' Quan Xu  1...   \n",
       "\n",
       "                                        affiliations         journal    year  \\\n",
       "0  ['Countess of Chester Hospital, Chester, UK.',...  Shoulder Elbow  2023.0   \n",
       "1  [\"School of Microelectronics and Control Engin...   Cogn Neurodyn  2023.0   \n",
       "\n",
       "  month volume first_page last_page        PMID        PMCID  \\\n",
       "0   Oct  15(5)        534       543  37811394.0  PMC10557929   \n",
       "1   Aug  17(4)       1079      1092  37522038.0  PMC10374513   \n",
       "\n",
       "                                            abstract  \\\n",
       "0  ['Background: We performed a retrospective rev...   \n",
       "1  ['To characterize the magnetic induction flow ...   \n",
       "\n",
       "                                         href  \\\n",
       "0   https://doi.org/10.1177/17585732221102399   \n",
       "1  https://doi.org/10.1007/s11571-022-09871-6   \n",
       "\n",
       "                                           json_href     first_author  \\\n",
       "0  https://api.crossref.org/works/10.1177/1758573...  Weisang Luo  1    \n",
       "1  https://api.crossref.org/works/10.1007/s11571-...      Han Bao  1    \n",
       "\n",
       "             last_author  \n",
       "0   Matthew Nixon  1   2  \n",
       "1         Bocheng Bao  1  "
      ]
     },
     "execution_count": 58,
     "metadata": {},
     "output_type": "execute_result"
    }
   ],
   "source": [
    "articles.head(2)"
   ]
  },
  {
   "cell_type": "code",
   "execution_count": 59,
   "id": "c2dc6209",
   "metadata": {},
   "outputs": [],
   "source": [
    "articles.to_csv('../data/pubmed_articles_clean.csv', index = False)"
   ]
  }
 ],
 "metadata": {
  "kernelspec": {
   "display_name": "Python 3 (ipykernel)",
   "language": "python",
   "name": "python3"
  },
  "language_info": {
   "codemirror_mode": {
    "name": "ipython",
    "version": 3
   },
   "file_extension": ".py",
   "mimetype": "text/x-python",
   "name": "python",
   "nbconvert_exporter": "python",
   "pygments_lexer": "ipython3",
   "version": "3.11.4"
  }
 },
 "nbformat": 4,
 "nbformat_minor": 5
}
