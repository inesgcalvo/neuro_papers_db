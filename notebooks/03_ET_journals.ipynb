{
 "cells": [
  {
   "cell_type": "markdown",
   "metadata": {},
   "source": [
    "# <a id='toc1_'></a>[Scimago Journal & Country Rank](#toc0_)\n",
    "In this notebook, I leverage CSV files downloaded from the Scimagojr website https://www.scimagojr.com/ to compile a list of Journals for neuroscience publications with an impact index.\n",
    "\n",
    "![SJR.PNG](attachment:SJR.PNG)"
   ]
  },
  {
   "cell_type": "markdown",
   "metadata": {},
   "source": [
    "**Table of contents**<a id='toc0_'></a>    \n",
    "- [Scimago Journal & Country Rank](#toc1_)    \n",
    "    - [Open the Tables from Scimago](#toc1_1_1_)    \n",
    "    - [Define the number of articles per journal](#toc1_1_2_)    \n",
    "    - [Save the dataframes](#toc1_1_3_)    \n",
    "\n",
    "<!-- vscode-jupyter-toc-config\n",
    "\tnumbering=false\n",
    "\tanchor=true\n",
    "\tflat=false\n",
    "\tminLevel=1\n",
    "\tmaxLevel=6\n",
    "\t/vscode-jupyter-toc-config -->\n",
    "<!-- THIS CELL WILL BE REPLACED ON TOC UPDATE. DO NOT WRITE YOUR TEXT IN THIS CELL -->"
   ]
  },
  {
   "cell_type": "code",
   "execution_count": 1,
   "id": "099af7b1",
   "metadata": {},
   "outputs": [],
   "source": [
    "# Libraries\n",
    "import numpy as np\n",
    "import pandas as pd\n",
    "\n",
    "# tqdm means \"progress\" in Arabic (taqadum, تقدّم)\n",
    "from tqdm.notebook import tqdm\n",
    "\n",
    "# Web Scraping with selenium\n",
    "from selenium import webdriver\n",
    "from selenium.webdriver.common.by import By\n",
    "from selenium.webdriver.common.keys import Keys  \n",
    "from selenium.webdriver.support.ui import Select\n",
    "from selenium.webdriver.support.ui import WebDriverWait\n",
    "from selenium.webdriver.support import expected_conditions as EC"
   ]
  },
  {
   "cell_type": "markdown",
   "metadata": {},
   "source": [
    "### <a id='toc1_1_1_'></a>[Open the Tables from Scimago](#toc0_)"
   ]
  },
  {
   "cell_type": "code",
   "execution_count": 2,
   "id": "d05cf4b1",
   "metadata": {},
   "outputs": [],
   "source": [
    "for year in range(2010, 2023):\n",
    "    df_name = f'ii_{year}'\n",
    "    file_name = f'../data/scimago/scimagojr_{year}.csv'\n",
    "    globals()[df_name] = pd.read_csv(file_name, sep = ';')"
   ]
  },
  {
   "cell_type": "code",
   "execution_count": 3,
   "id": "2a261498",
   "metadata": {},
   "outputs": [],
   "source": [
    "journal_list = pd.concat([ii_2010['Title'],\n",
    "                          ii_2011['Title'],\n",
    "                          ii_2012['Title'],\n",
    "                          ii_2013['Title'],\n",
    "                          ii_2014['Title'],\n",
    "                          ii_2015['Title'],\n",
    "                          ii_2016['Title'],\n",
    "                          ii_2017['Title'],\n",
    "                          ii_2018['Title'],\n",
    "                          ii_2019['Title'],\n",
    "                          ii_2020['Title'],\n",
    "                          ii_2021['Title'],\n",
    "                          ii_2022['Title']],\n",
    "                        ignore_index = True)"
   ]
  },
  {
   "cell_type": "code",
   "execution_count": 4,
   "id": "bcdd6d2b",
   "metadata": {},
   "outputs": [],
   "source": [
    "journal_list = pd.DataFrame(list(set(journal_list)))"
   ]
  },
  {
   "cell_type": "code",
   "execution_count": 5,
   "id": "dca27904",
   "metadata": {},
   "outputs": [],
   "source": [
    "journal_list.to_csv('../data/journals/journal_list.csv', index = False)"
   ]
  },
  {
   "cell_type": "markdown",
   "metadata": {},
   "source": [
    "### <a id='toc1_1_2_'></a>[Define the number of articles per journal](#toc0_)\n",
    "With the list of journals I have just generated, I will conduct an initial search on PubMed to determine the number of articles for each journal. These articles must be in English and have been published since January 1, 2010\n",
    "\n",
    "    ((\"journal\"[Journal]) \n",
    "    AND (english[Language])) \n",
    "    AND ((\"2010/01/01\"[Date - Publication] : \"3000\"[Date - Publication]))"
   ]
  },
  {
   "cell_type": "code",
   "execution_count": 6,
   "id": "e38f23db",
   "metadata": {},
   "outputs": [
    {
     "data": {
      "application/vnd.jupyter.widget-view+json": {
       "model_id": "77706aca344e4dbb9aabdf17ef660359",
       "version_major": 2,
       "version_minor": 0
      },
      "text/plain": [
       "  0%|          | 0/207 [00:00<?, ?it/s]"
      ]
     },
     "metadata": {},
     "output_type": "display_data"
    }
   ],
   "source": [
    "journal_info = {}\n",
    "ignored_journals = []\n",
    "url_list = []\n",
    "\n",
    "PATH = webdriver.FirefoxOptions()\n",
    "\n",
    "driver = webdriver.Firefox(options = PATH)\n",
    "wait = WebDriverWait(driver, timeout = 5)\n",
    "\n",
    "for journal in tqdm(journal_list[0]):\n",
    "    url = f'https://pubmed.ncbi.nlm.nih.gov/?term=%28%28%22{journal}%22%5BJournal%5D%29+AND+%28english%5B\\\n",
    "Language%5D%29%29+AND+%28%28%222010%2F01%2F01%22%5BDate+-+Publication%5D+%3A+%223000%22%5BDate+-+\\\n",
    "Publication%5D%29%29&sort=pubdate&page=1'\n",
    "\n",
    "    driver.get(url)\n",
    "    try:\n",
    "        # Wait for the number of articles element to be present\n",
    "        num_art_selector = '.results-amount-container > div:nth-child(1)'\n",
    "        num_art = wait.until(EC.presence_of_element_located((By.CSS_SELECTOR, num_art_selector))).text.split(' ')[0]\n",
    "        num_art = num_art.replace(',', '')\n",
    "        num_art = int(num_art)\n",
    "\n",
    "        # Wait for the number of pages element to be present\n",
    "        num_pag_selector = '.top-pagination > div:nth-child(3) > label:nth-child(3)'\n",
    "        num_pag = wait.until(EC.presence_of_element_located((By.CSS_SELECTOR, num_pag_selector))).text.split(' ')[1]\n",
    "        num_pag = num_pag.replace(',', '')\n",
    "        num_pag = int(num_pag)\n",
    "    \n",
    "    except:\n",
    "        ignored_journals.append(journal)\n",
    "        continue\n",
    "       \n",
    "    journal_info[journal] = [num_art, num_pag]\n",
    "    \n",
    "    # Create a list of URLs\n",
    "    nums = [i for i in range(2, num_pag)]\n",
    "    url_list.append(url)\n",
    "\n",
    "    for num in nums:\n",
    "        url_list.append(url.replace('&page=1', f'&page={num}'))\n",
    "\n",
    "driver.quit()"
   ]
  },
  {
   "cell_type": "code",
   "execution_count": 7,
   "id": "dadd2c26",
   "metadata": {},
   "outputs": [],
   "source": [
    "df_journal_info = pd.DataFrame.from_dict(journal_info, \n",
    "                                         orient = 'index', \n",
    "                                         columns = ['num_articles', 'num_pages'])"
   ]
  },
  {
   "cell_type": "code",
   "execution_count": 8,
   "id": "6d9b4495",
   "metadata": {},
   "outputs": [
    {
     "data": {
      "text/html": [
       "<div>\n",
       "<style scoped>\n",
       "    .dataframe tbody tr th:only-of-type {\n",
       "        vertical-align: middle;\n",
       "    }\n",
       "\n",
       "    .dataframe tbody tr th {\n",
       "        vertical-align: top;\n",
       "    }\n",
       "\n",
       "    .dataframe thead th {\n",
       "        text-align: right;\n",
       "    }\n",
       "</style>\n",
       "<table border=\"1\" class=\"dataframe\">\n",
       "  <thead>\n",
       "    <tr style=\"text-align: right;\">\n",
       "      <th></th>\n",
       "      <th>num_articles</th>\n",
       "      <th>num_pages</th>\n",
       "    </tr>\n",
       "  </thead>\n",
       "  <tbody>\n",
       "    <tr>\n",
       "      <th>Frontiers of Neurology and Neuroscience</th>\n",
       "      <td>325</td>\n",
       "      <td>33</td>\n",
       "    </tr>\n",
       "    <tr>\n",
       "      <th>PLoS Biology</th>\n",
       "      <td>4651</td>\n",
       "      <td>466</td>\n",
       "    </tr>\n",
       "  </tbody>\n",
       "</table>\n",
       "</div>"
      ],
      "text/plain": [
       "                                         num_articles  num_pages\n",
       "Frontiers of Neurology and Neuroscience           325         33\n",
       "PLoS Biology                                     4651        466"
      ]
     },
     "execution_count": 8,
     "metadata": {},
     "output_type": "execute_result"
    }
   ],
   "source": [
    "df_journal_info.head(2)"
   ]
  },
  {
   "cell_type": "code",
   "execution_count": 9,
   "id": "065b8813",
   "metadata": {},
   "outputs": [],
   "source": [
    "df_url_list = pd.DataFrame.from_dict(url_list)"
   ]
  },
  {
   "cell_type": "code",
   "execution_count": 10,
   "id": "8615bd72",
   "metadata": {},
   "outputs": [
    {
     "data": {
      "text/html": [
       "<div>\n",
       "<style scoped>\n",
       "    .dataframe tbody tr th:only-of-type {\n",
       "        vertical-align: middle;\n",
       "    }\n",
       "\n",
       "    .dataframe tbody tr th {\n",
       "        vertical-align: top;\n",
       "    }\n",
       "\n",
       "    .dataframe thead th {\n",
       "        text-align: right;\n",
       "    }\n",
       "</style>\n",
       "<table border=\"1\" class=\"dataframe\">\n",
       "  <thead>\n",
       "    <tr style=\"text-align: right;\">\n",
       "      <th></th>\n",
       "      <th>0</th>\n",
       "    </tr>\n",
       "  </thead>\n",
       "  <tbody>\n",
       "    <tr>\n",
       "      <th>0</th>\n",
       "      <td>https://pubmed.ncbi.nlm.nih.gov/?term=%28%28%2...</td>\n",
       "    </tr>\n",
       "    <tr>\n",
       "      <th>1</th>\n",
       "      <td>https://pubmed.ncbi.nlm.nih.gov/?term=%28%28%2...</td>\n",
       "    </tr>\n",
       "  </tbody>\n",
       "</table>\n",
       "</div>"
      ],
      "text/plain": [
       "                                                   0\n",
       "0  https://pubmed.ncbi.nlm.nih.gov/?term=%28%28%2...\n",
       "1  https://pubmed.ncbi.nlm.nih.gov/?term=%28%28%2..."
      ]
     },
     "execution_count": 10,
     "metadata": {},
     "output_type": "execute_result"
    }
   ],
   "source": [
    "df_url_list.head(2)"
   ]
  },
  {
   "cell_type": "markdown",
   "metadata": {},
   "source": [
    "### <a id='toc1_1_3_'></a>[Save the dataframes](#toc0_)"
   ]
  },
  {
   "cell_type": "code",
   "execution_count": 11,
   "id": "efa6765a",
   "metadata": {},
   "outputs": [],
   "source": [
    "df_journal_info.to_csv('../data/journals/journal_info.csv', index_label = 'journal_name')\n",
    "df_url_list.to_csv('../data/journals/journal_url_list.csv', index = False)"
   ]
  }
 ],
 "metadata": {
  "kernelspec": {
   "display_name": "Python 3 (ipykernel)",
   "language": "python",
   "name": "python3"
  },
  "language_info": {
   "codemirror_mode": {
    "name": "ipython",
    "version": 3
   },
   "file_extension": ".py",
   "mimetype": "text/x-python",
   "name": "python",
   "nbconvert_exporter": "python",
   "pygments_lexer": "ipython3",
   "version": "3.10.9"
  },
  "toc": {
   "base_numbering": 1,
   "nav_menu": {},
   "number_sections": true,
   "sideBar": true,
   "skip_h1_title": false,
   "title_cell": "Table of Contents",
   "title_sidebar": "Contents",
   "toc_cell": false,
   "toc_position": {},
   "toc_section_display": true,
   "toc_window_display": false
  }
 },
 "nbformat": 4,
 "nbformat_minor": 5
}
