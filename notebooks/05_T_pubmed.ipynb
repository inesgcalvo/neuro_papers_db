{
 "cells": [
  {
   "cell_type": "markdown",
   "id": "8df1dd64",
   "metadata": {},
   "source": [
    "# Publication Transformation\n",
    "\n",
    "In this notebook, I have gathered all the raw dataframes that I previously obtained from PubMed through web scraping. \n",
    "\n",
    "* First, I vertically concatenated all the documents, \n",
    "* Second I split the data into columns, and\n",
    "* Third, I performed proper cleaning of the data.\n",
    "\n",
    "The goal was to integrate the data into the neuropapers database."
   ]
  },
  {
   "cell_type": "markdown",
   "id": "57e25ea5",
   "metadata": {},
   "source": [
    "INDEX"
   ]
  },
  {
   "cell_type": "markdown",
   "id": "27fd15f5",
   "metadata": {},
   "source": [
    "___\n",
    "## Concatenate all the dataframes vertically"
   ]
  },
  {
   "cell_type": "code",
   "execution_count": 1,
   "id": "af81cbf4",
   "metadata": {},
   "outputs": [],
   "source": [
    "# Libraries\n",
    "import os\n",
    "import pandas as pd\n",
    "\n",
    "# Functions\n",
    "import sys\n",
    "sys.path.append('../src')\n",
    "from support_transform import *\n",
    "from support_clean import *\n",
    "\n",
    "# Ignore Warnings\n",
    "import warnings\n",
    "warnings.filterwarnings('ignore')"
   ]
  },
  {
   "cell_type": "code",
   "execution_count": 2,
   "id": "ba6c1be1",
   "metadata": {},
   "outputs": [],
   "source": [
    "# list the files\n",
    "folder = '../data/pubmed/'\n",
    "files_in_folder = os.listdir(folder)"
   ]
  },
  {
   "cell_type": "code",
   "execution_count": 3,
   "id": "67cc75ce",
   "metadata": {},
   "outputs": [],
   "source": [
    "# Open all the .csv files as DataFrames\n",
    "\n",
    "list_dfs = []\n",
    "missing_dfs = []\n",
    "\n",
    "min_num = int(min(files_in_folder)[7:10])\n",
    "max_num = int(max(files_in_folder)[7:10])\n",
    "\n",
    "for num in range(min_num, max_num):\n",
    "    if num < 10:\n",
    "        name = f'00{num}'\n",
    "    elif num < 100:\n",
    "        name = f'0{num}'\n",
    "    elif num < 1000:\n",
    "        name = f'{num}'\n",
    "    else:\n",
    "        raise(\"Don't exceed yourself with the amount of data, Inés!\")\n",
    "    \n",
    "    df_name = f'df_{name}'\n",
    "    file_name = f'../data/pubmed/raw_df_{name}.csv'\n",
    "    try:\n",
    "        globals()[df_name] = pd.read_csv(file_name, sep = ';')\n",
    "        list_dfs.append(df_name)\n",
    "    except:\n",
    "        missing_dfs.append(df_name)\n",
    "        continue"
   ]
  },
  {
   "cell_type": "code",
   "execution_count": 4,
   "id": "7bc77cfa",
   "metadata": {},
   "outputs": [
    {
     "data": {
      "text/plain": [
       "['df_020', 'df_025', 'df_026', 'df_037']"
      ]
     },
     "execution_count": 4,
     "metadata": {},
     "output_type": "execute_result"
    }
   ],
   "source": [
    "missing_dfs"
   ]
  },
  {
   "cell_type": "code",
   "execution_count": 5,
   "id": "2fa6933b",
   "metadata": {},
   "outputs": [],
   "source": [
    "# Concatenate vertically all the dataframes\n",
    "dataframes = {name: globals()[name] for name in list_dfs}\n",
    "pubmed = pd.concat(dataframes.values(), axis=0, ignore_index=True)"
   ]
  },
  {
   "cell_type": "code",
   "execution_count": 6,
   "id": "883421ef",
   "metadata": {},
   "outputs": [
    {
     "data": {
      "text/html": [
       "<div>\n",
       "<style scoped>\n",
       "    .dataframe tbody tr th:only-of-type {\n",
       "        vertical-align: middle;\n",
       "    }\n",
       "\n",
       "    .dataframe tbody tr th {\n",
       "        vertical-align: top;\n",
       "    }\n",
       "\n",
       "    .dataframe thead th {\n",
       "        text-align: right;\n",
       "    }\n",
       "</style>\n",
       "<table border=\"1\" class=\"dataframe\">\n",
       "  <thead>\n",
       "    <tr style=\"text-align: right;\">\n",
       "      <th></th>\n",
       "      <th>0</th>\n",
       "    </tr>\n",
       "  </thead>\n",
       "  <tbody>\n",
       "    <tr>\n",
       "      <th>0</th>\n",
       "      <td>PMID- 38012702\\nOWN - NLM\\nSTAT- MEDLINE\\nDCOM...</td>\n",
       "    </tr>\n",
       "    <tr>\n",
       "      <th>1</th>\n",
       "      <td>PMID- 38012669\\nOWN - NLM\\nSTAT- MEDLINE\\nDCOM...</td>\n",
       "    </tr>\n",
       "    <tr>\n",
       "      <th>2</th>\n",
       "      <td>PMID- 38012646\\nOWN - NLM\\nSTAT- MEDLINE\\nDCOM...</td>\n",
       "    </tr>\n",
       "    <tr>\n",
       "      <th>3</th>\n",
       "      <td>PMID- 38012640\\nOWN - NLM\\nSTAT- MEDLINE\\nDCOM...</td>\n",
       "    </tr>\n",
       "    <tr>\n",
       "      <th>4</th>\n",
       "      <td>PMID- 38007487\\nOWN - NLM\\nSTAT- MEDLINE\\nDCOM...</td>\n",
       "    </tr>\n",
       "  </tbody>\n",
       "</table>\n",
       "</div>"
      ],
      "text/plain": [
       "                                                   0\n",
       "0  PMID- 38012702\\nOWN - NLM\\nSTAT- MEDLINE\\nDCOM...\n",
       "1  PMID- 38012669\\nOWN - NLM\\nSTAT- MEDLINE\\nDCOM...\n",
       "2  PMID- 38012646\\nOWN - NLM\\nSTAT- MEDLINE\\nDCOM...\n",
       "3  PMID- 38012640\\nOWN - NLM\\nSTAT- MEDLINE\\nDCOM...\n",
       "4  PMID- 38007487\\nOWN - NLM\\nSTAT- MEDLINE\\nDCOM..."
      ]
     },
     "execution_count": 6,
     "metadata": {},
     "output_type": "execute_result"
    }
   ],
   "source": [
    "pubmed.head()"
   ]
  },
  {
   "cell_type": "markdown",
   "id": "54dcd350",
   "metadata": {},
   "source": [
    "___\n",
    "## Divide the data in columns\n",
    "\n",
    "##### Description of the fields\n",
    "    PMID: PubMed Identifier for the article (PubMed unique identifier).\n",
    "    OWN: Ownership or database where the record is held (e.g., NLM for National Library of Medicine).\n",
    "    STAT: Article status (e.g., MEDLINE).\n",
    "    DCOM: Date of completion (e.g., 20220128).\n",
    "    LR: Last revision date (e.g., 20220128).\n",
    "    IS: ISSN (International Standard Serial Number) for electronic and linking formats.\n",
    "    VI: Volume.\n",
    "    DP: Date of publication.\n",
    "    TI: Title of the article.\n",
    "    LID: Locator ID (e.g., DOI - Digital Object Identifier).\n",
    "    AB: Abstract of the article.\n",
    "    CI: Copyright information.\n",
    "    FAU: Full Author Name.\n",
    "    AU: Abbreviated Author Name.\n",
    "    AUID: Author Identifier (e.g., ORCID).\n",
    "    AD: Author's affiliation.\n",
    "    LA: Language of the article (e.g., English).\n",
    "    PT: Publication type (e.g., Journal Article, Research Support).\n",
    "    DEP: Date of entry into PubMed.\n",
    "    PL: Place of publication (e.g., England).\n",
    "    TA: Journal title abbreviation.\n",
    "    JT: Full Journal Title.\n",
    "    JID: Journal ID (e.g., NLM unique identifier).\n",
    "    RN: Registry Number (e.g., for chemical substances).\n",
    "    SB: Source of publication (e.g., IM for Index Medicus).\n",
    "    MH: MeSH terms (Medical Subject Headings).\n",
    "    PMC: PubMed Central ID.\n",
    "    OTO: Other Term(s).\n",
    "    OT: Original title or other information.\n",
    "    COIS: Conflict of Interest Statement.\n",
    "    EDAT: Entry Date.\n",
    "    MHDA: Date of last major update.\n",
    "    CRDT: Create Date.\n",
    "    PHST: Publication History Status and Dates.\n",
    "    AID: Article Identifier (e.g., DOI or PMID).\n",
    "    PST: Publication Status.\n",
    "    SO: Source (e.g., Journal citation with title, volume, and page).\n",
    "    \n",
    "##### Example of extracted data\n",
    "'PMID- 37815691\\nOWN - NLM\\nSTAT- MEDLINE\\nDCOM- 20231121\\nLR  - 20231123\\nIS  - 1995-8218 (Electronic)\\nIS  - 1673-7067 (Print)\\nIS  - 1995-8218 (Linking)\\nVI  - 39\\nIP  - 12\\nDP  - 2023 Dec\\nTI  - Propofol Brings on the Light for Depression Therapy.\\nPG  - 1891-1894\\nLID - 10.1007/s12264-023-01133-7 [doi]\\nFAU - Yan, Yun\\nAU  - Yan Y\\nAUID- ORCID: 0000-0002-9993-4959\\nAD  - Department of Anesthesiology, China-Japan Friendship Hospital, Chinese Academy of \\n      Medical Sciences and Peking Union Medical College, Beijing, 100029, China.\\nFAU - Ma, Hongli\\nAU  - Ma H\\nAUID- ORCID: 0000-0001-8925-1372\\nAD  - Department of Anesthesiology, China-Japan Friendship Hospital, Chinese Academy of \\n      Medical Sciences and Peking Union Medical College, Beijing, 100029, China.\\nFAU - Zhao, Jing\\nAU  - Zhao J\\nAUID- ORCID: 0000-0002-4640-2609\\nAD  - Department of Anesthesiology, China-Japan Friendship Hospital, Chinese Academy of \\n      Medical Sciences and Peking Union Medical College, Beijing, 100029, China. \\n      zhaojing1009@aliyun.com.\\nLA  - eng\\nPT  - Journal Article\\nDEP - 20231010\\nPL  - Singapore\\nTA  - Neurosci Bull\\nJT  - Neuroscience bulletin\\nJID - 101256850\\nRN  - YI7VU623SF (Propofol)\\nSB  - IM\\nMH  - *Propofol/therapeutic use\\nMH  - Depression/drug therapy\\nPMC - PMC10661581\\nCOIS- The authors declare that there are no conflicts of interest.\\nEDAT- 2023/10/10 12:43\\nMHDA- 2023/11/21 06:43\\nPMCR- 2024/12/01\\nCRDT- 2023/10/10 11:11\\nPHST- 2023/04/11 00:00 [received]\\nPHST- 2023/08/22 00:00 [accepted]\\nPHST- 2024/12/01 00:00 [pmc-release]\\nPHST- 2023/11/21 06:43 [medline]\\nPHST- 2023/10/10 12:43 [pubmed]\\nPHST- 2023/10/10 11:11 [entrez]\\nAID - 10.1007/s12264-023-01133-7 [pii]\\nAID - 1133 [pii]\\nAID - 10.1007/s12264-023-01133-7 [doi]\\nPST - ppublish\\nSO  - Neurosci Bull. 2023 Dec;39(12):1891-1894. doi: 10.1007/s12264-023-01133-7. Epub \\n      2023 Oct 10.'"
   ]
  },
  {
   "cell_type": "code",
   "execution_count": 7,
   "id": "51f9d43f",
   "metadata": {},
   "outputs": [
    {
     "data": {
      "text/plain": [
       "(240037, 38)"
      ]
     },
     "execution_count": 7,
     "metadata": {},
     "output_type": "execute_result"
    }
   ],
   "source": [
    "articles = pd.concat([pubmed, pubmed['0'].apply(lambda x: pd.Series(extraer_informacion(x)))], axis = 1)\n",
    "articles.drop('0', axis = 1, inplace = True)\n",
    "articles.shape"
   ]
  },
  {
   "cell_type": "code",
   "execution_count": 8,
   "id": "ebeb2266",
   "metadata": {},
   "outputs": [
    {
     "data": {
      "text/plain": [
       "Index(['ID', 'ownership', 'status', 'completion_date', 'last_revision', 'ISSN',\n",
       "       'volume', 'issue', 'publication_date', 'title', 'pages', 'DOI',\n",
       "       'authors', 'first_auth', 'last_auth', 'auth_aff_list', 'first_auth_aff',\n",
       "       'last_auth_aff', 'journal_abb', 'journal', 'other_terms',\n",
       "       'copyright_information', 'abstract', 'lang', 'pub_type', 'journal_ID',\n",
       "       'source_pub', 'MeSH_terms', 'pubmed_central_ID', 'conflict_int',\n",
       "       'received_date', 'accepted_date', 'citation', 'entry_date', 'pub_place',\n",
       "       'registry_num', 'first_auth_ID', 'last_auth_ID'],\n",
       "      dtype='object')"
      ]
     },
     "execution_count": 8,
     "metadata": {},
     "output_type": "execute_result"
    }
   ],
   "source": [
    "articles.columns"
   ]
  },
  {
   "cell_type": "markdown",
   "id": "52f2aa11",
   "metadata": {},
   "source": [
    "___\n",
    "## Data cleansing "
   ]
  },
  {
   "cell_type": "code",
   "execution_count": 9,
   "id": "a0b2f751",
   "metadata": {},
   "outputs": [
    {
     "data": {
      "text/plain": [
       "pandas.core.frame.DataFrame"
      ]
     },
     "execution_count": 9,
     "metadata": {},
     "output_type": "execute_result"
    }
   ],
   "source": [
    "type(articles)"
   ]
  },
  {
   "cell_type": "code",
   "execution_count": 10,
   "id": "6a127584",
   "metadata": {},
   "outputs": [
    {
     "data": {
      "image/png": "[encoded data removed]",
      "text/plain": [
       "<Figure size 1000x600 with 1 Axes>"
      ]
     },
     "metadata": {
      "needs_background": "light"
     },
     "output_type": "display_data"
    }
   ],
   "source": [
    "view_nan(articles)"
   ]
  },
  {
   "cell_type": "code",
   "execution_count": 13,
   "id": "abff8dc7",
   "metadata": {},
   "outputs": [
    {
     "data": {
      "text/plain": [
       "(240037, 38)"
      ]
     },
     "metadata": {},
     "output_type": "display_data"
    },
    {
     "data": {
      "text/plain": [
       "(44978, 38)"
      ]
     },
     "execution_count": 13,
     "metadata": {},
     "output_type": "execute_result"
    }
   ],
   "source": [
    "display(articles.shape)\n",
    "\n",
    "columns_to_check = tuple(['ID', 'title'])\n",
    "\n",
    "articles_df = articles.drop_duplicates(subset=columns_to_check)\n",
    "\n",
    "articles_df.shape"
   ]
  },
  {
   "cell_type": "code",
   "execution_count": 14,
   "id": "b5c87e0a",
   "metadata": {},
   "outputs": [
    {
     "data": {
      "image/png": "[encoded data removed]",
      "text/plain": [
       "<Figure size 1000x600 with 1 Axes>"
      ]
     },
     "metadata": {
      "needs_background": "light"
     },
     "output_type": "display_data"
    }
   ],
   "source": [
    "view_nan(articles_df)"
   ]
  },
  {
   "cell_type": "code",
   "execution_count": null,
   "id": "0dbc55e8",
   "metadata": {},
   "outputs": [],
   "source": [
    "articles_df.info(memory_usage='deep')"
   ]
  },
  {
   "cell_type": "code",
   "execution_count": null,
   "id": "b54564ad",
   "metadata": {},
   "outputs": [],
   "source": []
  },
  {
   "cell_type": "code",
   "execution_count": null,
   "id": "e439b3ab",
   "metadata": {},
   "outputs": [],
   "source": []
  },
  {
   "cell_type": "code",
   "execution_count": null,
   "id": "dd7d8660",
   "metadata": {},
   "outputs": [],
   "source": [
    "# articles_df.to_csv('../data/articles_df.csv')"
   ]
  },
  {
   "cell_type": "markdown",
   "id": "e03c3bee",
   "metadata": {},
   "source": [
    "## Create First Author DF"
   ]
  },
  {
   "cell_type": "code",
   "execution_count": null,
   "id": "f0d8f206",
   "metadata": {},
   "outputs": [],
   "source": [
    "articles_df[['DOI', 'First_Author', 'First_Auth_aff', 'First_Auth_ID']]"
   ]
  },
  {
   "cell_type": "markdown",
   "id": "90d2cb10",
   "metadata": {},
   "source": [
    "### Determine the geographical locations of the affiliations"
   ]
  },
  {
   "cell_type": "code",
   "execution_count": null,
   "id": "853b7d23",
   "metadata": {},
   "outputs": [],
   "source": [
    "from geopy.geocoders import GoogleV3"
   ]
  },
  {
   "cell_type": "code",
   "execution_count": null,
   "id": "d7d48091",
   "metadata": {},
   "outputs": [],
   "source": [
    "with open('../google_api_key.txt', 'r') as file:\n",
    "    google_api_key = file.read().strip()\n",
    "\n",
    "geolocator = GoogleV3(api_key=google_api_key)"
   ]
  },
  {
   "cell_type": "code",
   "execution_count": null,
   "id": "2ef5d519",
   "metadata": {},
   "outputs": [],
   "source": [
    "def obtener_coordenadas(institucion):\n",
    "    location = geolocator.geocode(institucion)\n",
    "    if location:\n",
    "        return location.latitude, location.longitude\n",
    "    else:\n",
    "        return None, None"
   ]
  },
  {
   "cell_type": "code",
   "execution_count": null,
   "id": "84accd86",
   "metadata": {},
   "outputs": [],
   "source": [
    "articles_df['LA_lat'], articles_df['LA_lon'] = zip(*articles_df['Last_Auth_aff'].apply(obtener_coordenadas))"
   ]
  },
  {
   "cell_type": "code",
   "execution_count": null,
   "id": "e9af9340",
   "metadata": {},
   "outputs": [],
   "source": [
    "articles_df"
   ]
  },
  {
   "cell_type": "code",
   "execution_count": null,
   "id": "7e9ab304",
   "metadata": {},
   "outputs": [],
   "source": [
    "articles_df.to_csv('../data/articles_df.csv')"
   ]
  },
  {
   "cell_type": "code",
   "execution_count": null,
   "id": "78557111",
   "metadata": {},
   "outputs": [],
   "source": [
    "articles[['First_Auth_aff', 'Last_Auth_aff', 'Journal', 'Place']].head()"
   ]
  },
  {
   "cell_type": "code",
   "execution_count": null,
   "id": "12b5ba05",
   "metadata": {},
   "outputs": [],
   "source": []
  },
  {
   "cell_type": "code",
   "execution_count": null,
   "id": "13ecde72",
   "metadata": {},
   "outputs": [],
   "source": [
    "with open('api_key.txt', 'r') as file:\n",
    "    google_api_key = file.read().strip()\n",
    "\n",
    "university_names = universities['Institution_Name'].tolist()\n",
    "locations = universities['Location'].tolist()\n",
    "    \n",
    "geolocator = GoogleV3(google_api_key = api_key)\n",
    "\n",
    "latitudes = []\n",
    "longitudes = []\n",
    "\n",
    "for university, location in zip(university_names, locations):\n",
    "    try:\n",
    "        location_info = geolocator.geocode(f\"{university}, {location}\")\n",
    "        latitudes.append(location_info.latitude)\n",
    "        longitudes.append(location_info.longitude)\n",
    "    except AttributeError:\n",
    "        latitudes.append(None)\n",
    "        longitudes.append(None)\n",
    "\n",
    "universities['Latitude'] = latitudes\n",
    "universities['Longitude'] = longitudes"
   ]
  },
  {
   "cell_type": "markdown",
   "id": "8844f91f",
   "metadata": {},
   "source": [
    "### Consider identifying the gender of the author based on their name, recognizing that this method may not always accurately reflect personal gender identity. Exercise sensitivity and be aware of the potential for inaccuracies in the process\n",
    "\n",
    "**genderize.io** is a free API, but limited at 1000 requests by day.\n",
    "\n",
    "    url = f'https://api.genderize.io/?name[]={name}'   \n",
    "\n",
    "**The answer will be like this:**\n",
    "\n",
    "    { \"name\": \"peter\",\n",
    "      \"gender\": \"male\",\n",
    "      \"probability\": 0.99,\n",
    "      \"count\": 165452 }"
   ]
  },
  {
   "cell_type": "code",
   "execution_count": null,
   "id": "60918f16",
   "metadata": {},
   "outputs": [],
   "source": [
    "# import requests\n",
    "# from tqdm.notebook import tqdm\n",
    "\n",
    "# fst_auth_name = [name.split(' ')[0] for name in articles['first_author']]\n",
    "\n",
    "# fst_auth_gd = []\n",
    "# fst_auth_gd_prb = []\n",
    "\n",
    "# for name in tqdm(fst_auth_name):\n",
    "#     url = f'https://api.genderize.io/?name[]={name}'\n",
    "#     res = requests.get(url)\n",
    "#     res_api = res.json()\n",
    "#     fst_auth_gd.append(res_api[0]['gender'])\n",
    "#     fst_auth_gd_prb.append(res_api[0]['probability'])\n",
    "    \n",
    "# genderize = {'_id': [],\n",
    "#              'fst_auth_name': [],\n",
    "#              'fst_auth_gd': [],\n",
    "#              'fst_auth_gd_prb': [],\n",
    "#              'lst_auth_name': [],\n",
    "#              'lst_auth_gd': [],\n",
    "#              'lst_auth_gd_prb': []}\n",
    "\n",
    "# genderize['_id'] = [i for i in articles['DOI']]\n",
    "# genderize['fst_auth_name'] = fst_auth_name\n",
    "# genderize['fst_auth_gd'] = fst_auth_gd\n",
    "# genderize['fst_auth_gd_prb'] = fst_auth_gd_prb\n",
    "\n",
    "# columns = ['_id', 'fst_auth_name', 'fst_auth_gd', 'fst_auth_gd_prb']\n",
    "# genderize_df = pd.DataFrame(genderize, columns = columns)\n",
    "# genderize_df.head()\n",
    "\n",
    "# genderize_df.to_csv('../data/genderize_df_fst.csv', index = False)"
   ]
  }
 ],
 "metadata": {
  "kernelspec": {
   "display_name": "Python 3 (ipykernel)",
   "language": "python",
   "name": "python3"
  },
  "language_info": {
   "codemirror_mode": {
    "name": "ipython",
    "version": 3
   },
   "file_extension": ".py",
   "mimetype": "text/x-python",
   "name": "python",
   "nbconvert_exporter": "python",
   "pygments_lexer": "ipython3",
   "version": "3.11.4"
  },
  "toc": {
   "base_numbering": 1,
   "nav_menu": {},
   "number_sections": true,
   "sideBar": true,
   "skip_h1_title": false,
   "title_cell": "Table of Contents",
   "title_sidebar": "Contents",
   "toc_cell": false,
   "toc_position": {},
   "toc_section_display": true,
   "toc_window_display": false
  }
 },
 "nbformat": 4,
 "nbformat_minor": 5
}
