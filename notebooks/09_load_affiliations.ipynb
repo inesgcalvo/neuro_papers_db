{
 "cells": [
  {
   "cell_type": "markdown",
   "id": "ae5cec13",
   "metadata": {},
   "source": [
    "# affiliations"
   ]
  },
  {
   "cell_type": "markdown",
   "id": "721b4ef1",
   "metadata": {},
   "source": [
    "INDEX"
   ]
  },
  {
   "cell_type": "code",
   "execution_count": 1,
   "id": "71d12cb4",
   "metadata": {},
   "outputs": [],
   "source": [
    "# Libraries\n",
    "import pandas as pd\n",
    "\n",
    "# Abstract Syntax Trees\n",
    "import ast\n",
    "\n",
    "# Functions\n",
    "import sys\n",
    "sys.path.append('../src')\n",
    "from support_clean import *\n",
    "\n",
    "# Coordenates\n",
    "from geopy.geocoders import GoogleV3"
   ]
  },
  {
   "cell_type": "markdown",
   "id": "cfb02f75",
   "metadata": {},
   "source": [
    "### Import affiliations_df"
   ]
  },
  {
   "cell_type": "code",
   "execution_count": 2,
   "id": "5b90b7c4",
   "metadata": {},
   "outputs": [
    {
     "data": {
      "text/html": [
       "<div>\n",
       "<style scoped>\n",
       "    .dataframe tbody tr th:only-of-type {\n",
       "        vertical-align: middle;\n",
       "    }\n",
       "\n",
       "    .dataframe tbody tr th {\n",
       "        vertical-align: top;\n",
       "    }\n",
       "\n",
       "    .dataframe thead th {\n",
       "        text-align: right;\n",
       "    }\n",
       "</style>\n",
       "<table border=\"1\" class=\"dataframe\">\n",
       "  <thead>\n",
       "    <tr style=\"text-align: right;\">\n",
       "      <th></th>\n",
       "      <th>Unnamed: 0</th>\n",
       "      <th>pub_id</th>\n",
       "      <th>authors</th>\n",
       "      <th>auth_aff_list</th>\n",
       "      <th>first_auth_aff</th>\n",
       "      <th>last_auth_aff</th>\n",
       "    </tr>\n",
       "  </thead>\n",
       "  <tbody>\n",
       "    <tr>\n",
       "      <th>0</th>\n",
       "      <td>0</td>\n",
       "      <td>38012702</td>\n",
       "      <td>['Wu, Anbiao', 'Zhang, Jiyan']</td>\n",
       "      <td>['Beijing Institute of Basic Medical Sciences,...</td>\n",
       "      <td>Beijing Institute of Basic Medical Sciences, B...</td>\n",
       "      <td>Beijing Institute of Basic Medical Sciences, B...</td>\n",
       "    </tr>\n",
       "    <tr>\n",
       "      <th>1</th>\n",
       "      <td>1</td>\n",
       "      <td>38012669</td>\n",
       "      <td>['Zheng, Shengnan', 'Li, Yiquan', 'Song, Xiaom...</td>\n",
       "      <td>['Department of Pharmacology, School of Basic ...</td>\n",
       "      <td>Department of Pharmacology, School of Basic Me...</td>\n",
       "      <td>Department of Rehabilitation Medicine, The Sec...</td>\n",
       "    </tr>\n",
       "  </tbody>\n",
       "</table>\n",
       "</div>"
      ],
      "text/plain": [
       "   Unnamed: 0    pub_id                                            authors  \\\n",
       "0           0  38012702                     ['Wu, Anbiao', 'Zhang, Jiyan']   \n",
       "1           1  38012669  ['Zheng, Shengnan', 'Li, Yiquan', 'Song, Xiaom...   \n",
       "\n",
       "                                       auth_aff_list  \\\n",
       "0  ['Beijing Institute of Basic Medical Sciences,...   \n",
       "1  ['Department of Pharmacology, School of Basic ...   \n",
       "\n",
       "                                      first_auth_aff  \\\n",
       "0  Beijing Institute of Basic Medical Sciences, B...   \n",
       "1  Department of Pharmacology, School of Basic Me...   \n",
       "\n",
       "                                       last_auth_aff  \n",
       "0  Beijing Institute of Basic Medical Sciences, B...  \n",
       "1  Department of Rehabilitation Medicine, The Sec...  "
      ]
     },
     "execution_count": 2,
     "metadata": {},
     "output_type": "execute_result"
    }
   ],
   "source": [
    "affiliations = pd.read_csv('../data/affiliations_df.csv')\n",
    "affiliations.head(2)"
   ]
  },
  {
   "cell_type": "markdown",
   "id": "263aa6b1",
   "metadata": {},
   "source": [
    "## Data Cleansing"
   ]
  },
  {
   "cell_type": "code",
   "execution_count": 3,
   "id": "9121294b",
   "metadata": {},
   "outputs": [],
   "source": [
    "df = affiliations.copy()"
   ]
  },
  {
   "cell_type": "code",
   "execution_count": 4,
   "id": "e3028ee0",
   "metadata": {},
   "outputs": [
    {
     "data": {
      "text/plain": [
       "(61981, 6)"
      ]
     },
     "metadata": {},
     "output_type": "display_data"
    },
    {
     "data": {
      "text/plain": [
       "(61981, 5)"
      ]
     },
     "metadata": {},
     "output_type": "display_data"
    }
   ],
   "source": [
    "to_drop = ['Unnamed: 0']\n",
    "display(df.shape)\n",
    "df = df.drop(columns=to_drop)\n",
    "display(df.shape)"
   ]
  },
  {
   "cell_type": "code",
   "execution_count": 5,
   "id": "0f5f3f34",
   "metadata": {},
   "outputs": [
    {
     "data": {
      "text/html": [
       "<div>\n",
       "<style scoped>\n",
       "    .dataframe tbody tr th:only-of-type {\n",
       "        vertical-align: middle;\n",
       "    }\n",
       "\n",
       "    .dataframe tbody tr th {\n",
       "        vertical-align: top;\n",
       "    }\n",
       "\n",
       "    .dataframe thead th {\n",
       "        text-align: right;\n",
       "    }\n",
       "</style>\n",
       "<table border=\"1\" class=\"dataframe\">\n",
       "  <thead>\n",
       "    <tr style=\"text-align: right;\">\n",
       "      <th></th>\n",
       "      <th>pub_id</th>\n",
       "      <th>authors</th>\n",
       "      <th>auth_aff_list</th>\n",
       "      <th>first_auth_aff</th>\n",
       "      <th>last_auth_aff</th>\n",
       "    </tr>\n",
       "  </thead>\n",
       "  <tbody>\n",
       "    <tr>\n",
       "      <th>0</th>\n",
       "      <td>38012702</td>\n",
       "      <td>['Wu, Anbiao', 'Zhang, Jiyan']</td>\n",
       "      <td>['Beijing Institute of Basic Medical Sciences,...</td>\n",
       "      <td>Beijing Institute of Basic Medical Sciences, B...</td>\n",
       "      <td>Beijing Institute of Basic Medical Sciences, B...</td>\n",
       "    </tr>\n",
       "    <tr>\n",
       "      <th>1</th>\n",
       "      <td>38012669</td>\n",
       "      <td>['Zheng, Shengnan', 'Li, Yiquan', 'Song, Xiaom...</td>\n",
       "      <td>['Department of Pharmacology, School of Basic ...</td>\n",
       "      <td>Department of Pharmacology, School of Basic Me...</td>\n",
       "      <td>Department of Rehabilitation Medicine, The Sec...</td>\n",
       "    </tr>\n",
       "  </tbody>\n",
       "</table>\n",
       "</div>"
      ],
      "text/plain": [
       "     pub_id                                            authors  \\\n",
       "0  38012702                     ['Wu, Anbiao', 'Zhang, Jiyan']   \n",
       "1  38012669  ['Zheng, Shengnan', 'Li, Yiquan', 'Song, Xiaom...   \n",
       "\n",
       "                                       auth_aff_list  \\\n",
       "0  ['Beijing Institute of Basic Medical Sciences,...   \n",
       "1  ['Department of Pharmacology, School of Basic ...   \n",
       "\n",
       "                                      first_auth_aff  \\\n",
       "0  Beijing Institute of Basic Medical Sciences, B...   \n",
       "1  Department of Pharmacology, School of Basic Me...   \n",
       "\n",
       "                                       last_auth_aff  \n",
       "0  Beijing Institute of Basic Medical Sciences, B...  \n",
       "1  Department of Rehabilitation Medicine, The Sec...  "
      ]
     },
     "execution_count": 5,
     "metadata": {},
     "output_type": "execute_result"
    }
   ],
   "source": [
    "df = df.rename(columns={'ID': 'pub_id'})\n",
    "df.head(2)"
   ]
  },
  {
   "cell_type": "markdown",
   "id": "536767bf",
   "metadata": {},
   "source": [
    "### Create a list of affiliations"
   ]
  },
  {
   "cell_type": "code",
   "execution_count": 6,
   "id": "aca445ef",
   "metadata": {},
   "outputs": [],
   "source": [
    "# Fill NaN values with empty lists\n",
    "df['auth_aff_list'] = df['auth_aff_list'].fillna('[]')"
   ]
  },
  {
   "cell_type": "code",
   "execution_count": 7,
   "id": "bc3ae47e",
   "metadata": {},
   "outputs": [],
   "source": [
    "# Transform the strings to lists again\n",
    "df['auth_aff_list'] = df['auth_aff_list'].apply(ast.literal_eval)"
   ]
  },
  {
   "cell_type": "code",
   "execution_count": 8,
   "id": "b78a922d",
   "metadata": {},
   "outputs": [],
   "source": [
    "# Create a row per affiliation\n",
    "df_aff = df.explode('auth_aff_list')"
   ]
  },
  {
   "cell_type": "code",
   "execution_count": 11,
   "id": "ced4f3a9",
   "metadata": {},
   "outputs": [
    {
     "data": {
      "text/plain": [
       "0        Beijing Institute of Basic Medical Sciences, B...\n",
       "0        Beijing Institute of Basic Medical Sciences, B...\n",
       "1        Department of Pharmacology, School of Basic Me...\n",
       "1        Department of Pharmacology, School of Basic Me...\n",
       "1        Department of Pharmacology, School of Basic Me...\n",
       "                               ...                        \n",
       "61980    Department of Radiology, Liyuan Hospital, Tong...\n",
       "61980    Department of Radiology, Liyuan Hospital, Tong...\n",
       "61980    State Key Laboratory of Brain and Cognitive Sc...\n",
       "61980    Sino-Danish College, University of Chinese Aca...\n",
       "61980    Center for Excellence in Brain and Science and...\n",
       "Name: auth_aff_list, Length: 374373, dtype: object"
      ]
     },
     "execution_count": 11,
     "metadata": {},
     "output_type": "execute_result"
    }
   ],
   "source": [
    "df_aff['auth_aff_list']"
   ]
  },
  {
   "cell_type": "code",
   "execution_count": 13,
   "id": "0f54697b",
   "metadata": {},
   "outputs": [
    {
     "data": {
      "text/plain": [
       "(374373, 5)"
      ]
     },
     "metadata": {},
     "output_type": "display_data"
    },
    {
     "data": {
      "text/plain": [
       "133868"
      ]
     },
     "execution_count": 13,
     "metadata": {},
     "output_type": "execute_result"
    }
   ],
   "source": [
    "# Create a list of unique affiliations\n",
    "display(df_aff.shape)\n",
    "aff_unique = list(set(df_aff['auth_aff_list']))\n",
    "len(aff_unique)"
   ]
  },
  {
   "cell_type": "code",
   "execution_count": 15,
   "id": "900996c2",
   "metadata": {},
   "outputs": [],
   "source": [
    "aff_df = pd.DataFrame(aff_unique, columns=['affiliation_names'])"
   ]
  },
  {
   "cell_type": "code",
   "execution_count": 17,
   "id": "3112a8b6",
   "metadata": {},
   "outputs": [],
   "source": [
    "# Create a column aff_id\n",
    "aff_df['aff_id'] = aff_df.index"
   ]
  },
  {
   "cell_type": "code",
   "execution_count": 18,
   "id": "e78a5991",
   "metadata": {},
   "outputs": [],
   "source": [
    "from geopy.geocoders import Nominatim"
   ]
  },
  {
   "cell_type": "code",
   "execution_count": 19,
   "id": "57e1948f",
   "metadata": {},
   "outputs": [],
   "source": [
    "geolocator = Nominatim(user_agent=\"my_geocoder\")"
   ]
  },
  {
   "cell_type": "code",
   "execution_count": 29,
   "id": "1da3df01",
   "metadata": {},
   "outputs": [],
   "source": [
    "location_error = []\n",
    "def get_country(location):\n",
    "    try:\n",
    "        location_info = geolocator.geocode(location, language='en')\n",
    "        if location_info:\n",
    "            return location_info.address.split(\",\")[-1].strip()\n",
    "    except:\n",
    "        location_error.append(location)\n",
    "        return None"
   ]
  },
  {
   "cell_type": "code",
   "execution_count": null,
   "id": "31fb1fb5",
   "metadata": {},
   "outputs": [],
   "source": [
    "aff_df['country'] = aff_df['affiliation_names'].apply(get_country)"
   ]
  },
  {
   "cell_type": "code",
   "execution_count": null,
   "id": "e4178222",
   "metadata": {},
   "outputs": [],
   "source": [
    "aff_df['country']"
   ]
  },
  {
   "cell_type": "code",
   "execution_count": null,
   "id": "59fcee67",
   "metadata": {},
   "outputs": [],
   "source": [
    "location_error"
   ]
  },
  {
   "cell_type": "code",
   "execution_count": null,
   "id": "478ae0e5",
   "metadata": {},
   "outputs": [],
   "source": []
  },
  {
   "cell_type": "code",
   "execution_count": null,
   "id": "94819ef9",
   "metadata": {},
   "outputs": [],
   "source": []
  },
  {
   "cell_type": "code",
   "execution_count": null,
   "id": "5123491b",
   "metadata": {},
   "outputs": [],
   "source": []
  },
  {
   "cell_type": "code",
   "execution_count": null,
   "id": "d1d1ccad",
   "metadata": {},
   "outputs": [],
   "source": []
  },
  {
   "cell_type": "code",
   "execution_count": null,
   "id": "d58e8d92",
   "metadata": {},
   "outputs": [],
   "source": [
    "# Create a list with all the affiliations\n",
    "affiliations_list = []\n",
    "\n",
    "for i,aff in enumerate(df['auth_aff_list']):\n",
    "    j = 0\n",
    "    while j < len(aff):\n",
    "        affiliations_list.append(aff[j])\n",
    "        j += 1"
   ]
  },
  {
   "cell_type": "code",
   "execution_count": null,
   "id": "12588cc4",
   "metadata": {},
   "outputs": [],
   "source": [
    "# Create a list with the unique affiliations\n",
    "display(len(affiliations_list))\n",
    "affiliations_list = list(set(affiliations_list))\n",
    "display(len(affiliations_list))"
   ]
  },
  {
   "cell_type": "code",
   "execution_count": null,
   "id": "17f78110",
   "metadata": {},
   "outputs": [],
   "source": [
    "aff_df = pd.DataFrame(affiliations_list)"
   ]
  },
  {
   "cell_type": "code",
   "execution_count": null,
   "id": "e13687e4",
   "metadata": {},
   "outputs": [],
   "source": [
    "aff_df = aff_df.rename(columns={0: 'aff_name'})\n",
    "aff_df.head()"
   ]
  },
  {
   "cell_type": "markdown",
   "id": "9de5694c",
   "metadata": {},
   "source": [
    "### Merge columns to have the pub_id"
   ]
  },
  {
   "cell_type": "code",
   "execution_count": null,
   "id": "4027d829",
   "metadata": {},
   "outputs": [],
   "source": [
    "display(aff_df.shape)\n",
    "aff_df = pd.merge(aff_df, df, left_on='aff_name', right_on='last_auth_aff', how='left')\n",
    "display(aff_df.shape)"
   ]
  },
  {
   "cell_type": "code",
   "execution_count": null,
   "id": "a9946ada",
   "metadata": {},
   "outputs": [],
   "source": [
    "display(aff_df.shape)\n",
    "aff_df = pd.merge(aff_df, df, left_on='aff_name', right_on='first_auth_aff', how='left')\n",
    "display(aff_df.shape)"
   ]
  },
  {
   "cell_type": "code",
   "execution_count": null,
   "id": "ed0e09a9",
   "metadata": {},
   "outputs": [],
   "source": [
    "aff_df.head(2)"
   ]
  },
  {
   "cell_type": "markdown",
   "id": "1678e5c3",
   "metadata": {},
   "source": [
    "### Fill nan and reduce the dimensions"
   ]
  },
  {
   "cell_type": "code",
   "execution_count": null,
   "id": "cdf46183",
   "metadata": {},
   "outputs": [],
   "source": [
    "cols_to_fill = ['pub_id_x', \n",
    "                'authors_x', \n",
    "                'auth_aff_list_x',\n",
    "                'first_auth_aff_x', \n",
    "                'last_auth_aff_x']\n",
    "\n",
    "for col in cols_to_fill:\n",
    "    aff_df[col].fillna(aff_df[col.replace('_x', '_y')], inplace=True)\n",
    "\n",
    "aff_df.drop(columns=['pub_id_y', 'authors_y', 'auth_aff_list_y', 'first_auth_aff_y', 'last_auth_aff_y'], inplace=True)"
   ]
  },
  {
   "cell_type": "code",
   "execution_count": null,
   "id": "2fc9ed31",
   "metadata": {},
   "outputs": [],
   "source": [
    "for col in cols_to_fill:\n",
    "    new_name = col.replace('_x', '')\n",
    "    aff_df.rename(columns={col: new_name}, inplace=True)"
   ]
  },
  {
   "cell_type": "code",
   "execution_count": null,
   "id": "2fdb0901",
   "metadata": {},
   "outputs": [],
   "source": [
    "to_drop = ['authors', 'auth_aff_list', 'first_auth_aff']\n",
    "display(aff_df.shape)\n",
    "aff_df = aff_df.drop(columns=to_drop)\n",
    "display(aff_df.shape)"
   ]
  },
  {
   "cell_type": "code",
   "execution_count": null,
   "id": "89ef7447",
   "metadata": {},
   "outputs": [],
   "source": [
    "view_nan(aff_df)"
   ]
  },
  {
   "cell_type": "markdown",
   "id": "011a0a96",
   "metadata": {},
   "source": [
    "## Determine the geographical locations of the affiliations"
   ]
  },
  {
   "cell_type": "code",
   "execution_count": null,
   "id": "8e419522",
   "metadata": {},
   "outputs": [],
   "source": [
    "with open('../google_api_key.txt', 'r') as file:\n",
    "    google_api_key = file.read().strip()\n",
    "\n",
    "geolocator = GoogleV3(api_key=google_api_key)"
   ]
  },
  {
   "cell_type": "code",
   "execution_count": null,
   "id": "982cdc76",
   "metadata": {},
   "outputs": [],
   "source": [
    "def obtain_long_lat(loc):\n",
    "    '''\n",
    "    Obtain the longitude and latitude coordinates for a given location.\n",
    "\n",
    "    Parameters:\n",
    "    - location (str): The name of the location for which coordinates are desired.\n",
    "\n",
    "    Returns:\n",
    "    - Tuple[float, float]: A tuple containing the obtained longitude and latitude coordinates.\n",
    "      If the location cannot be geocoded successfully, (None, None) is returned.\n",
    "    '''\n",
    "    try:\n",
    "        location = geolocator.geocode(loc)\n",
    "        return location.longitude, location.latitude\n",
    "    except:\n",
    "        return None, None"
   ]
  },
  {
   "cell_type": "code",
   "execution_count": null,
   "id": "025edcda",
   "metadata": {},
   "outputs": [],
   "source": [
    "# SLOW CELL\n",
    "'''\n",
    "aff_df['longitude'], aff_df['latitude'] = zip(*aff_df['aff_name'].apply(obtain_long_lat))\n",
    "''';"
   ]
  },
  {
   "cell_type": "code",
   "execution_count": null,
   "id": "aeab2911",
   "metadata": {},
   "outputs": [],
   "source": [
    "aff_df.to_csv('../data/aff_db.csv')"
   ]
  },
  {
   "cell_type": "code",
   "execution_count": null,
   "id": "ef24de2b",
   "metadata": {},
   "outputs": [],
   "source": [
    "aff_df"
   ]
  },
  {
   "cell_type": "code",
   "execution_count": null,
   "id": "cbb090ea",
   "metadata": {},
   "outputs": [],
   "source": [
    "# Rellenar los valores nulos en 'pub_id' basándose en la coincidencia entre 'aff_name' y 'auth_aff_list'\n",
    "# aff_df['pub_id'] = aff_df.apply(lambda row: df.loc[df['auth_aff_list'].apply(lambda x: row['aff_name'] in x), 'other_data'].iloc[0] if pd.isnull(row['pub_id']) else row['pub_id'], axis=1)"
   ]
  },
  {
   "cell_type": "code",
   "execution_count": null,
   "id": "baa94756",
   "metadata": {},
   "outputs": [],
   "source": []
  },
  {
   "cell_type": "code",
   "execution_count": null,
   "id": "21804087",
   "metadata": {},
   "outputs": [],
   "source": []
  }
 ],
 "metadata": {
  "kernelspec": {
   "display_name": "clase",
   "language": "python",
   "name": "clase"
  },
  "language_info": {
   "codemirror_mode": {
    "name": "ipython",
    "version": 3
   },
   "file_extension": ".py",
   "mimetype": "text/x-python",
   "name": "python",
   "nbconvert_exporter": "python",
   "pygments_lexer": "ipython3",
   "version": "3.11.5"
  },
  "toc": {
   "base_numbering": 1,
   "nav_menu": {},
   "number_sections": true,
   "sideBar": true,
   "skip_h1_title": false,
   "title_cell": "Table of Contents",
   "title_sidebar": "Contents",
   "toc_cell": false,
   "toc_position": {},
   "toc_section_display": true,
   "toc_window_display": false
  }
 },
 "nbformat": 4,
 "nbformat_minor": 5
}
