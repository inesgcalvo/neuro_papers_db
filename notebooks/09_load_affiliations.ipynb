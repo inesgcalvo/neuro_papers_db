{
 "cells": [
  {
   "cell_type": "markdown",
   "id": "ae5cec13",
   "metadata": {},
   "source": [
    "# affiliations"
   ]
  },
  {
   "cell_type": "markdown",
   "id": "721b4ef1",
   "metadata": {},
   "source": [
    "INDEX"
   ]
  },
  {
   "cell_type": "code",
   "execution_count": 2,
   "id": "71d12cb4",
   "metadata": {},
   "outputs": [],
   "source": [
    "# Libraries\n",
    "import pandas as pd\n",
    "\n",
    "# Abstract Syntax Trees\n",
    "import ast\n",
    "\n",
    "# Functions\n",
    "import sys\n",
    "sys.path.append('../src')\n",
    "from support_clean import *\n",
    "\n",
    "# Coordenates\n",
    "from geopy.geocoders import GoogleV3\n",
    "from geopy.exc import GeocoderTimedOut"
   ]
  },
  {
   "cell_type": "markdown",
   "id": "cfb02f75",
   "metadata": {},
   "source": [
    "### Import affiliations_df"
   ]
  },
  {
   "cell_type": "code",
   "execution_count": 3,
   "id": "5b90b7c4",
   "metadata": {},
   "outputs": [
    {
     "data": {
      "text/html": [
       "<div>\n",
       "<style scoped>\n",
       "    .dataframe tbody tr th:only-of-type {\n",
       "        vertical-align: middle;\n",
       "    }\n",
       "\n",
       "    .dataframe tbody tr th {\n",
       "        vertical-align: top;\n",
       "    }\n",
       "\n",
       "    .dataframe thead th {\n",
       "        text-align: right;\n",
       "    }\n",
       "</style>\n",
       "<table border=\"1\" class=\"dataframe\">\n",
       "  <thead>\n",
       "    <tr style=\"text-align: right;\">\n",
       "      <th></th>\n",
       "      <th>Unnamed: 0</th>\n",
       "      <th>pub_id</th>\n",
       "      <th>authors</th>\n",
       "      <th>auth_aff_list</th>\n",
       "      <th>first_auth_aff</th>\n",
       "      <th>last_auth_aff</th>\n",
       "    </tr>\n",
       "  </thead>\n",
       "  <tbody>\n",
       "    <tr>\n",
       "      <th>0</th>\n",
       "      <td>0</td>\n",
       "      <td>38012702</td>\n",
       "      <td>['Wu, Anbiao', 'Zhang, Jiyan']</td>\n",
       "      <td>['Beijing Institute of Basic Medical Sciences,...</td>\n",
       "      <td>Beijing Institute of Basic Medical Sciences, B...</td>\n",
       "      <td>Beijing Institute of Basic Medical Sciences, B...</td>\n",
       "    </tr>\n",
       "    <tr>\n",
       "      <th>1</th>\n",
       "      <td>1</td>\n",
       "      <td>38012669</td>\n",
       "      <td>['Zheng, Shengnan', 'Li, Yiquan', 'Song, Xiaom...</td>\n",
       "      <td>['Department of Pharmacology, School of Basic ...</td>\n",
       "      <td>Department of Pharmacology, School of Basic Me...</td>\n",
       "      <td>Department of Rehabilitation Medicine, The Sec...</td>\n",
       "    </tr>\n",
       "  </tbody>\n",
       "</table>\n",
       "</div>"
      ],
      "text/plain": [
       "   Unnamed: 0    pub_id                                            authors  \\\n",
       "0           0  38012702                     ['Wu, Anbiao', 'Zhang, Jiyan']   \n",
       "1           1  38012669  ['Zheng, Shengnan', 'Li, Yiquan', 'Song, Xiaom...   \n",
       "\n",
       "                                       auth_aff_list  \\\n",
       "0  ['Beijing Institute of Basic Medical Sciences,...   \n",
       "1  ['Department of Pharmacology, School of Basic ...   \n",
       "\n",
       "                                      first_auth_aff  \\\n",
       "0  Beijing Institute of Basic Medical Sciences, B...   \n",
       "1  Department of Pharmacology, School of Basic Me...   \n",
       "\n",
       "                                       last_auth_aff  \n",
       "0  Beijing Institute of Basic Medical Sciences, B...  \n",
       "1  Department of Rehabilitation Medicine, The Sec...  "
      ]
     },
     "execution_count": 3,
     "metadata": {},
     "output_type": "execute_result"
    }
   ],
   "source": [
    "affiliations = pd.read_csv('../data/affiliations_df.csv')\n",
    "affiliations.head(2)"
   ]
  },
  {
   "cell_type": "markdown",
   "id": "263aa6b1",
   "metadata": {},
   "source": [
    "## Data Cleansing"
   ]
  },
  {
   "cell_type": "code",
   "execution_count": 4,
   "id": "9121294b",
   "metadata": {},
   "outputs": [],
   "source": [
    "df = affiliations.copy()"
   ]
  },
  {
   "cell_type": "code",
   "execution_count": 5,
   "id": "e3028ee0",
   "metadata": {},
   "outputs": [
    {
     "data": {
      "text/plain": [
       "(61981, 6)"
      ]
     },
     "metadata": {},
     "output_type": "display_data"
    },
    {
     "data": {
      "text/plain": [
       "(61981, 5)"
      ]
     },
     "metadata": {},
     "output_type": "display_data"
    }
   ],
   "source": [
    "to_drop = ['Unnamed: 0']\n",
    "display(df.shape)\n",
    "df = df.drop(columns=to_drop)\n",
    "display(df.shape)"
   ]
  },
  {
   "cell_type": "code",
   "execution_count": 6,
   "id": "0f5f3f34",
   "metadata": {},
   "outputs": [
    {
     "data": {
      "text/html": [
       "<div>\n",
       "<style scoped>\n",
       "    .dataframe tbody tr th:only-of-type {\n",
       "        vertical-align: middle;\n",
       "    }\n",
       "\n",
       "    .dataframe tbody tr th {\n",
       "        vertical-align: top;\n",
       "    }\n",
       "\n",
       "    .dataframe thead th {\n",
       "        text-align: right;\n",
       "    }\n",
       "</style>\n",
       "<table border=\"1\" class=\"dataframe\">\n",
       "  <thead>\n",
       "    <tr style=\"text-align: right;\">\n",
       "      <th></th>\n",
       "      <th>pub_id</th>\n",
       "      <th>authors</th>\n",
       "      <th>auth_aff_list</th>\n",
       "      <th>first_auth_aff</th>\n",
       "      <th>last_auth_aff</th>\n",
       "    </tr>\n",
       "  </thead>\n",
       "  <tbody>\n",
       "    <tr>\n",
       "      <th>0</th>\n",
       "      <td>38012702</td>\n",
       "      <td>['Wu, Anbiao', 'Zhang, Jiyan']</td>\n",
       "      <td>['Beijing Institute of Basic Medical Sciences,...</td>\n",
       "      <td>Beijing Institute of Basic Medical Sciences, B...</td>\n",
       "      <td>Beijing Institute of Basic Medical Sciences, B...</td>\n",
       "    </tr>\n",
       "    <tr>\n",
       "      <th>1</th>\n",
       "      <td>38012669</td>\n",
       "      <td>['Zheng, Shengnan', 'Li, Yiquan', 'Song, Xiaom...</td>\n",
       "      <td>['Department of Pharmacology, School of Basic ...</td>\n",
       "      <td>Department of Pharmacology, School of Basic Me...</td>\n",
       "      <td>Department of Rehabilitation Medicine, The Sec...</td>\n",
       "    </tr>\n",
       "  </tbody>\n",
       "</table>\n",
       "</div>"
      ],
      "text/plain": [
       "     pub_id                                            authors  \\\n",
       "0  38012702                     ['Wu, Anbiao', 'Zhang, Jiyan']   \n",
       "1  38012669  ['Zheng, Shengnan', 'Li, Yiquan', 'Song, Xiaom...   \n",
       "\n",
       "                                       auth_aff_list  \\\n",
       "0  ['Beijing Institute of Basic Medical Sciences,...   \n",
       "1  ['Department of Pharmacology, School of Basic ...   \n",
       "\n",
       "                                      first_auth_aff  \\\n",
       "0  Beijing Institute of Basic Medical Sciences, B...   \n",
       "1  Department of Pharmacology, School of Basic Me...   \n",
       "\n",
       "                                       last_auth_aff  \n",
       "0  Beijing Institute of Basic Medical Sciences, B...  \n",
       "1  Department of Rehabilitation Medicine, The Sec...  "
      ]
     },
     "execution_count": 6,
     "metadata": {},
     "output_type": "execute_result"
    }
   ],
   "source": [
    "df = df.rename(columns={'ID': 'pub_id'})\n",
    "df.head(2)"
   ]
  },
  {
   "cell_type": "markdown",
   "id": "536767bf",
   "metadata": {},
   "source": [
    "### Create a list of affiliations"
   ]
  },
  {
   "cell_type": "code",
   "execution_count": 7,
   "id": "aca445ef",
   "metadata": {},
   "outputs": [],
   "source": [
    "# Fill NaN values with empty lists\n",
    "df['auth_aff_list'] = df['auth_aff_list'].fillna('[]')"
   ]
  },
  {
   "cell_type": "code",
   "execution_count": 8,
   "id": "bc3ae47e",
   "metadata": {},
   "outputs": [],
   "source": [
    "# Transform the strings to lists again\n",
    "df['auth_aff_list'] = df['auth_aff_list'].apply(ast.literal_eval)"
   ]
  },
  {
   "cell_type": "code",
   "execution_count": 9,
   "id": "d17d04d0",
   "metadata": {},
   "outputs": [],
   "source": [
    "# Create a row per affiliation\n",
    "df_aff = df.explode('auth_aff_list')"
   ]
  },
  {
   "cell_type": "code",
   "execution_count": 10,
   "id": "08d6a7a0",
   "metadata": {},
   "outputs": [
    {
     "data": {
      "text/plain": [
       "0        Beijing Institute of Basic Medical Sciences, B...\n",
       "0        Beijing Institute of Basic Medical Sciences, B...\n",
       "1        Department of Pharmacology, School of Basic Me...\n",
       "1        Department of Pharmacology, School of Basic Me...\n",
       "1        Department of Pharmacology, School of Basic Me...\n",
       "                               ...                        \n",
       "61980    Department of Radiology, Liyuan Hospital, Tong...\n",
       "61980    Department of Radiology, Liyuan Hospital, Tong...\n",
       "61980    State Key Laboratory of Brain and Cognitive Sc...\n",
       "61980    Sino-Danish College, University of Chinese Aca...\n",
       "61980    Center for Excellence in Brain and Science and...\n",
       "Name: auth_aff_list, Length: 374373, dtype: object"
      ]
     },
     "execution_count": 10,
     "metadata": {},
     "output_type": "execute_result"
    }
   ],
   "source": [
    "df_aff['auth_aff_list']"
   ]
  },
  {
   "cell_type": "code",
   "execution_count": 11,
   "id": "4bcb7f35",
   "metadata": {},
   "outputs": [
    {
     "data": {
      "text/plain": [
       "(374373, 5)"
      ]
     },
     "metadata": {},
     "output_type": "display_data"
    },
    {
     "data": {
      "text/plain": [
       "133868"
      ]
     },
     "execution_count": 11,
     "metadata": {},
     "output_type": "execute_result"
    }
   ],
   "source": [
    "# Create a list of unique affiliations\n",
    "display(df_aff.shape)\n",
    "aff_unique = list(set(df_aff['auth_aff_list']))\n",
    "len(aff_unique)"
   ]
  },
  {
   "cell_type": "code",
   "execution_count": 12,
   "id": "67540662",
   "metadata": {},
   "outputs": [],
   "source": [
    "aff_df = pd.DataFrame(aff_unique, columns=['affiliation_names'])"
   ]
  },
  {
   "cell_type": "code",
   "execution_count": 16,
   "id": "03f25da7",
   "metadata": {},
   "outputs": [],
   "source": [
    "aff_df = aff_df.dropna()"
   ]
  },
  {
   "cell_type": "code",
   "execution_count": 17,
   "id": "9850d3d2",
   "metadata": {},
   "outputs": [
    {
     "name": "stderr",
     "output_type": "stream",
     "text": [
      "C:\\Users\\ingle\\AppData\\Local\\Temp\\ipykernel_13920\\2903328238.py:2: SettingWithCopyWarning: \n",
      "A value is trying to be set on a copy of a slice from a DataFrame.\n",
      "Try using .loc[row_indexer,col_indexer] = value instead\n",
      "\n",
      "See the caveats in the documentation: https://pandas.pydata.org/pandas-docs/stable/user_guide/indexing.html#returning-a-view-versus-a-copy\n",
      "  aff_df['aff_id'] = aff_df.index\n"
     ]
    }
   ],
   "source": [
    "# Create a column aff_id\n",
    "aff_df['aff_id'] = aff_df.index"
   ]
  },
  {
   "cell_type": "code",
   "execution_count": 18,
   "id": "cca85130",
   "metadata": {},
   "outputs": [
    {
     "data": {
      "text/html": [
       "<div>\n",
       "<style scoped>\n",
       "    .dataframe tbody tr th:only-of-type {\n",
       "        vertical-align: middle;\n",
       "    }\n",
       "\n",
       "    .dataframe tbody tr th {\n",
       "        vertical-align: top;\n",
       "    }\n",
       "\n",
       "    .dataframe thead th {\n",
       "        text-align: right;\n",
       "    }\n",
       "</style>\n",
       "<table border=\"1\" class=\"dataframe\">\n",
       "  <thead>\n",
       "    <tr style=\"text-align: right;\">\n",
       "      <th></th>\n",
       "      <th>affiliation_names</th>\n",
       "      <th>aff_id</th>\n",
       "    </tr>\n",
       "  </thead>\n",
       "  <tbody>\n",
       "    <tr>\n",
       "      <th>0</th>\n",
       "      <td>The fourth affiliated hospital, Harbin Medical...</td>\n",
       "      <td>0</td>\n",
       "    </tr>\n",
       "    <tr>\n",
       "      <th>1</th>\n",
       "      <td>Department of Biology, University of Padova, P...</td>\n",
       "      <td>1</td>\n",
       "    </tr>\n",
       "    <tr>\n",
       "      <th>2</th>\n",
       "      <td>Department of Clinical Sciences and Community ...</td>\n",
       "      <td>2</td>\n",
       "    </tr>\n",
       "    <tr>\n",
       "      <th>3</th>\n",
       "      <td>Department of Biostatistics, Erciyes Universit...</td>\n",
       "      <td>3</td>\n",
       "    </tr>\n",
       "    <tr>\n",
       "      <th>4</th>\n",
       "      <td>Department of Microbiology, Immunology and Tra...</td>\n",
       "      <td>4</td>\n",
       "    </tr>\n",
       "    <tr>\n",
       "      <th>...</th>\n",
       "      <td>...</td>\n",
       "      <td>...</td>\n",
       "    </tr>\n",
       "    <tr>\n",
       "      <th>133863</th>\n",
       "      <td>Buddhist Practices and Counselling Science Lab...</td>\n",
       "      <td>133863</td>\n",
       "    </tr>\n",
       "    <tr>\n",
       "      <th>133864</th>\n",
       "      <td>Cardiovascular Research Institute, University ...</td>\n",
       "      <td>133864</td>\n",
       "    </tr>\n",
       "    <tr>\n",
       "      <th>133865</th>\n",
       "      <td>School of Education, Victoria University of We...</td>\n",
       "      <td>133865</td>\n",
       "    </tr>\n",
       "    <tr>\n",
       "      <th>133866</th>\n",
       "      <td>CNRS, UMR 7232, BIOM, Observatoire Océanologiq...</td>\n",
       "      <td>133866</td>\n",
       "    </tr>\n",
       "    <tr>\n",
       "      <th>133867</th>\n",
       "      <td>Department of Ophthalmology, Flinders Medical ...</td>\n",
       "      <td>133867</td>\n",
       "    </tr>\n",
       "  </tbody>\n",
       "</table>\n",
       "<p>133194 rows × 2 columns</p>\n",
       "</div>"
      ],
      "text/plain": [
       "                                        affiliation_names  aff_id\n",
       "0       The fourth affiliated hospital, Harbin Medical...       0\n",
       "1       Department of Biology, University of Padova, P...       1\n",
       "2       Department of Clinical Sciences and Community ...       2\n",
       "3       Department of Biostatistics, Erciyes Universit...       3\n",
       "4       Department of Microbiology, Immunology and Tra...       4\n",
       "...                                                   ...     ...\n",
       "133863  Buddhist Practices and Counselling Science Lab...  133863\n",
       "133864  Cardiovascular Research Institute, University ...  133864\n",
       "133865  School of Education, Victoria University of We...  133865\n",
       "133866  CNRS, UMR 7232, BIOM, Observatoire Océanologiq...  133866\n",
       "133867  Department of Ophthalmology, Flinders Medical ...  133867\n",
       "\n",
       "[133194 rows x 2 columns]"
      ]
     },
     "execution_count": 18,
     "metadata": {},
     "output_type": "execute_result"
    }
   ],
   "source": [
    "aff_df"
   ]
  },
  {
   "cell_type": "code",
   "execution_count": 19,
   "id": "89ef7447",
   "metadata": {},
   "outputs": [
    {
     "data": {
      "image/png": "[encoded data removed]",
      "text/plain": [
       "<Figure size 1000x600 with 1 Axes>"
      ]
     },
     "metadata": {
      "needs_background": "light"
     },
     "output_type": "display_data"
    }
   ],
   "source": [
    "view_nan(aff_df)"
   ]
  },
  {
   "cell_type": "markdown",
   "id": "011a0a96",
   "metadata": {},
   "source": [
    "## Determine the geographical locations of the affiliations"
   ]
  },
  {
   "cell_type": "code",
   "execution_count": 46,
   "id": "8e419522",
   "metadata": {},
   "outputs": [],
   "source": [
    "with open('../google_api_key.txt', 'r') as file:\n",
    "    google_api_key = file.read().strip()\n",
    "\n",
    "geolocator = GoogleV3(api_key=google_api_key)"
   ]
  },
  {
   "cell_type": "code",
   "execution_count": 47,
   "id": "982cdc76",
   "metadata": {},
   "outputs": [],
   "source": [
    "def obtain_long_lat_country(loc):\n",
    "    '''\n",
    "    Obtain the longitude, latitude, and country for a given location.\n",
    "\n",
    "    Parameters:\n",
    "    - location (str): The name of the location for which coordinates and country are desired.\n",
    "\n",
    "    Returns:\n",
    "    - Tuple[float, float, str]: A tuple containing the obtained longitude, latitude, and country.\n",
    "      If the location cannot be geocoded successfully, (None, None, None) is returned.\n",
    "    '''\n",
    "    try:\n",
    "        location = geolocator.geocode(loc, language='en')  # Set language for consistent results\n",
    "        if location:\n",
    "            return location.longitude, location.latitude, location.raw.get('country')\n",
    "        else:\n",
    "            return None, None, None\n",
    "    except GeocoderTimedOut:\n",
    "        return None, None, None"
   ]
  },
  {
   "cell_type": "code",
   "execution_count": 50,
   "id": "025edcda",
   "metadata": {},
   "outputs": [
    {
     "name": "stderr",
     "output_type": "stream",
     "text": [
      "C:\\Users\\ingle\\AppData\\Local\\Temp\\ipykernel_13920\\1935610478.py:1: SettingWithCopyWarning: \n",
      "A value is trying to be set on a copy of a slice from a DataFrame.\n",
      "Try using .loc[row_indexer,col_indexer] = value instead\n",
      "\n",
      "See the caveats in the documentation: https://pandas.pydata.org/pandas-docs/stable/user_guide/indexing.html#returning-a-view-versus-a-copy\n",
      "  aff_df['longitude'], aff_df['latitude'], aff_df['country'] = zip(*aff_df['affiliation_names'].apply(obtain_long_lat_country))\n",
      "C:\\Users\\ingle\\AppData\\Local\\Temp\\ipykernel_13920\\1935610478.py:1: SettingWithCopyWarning: \n",
      "A value is trying to be set on a copy of a slice from a DataFrame.\n",
      "Try using .loc[row_indexer,col_indexer] = value instead\n",
      "\n",
      "See the caveats in the documentation: https://pandas.pydata.org/pandas-docs/stable/user_guide/indexing.html#returning-a-view-versus-a-copy\n",
      "  aff_df['longitude'], aff_df['latitude'], aff_df['country'] = zip(*aff_df['affiliation_names'].apply(obtain_long_lat_country))\n",
      "C:\\Users\\ingle\\AppData\\Local\\Temp\\ipykernel_13920\\1935610478.py:1: SettingWithCopyWarning: \n",
      "A value is trying to be set on a copy of a slice from a DataFrame.\n",
      "Try using .loc[row_indexer,col_indexer] = value instead\n",
      "\n",
      "See the caveats in the documentation: https://pandas.pydata.org/pandas-docs/stable/user_guide/indexing.html#returning-a-view-versus-a-copy\n",
      "  aff_df['longitude'], aff_df['latitude'], aff_df['country'] = zip(*aff_df['affiliation_names'].apply(obtain_long_lat_country))\n"
     ]
    }
   ],
   "source": [
    "aff_df['longitude'], aff_df['latitude'], aff_df['country'] = zip(*aff_df['affiliation_names'].apply(obtain_long_lat_country))"
   ]
  },
  {
   "cell_type": "markdown",
   "id": "deaf7cf4",
   "metadata": {},
   "source": [
    "#### Manage NaNs"
   ]
  },
  {
   "cell_type": "code",
   "execution_count": 53,
   "id": "75e426b9",
   "metadata": {},
   "outputs": [
    {
     "data": {
      "text/plain": [
       "affiliation_names         0\n",
       "aff_id                    0\n",
       "longitude             25111\n",
       "latitude              25111\n",
       "country              133194\n",
       "dtype: int64"
      ]
     },
     "execution_count": 53,
     "metadata": {},
     "output_type": "execute_result"
    }
   ],
   "source": [
    "aff_df.isna().sum()"
   ]
  },
  {
   "cell_type": "code",
   "execution_count": 55,
   "id": "21804087",
   "metadata": {},
   "outputs": [
    {
     "data": {
      "image/png": "[encoded data removed]",
      "text/plain": [
       "<Figure size 1000x600 with 1 Axes>"
      ]
     },
     "metadata": {
      "needs_background": "light"
     },
     "output_type": "display_data"
    }
   ],
   "source": [
    "view_nan(aff_df)"
   ]
  },
  {
   "cell_type": "code",
   "execution_count": 56,
   "id": "b477c572",
   "metadata": {},
   "outputs": [
    {
     "data": {
      "text/plain": [
       "(133194, 5)"
      ]
     },
     "metadata": {},
     "output_type": "display_data"
    },
    {
     "data": {
      "text/plain": [
       "(133194, 4)"
      ]
     },
     "metadata": {},
     "output_type": "display_data"
    }
   ],
   "source": [
    "to_drop = ['country']\n",
    "display(aff_df.shape)\n",
    "aff_df = aff_df.drop(columns=to_drop)\n",
    "display(aff_df.shape)"
   ]
  },
  {
   "cell_type": "code",
   "execution_count": 57,
   "id": "4ba0ea6b",
   "metadata": {},
   "outputs": [
    {
     "name": "stdout",
     "output_type": "stream",
     "text": [
      "<class 'pandas.core.frame.DataFrame'>\n",
      "Index: 133194 entries, 0 to 133867\n",
      "Data columns (total 4 columns):\n",
      " #   Column             Non-Null Count   Dtype  \n",
      "---  ------             --------------   -----  \n",
      " 0   affiliation_names  133194 non-null  object \n",
      " 1   aff_id             133194 non-null  int64  \n",
      " 2   longitude          108083 non-null  float64\n",
      " 3   latitude           108083 non-null  float64\n",
      "dtypes: float64(2), int64(1), object(1)\n",
      "memory usage: 5.1+ MB\n"
     ]
    }
   ],
   "source": [
    "aff_df.info()"
   ]
  },
  {
   "cell_type": "code",
   "execution_count": 60,
   "id": "404e1b9c",
   "metadata": {},
   "outputs": [
    {
     "data": {
      "text/plain": [
       "4         Department of Microbiology, Immunology and Tra...\n",
       "5         Department of Neurology, Keimyung University S...\n",
       "7         Cátedra de Bioestadística, Facultad de Ciencia...\n",
       "8         Department of Integrated Traditional Chinese a...\n",
       "11        CAS Key Laboratory of Brain Function and Disea...\n",
       "                                ...                        \n",
       "133849    Centro de Neurobiología y Fisiología Integrati...\n",
       "133851    Unidad de Investigación en Epidemiológica Clín...\n",
       "133855    Department of Neurology, The General Hospital ...\n",
       "133856    Laboratório de Bioenergética e Estresse Oxidat...\n",
       "133857    Programa de Pós-Graduação em Neurociências, Ce...\n",
       "Name: affiliation_names, Length: 25111, dtype: object"
      ]
     },
     "execution_count": 60,
     "metadata": {},
     "output_type": "execute_result"
    }
   ],
   "source": [
    "aff_df['affiliation_names'][aff_df['longitude'].isna()]"
   ]
  },
  {
   "cell_type": "code",
   "execution_count": 61,
   "id": "c93b6707",
   "metadata": {},
   "outputs": [],
   "source": [
    "# Fill NaN Values with 0.0\n",
    "aff_df['longitude'] = aff_df['longitude'].fillna(0.0)\n",
    "aff_df['latitude'] = aff_df['latitude'].fillna(0.0)"
   ]
  },
  {
   "cell_type": "code",
   "execution_count": 67,
   "id": "8ae1ddc2",
   "metadata": {},
   "outputs": [
    {
     "name": "stdout",
     "output_type": "stream",
     "text": [
      "<class 'pandas.core.frame.DataFrame'>\n",
      "Index: 133194 entries, 0 to 133867\n",
      "Data columns (total 4 columns):\n",
      " #   Column             Non-Null Count   Dtype  \n",
      "---  ------             --------------   -----  \n",
      " 0   affiliation_names  133194 non-null  object \n",
      " 1   aff_id             133194 non-null  int64  \n",
      " 2   longitude          133194 non-null  float64\n",
      " 3   latitude           133194 non-null  float64\n",
      "dtypes: float64(2), int64(1), object(1)\n",
      "memory usage: 5.1+ MB\n"
     ]
    }
   ],
   "source": [
    "aff_df.info()"
   ]
  },
  {
   "cell_type": "code",
   "execution_count": 66,
   "id": "675d41b0",
   "metadata": {},
   "outputs": [
    {
     "data": {
      "text/plain": [
       "(133194, 4)"
      ]
     },
     "execution_count": 66,
     "metadata": {},
     "output_type": "execute_result"
    }
   ],
   "source": [
    "aff_df.shape"
   ]
  },
  {
   "cell_type": "code",
   "execution_count": 68,
   "id": "7bc878bb",
   "metadata": {},
   "outputs": [],
   "source": [
    "aff_df.to_csv('../data/neuropapers_db/affiliations.csv', index=False)"
   ]
  },
  {
   "cell_type": "code",
   "execution_count": null,
   "id": "85f149a8",
   "metadata": {},
   "outputs": [],
   "source": []
  },
  {
   "cell_type": "code",
   "execution_count": 70,
   "id": "168237a5",
   "metadata": {},
   "outputs": [],
   "source": [
    "pd.set_option('display.max_colwidth', None)"
   ]
  },
  {
   "cell_type": "code",
   "execution_count": 71,
   "id": "8f4e9f40",
   "metadata": {},
   "outputs": [
    {
     "data": {
      "text/plain": [
       "0           The fourth affiliated hospital, Harbin Medical University, Harbin, Heilongjiang \n",
       "1                                 Department of Biology, University of Padova, Padua, Italy.\n",
       "2         Department of Clinical Sciences and Community Health, University of Milan, Milan, \n",
       "3                          Department of Biostatistics, Erciyes University, Kayseri, Turkey.\n",
       "4                 Department of Microbiology, Immunology and Transplantation, Laboratory of \n",
       "                                                 ...                                        \n",
       "133863      Buddhist Practices and Counselling Science Lab, Centre of Buddhist Studies, The \n",
       "133864       Cardiovascular Research Institute, University of California San Francisco, San \n",
       "133865      School of Education, Victoria University of Wellington, Wellington, New Zealand.\n",
       "133866           CNRS, UMR 7232, BIOM, Observatoire Océanologique, Banyuls-sur-Mer, France; \n",
       "133867        Department of Ophthalmology, Flinders Medical Center and Flinders University, \n",
       "Name: affiliation_names, Length: 133194, dtype: object"
      ]
     },
     "execution_count": 71,
     "metadata": {},
     "output_type": "execute_result"
    }
   ],
   "source": [
    "aff_df['affiliation_names']"
   ]
  },
  {
   "cell_type": "code",
   "execution_count": null,
   "id": "2b270246",
   "metadata": {},
   "outputs": [],
   "source": []
  }
 ],
 "metadata": {
  "kernelspec": {
   "display_name": "clase",
   "language": "python",
   "name": "clase"
  },
  "language_info": {
   "codemirror_mode": {
    "name": "ipython",
    "version": 3
   },
   "file_extension": ".py",
   "mimetype": "text/x-python",
   "name": "python",
   "nbconvert_exporter": "python",
   "pygments_lexer": "ipython3",
   "version": "3.11.5"
  },
  "toc": {
   "base_numbering": 1,
   "nav_menu": {},
   "number_sections": true,
   "sideBar": true,
   "skip_h1_title": false,
   "title_cell": "Table of Contents",
   "title_sidebar": "Contents",
   "toc_cell": false,
   "toc_position": {},
   "toc_section_display": true,
   "toc_window_display": false
  }
 },
 "nbformat": 4,
 "nbformat_minor": 5
}
