{
 "cells": [
  {
   "cell_type": "markdown",
   "id": "5928ee21",
   "metadata": {},
   "source": [
    "# publications"
   ]
  },
  {
   "cell_type": "markdown",
   "id": "81bd29bc",
   "metadata": {},
   "source": [
    "INDEX"
   ]
  },
  {
   "cell_type": "code",
   "execution_count": 1,
   "id": "61914a5a",
   "metadata": {},
   "outputs": [],
   "source": [
    "# Libraries\n",
    "import pandas as pd\n",
    "\n",
    "# Abstract Syntax Trees\n",
    "import ast\n",
    "\n",
    "# Functions\n",
    "import sys\n",
    "sys.path.append('../src')\n",
    "from support_clean import *"
   ]
  },
  {
   "cell_type": "markdown",
   "id": "59a64672",
   "metadata": {},
   "source": [
    "### Import publications_df"
   ]
  },
  {
   "cell_type": "code",
   "execution_count": 2,
   "id": "f66729a7",
   "metadata": {},
   "outputs": [],
   "source": [
    "publications = pd.read_csv('../data/publications_df.csv')"
   ]
  },
  {
   "cell_type": "code",
   "execution_count": 3,
   "id": "860447e0",
   "metadata": {},
   "outputs": [
    {
     "data": {
      "text/plain": [
       "([], [])"
      ]
     },
     "execution_count": 3,
     "metadata": {},
     "output_type": "execute_result"
    }
   ],
   "source": [
    "constant_columns(publications)"
   ]
  },
  {
   "cell_type": "code",
   "execution_count": 4,
   "id": "4a77d7e8",
   "metadata": {},
   "outputs": [
    {
     "data": {
      "text/plain": [
       "(61981, 18)"
      ]
     },
     "metadata": {},
     "output_type": "display_data"
    },
    {
     "data": {
      "text/plain": [
       "(61981, 15)"
      ]
     },
     "metadata": {},
     "output_type": "display_data"
    }
   ],
   "source": [
    "to_drop = ['Unnamed: 0', 'status', 'journal_id']\n",
    "\n",
    "display(publications.shape)\n",
    "publications = publications.drop(columns=to_drop)\n",
    "display(publications.shape)"
   ]
  },
  {
   "cell_type": "markdown",
   "id": "ef3c8b76",
   "metadata": {},
   "source": [
    "### EDA"
   ]
  },
  {
   "cell_type": "code",
   "execution_count": 5,
   "id": "d2f85826",
   "metadata": {},
   "outputs": [
    {
     "data": {
      "text/html": [
       "<div>\n",
       "<style scoped>\n",
       "    .dataframe tbody tr th:only-of-type {\n",
       "        vertical-align: middle;\n",
       "    }\n",
       "\n",
       "    .dataframe tbody tr th {\n",
       "        vertical-align: top;\n",
       "    }\n",
       "\n",
       "    .dataframe thead th {\n",
       "        text-align: right;\n",
       "    }\n",
       "</style>\n",
       "<table border=\"1\" class=\"dataframe\">\n",
       "  <thead>\n",
       "    <tr style=\"text-align: right;\">\n",
       "      <th></th>\n",
       "      <th>pub_id</th>\n",
       "      <th>last_revision</th>\n",
       "      <th>volume</th>\n",
       "      <th>publication_date</th>\n",
       "      <th>title</th>\n",
       "      <th>pages</th>\n",
       "      <th>DOI</th>\n",
       "      <th>authors</th>\n",
       "      <th>journal</th>\n",
       "      <th>abstract</th>\n",
       "      <th>abstract_words</th>\n",
       "      <th>keywords</th>\n",
       "      <th>terms</th>\n",
       "      <th>pub_type</th>\n",
       "      <th>citation</th>\n",
       "    </tr>\n",
       "  </thead>\n",
       "  <tbody>\n",
       "    <tr>\n",
       "      <th>0</th>\n",
       "      <td>38012702</td>\n",
       "      <td>20231129.0</td>\n",
       "      <td>20.0</td>\n",
       "      <td>2023 Nov 27</td>\n",
       "      <td>Neuroinflammation, memory, and depression: new...</td>\n",
       "      <td>283</td>\n",
       "      <td>10.1186/s12974-023-02964-x</td>\n",
       "      <td>['Wu, Anbiao', 'Zhang, Jiyan']</td>\n",
       "      <td>Journal of neuroinflammation</td>\n",
       "      <td>As one of most common and severe mental disord...</td>\n",
       "      <td>one common severe mental disorders , major dep...</td>\n",
       "      <td>['one', 'common', 'severe', 'mental', 'disorde...</td>\n",
       "      <td>['Hippocampal neurogenesis', 'Major depressive...</td>\n",
       "      <td>Journal Article</td>\n",
       "      <td>J Neuroinflammation. 2023 Nov 27;20(1):283. do...</td>\n",
       "    </tr>\n",
       "    <tr>\n",
       "      <th>1</th>\n",
       "      <td>38012669</td>\n",
       "      <td>20231129.0</td>\n",
       "      <td>20.0</td>\n",
       "      <td>2023 Nov 27</td>\n",
       "      <td>OTUD1 ameliorates cerebral ischemic injury thr...</td>\n",
       "      <td>281</td>\n",
       "      <td>10.1186/s12974-023-02968-7</td>\n",
       "      <td>['Zheng, Shengnan', 'Li, Yiquan', 'Song, Xiaom...</td>\n",
       "      <td>Journal of neuroinflammation</td>\n",
       "      <td>BACKGROUND: Inflammatory response triggered by...</td>\n",
       "      <td>BACKGROUND : Inflammatory response triggered i...</td>\n",
       "      <td>['background', 'inflammatory', 'response', 'tr...</td>\n",
       "      <td>['Cerebral ischemic injury', 'Inflammation', '...</td>\n",
       "      <td>Journal Article</td>\n",
       "      <td>J Neuroinflammation. 2023 Nov 27;20(1):281. do...</td>\n",
       "    </tr>\n",
       "  </tbody>\n",
       "</table>\n",
       "</div>"
      ],
      "text/plain": [
       "     pub_id  last_revision  volume publication_date  \\\n",
       "0  38012702     20231129.0    20.0      2023 Nov 27   \n",
       "1  38012669     20231129.0    20.0      2023 Nov 27   \n",
       "\n",
       "                                               title pages  \\\n",
       "0  Neuroinflammation, memory, and depression: new...   283   \n",
       "1  OTUD1 ameliorates cerebral ischemic injury thr...   281   \n",
       "\n",
       "                          DOI  \\\n",
       "0  10.1186/s12974-023-02964-x   \n",
       "1  10.1186/s12974-023-02968-7   \n",
       "\n",
       "                                             authors  \\\n",
       "0                     ['Wu, Anbiao', 'Zhang, Jiyan']   \n",
       "1  ['Zheng, Shengnan', 'Li, Yiquan', 'Song, Xiaom...   \n",
       "\n",
       "                        journal  \\\n",
       "0  Journal of neuroinflammation   \n",
       "1  Journal of neuroinflammation   \n",
       "\n",
       "                                            abstract  \\\n",
       "0  As one of most common and severe mental disord...   \n",
       "1  BACKGROUND: Inflammatory response triggered by...   \n",
       "\n",
       "                                      abstract_words  \\\n",
       "0  one common severe mental disorders , major dep...   \n",
       "1  BACKGROUND : Inflammatory response triggered i...   \n",
       "\n",
       "                                            keywords  \\\n",
       "0  ['one', 'common', 'severe', 'mental', 'disorde...   \n",
       "1  ['background', 'inflammatory', 'response', 'tr...   \n",
       "\n",
       "                                               terms         pub_type  \\\n",
       "0  ['Hippocampal neurogenesis', 'Major depressive...  Journal Article   \n",
       "1  ['Cerebral ischemic injury', 'Inflammation', '...  Journal Article   \n",
       "\n",
       "                                            citation  \n",
       "0  J Neuroinflammation. 2023 Nov 27;20(1):283. do...  \n",
       "1  J Neuroinflammation. 2023 Nov 27;20(1):281. do...  "
      ]
     },
     "execution_count": 5,
     "metadata": {},
     "output_type": "execute_result"
    }
   ],
   "source": [
    "publications.head(2)"
   ]
  },
  {
   "cell_type": "code",
   "execution_count": 6,
   "id": "21bd0724",
   "metadata": {},
   "outputs": [
    {
     "name": "stdout",
     "output_type": "stream",
     "text": [
      "<class 'pandas.core.frame.DataFrame'>\n",
      "RangeIndex: 61981 entries, 0 to 61980\n",
      "Data columns (total 15 columns):\n",
      " #   Column            Non-Null Count  Dtype  \n",
      "---  ------            --------------  -----  \n",
      " 0   pub_id            61981 non-null  int64  \n",
      " 1   last_revision     61981 non-null  float64\n",
      " 2   volume            61591 non-null  float64\n",
      " 3   publication_date  61981 non-null  object \n",
      " 4   title             61981 non-null  object \n",
      " 5   pages             61981 non-null  object \n",
      " 6   DOI               61981 non-null  object \n",
      " 7   authors           61981 non-null  object \n",
      " 8   journal           61981 non-null  object \n",
      " 9   abstract          61981 non-null  object \n",
      " 10  abstract_words    61981 non-null  object \n",
      " 11  keywords          61981 non-null  object \n",
      " 12  terms             61981 non-null  object \n",
      " 13  pub_type          61981 non-null  object \n",
      " 14  citation          61981 non-null  object \n",
      "dtypes: float64(2), int64(1), object(12)\n",
      "memory usage: 7.1+ MB\n"
     ]
    }
   ],
   "source": [
    "publications.info()"
   ]
  },
  {
   "cell_type": "markdown",
   "id": "59181510",
   "metadata": {},
   "source": [
    "### Protocol for Data Cleansing\n",
    "\n",
    "     0   pub_id            61981 non-null  int64  \n",
    "     1   last_revision     61981 non-null  float64 --> datetime\n",
    "     2   volume            61591 non-null  float64 --> fillna(0) --> int64\n",
    "     3   publication_date  61981 non-null  object  --> datetime\n",
    "     4   title             61981 non-null  object \n",
    "     5   pages             61981 non-null  object \n",
    "     6   DOI               61981 non-null  object  \n",
    "     7   authors           61981 non-null  object  --> list\n",
    "     8   journal           61981 non-null  object  --> journal_id\n",
    "     9   abstract          61981 non-null  object \n",
    "     10  abstract_words    61981 non-null  object\n",
    "     11  keywords          61981 non-null  object  --> list\n",
    "     12  terms             61981 non-null  object  --> list\n",
    "     13  pub_type          61981 non-null  object  --> categories\n",
    "     14  citation          61981 non-null  object "
   ]
  },
  {
   "cell_type": "markdown",
   "id": "f98aa5ab",
   "metadata": {},
   "source": [
    "### Create a column 'publication_year'"
   ]
  },
  {
   "cell_type": "code",
   "execution_count": 7,
   "id": "528ca3b3",
   "metadata": {},
   "outputs": [
    {
     "data": {
      "text/plain": [
       "0        2023 Nov 27\n",
       "1        2023 Nov 27\n",
       "2        2023 Nov 27\n",
       "3        2023 Nov 27\n",
       "4        2023 Nov 25\n",
       "            ...     \n",
       "61976           2019\n",
       "61977           2019\n",
       "61978           2019\n",
       "61979           2019\n",
       "61980           2019\n",
       "Name: publication_date, Length: 61981, dtype: object"
      ]
     },
     "execution_count": 7,
     "metadata": {},
     "output_type": "execute_result"
    }
   ],
   "source": [
    "publications['publication_date']"
   ]
  },
  {
   "cell_type": "code",
   "execution_count": 8,
   "id": "aa64ba25",
   "metadata": {},
   "outputs": [],
   "source": [
    "publications['publication_year'] = publications['publication_date'].str.extract(r'(\\d{4})')"
   ]
  },
  {
   "cell_type": "code",
   "execution_count": 9,
   "id": "d8febbb6",
   "metadata": {},
   "outputs": [
    {
     "data": {
      "text/plain": [
       "0"
      ]
     },
     "execution_count": 9,
     "metadata": {},
     "output_type": "execute_result"
    }
   ],
   "source": [
    "publications['publication_year'].isna().sum()"
   ]
  },
  {
   "cell_type": "markdown",
   "id": "658b0c61",
   "metadata": {},
   "source": [
    "### last_revision & publication_date to datetime"
   ]
  },
  {
   "cell_type": "code",
   "execution_count": 10,
   "id": "3d4f4dc8",
   "metadata": {},
   "outputs": [
    {
     "data": {
      "text/html": [
       "<div>\n",
       "<style scoped>\n",
       "    .dataframe tbody tr th:only-of-type {\n",
       "        vertical-align: middle;\n",
       "    }\n",
       "\n",
       "    .dataframe tbody tr th {\n",
       "        vertical-align: top;\n",
       "    }\n",
       "\n",
       "    .dataframe thead th {\n",
       "        text-align: right;\n",
       "    }\n",
       "</style>\n",
       "<table border=\"1\" class=\"dataframe\">\n",
       "  <thead>\n",
       "    <tr style=\"text-align: right;\">\n",
       "      <th></th>\n",
       "      <th>last_revision</th>\n",
       "      <th>publication_date</th>\n",
       "    </tr>\n",
       "  </thead>\n",
       "  <tbody>\n",
       "    <tr>\n",
       "      <th>0</th>\n",
       "      <td>20231129.0</td>\n",
       "      <td>2023 Nov 27</td>\n",
       "    </tr>\n",
       "    <tr>\n",
       "      <th>1</th>\n",
       "      <td>20231129.0</td>\n",
       "      <td>2023 Nov 27</td>\n",
       "    </tr>\n",
       "  </tbody>\n",
       "</table>\n",
       "</div>"
      ],
      "text/plain": [
       "   last_revision publication_date\n",
       "0     20231129.0      2023 Nov 27\n",
       "1     20231129.0      2023 Nov 27"
      ]
     },
     "execution_count": 10,
     "metadata": {},
     "output_type": "execute_result"
    }
   ],
   "source": [
    "publications[['last_revision', 'publication_date']].head(2)"
   ]
  },
  {
   "cell_type": "code",
   "execution_count": 11,
   "id": "39625511",
   "metadata": {},
   "outputs": [
    {
     "name": "stdout",
     "output_type": "stream",
     "text": [
      "<class 'pandas.core.frame.DataFrame'>\n",
      "RangeIndex: 61981 entries, 0 to 61980\n",
      "Data columns (total 2 columns):\n",
      " #   Column            Non-Null Count  Dtype  \n",
      "---  ------            --------------  -----  \n",
      " 0   last_revision     61981 non-null  float64\n",
      " 1   publication_date  61981 non-null  object \n",
      "dtypes: float64(1), object(1)\n",
      "memory usage: 968.6+ KB\n"
     ]
    }
   ],
   "source": [
    "publications[['last_revision', 'publication_date']].info()"
   ]
  },
  {
   "cell_type": "markdown",
   "id": "4a0f1011",
   "metadata": {},
   "source": [
    "#### last_revision"
   ]
  },
  {
   "cell_type": "code",
   "execution_count": 12,
   "id": "6a249bc1",
   "metadata": {},
   "outputs": [],
   "source": [
    "publications['last_revision'] = pd.to_datetime(publications['last_revision'], format='%Y%m%d').dt.strftime('%Y%m%d')"
   ]
  },
  {
   "cell_type": "code",
   "execution_count": 13,
   "id": "307eab1a",
   "metadata": {},
   "outputs": [],
   "source": [
    "publications['last_revision'] = pd.to_datetime(publications['last_revision'])"
   ]
  },
  {
   "cell_type": "markdown",
   "id": "79482fa7",
   "metadata": {},
   "source": [
    "#### publication_date"
   ]
  },
  {
   "cell_type": "code",
   "execution_count": 14,
   "id": "7fd86904",
   "metadata": {},
   "outputs": [
    {
     "data": {
      "text/plain": [
       "array(['2023 Nov 27', '2023 Nov 25', '2023 Nov 24', ..., '2018 Apr-Jun',\n",
       "       '2016 Oct-Dec', '2024 Sep'], dtype=object)"
      ]
     },
     "execution_count": 14,
     "metadata": {},
     "output_type": "execute_result"
    }
   ],
   "source": [
    "publications['publication_date'].unique()"
   ]
  },
  {
   "cell_type": "code",
   "execution_count": 15,
   "id": "eba57dc2",
   "metadata": {},
   "outputs": [],
   "source": [
    "def parse_date(date_str):\n",
    "    try:\n",
    "        return pd.to_datetime(date_str).date()\n",
    "    except ValueError:\n",
    "        try:\n",
    "            return pd.to_datetime(date_str, format='%Y %b', errors='coerce').date()\n",
    "        except ValueError:\n",
    "            return pd.NaT"
   ]
  },
  {
   "cell_type": "code",
   "execution_count": 16,
   "id": "4daa7e4f",
   "metadata": {},
   "outputs": [],
   "source": [
    "publications['pub_date'] = publications['publication_date'].apply(parse_date)"
   ]
  },
  {
   "cell_type": "markdown",
   "id": "8df4c147",
   "metadata": {},
   "source": [
    "### Convert object columns to lists\n",
    "     7   authors           61981 non-null  object  --> list\n",
    "     11  keywords          61981 non-null  object  --> list\n",
    "     12  terms             61981 non-null  object  --> list"
   ]
  },
  {
   "cell_type": "code",
   "execution_count": 17,
   "id": "60059f22",
   "metadata": {},
   "outputs": [
    {
     "data": {
      "text/plain": [
       "str"
      ]
     },
     "execution_count": 17,
     "metadata": {},
     "output_type": "execute_result"
    }
   ],
   "source": [
    "type(publications['authors'][0])"
   ]
  },
  {
   "cell_type": "code",
   "execution_count": 18,
   "id": "9bf8fcdb",
   "metadata": {},
   "outputs": [],
   "source": [
    "# Transform the strings to lists again\n",
    "publications['authors'] = publications['authors'].apply(ast.literal_eval)\n",
    "publications['keywords'] = publications['keywords'].apply(ast.literal_eval)\n",
    "publications['terms'] = publications['terms'].apply(ast.literal_eval)"
   ]
  },
  {
   "cell_type": "markdown",
   "id": "7d9d4229",
   "metadata": {},
   "source": [
    "### Convert pub_type to categories\n",
    "    13  pub_type          61981 non-null  object  --> categories"
   ]
  },
  {
   "cell_type": "code",
   "execution_count": 19,
   "id": "7bafb4ae",
   "metadata": {},
   "outputs": [],
   "source": [
    "# publications['pub_type'].value_counts()"
   ]
  },
  {
   "cell_type": "code",
   "execution_count": 20,
   "id": "78e4720b",
   "metadata": {},
   "outputs": [],
   "source": [
    "# Define the categories and their counts\n",
    "categories = ['Journal Article', 'Comparative Study', 'Clinical Trial', 'Comment', 'Historical Article', \n",
    "              'Case Reports', 'Biography', 'Published Erratum', 'Editorial', 'Evaluation Study', \n",
    "              'Clinical Trial, Phase II', 'Clinical Trial, Phase III', 'Letter', 'Congress', 'Clinical Study', \n",
    "              'Controlled Clinical Trial', 'Clinical Trial, Phase I', 'Systematic Review', 'News', 'Review', \n",
    "              'Retraction of Publication', 'Consensus Development Conference', 'Lecture', 'Interview', \n",
    "              'Clinical Trial, Phase IV', 'Introductory Journal Article', 'Clinical Trial Protocol', 'Dataset', \n",
    "              'Guideline', 'Research Support, Non-U.S. Gov\\'t', 'Meta-Analysis', 'Address', 'Equivalence Trial', \n",
    "              'Festschrift', 'Duplicate Publication', 'Bibliography', 'Corrected and Republished Article']\n",
    "\n",
    "# Convert the 'pub_type' column to a categorical type with specified categories\n",
    "publications['pub_type'] = publications['pub_type'].astype(pd.CategoricalDtype(categories=categories, ordered=False))"
   ]
  },
  {
   "cell_type": "code",
   "execution_count": 21,
   "id": "1d003f16",
   "metadata": {},
   "outputs": [
    {
     "name": "stdout",
     "output_type": "stream",
     "text": [
      "<class 'pandas.core.series.Series'>\n",
      "RangeIndex: 61981 entries, 0 to 61980\n",
      "Series name: pub_type\n",
      "Non-Null Count  Dtype   \n",
      "--------------  -----   \n",
      "61981 non-null  category\n",
      "dtypes: category(1)\n",
      "memory usage: 62.0 KB\n"
     ]
    }
   ],
   "source": [
    "publications['pub_type'].info()"
   ]
  },
  {
   "cell_type": "markdown",
   "id": "8b9e5985",
   "metadata": {},
   "source": [
    "### Prepare the column for the foreign key: journal_id\n",
    "    8   journal           61981 non-null  object  --> journal_id"
   ]
  },
  {
   "cell_type": "code",
   "execution_count": 22,
   "id": "ea41f598",
   "metadata": {},
   "outputs": [
    {
     "data": {
      "text/html": [
       "<div>\n",
       "<style scoped>\n",
       "    .dataframe tbody tr th:only-of-type {\n",
       "        vertical-align: middle;\n",
       "    }\n",
       "\n",
       "    .dataframe tbody tr th {\n",
       "        vertical-align: top;\n",
       "    }\n",
       "\n",
       "    .dataframe thead th {\n",
       "        text-align: right;\n",
       "    }\n",
       "</style>\n",
       "<table border=\"1\" class=\"dataframe\">\n",
       "  <thead>\n",
       "    <tr style=\"text-align: right;\">\n",
       "      <th></th>\n",
       "      <th>journal_id</th>\n",
       "      <th>country_id</th>\n",
       "      <th>journal_name</th>\n",
       "      <th>num_articles</th>\n",
       "      <th>region</th>\n",
       "      <th>publisher</th>\n",
       "      <th>coverage</th>\n",
       "      <th>categories</th>\n",
       "      <th>areas</th>\n",
       "      <th>sjr_2010</th>\n",
       "      <th>...</th>\n",
       "      <th>hindex_2020</th>\n",
       "      <th>docs_2020</th>\n",
       "      <th>sjr_2021</th>\n",
       "      <th>quartile_2021</th>\n",
       "      <th>hindex_2021</th>\n",
       "      <th>docs_2021</th>\n",
       "      <th>sjr_2022</th>\n",
       "      <th>quartile_2022</th>\n",
       "      <th>hindex_2022</th>\n",
       "      <th>docs_2022</th>\n",
       "    </tr>\n",
       "  </thead>\n",
       "  <tbody>\n",
       "    <tr>\n",
       "      <th>0</th>\n",
       "      <td>0</td>\n",
       "      <td>756.0</td>\n",
       "      <td>Frontiers of Neurology and Neuroscience</td>\n",
       "      <td>325</td>\n",
       "      <td>Western Europe</td>\n",
       "      <td>S. Karger AG</td>\n",
       "      <td>2005-2019, 2021</td>\n",
       "      <td>Medicine (miscellaneous) (Q2); Neurology (clin...</td>\n",
       "      <td>Medicine; Neuroscience</td>\n",
       "      <td>0,456</td>\n",
       "      <td>...</td>\n",
       "      <td>32.0</td>\n",
       "      <td>0.0</td>\n",
       "      <td>0,199</td>\n",
       "      <td>Q4</td>\n",
       "      <td>32.0</td>\n",
       "      <td>14.0</td>\n",
       "      <td>0,506</td>\n",
       "      <td>Q3</td>\n",
       "      <td>32.0</td>\n",
       "      <td>0.0</td>\n",
       "    </tr>\n",
       "    <tr>\n",
       "      <th>1</th>\n",
       "      <td>1</td>\n",
       "      <td>840.0</td>\n",
       "      <td>PLoS Biology</td>\n",
       "      <td>4651</td>\n",
       "      <td>Northern America</td>\n",
       "      <td>Public Library of Science</td>\n",
       "      <td>2003-2022</td>\n",
       "      <td>Agricultural and Biological Sciences (miscella...</td>\n",
       "      <td>Agricultural and Biological Sciences; Biochemi...</td>\n",
       "      <td>7,847</td>\n",
       "      <td>...</td>\n",
       "      <td>293.0</td>\n",
       "      <td>348.0</td>\n",
       "      <td>3,928</td>\n",
       "      <td>Q1</td>\n",
       "      <td>293.0</td>\n",
       "      <td>337.0</td>\n",
       "      <td>4,005</td>\n",
       "      <td>Q1</td>\n",
       "      <td>293.0</td>\n",
       "      <td>403.0</td>\n",
       "    </tr>\n",
       "  </tbody>\n",
       "</table>\n",
       "<p>2 rows × 61 columns</p>\n",
       "</div>"
      ],
      "text/plain": [
       "   journal_id  country_id                             journal_name  \\\n",
       "0           0       756.0  Frontiers of Neurology and Neuroscience   \n",
       "1           1       840.0                             PLoS Biology   \n",
       "\n",
       "   num_articles            region                  publisher         coverage  \\\n",
       "0           325    Western Europe               S. Karger AG  2005-2019, 2021   \n",
       "1          4651  Northern America  Public Library of Science        2003-2022   \n",
       "\n",
       "                                          categories  \\\n",
       "0  Medicine (miscellaneous) (Q2); Neurology (clin...   \n",
       "1  Agricultural and Biological Sciences (miscella...   \n",
       "\n",
       "                                               areas sjr_2010  ...  \\\n",
       "0                             Medicine; Neuroscience    0,456  ...   \n",
       "1  Agricultural and Biological Sciences; Biochemi...    7,847  ...   \n",
       "\n",
       "  hindex_2020  docs_2020  sjr_2021 quartile_2021 hindex_2021  docs_2021  \\\n",
       "0        32.0        0.0     0,199            Q4        32.0       14.0   \n",
       "1       293.0      348.0     3,928            Q1       293.0      337.0   \n",
       "\n",
       "   sjr_2022 quartile_2022 hindex_2022  docs_2022  \n",
       "0     0,506            Q3        32.0        0.0  \n",
       "1     4,005            Q1       293.0      403.0  \n",
       "\n",
       "[2 rows x 61 columns]"
      ]
     },
     "execution_count": 22,
     "metadata": {},
     "output_type": "execute_result"
    }
   ],
   "source": [
    "journals = pd.read_csv('../data/journals_db.csv', index_col=False)\n",
    "journals = journals.drop(columns='Unnamed: 0')\n",
    "journals.head(2)"
   ]
  },
  {
   "cell_type": "code",
   "execution_count": 23,
   "id": "e8463659",
   "metadata": {},
   "outputs": [
    {
     "data": {
      "text/plain": [
       "0    Journal of neuroinflammation\n",
       "1    Journal of neuroinflammation\n",
       "Name: journal, dtype: object"
      ]
     },
     "execution_count": 23,
     "metadata": {},
     "output_type": "execute_result"
    }
   ],
   "source": [
    "publications['journal'].head(2)"
   ]
  },
  {
   "cell_type": "code",
   "execution_count": 24,
   "id": "66483a7d",
   "metadata": {},
   "outputs": [
    {
     "data": {
      "text/plain": [
       "110"
      ]
     },
     "metadata": {},
     "output_type": "display_data"
    },
    {
     "data": {
      "text/plain": [
       "110"
      ]
     },
     "metadata": {},
     "output_type": "display_data"
    }
   ],
   "source": [
    "# Create a dictionary to unificate journal name and journal_id\n",
    "display(len(journals))\n",
    "journal_mapping = dict(zip(journals['journal_name'], journals['journal_id']))\n",
    "display(len(journal_mapping))"
   ]
  },
  {
   "cell_type": "code",
   "execution_count": 25,
   "id": "bab5aba2",
   "metadata": {},
   "outputs": [],
   "source": [
    "def add_journal_id(x):\n",
    "    x = x.lower()\n",
    "    for k,v in journal_mapping.items():\n",
    "        if x in k.lower():\n",
    "            return int(v)"
   ]
  },
  {
   "cell_type": "code",
   "execution_count": 33,
   "id": "613e6c5a",
   "metadata": {},
   "outputs": [],
   "source": [
    "# Rename the journals according with the journal_db\n",
    "old_names = ['The Neuroscientist : a review journal bringing neurobiology, neurology and ',\n",
    "             'Journal of physiology, Paris']\n",
    "new_names = ['Neuroscientist', 'Journal of Physiology Paris']\n",
    "\n",
    "publications['journal'] = publications['journal'].replace(old_names, new_names)"
   ]
  },
  {
   "cell_type": "code",
   "execution_count": 34,
   "id": "e792356d",
   "metadata": {},
   "outputs": [],
   "source": [
    "publications['journal_id'] = publications['journal'].apply(add_journal_id)"
   ]
  },
  {
   "cell_type": "code",
   "execution_count": 35,
   "id": "5224c048",
   "metadata": {},
   "outputs": [
    {
     "data": {
      "text/plain": [
       "Series([], Name: count, dtype: int64)"
      ]
     },
     "execution_count": 35,
     "metadata": {},
     "output_type": "execute_result"
    }
   ],
   "source": [
    "publications['journal'][publications['journal_id'].isna()].value_counts()"
   ]
  },
  {
   "cell_type": "markdown",
   "id": "309cebed",
   "metadata": {},
   "source": [
    "### Manage NaNs\n",
    "     2   volume            61591 non-null  float64 --> fillna(0) --> int64"
   ]
  },
  {
   "cell_type": "code",
   "execution_count": 37,
   "id": "80a634d1",
   "metadata": {},
   "outputs": [
    {
     "data": {
      "text/plain": [
       "pub_date    654\n",
       "volume      390\n",
       "pub_id        0\n",
       "dtype: int64"
      ]
     },
     "execution_count": 37,
     "metadata": {},
     "output_type": "execute_result"
    }
   ],
   "source": [
    "publications.isna().sum().sort_values(ascending = False).head(3)"
   ]
  },
  {
   "cell_type": "code",
   "execution_count": 38,
   "id": "679744d6",
   "metadata": {},
   "outputs": [],
   "source": [
    "# Fill NaN values in 'pub_date' with the corresponding year and January 1\n",
    "publications['pub_date'] = publications.apply(lambda row: pd.to_datetime(f'{int(row[\"publication_year\"])}-01-01'), axis=1)"
   ]
  },
  {
   "cell_type": "code",
   "execution_count": 39,
   "id": "c98a68a6",
   "metadata": {},
   "outputs": [
    {
     "data": {
      "text/plain": [
       "volume            390\n",
       "pub_id              0\n",
       "abstract_words      0\n",
       "dtype: int64"
      ]
     },
     "execution_count": 39,
     "metadata": {},
     "output_type": "execute_result"
    }
   ],
   "source": [
    "publications.isna().sum().sort_values(ascending = False).head(3)"
   ]
  },
  {
   "cell_type": "code",
   "execution_count": 41,
   "id": "d3335027",
   "metadata": {},
   "outputs": [
    {
     "data": {
      "text/plain": [
       "5249     J Neurophysiol. 2023 Nov 15. doi: 10.1152/jn.0...\n",
       "5250     J Neurophysiol. 2023 Nov 15. doi: 10.1152/jn.0...\n",
       "5251     J Neurophysiol. 2023 Nov 15. doi: 10.1152/jn.0...\n",
       "5252     J Neurophysiol. 2023 Nov 15. doi: 10.1152/jn.0...\n",
       "5253     J Neurophysiol. 2023 Nov 15. doi: 10.1152/jn.0...\n",
       "                               ...                        \n",
       "54260    Mol Neurobiol. 2023 Aug 11. doi: 10.1007/s1203...\n",
       "54261    Mol Neurobiol. 2023 Aug 7. doi: 10.1007/s12035...\n",
       "54302    Mol Neurobiol. 2023 Jul 27. doi: 10.1007/s1203...\n",
       "54708    Mol Neurobiol. 2022 Aug 18. doi: 10.1007/s1203...\n",
       "57673    Mol Neurobiol. 2017 Apr 18. doi: 10.1007/s1203...\n",
       "Name: citation, Length: 390, dtype: object"
      ]
     },
     "execution_count": 41,
     "metadata": {},
     "output_type": "execute_result"
    }
   ],
   "source": [
    "# Check the citations when volume is NaN\n",
    "publications['citation'][publications['volume'].isna()]"
   ]
  },
  {
   "cell_type": "code",
   "execution_count": 42,
   "id": "8f871537",
   "metadata": {},
   "outputs": [
    {
     "name": "stdout",
     "output_type": "stream",
     "text": [
      "<class 'pandas.core.series.Series'>\n",
      "RangeIndex: 61981 entries, 0 to 61980\n",
      "Series name: volume\n",
      "Non-Null Count  Dtype  \n",
      "--------------  -----  \n",
      "61591 non-null  float64\n",
      "dtypes: float64(1)\n",
      "memory usage: 484.4 KB\n"
     ]
    }
   ],
   "source": [
    "publications['volume'].info()"
   ]
  },
  {
   "cell_type": "code",
   "execution_count": 43,
   "id": "dfffdd72",
   "metadata": {},
   "outputs": [],
   "source": [
    "# Fill NaN vith 0.0\n",
    "publications['volume'] = publications['volume'].fillna(0.0)"
   ]
  },
  {
   "cell_type": "markdown",
   "id": "a648471a",
   "metadata": {},
   "source": [
    "### Check the changes"
   ]
  },
  {
   "cell_type": "code",
   "execution_count": 44,
   "id": "d525885b",
   "metadata": {},
   "outputs": [
    {
     "name": "stdout",
     "output_type": "stream",
     "text": [
      "<class 'pandas.core.frame.DataFrame'>\n",
      "RangeIndex: 61981 entries, 0 to 61980\n",
      "Data columns (total 18 columns):\n",
      " #   Column            Non-Null Count  Dtype         \n",
      "---  ------            --------------  -----         \n",
      " 0   pub_id            61981 non-null  int64         \n",
      " 1   last_revision     61981 non-null  datetime64[ns]\n",
      " 2   volume            61981 non-null  float64       \n",
      " 3   publication_date  61981 non-null  object        \n",
      " 4   title             61981 non-null  object        \n",
      " 5   pages             61981 non-null  object        \n",
      " 6   DOI               61981 non-null  object        \n",
      " 7   authors           61981 non-null  object        \n",
      " 8   journal           61981 non-null  object        \n",
      " 9   abstract          61981 non-null  object        \n",
      " 10  abstract_words    61981 non-null  object        \n",
      " 11  keywords          61981 non-null  object        \n",
      " 12  terms             61981 non-null  object        \n",
      " 13  pub_type          61981 non-null  category      \n",
      " 14  citation          61981 non-null  object        \n",
      " 15  publication_year  61981 non-null  object        \n",
      " 16  pub_date          61981 non-null  datetime64[ns]\n",
      " 17  journal_id        61981 non-null  int64         \n",
      "dtypes: category(1), datetime64[ns](2), float64(1), int64(2), object(12)\n",
      "memory usage: 8.1+ MB\n"
     ]
    }
   ],
   "source": [
    "publications.info()"
   ]
  },
  {
   "cell_type": "code",
   "execution_count": 47,
   "id": "2bceb30a",
   "metadata": {},
   "outputs": [
    {
     "data": {
      "image/png": "[encoded data removed]",
      "text/plain": [
       "<Figure size 1000x600 with 1 Axes>"
      ]
     },
     "metadata": {
      "needs_background": "light"
     },
     "output_type": "display_data"
    }
   ],
   "source": [
    "view_nan(publications)"
   ]
  },
  {
   "cell_type": "code",
   "execution_count": 48,
   "id": "d795f775",
   "metadata": {},
   "outputs": [
    {
     "data": {
      "text/plain": [
       "pub_id           0\n",
       "last_revision    0\n",
       "dtype: int64"
      ]
     },
     "execution_count": 48,
     "metadata": {},
     "output_type": "execute_result"
    }
   ],
   "source": [
    "publications.isna().sum().sort_values(ascending = False).head(2)"
   ]
  },
  {
   "cell_type": "markdown",
   "id": "1c28e6d3",
   "metadata": {},
   "source": [
    "### Drop Columns"
   ]
  },
  {
   "cell_type": "code",
   "execution_count": 46,
   "id": "baae0e3a",
   "metadata": {},
   "outputs": [
    {
     "data": {
      "text/plain": [
       "Index(['pub_id', 'last_revision', 'volume', 'publication_date', 'title',\n",
       "       'pages', 'DOI', 'authors', 'journal', 'abstract', 'abstract_words',\n",
       "       'keywords', 'terms', 'pub_type', 'citation', 'publication_year',\n",
       "       'pub_date', 'journal_id'],\n",
       "      dtype='object')"
      ]
     },
     "execution_count": 46,
     "metadata": {},
     "output_type": "execute_result"
    }
   ],
   "source": [
    "publications.columns"
   ]
  },
  {
   "cell_type": "code",
   "execution_count": 49,
   "id": "e32a0c85",
   "metadata": {},
   "outputs": [
    {
     "data": {
      "text/plain": [
       "(61981, 18)"
      ]
     },
     "metadata": {},
     "output_type": "display_data"
    },
    {
     "data": {
      "text/plain": [
       "(61981, 17)"
      ]
     },
     "metadata": {},
     "output_type": "display_data"
    }
   ],
   "source": [
    "to_drop = ['publication_date']\n",
    "display(publications.shape)\n",
    "publications = publications.drop(columns=to_drop)\n",
    "display(publications.shape)"
   ]
  },
  {
   "cell_type": "markdown",
   "id": "9d6cb0e0",
   "metadata": {},
   "source": [
    "### Change the order of the columns"
   ]
  },
  {
   "cell_type": "code",
   "execution_count": 50,
   "id": "b817030e",
   "metadata": {},
   "outputs": [
    {
     "data": {
      "text/plain": [
       "Index(['pub_id', 'last_revision', 'volume', 'title', 'pages', 'DOI', 'authors',\n",
       "       'journal', 'abstract', 'abstract_words', 'keywords', 'terms',\n",
       "       'pub_type', 'citation', 'publication_year', 'pub_date', 'journal_id'],\n",
       "      dtype='object')"
      ]
     },
     "execution_count": 50,
     "metadata": {},
     "output_type": "execute_result"
    }
   ],
   "source": [
    "publications.columns"
   ]
  },
  {
   "cell_type": "code",
   "execution_count": 51,
   "id": "ee83b70a",
   "metadata": {},
   "outputs": [],
   "source": [
    "publications = publications[['pub_id', 'journal_id', 'last_revision', 'volume', 'title', 'pages', 'DOI', 'authors',\n",
    "                             'journal', 'abstract', 'abstract_words', 'keywords', 'terms', 'pub_type', 'citation', \n",
    "                             'publication_year', 'pub_date']]"
   ]
  },
  {
   "cell_type": "markdown",
   "id": "58372e09",
   "metadata": {},
   "source": [
    "### Export as .csv"
   ]
  },
  {
   "cell_type": "code",
   "execution_count": 53,
   "id": "55ddd761",
   "metadata": {},
   "outputs": [],
   "source": [
    "publications.to_csv('../data/publications_db.csv')"
   ]
  },
  {
   "cell_type": "code",
   "execution_count": null,
   "id": "653608ee",
   "metadata": {},
   "outputs": [],
   "source": []
  }
 ],
 "metadata": {
  "kernelspec": {
   "display_name": "clase",
   "language": "python",
   "name": "clase"
  },
  "language_info": {
   "codemirror_mode": {
    "name": "ipython",
    "version": 3
   },
   "file_extension": ".py",
   "mimetype": "text/x-python",
   "name": "python",
   "nbconvert_exporter": "python",
   "pygments_lexer": "ipython3",
   "version": "3.11.5"
  },
  "toc": {
   "base_numbering": 1,
   "nav_menu": {},
   "number_sections": true,
   "sideBar": true,
   "skip_h1_title": false,
   "title_cell": "Table of Contents",
   "title_sidebar": "Contents",
   "toc_cell": false,
   "toc_position": {},
   "toc_section_display": true,
   "toc_window_display": false
  }
 },
 "nbformat": 4,
 "nbformat_minor": 5
}
