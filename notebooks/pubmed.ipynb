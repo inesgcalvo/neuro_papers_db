{
 "cells": [
  {
   "attachments": {
    "pubmed.svg": {
     "image/svg+xml": [
      "PD94bWwgdmVyc2lvbj0iMS4wIiBlbmNvZGluZz0iVVRGLTgiPz48c3ZnIGlkPSJMYXllcl8yIiB4bWxucz0iaHR0cDovL3d3dy53My5vcmcvMjAwMC9zdmciIHZpZXdCb3g9IjAgMCAyMDIuMyA2OC44Ij48ZGVmcz48c3R5bGU+LmNscy0xe2ZpbGw6I2ZmZjt9LmNscy0ye2ZpbGw6IzMyNjU5OTt9LmNscy0ze2ZpbGw6Izk5OTt9LmNscy00e2ZpbGw6IzAwMDA4Yjt9PC9zdHlsZT48L2RlZnM+PGcgaWQ9IkxheWVyXzEtMiI+PHBhdGggY2xhc3M9ImNscy0yIiBkPSJtOTEuNzIsNjMuOGgwYzYtMjUsMzgsNSwzOCw1VjI1LjhzLTMyLTI3LTM4LTJoMHY0MFoiLz48cGF0aCBkPSJtOTEuNzQsNjMuOGgwYy0zLjQ3LTIwLjkzLTE1LjU2LTE1Ljc4LTE1LjU2LTE1Ljc4bC0uMzUtNDMuOTFzOS4yLTMuMTYsMTUuOTYsMTguMTFoMGwtLjA2LDQxLjU4WiIvPjxwYXRoIGNsYXNzPSJjbHMtMyIgZD0ibTkxLjgyLDY0LjAxaDBjLS45Ni0yNS43Ni04LjAyLTI0LjE2LTguMDItMjQuMTZsLS44My0zOS44NXM3Ljg4LDQuMDYsOS4wMiwxOS45OGgwbC0uMTgsNDQuMDNaIi8+PGc+PGc+PHBhdGggY2xhc3M9ImNscy00IiBkPSJtMjEuODcsMzEuOTFjMCwzLjEtLjkzLDUuNDEtMi43OSw2LjkyLTEuODYsMS41Mi00LjUzLDIuMjctOCwyLjI3aC00LjA4djEzLjI1SDB2LTMxLjYyaDExLjAyYzMuMzQsMCw1Ljk4Ljc2LDcuOTMsMi4yNywxLjk1LDEuNTIsMi45MiwzLjgyLDIuOTIsNi45Wm0tNywuOTJjMC0xLjU3LS40Mi0yLjc0LTEuMjctMy41MS0uODUtLjc3LTIuMDMtMS4xNS0zLjU2LTEuMTVoLTMuMDV2OS40NGgzLjIzYzEuNjEsMCwyLjc5LS40MywzLjUzLTEuMjhzMS4xMi0yLjAyLDEuMTItMy41WiIvPjxwYXRoIGNsYXNzPSJjbHMtNCIgZD0ibTQ1LjgsNTQuMzZoLTYuMzF2LTIuNTNsLTIuNjEsMS40OGMtLjczLjQxLTEuNDkuNzMtMi4yOC45Ni0uNzkuMjMtMS42NS4zNC0yLjU3LjM0LTIuMTgsMC0zLjktLjY3LTUuMTUtMi4wMy0xLjI1LTEuMzUtMS44OC0zLjE0LTEuODgtNS4zNnYtMTQuOTloNi4zMXYxMy41NmMwLC44MS4yOSwxLjUyLjg2LDIuMTQuNTcuNjIsMS40Ni45MiwyLjY1LjkyLDEuMTEsMCwyLjA2LS4yNCwyLjg1LS43MS43OS0uNDgsMS40LS45MSwxLjgzLTEuMzF2LTE0LjZoNi4zMXYyMi4xMloiLz48cGF0aCBjbGFzcz0iY2xzLTQiIGQ9Im03Mi43NSw0Mi44NWMwLDMuMzgtMS4wNCw2LjE5LTMuMTEsOC40NC0yLjA3LDIuMjUtNC42OCwzLjM4LTcuODMsMy4zOC0xLjEzLDAtMi4yNy0uMTYtMy40NC0uNDctMS4xNi0uMzEtMi4wMi0uNjgtMi41Ny0xLjFsLTMuNTQsMS41Ni0xLjUyLS44MXYtMzEuMTJoNi4xOXYxMC41NmwyLjM3LTEuMTVjLjQ3LS4yMi45OS0uNDMsMS41Ny0uNjIuNTgtLjE5LDEuMjItLjI5LDEuOTQtLjI5LDMuMTEsMCw1LjU0LDEuMSw3LjMsMy4yOSwxLjc1LDIuMTksMi42Myw0Ljk3LDIuNjMsOC4zM1ptLTYuMzcuNGMwLTEuODQtLjUtMy40My0xLjUtNC43Ny0xLTEuMzMtMi4yOC0yLTMuODItMi0uOTUsMC0xLjguMTYtMi41Ny40Ni0uNzcuMzEtMS4yOC43LTEuNTQsMS4xNnYxMC41Yy4zNC4zOC44Ny42OSwxLjU5Ljk0LjcyLjI1LDEuNTMuMzcsMi40Mi4zNywxLjk1LDAsMy4zNC0uNTMsNC4xNy0xLjYuODQtMS4wNywxLjI1LTIuNzUsMS4yNS01LjA3WiIvPjwvZz48Zz48cGF0aCBjbGFzcz0iY2xzLTIiIGQ9Im0yMS44NywzMS45MWMwLDMuMS0uOTMsNS40MS0yLjc5LDYuOTItMS44NiwxLjUyLTQuNTMsMi4yNy04LDIuMjdoLTQuMDh2MTMuMjVIMHYtMzEuNjJoMTEuMDJjMy4zNCwwLDUuOTguNzYsNy45MywyLjI3LDEuOTUsMS41MiwyLjkyLDMuODIsMi45Miw2LjlabS03LC45MmMwLTEuNTctLjQyLTIuNzQtMS4yNy0zLjUxLS44NS0uNzctMi4wMy0xLjE1LTMuNTYtMS4xNWgtMy4wNXY5LjQ0aDMuMjNjMS42MSwwLDIuNzktLjQzLDMuNTMtMS4yOHMxLjEyLTIuMDIsMS4xMi0zLjVaIi8+PHBhdGggY2xhc3M9ImNscy0yIiBkPSJtNDUuOCw1NC4zNmgtNi4zMXYtMi41M2wtMi42MSwxLjQ4Yy0uNzMuNDEtMS40OS43My0yLjI4Ljk2LS43OS4yMy0xLjY1LjM0LTIuNTcuMzQtMi4xOCwwLTMuOS0uNjctNS4xNS0yLjAzLTEuMjUtMS4zNS0xLjg4LTMuMTQtMS44OC01LjM2di0xNC45OWg2LjMxdjEzLjU2YzAsLjgxLjI5LDEuNTIuODYsMi4xNC41Ny42MiwxLjQ2LjkyLDIuNjUuOTIsMS4xMSwwLDIuMDYtLjI0LDIuODUtLjcxLjc5LS40OCwxLjQtLjkxLDEuODMtMS4zMXYtMTQuNmg2LjMxdjIyLjEyWiIvPjxwYXRoIGNsYXNzPSJjbHMtMiIgZD0ibTcyLjc1LDQyLjg1YzAsMy4zOC0xLjA0LDYuMTktMy4xMSw4LjQ0LTIuMDcsMi4yNS00LjY4LDMuMzgtNy44MywzLjM4LTEuMTMsMC0yLjI3LS4xNi0zLjQ0LS40Ny0xLjE2LS4zMS0yLjAyLS42OC0yLjU3LTEuMWwtMy41NCwxLjU2LTEuNTItLjgxdi0zMS4xMmg2LjE5djEwLjU2bDIuMzctMS4xNWMuNDctLjIyLjk5LS40MywxLjU3LS42Mi41OC0uMTksMS4yMi0uMjksMS45NC0uMjksMy4xMSwwLDUuNTQsMS4xLDcuMywzLjI5LDEuNzUsMi4xOSwyLjYzLDQuOTcsMi42Myw4LjMzWm0tNi4zNy40YzAtMS44NC0uNS0zLjQzLTEuNS00Ljc3LTEtMS4zMy0yLjI4LTItMy44Mi0yLS45NSwwLTEuOC4xNi0yLjU3LjQ2LS43Ny4zMS0xLjI4LjctMS41NCwxLjE2djEwLjVjLjM0LjM4Ljg3LjY5LDEuNTkuOTQuNzIuMjUsMS41My4zNywyLjQyLjM3LDEuOTUsMCwzLjM0LS41Myw0LjE3LTEuNi44NC0xLjA3LDEuMjUtMi43NSwxLjI1LTUuMDdaIi8+PC9nPjwvZz48Zz48Zz48cGF0aCBjbGFzcz0iY2xzLTQiIGQ9Im0xNTUuMzcsNDQuMjNoLTE2LjM3Yy4zNCwxLjc5LDEuMDUsMy4wOCwyLjEyLDMuODcsMS4wNy43OSwyLjM3LDEuMTksMy45LDEuMTksMS4yMywwLDIuNTktLjE4LDQuMDgtLjUzLDEuNDktLjM2LDIuNjYtLjgyLDMuNTItMS40djUuNTZjLS44MS41OC0yLjAzLDEuMDMtMy42NSwxLjM3LTEuNjIuMzQtMi45My41LTMuOTIuNS0zLjkxLDAtNi45Ni0xLjA3LTkuMTUtMy4yLTIuMTktMi4xMy0zLjI5LTQuOTktMy4yOS04LjU3czEuMTItNi41MSwzLjM2LTguNzNjMi4yNC0yLjIxLDUuMDQtMy4zMiw4LjQtMy4zMnM2LjAzLDEuMTgsOC4wMywzLjU0YzEuOTksMi4zNiwyLjk4LDUuNiwyLjk3LDkuNzFabS01LjgxLTNjLS4zMS0xLjY1LS45NC0yLjktMS44OS0zLjc0LS45NS0uODQtMi4xMi0xLjI2LTMuNTItMS4yNi0xLjYzLDAtMi44Ny40Ni0zLjcsMS4zNi0uODMuOTEtMS4zMywyLjEyLTEuNTEsMy42NGgxMC42MloiLz48cGF0aCBjbGFzcz0iY2xzLTQiIGQ9Im0xNzkuNDcsNTQuMzZoLTQuODFsLTEuMzEtMi0zLjMyLDEuOGMtLjI4LjE1LS42Ny4yNi0xLjIuMzQtLjUyLjA3LS45OC4xMS0xLjM2LjExLTMuMjQsMC01LjcxLTEuMDktNy4zOS0zLjI3LTEuNjgtMi4xOC0yLjUzLTQuOTItMi41NS04LjIyLS4wMS0zLjU3LDEtNi40MSwzLjA0LTguNTIsMi4wNC0yLjExLDQuNzMtMy4xNyw4LjA4LTMuMTcuOTYsMCwxLjguMDgsMi41My4yMy43My4xNSwxLjQzLjQyLDIuMS44di05LjcyaDYuMTl2MzEuNjJabS02LjE5LTYuODF2LTkuNzhjLS4zNC0uNDEtLjkxLS43Ny0xLjctMS4wOC0uNzktLjMtMS42NS0uNDUtMi41OC0uNDUtMS43MiwwLTMsLjUtMy44NCwxLjUxLS44NCwxLjAxLTEuMjYsMi42MS0xLjI2LDQuODFzLjQ1LDMuOTEsMS4zNCw1LjAyYy44OSwxLjExLDIuMSwxLjY2LDMuNjMsMS42Ni45OCwwLDEuODUtLjE3LDIuNTktLjUuNzQtLjMzLDEuMzUtLjczLDEuODEtMS4xOVoiLz48L2c+PGc+PHBhdGggY2xhc3M9ImNscy0yIiBkPSJtMTU1LjM3LDQ0LjIzaC0xNi4zN2MuMzQsMS43OSwxLjA1LDMuMDgsMi4xMiwzLjg3LDEuMDcuNzksMi4zNywxLjE5LDMuOSwxLjE5LDEuMjMsMCwyLjU5LS4xOCw0LjA4LS41MywxLjQ5LS4zNiwyLjY2LS44MiwzLjUyLTEuNHY1LjU2Yy0uODEuNTgtMi4wMywxLjAzLTMuNjUsMS4zNy0xLjYyLjM0LTIuOTMuNS0zLjkyLjUtMy45MSwwLTYuOTYtMS4wNy05LjE1LTMuMi0yLjE5LTIuMTMtMy4yOS00Ljk5LTMuMjktOC41N3MxLjEyLTYuNTEsMy4zNi04LjczYzIuMjQtMi4yMSw1LjA0LTMuMzIsOC40LTMuMzJzNi4wMywxLjE4LDguMDMsMy41NGMxLjk5LDIuMzYsMi45OCw1LjYsMi45Nyw5LjcxWm0tNS44MS0zYy0uMzEtMS42NS0uOTQtMi45LTEuODktMy43NC0uOTUtLjg0LTIuMTItMS4yNi0zLjUyLTEuMjYtMS42MywwLTIuODcuNDYtMy43LDEuMzYtLjgzLjkxLTEuMzMsMi4xMi0xLjUxLDMuNjRoMTAuNjJaIi8+PHBhdGggY2xhc3M9ImNscy0yIiBkPSJtMTc5LjQ3LDU0LjM2aC00LjgxbC0xLjMxLTItMy4zMiwxLjhjLS4yOC4xNS0uNjcuMjYtMS4yLjM0LS41Mi4wNy0uOTguMTEtMS4zNi4xMS0zLjI0LDAtNS43MS0xLjA5LTcuMzktMy4yNy0xLjY4LTIuMTgtMi41My00LjkyLTIuNTUtOC4yMi0uMDEtMy41NywxLTYuNDEsMy4wNC04LjUyLDIuMDQtMi4xMSw0LjczLTMuMTcsOC4wOC0zLjE3Ljk2LDAsMS44LjA4LDIuNTMuMjMuNzMuMTUsMS40My40MiwyLjEuOHYtOS43Mmg2LjE5djMxLjYyWm0tNi4xOS02Ljgxdi05Ljc4Yy0uMzQtLjQxLS45MS0uNzctMS43LTEuMDgtLjc5LS4zLTEuNjUtLjQ1LTIuNTgtLjQ1LTEuNzIsMC0zLC41LTMuODQsMS41MS0uODQsMS4wMS0xLjI2LDIuNjEtMS4yNiw0Ljgxcy40NSwzLjkxLDEuMzQsNS4wMmMuODksMS4xMSwyLjEsMS42NiwzLjYzLDEuNjYuOTgsMCwxLjg1LS4xNywyLjU5LS41Ljc0LS4zMywxLjM1LS43MywxLjgxLTEuMTlaIi8+PC9nPjwvZz48cGF0aCBjbGFzcz0iY2xzLTEiIGQ9Im0xMjYuMTcsNTEuMzhoLTYuMTNsLTIuOTYtMTUuMDQtNS40NiwxMi45MmgtMi43OGwtNC45My0xMi4zMy0yLjk2LDE0LjQ1aC01LjgxbDUuOTgtMjYuOTJoMi4zbDcuMTQsMTUuODgsNy4xMy0xNS44OGgyLjQ4bDUuOTksMjYuOTJaIi8+PHBhdGggY2xhc3M9ImNscy0zIiBkPSJtMjAyLjMsMjIuMTNjMCw0LjQ2LTMuNSw3Ljk3LTguMDYsNy45N3MtOC4xMS0zLjUtOC4xMS03Ljk3LDMuNi03Ljg3LDguMTEtNy44Nyw4LjA2LDMuNSw4LjA2LDcuODdabS0xNC4xNiwwYzAsMy41LDIuNTksNi4yOSw2LjE0LDYuMjlzNi0yLjc4LDYtNi4yNC0yLjU0LTYuMzQtNi4wNS02LjM0LTYuMSwyLjgzLTYuMSw2LjI5Wm00Ljg1LDQuMTNoLTEuODJ2LTcuODdjLjcyLS4xNCwxLjczLS4yNCwzLjAyLS4yNCwxLjQ5LDAsMi4xNi4yNCwyLjc0LjU4LjQzLjM0Ljc3Ljk2Ljc3LDEuNzMsMCwuODYtLjY3LDEuNTQtMS42MywxLjgydi4xYy43Ny4yOSwxLjIuODYsMS40NCwxLjkyLjI0LDEuMi4zOCwxLjY4LjU4LDEuOTdoLTEuOTdjLS4yNC0uMjktLjM4LTEuMDEtLjYyLTEuOTItLjE0LS44Ni0uNjItMS4yNS0xLjYzLTEuMjVoLS44NnYzLjE3Wm0uMDUtNC40NmguODZjMS4wMSwwLDEuODItLjM0LDEuODItMS4xNSwwLS43Mi0uNTMtMS4yLTEuNjgtMS4yLS40OCwwLS44Mi4wNS0xLjAxLjF2Mi4yNloiLz48L2c+PC9zdmc+Cg=="
     ]
    }
   },
   "cell_type": "markdown",
   "id": "9a477f98",
   "metadata": {},
   "source": [
    "# Web Scraping from PubMed\n",
    "\n",
    "This notebook showcases a data extraction process from **PubMed**, focusing on **neuroscience** articles published within the years 2013 and 2023. Leveraging the powerful `selenium` framework, the script navigates through the PubMed platform, systematically retrieving pertinent data from a variety of articles.\n",
    "\n",
    "![pubmed.svg](attachment:pubmed.svg)"
   ]
  },
  {
   "cell_type": "code",
   "execution_count": 1,
   "id": "516c6628",
   "metadata": {},
   "outputs": [],
   "source": [
    "# Libraries Importation\n",
    "\n",
    "import time\n",
    "import pandas as pd\n",
    "\n",
    "from selenium import webdriver\n",
    "from tqdm.notebook import tqdm\n",
    "from selenium.webdriver.common.by import By\n",
    "from selenium.webdriver.common.keys import Keys  \n",
    "from selenium.webdriver.support.ui import Select\n",
    "from joblib import Parallel, delayed, parallel_backend, effective_n_jobs\n",
    "\n",
    "import warnings\n",
    "warnings.filterwarnings('ignore')"
   ]
  },
  {
   "cell_type": "markdown",
   "id": "17c81470",
   "metadata": {},
   "source": [
    "### Definition of the searching terms\n",
    "\n",
    "This search query in PubMed focuses on retrieving Journal Articles published in the years specified, written in English. The Terms to filter neuroscience discipline are: 'neuron', 'nervous' OR 'CNS'\n",
    "    \n",
    "    (neuron[Other Term]) \n",
    "    AND (\"2013/01/01\"[Date - Publication] : \"3000\"[Date - Publication])\n",
    "    AND (english[Language])) \n",
    "    AND (Journal Article[Publication Type])"
   ]
  },
  {
   "cell_type": "markdown",
   "id": "505bbc5f",
   "metadata": {},
   "source": [
    "### Define the # of articles following those parametters."
   ]
  },
  {
   "cell_type": "code",
   "execution_count": 2,
   "id": "96ef7c7a",
   "metadata": {},
   "outputs": [],
   "source": [
    "url = 'https://pubmed.ncbi.nlm.nih.gov/?term=%28neuron%5BOther+Term%5D%29+AND+%28%222013%2F01%2F01%22%5BDate+-+Publication%5D+%3A+%223000%22%5BDate+-+Publication%5D%29+AND+%28english%5BLanguage%5D%29+AND+%28Journal+Article%5BPublication+Type%5D%29&filter=simsearch1.fha&filter=dates.2013%2F1%2F1-3000%2F12%2F12&filter=lang.english&filter=other.excludepreprints'"
   ]
  },
  {
   "cell_type": "code",
   "execution_count": 4,
   "id": "0fe8180c",
   "metadata": {},
   "outputs": [
    {
     "ename": "NameError",
     "evalue": "name 'NoSuchElementException' is not defined",
     "output_type": "error",
     "traceback": [
      "\u001b[1;31m---------------------------------------------------------------------------\u001b[0m",
      "\u001b[1;31mNameError\u001b[0m                                 Traceback (most recent call last)",
      "Cell \u001b[1;32mIn[4], line 1\u001b[0m\n\u001b[1;32m----> 1\u001b[0m errors \u001b[38;5;241m=\u001b[39m [NoSuchElementException, ElementNotInteractableException]\n\u001b[0;32m      2\u001b[0m wait \u001b[38;5;241m=\u001b[39m WebDriverWait(driver, timeout \u001b[38;5;241m=\u001b[39m \u001b[38;5;241m2\u001b[39m, poll_frequency \u001b[38;5;241m=\u001b[39m \u001b[38;5;241m.2\u001b[39m, ignored_exceptions \u001b[38;5;241m=\u001b[39m errors)\n",
      "\u001b[1;31mNameError\u001b[0m: name 'NoSuchElementException' is not defined"
     ]
    }
   ],
   "source": [
    "errors = [NoSuchElementException, ElementNotInteractableException]\n",
    "wait = WebDriverWait(driver, timeout = 2, poll_frequency = .2, ignored_exceptions = errors)"
   ]
  },
  {
   "cell_type": "code",
   "execution_count": 3,
   "id": "96367206",
   "metadata": {},
   "outputs": [
    {
     "ename": "AttributeError",
     "evalue": "'str' object has no attribute 'capabilities'",
     "output_type": "error",
     "traceback": [
      "\u001b[1;31m---------------------------------------------------------------------------\u001b[0m",
      "\u001b[1;31mAttributeError\u001b[0m                            Traceback (most recent call last)",
      "File \u001b[1;32m~\\anaconda3\\Lib\\site-packages\\selenium\\webdriver\\common\\driver_finder.py:38\u001b[0m, in \u001b[0;36mDriverFinder.get_path\u001b[1;34m(service, options)\u001b[0m\n\u001b[0;32m     37\u001b[0m \u001b[38;5;28;01mtry\u001b[39;00m:\n\u001b[1;32m---> 38\u001b[0m     path \u001b[38;5;241m=\u001b[39m SeleniumManager()\u001b[38;5;241m.\u001b[39mdriver_location(options) \u001b[38;5;28;01mif\u001b[39;00m path \u001b[38;5;129;01mis\u001b[39;00m \u001b[38;5;28;01mNone\u001b[39;00m \u001b[38;5;28;01melse\u001b[39;00m path\n\u001b[0;32m     39\u001b[0m \u001b[38;5;28;01mexcept\u001b[39;00m \u001b[38;5;167;01mException\u001b[39;00m \u001b[38;5;28;01mas\u001b[39;00m err:\n",
      "File \u001b[1;32m~\\anaconda3\\Lib\\site-packages\\selenium\\webdriver\\common\\selenium_manager.py:79\u001b[0m, in \u001b[0;36mSeleniumManager.driver_location\u001b[1;34m(self, options)\u001b[0m\n\u001b[0;32m     72\u001b[0m \u001b[38;5;250m\u001b[39m\u001b[38;5;124;03m\"\"\"Determines the path of the correct driver.\u001b[39;00m\n\u001b[0;32m     73\u001b[0m \n\u001b[0;32m     74\u001b[0m \u001b[38;5;124;03m:Args:\u001b[39;00m\n\u001b[0;32m     75\u001b[0m \u001b[38;5;124;03m - browser: which browser to get the driver path for.\u001b[39;00m\n\u001b[0;32m     76\u001b[0m \u001b[38;5;124;03m:Returns: The driver path to use\u001b[39;00m\n\u001b[0;32m     77\u001b[0m \u001b[38;5;124;03m\"\"\"\u001b[39;00m\n\u001b[1;32m---> 79\u001b[0m browser \u001b[38;5;241m=\u001b[39m options\u001b[38;5;241m.\u001b[39mcapabilities[\u001b[38;5;124m\"\u001b[39m\u001b[38;5;124mbrowserName\u001b[39m\u001b[38;5;124m\"\u001b[39m]\n\u001b[0;32m     81\u001b[0m args \u001b[38;5;241m=\u001b[39m [\u001b[38;5;28mstr\u001b[39m(\u001b[38;5;28mself\u001b[39m\u001b[38;5;241m.\u001b[39mget_binary()), \u001b[38;5;124m\"\u001b[39m\u001b[38;5;124m--browser\u001b[39m\u001b[38;5;124m\"\u001b[39m, browser]\n",
      "\u001b[1;31mAttributeError\u001b[0m: 'str' object has no attribute 'capabilities'",
      "\nDuring handling of the above exception, another exception occurred:\n",
      "\u001b[1;31mAttributeError\u001b[0m                            Traceback (most recent call last)",
      "Cell \u001b[1;32mIn[3], line 4\u001b[0m\n\u001b[0;32m      1\u001b[0m num_pages \u001b[38;5;241m=\u001b[39m \u001b[38;5;124m'\u001b[39m\u001b[38;5;124m'\u001b[39m\n\u001b[0;32m      3\u001b[0m PATH \u001b[38;5;241m=\u001b[39m webdriver\u001b[38;5;241m.\u001b[39mFirefoxOptions()\u001b[38;5;241m.\u001b[39mpage_load_strategy \u001b[38;5;241m=\u001b[39m \u001b[38;5;124m'\u001b[39m\u001b[38;5;124mnormal\u001b[39m\u001b[38;5;124m'\u001b[39m\n\u001b[1;32m----> 4\u001b[0m driver \u001b[38;5;241m=\u001b[39m webdriver\u001b[38;5;241m.\u001b[39mFirefox(options \u001b[38;5;241m=\u001b[39m PATH)\n\u001b[0;32m      6\u001b[0m driver\u001b[38;5;241m.\u001b[39mget(url)\n\u001b[0;32m      7\u001b[0m \u001b[38;5;66;03m# time.sleep(5)\u001b[39;00m\n\u001b[0;32m      8\u001b[0m \n\u001b[0;32m      9\u001b[0m \u001b[38;5;66;03m# Number of articles\u001b[39;00m\n",
      "File \u001b[1;32m~\\anaconda3\\Lib\\site-packages\\selenium\\webdriver\\firefox\\webdriver.py:59\u001b[0m, in \u001b[0;36mWebDriver.__init__\u001b[1;34m(self, options, service, keep_alive)\u001b[0m\n\u001b[0;32m     56\u001b[0m \u001b[38;5;28mself\u001b[39m\u001b[38;5;241m.\u001b[39mservice \u001b[38;5;241m=\u001b[39m service \u001b[38;5;28;01mif\u001b[39;00m service \u001b[38;5;28;01melse\u001b[39;00m Service()\n\u001b[0;32m     57\u001b[0m options \u001b[38;5;241m=\u001b[39m options \u001b[38;5;28;01mif\u001b[39;00m options \u001b[38;5;28;01melse\u001b[39;00m Options()\n\u001b[1;32m---> 59\u001b[0m \u001b[38;5;28mself\u001b[39m\u001b[38;5;241m.\u001b[39mservice\u001b[38;5;241m.\u001b[39mpath \u001b[38;5;241m=\u001b[39m DriverFinder\u001b[38;5;241m.\u001b[39mget_path(\u001b[38;5;28mself\u001b[39m\u001b[38;5;241m.\u001b[39mservice, options)\n\u001b[0;32m     60\u001b[0m \u001b[38;5;28mself\u001b[39m\u001b[38;5;241m.\u001b[39mservice\u001b[38;5;241m.\u001b[39mstart()\n\u001b[0;32m     62\u001b[0m executor \u001b[38;5;241m=\u001b[39m FirefoxRemoteConnection(\n\u001b[0;32m     63\u001b[0m     remote_server_addr\u001b[38;5;241m=\u001b[39m\u001b[38;5;28mself\u001b[39m\u001b[38;5;241m.\u001b[39mservice\u001b[38;5;241m.\u001b[39mservice_url,\n\u001b[0;32m     64\u001b[0m     ignore_proxy\u001b[38;5;241m=\u001b[39moptions\u001b[38;5;241m.\u001b[39m_ignore_local_proxy,\n\u001b[0;32m     65\u001b[0m     keep_alive\u001b[38;5;241m=\u001b[39mkeep_alive,\n\u001b[0;32m     66\u001b[0m )\n",
      "File \u001b[1;32m~\\anaconda3\\Lib\\site-packages\\selenium\\webdriver\\common\\driver_finder.py:40\u001b[0m, in \u001b[0;36mDriverFinder.get_path\u001b[1;34m(service, options)\u001b[0m\n\u001b[0;32m     38\u001b[0m     path \u001b[38;5;241m=\u001b[39m SeleniumManager()\u001b[38;5;241m.\u001b[39mdriver_location(options) \u001b[38;5;28;01mif\u001b[39;00m path \u001b[38;5;129;01mis\u001b[39;00m \u001b[38;5;28;01mNone\u001b[39;00m \u001b[38;5;28;01melse\u001b[39;00m path\n\u001b[0;32m     39\u001b[0m \u001b[38;5;28;01mexcept\u001b[39;00m \u001b[38;5;167;01mException\u001b[39;00m \u001b[38;5;28;01mas\u001b[39;00m err:\n\u001b[1;32m---> 40\u001b[0m     msg \u001b[38;5;241m=\u001b[39m \u001b[38;5;124mf\u001b[39m\u001b[38;5;124m\"\u001b[39m\u001b[38;5;124mUnable to obtain driver for \u001b[39m\u001b[38;5;132;01m{\u001b[39;00moptions\u001b[38;5;241m.\u001b[39mcapabilities[\u001b[38;5;124m'\u001b[39m\u001b[38;5;124mbrowserName\u001b[39m\u001b[38;5;124m'\u001b[39m]\u001b[38;5;132;01m}\u001b[39;00m\u001b[38;5;124m using Selenium Manager.\u001b[39m\u001b[38;5;124m\"\u001b[39m\n\u001b[0;32m     41\u001b[0m     \u001b[38;5;28;01mraise\u001b[39;00m NoSuchDriverException(msg) \u001b[38;5;28;01mfrom\u001b[39;00m \u001b[38;5;21;01merr\u001b[39;00m\n\u001b[0;32m     43\u001b[0m \u001b[38;5;28;01mif\u001b[39;00m path \u001b[38;5;129;01mis\u001b[39;00m \u001b[38;5;28;01mNone\u001b[39;00m \u001b[38;5;129;01mor\u001b[39;00m \u001b[38;5;129;01mnot\u001b[39;00m Path(path)\u001b[38;5;241m.\u001b[39mis_file():\n",
      "\u001b[1;31mAttributeError\u001b[0m: 'str' object has no attribute 'capabilities'"
     ]
    }
   ],
   "source": [
    "num_pages = ''\n",
    "\n",
    "PATH = webdriver.FirefoxOptions()\n",
    "driver = webdriver.Firefox(options = PATH)\n",
    "\n",
    "driver.get(url)\n",
    "wait.until(lambda d : revealed.send_keys(\"Displayed\") or True)\n",
    "\n",
    "# Number of articles\n",
    "num_art_selector = '.results-amount-container > div:nth-child(1)'\n",
    "num_art = driver.find_elements(By.CSS_SELECTOR, num_art_selector)[0].text.split(' ')[0]\n",
    "\n",
    "# # Number of pages\n",
    "num_pag_selector = '.top-pagination > div:nth-child(3) > label:nth-child(3)'\n",
    "num_pag = driver.find_elements(By.CSS_SELECTOR, num_pag_selector)[0].text.split(' ')[1]\n",
    "num_pages += num_pag\n",
    "\n",
    "driver.quit()\n",
    "\n",
    "print(f'This search presents {num_art} articles in {num_pag} pages')"
   ]
  },
  {
   "cell_type": "code",
   "execution_count": 4,
   "id": "7aa8753c",
   "metadata": {},
   "outputs": [],
   "source": [
    "# Transform the numbers to integers\n",
    "\n",
    "num_pag = num_pag.replace(',', '')\n",
    "num_pag = int(num_pag)\n",
    "\n",
    "num_art = num_art.replace(',', '')\n",
    "num_art = int(num_art)"
   ]
  },
  {
   "cell_type": "code",
   "execution_count": 5,
   "id": "89a24d46",
   "metadata": {},
   "outputs": [],
   "source": [
    "# Create a list of URLs\n",
    "\n",
    "nums = [i for i in range(2, num_pag)]\n",
    "url_list = []\n",
    "url_list.append('https://pubmed.ncbi.nlm.nih.gov/?term=%28neuron%5BOther+Term%5D%29+AND+%28%222013%2F01%2F01%22%5BDate+-+Publication%5D+%3A+%223000%22%5BDate+-+Publication%5D%29+AND+%28english%5BLanguage%5D%29+AND+%28Journal+Article%5BPublication+Type%5D%29&filter=simsearch1.fha&filter=dates.2013%2F1%2F1-3000%2F12%2F12&filter=lang.english&filter=other.excludepreprints')\n",
    "\n",
    "for num in nums:\n",
    "    url = f'https://pubmed.ncbi.nlm.nih.gov/?term=(neuron%5BOther%20Term%5D)%20AND%20(%222013%2F01%2F01%22%5BDate%20-%20Publication%5D%20%3A%20%223000%22%5BDate%20-%20Publication%5D)%20AND%20(english%5BLanguage%5D)%20AND%20(Journal%20Article%5BPublication%20Type%5D)&filter=simsearch1.fha&filter=dates.2013%2F1%2F1-3000%2F12%2F12&filter=lang.english&filter=other.excludepreprints&page={num}'\n",
    "    url_list.append(url)"
   ]
  },
  {
   "cell_type": "code",
   "execution_count": 6,
   "id": "2f1df107",
   "metadata": {},
   "outputs": [],
   "source": [
    "# Create a list to save the results\n",
    "\n",
    "pubmed = {'article': []}"
   ]
  },
  {
   "cell_type": "code",
   "execution_count": 13,
   "id": "b6701a4f",
   "metadata": {},
   "outputs": [],
   "source": [
    "def extract_article(url):\n",
    "    \"\"\"\n",
    "    Extracts information from a series of articles on PubMed.\n",
    "\n",
    "    Args: \n",
    "        url (str): The URL of the webpage containing the articles.\n",
    "\n",
    "    Returns:\n",
    "        list: A list containing information extracted from each article.\n",
    "    \"\"\"\n",
    "    PATH = webdriver.FirefoxOptions()\n",
    "    driver = webdriver.Firefox(options = PATH)\n",
    "    \n",
    "    driver.get(url)\n",
    "    time.sleep(1)\n",
    "    \n",
    "    # open the first article\n",
    "    selector_1 = 'a.docsum-title'\n",
    "    driver.find_element(By.CSS_SELECTOR, selector_1).click()\n",
    "    time.sleep(3)\n",
    "    \n",
    "    for i in range(10):\n",
    "        # Display Options\n",
    "        selector_2 = 'div.display-options:nth-child(3) > button:nth-child(1)'    \n",
    "        driver.find_element(By.CSS_SELECTOR, selector_2).click()\n",
    "        \n",
    "        # Display Options 2\n",
    "        selector_3 = '#article-display-format'    \n",
    "        driver.find_element(By.CSS_SELECTOR, selector_3).click()\n",
    "\n",
    "        # Select PubMed format\n",
    "        selector_4 = '#article-display-format > option:nth-child(2)'\n",
    "        driver.find_element(By.CSS_SELECTOR, selector_4).click()\n",
    "\n",
    "        # Save information\n",
    "        selector_5 = '#article-details'\n",
    "        pubmed['article'].append(driver.find_element(By.CSS_SELECTOR, selector_5).text)\n",
    "\n",
    "        driver.back()\n",
    "        time.sleep(3)\n",
    "\n",
    "        # Go to the next article:\n",
    "        next_button = driver.find_element(By.CLASS_NAME, 'next.side-link.visible')\n",
    "        next_button.find_element(By.CLASS_NAME, 'arrow-link.adj-nav-link').click()\n",
    "        time.sleep(2)\n",
    "    \n",
    "    driver.quit()\n",
    "    return pubmed"
   ]
  },
  {
   "cell_type": "code",
   "execution_count": 14,
   "id": "20fc615f",
   "metadata": {},
   "outputs": [
    {
     "name": "stdout",
     "output_type": "stream",
     "text": [
      "Number of cores: 16\n"
     ]
    }
   ],
   "source": [
    "print(f\"Number of cores: {effective_n_jobs()}\")"
   ]
  },
  {
   "cell_type": "code",
   "execution_count": 15,
   "id": "bb665144",
   "metadata": {},
   "outputs": [],
   "source": [
    "paralelo = Parallel(n_jobs = 10, \n",
    "                    verbose = True)"
   ]
  },
  {
   "cell_type": "code",
   "execution_count": 16,
   "id": "30ae2ad4",
   "metadata": {},
   "outputs": [
    {
     "data": {
      "application/vnd.jupyter.widget-view+json": {
       "model_id": "d7866754a6164a31b175dcfb01145339",
       "version_major": 2,
       "version_minor": 0
      },
      "text/plain": [
       "  0%|          | 0/1161 [00:00<?, ?it/s]"
      ]
     },
     "metadata": {},
     "output_type": "display_data"
    },
    {
     "name": "stderr",
     "output_type": "stream",
     "text": [
      "[Parallel(n_jobs=10)]: Using backend LokyBackend with 10 concurrent workers.\n",
      "[Parallel(n_jobs=10)]: Done  30 tasks      | elapsed:  4.6min\n",
      "[Parallel(n_jobs=10)]: Done 180 tasks      | elapsed: 27.3min\n",
      "[Parallel(n_jobs=10)]: Done 430 tasks      | elapsed: 65.4min\n"
     ]
    },
    {
     "ename": "NoSuchElementException",
     "evalue": "Message: Unable to locate element: div.display-options:nth-child(3) > button:nth-child(1); For documentation on this error, please visit: https://www.selenium.dev/documentation/webdriver/troubleshooting/errors#no-such-element-exception\nStacktrace:\nRemoteError@chrome://remote/content/shared/RemoteError.sys.mjs:8:8\nWebDriverError@chrome://remote/content/shared/webdriver/Errors.sys.mjs:189:5\nNoSuchElementError@chrome://remote/content/shared/webdriver/Errors.sys.mjs:507:5\ndom.find/</<@chrome://remote/content/shared/DOM.sys.mjs:132:16\n",
     "output_type": "error",
     "traceback": [
      "\u001b[1;31m---------------------------------------------------------------------------\u001b[0m",
      "\u001b[1;31m_RemoteTraceback\u001b[0m                          Traceback (most recent call last)",
      "\u001b[1;31m_RemoteTraceback\u001b[0m: \n\"\"\"\nTraceback (most recent call last):\n  File \"C:\\Users\\nexina\\anaconda3\\lib\\site-packages\\joblib\\externals\\loky\\process_executor.py\", line 436, in _process_worker\n    r = call_item()\n  File \"C:\\Users\\nexina\\anaconda3\\lib\\site-packages\\joblib\\externals\\loky\\process_executor.py\", line 288, in __call__\n    return self.fn(*self.args, **self.kwargs)\n  File \"C:\\Users\\nexina\\anaconda3\\lib\\site-packages\\joblib\\_parallel_backends.py\", line 595, in __call__\n    return self.func(*args, **kwargs)\n  File \"C:\\Users\\nexina\\anaconda3\\lib\\site-packages\\joblib\\parallel.py\", line 263, in __call__\n    return [func(*args, **kwargs)\n  File \"C:\\Users\\nexina\\anaconda3\\lib\\site-packages\\joblib\\parallel.py\", line 263, in <listcomp>\n    return [func(*args, **kwargs)\n  File \"C:\\Users\\nexina\\AppData\\Local\\Temp\\ipykernel_38812\\3003218548.py\", line 25, in extract_article\n  File \"C:\\Users\\nexina\\anaconda3\\lib\\site-packages\\selenium\\webdriver\\remote\\webdriver.py\", line 741, in find_element\n    return self.execute(Command.FIND_ELEMENT, {\"using\": by, \"value\": value})[\"value\"]\n  File \"C:\\Users\\nexina\\anaconda3\\lib\\site-packages\\selenium\\webdriver\\remote\\webdriver.py\", line 347, in execute\n    self.error_handler.check_response(response)\n  File \"C:\\Users\\nexina\\anaconda3\\lib\\site-packages\\selenium\\webdriver\\remote\\errorhandler.py\", line 229, in check_response\n    raise exception_class(message, screen, stacktrace)\nselenium.common.exceptions.NoSuchElementException: Message: Unable to locate element: div.display-options:nth-child(3) > button:nth-child(1); For documentation on this error, please visit: https://www.selenium.dev/documentation/webdriver/troubleshooting/errors#no-such-element-exception\nStacktrace:\nRemoteError@chrome://remote/content/shared/RemoteError.sys.mjs:8:8\nWebDriverError@chrome://remote/content/shared/webdriver/Errors.sys.mjs:189:5\nNoSuchElementError@chrome://remote/content/shared/webdriver/Errors.sys.mjs:507:5\ndom.find/</<@chrome://remote/content/shared/DOM.sys.mjs:132:16\n\n\"\"\"",
      "\nThe above exception was the direct cause of the following exception:\n",
      "\u001b[1;31mNoSuchElementException\u001b[0m                    Traceback (most recent call last)",
      "Cell \u001b[1;32mIn[16], line 1\u001b[0m\n\u001b[1;32m----> 1\u001b[0m pages \u001b[38;5;241m=\u001b[39m \u001b[43mparalelo\u001b[49m\u001b[43m(\u001b[49m\u001b[43mdelayed\u001b[49m\u001b[43m(\u001b[49m\u001b[43mextract_article\u001b[49m\u001b[43m)\u001b[49m\u001b[43m(\u001b[49m\u001b[43murl\u001b[49m\u001b[43m)\u001b[49m\u001b[43m \u001b[49m\u001b[38;5;28;43;01mfor\u001b[39;49;00m\u001b[43m \u001b[49m\u001b[43murl\u001b[49m\u001b[43m \u001b[49m\u001b[38;5;129;43;01min\u001b[39;49;00m\u001b[43m \u001b[49m\u001b[43mtqdm\u001b[49m\u001b[43m(\u001b[49m\u001b[43murl_list\u001b[49m\u001b[43m[\u001b[49m\u001b[43m:\u001b[49m\u001b[38;5;241;43m-\u001b[39;49m\u001b[38;5;241;43m1\u001b[39;49m\u001b[43m]\u001b[49m\u001b[43m)\u001b[49m\u001b[43m)\u001b[49m\n",
      "File \u001b[1;32m~\\anaconda3\\lib\\site-packages\\joblib\\parallel.py:1061\u001b[0m, in \u001b[0;36mParallel.__call__\u001b[1;34m(self, iterable)\u001b[0m\n\u001b[0;32m   1058\u001b[0m     \u001b[38;5;28mself\u001b[39m\u001b[38;5;241m.\u001b[39m_iterating \u001b[38;5;241m=\u001b[39m \u001b[38;5;28;01mFalse\u001b[39;00m\n\u001b[0;32m   1060\u001b[0m \u001b[38;5;28;01mwith\u001b[39;00m \u001b[38;5;28mself\u001b[39m\u001b[38;5;241m.\u001b[39m_backend\u001b[38;5;241m.\u001b[39mretrieval_context():\n\u001b[1;32m-> 1061\u001b[0m     \u001b[38;5;28;43mself\u001b[39;49m\u001b[38;5;241;43m.\u001b[39;49m\u001b[43mretrieve\u001b[49m\u001b[43m(\u001b[49m\u001b[43m)\u001b[49m\n\u001b[0;32m   1062\u001b[0m \u001b[38;5;66;03m# Make sure that we get a last message telling us we are done\u001b[39;00m\n\u001b[0;32m   1063\u001b[0m elapsed_time \u001b[38;5;241m=\u001b[39m time\u001b[38;5;241m.\u001b[39mtime() \u001b[38;5;241m-\u001b[39m \u001b[38;5;28mself\u001b[39m\u001b[38;5;241m.\u001b[39m_start_time\n",
      "File \u001b[1;32m~\\anaconda3\\lib\\site-packages\\joblib\\parallel.py:938\u001b[0m, in \u001b[0;36mParallel.retrieve\u001b[1;34m(self)\u001b[0m\n\u001b[0;32m    936\u001b[0m \u001b[38;5;28;01mtry\u001b[39;00m:\n\u001b[0;32m    937\u001b[0m     \u001b[38;5;28;01mif\u001b[39;00m \u001b[38;5;28mgetattr\u001b[39m(\u001b[38;5;28mself\u001b[39m\u001b[38;5;241m.\u001b[39m_backend, \u001b[38;5;124m'\u001b[39m\u001b[38;5;124msupports_timeout\u001b[39m\u001b[38;5;124m'\u001b[39m, \u001b[38;5;28;01mFalse\u001b[39;00m):\n\u001b[1;32m--> 938\u001b[0m         \u001b[38;5;28mself\u001b[39m\u001b[38;5;241m.\u001b[39m_output\u001b[38;5;241m.\u001b[39mextend(\u001b[43mjob\u001b[49m\u001b[38;5;241;43m.\u001b[39;49m\u001b[43mget\u001b[49m\u001b[43m(\u001b[49m\u001b[43mtimeout\u001b[49m\u001b[38;5;241;43m=\u001b[39;49m\u001b[38;5;28;43mself\u001b[39;49m\u001b[38;5;241;43m.\u001b[39;49m\u001b[43mtimeout\u001b[49m\u001b[43m)\u001b[49m)\n\u001b[0;32m    939\u001b[0m     \u001b[38;5;28;01melse\u001b[39;00m:\n\u001b[0;32m    940\u001b[0m         \u001b[38;5;28mself\u001b[39m\u001b[38;5;241m.\u001b[39m_output\u001b[38;5;241m.\u001b[39mextend(job\u001b[38;5;241m.\u001b[39mget())\n",
      "File \u001b[1;32m~\\anaconda3\\lib\\site-packages\\joblib\\_parallel_backends.py:542\u001b[0m, in \u001b[0;36mLokyBackend.wrap_future_result\u001b[1;34m(future, timeout)\u001b[0m\n\u001b[0;32m    539\u001b[0m \u001b[38;5;250m\u001b[39m\u001b[38;5;124;03m\"\"\"Wrapper for Future.result to implement the same behaviour as\u001b[39;00m\n\u001b[0;32m    540\u001b[0m \u001b[38;5;124;03mAsyncResults.get from multiprocessing.\"\"\"\u001b[39;00m\n\u001b[0;32m    541\u001b[0m \u001b[38;5;28;01mtry\u001b[39;00m:\n\u001b[1;32m--> 542\u001b[0m     \u001b[38;5;28;01mreturn\u001b[39;00m \u001b[43mfuture\u001b[49m\u001b[38;5;241;43m.\u001b[39;49m\u001b[43mresult\u001b[49m\u001b[43m(\u001b[49m\u001b[43mtimeout\u001b[49m\u001b[38;5;241;43m=\u001b[39;49m\u001b[43mtimeout\u001b[49m\u001b[43m)\u001b[49m\n\u001b[0;32m    543\u001b[0m \u001b[38;5;28;01mexcept\u001b[39;00m CfTimeoutError \u001b[38;5;28;01mas\u001b[39;00m e:\n\u001b[0;32m    544\u001b[0m     \u001b[38;5;28;01mraise\u001b[39;00m \u001b[38;5;167;01mTimeoutError\u001b[39;00m \u001b[38;5;28;01mfrom\u001b[39;00m \u001b[38;5;21;01me\u001b[39;00m\n",
      "File \u001b[1;32m~\\anaconda3\\lib\\concurrent\\futures\\_base.py:451\u001b[0m, in \u001b[0;36mFuture.result\u001b[1;34m(self, timeout)\u001b[0m\n\u001b[0;32m    449\u001b[0m     \u001b[38;5;28;01mraise\u001b[39;00m CancelledError()\n\u001b[0;32m    450\u001b[0m \u001b[38;5;28;01melif\u001b[39;00m \u001b[38;5;28mself\u001b[39m\u001b[38;5;241m.\u001b[39m_state \u001b[38;5;241m==\u001b[39m FINISHED:\n\u001b[1;32m--> 451\u001b[0m     \u001b[38;5;28;01mreturn\u001b[39;00m \u001b[38;5;28;43mself\u001b[39;49m\u001b[38;5;241;43m.\u001b[39;49m\u001b[43m__get_result\u001b[49m\u001b[43m(\u001b[49m\u001b[43m)\u001b[49m\n\u001b[0;32m    453\u001b[0m \u001b[38;5;28mself\u001b[39m\u001b[38;5;241m.\u001b[39m_condition\u001b[38;5;241m.\u001b[39mwait(timeout)\n\u001b[0;32m    455\u001b[0m \u001b[38;5;28;01mif\u001b[39;00m \u001b[38;5;28mself\u001b[39m\u001b[38;5;241m.\u001b[39m_state \u001b[38;5;129;01min\u001b[39;00m [CANCELLED, CANCELLED_AND_NOTIFIED]:\n",
      "File \u001b[1;32m~\\anaconda3\\lib\\concurrent\\futures\\_base.py:403\u001b[0m, in \u001b[0;36mFuture.__get_result\u001b[1;34m(self)\u001b[0m\n\u001b[0;32m    401\u001b[0m \u001b[38;5;28;01mif\u001b[39;00m \u001b[38;5;28mself\u001b[39m\u001b[38;5;241m.\u001b[39m_exception:\n\u001b[0;32m    402\u001b[0m     \u001b[38;5;28;01mtry\u001b[39;00m:\n\u001b[1;32m--> 403\u001b[0m         \u001b[38;5;28;01mraise\u001b[39;00m \u001b[38;5;28mself\u001b[39m\u001b[38;5;241m.\u001b[39m_exception\n\u001b[0;32m    404\u001b[0m     \u001b[38;5;28;01mfinally\u001b[39;00m:\n\u001b[0;32m    405\u001b[0m         \u001b[38;5;66;03m# Break a reference cycle with the exception in self._exception\u001b[39;00m\n\u001b[0;32m    406\u001b[0m         \u001b[38;5;28mself\u001b[39m \u001b[38;5;241m=\u001b[39m \u001b[38;5;28;01mNone\u001b[39;00m\n",
      "\u001b[1;31mNoSuchElementException\u001b[0m: Message: Unable to locate element: div.display-options:nth-child(3) > button:nth-child(1); For documentation on this error, please visit: https://www.selenium.dev/documentation/webdriver/troubleshooting/errors#no-such-element-exception\nStacktrace:\nRemoteError@chrome://remote/content/shared/RemoteError.sys.mjs:8:8\nWebDriverError@chrome://remote/content/shared/webdriver/Errors.sys.mjs:189:5\nNoSuchElementError@chrome://remote/content/shared/webdriver/Errors.sys.mjs:507:5\ndom.find/</<@chrome://remote/content/shared/DOM.sys.mjs:132:16\n"
     ]
    }
   ],
   "source": [
    "pages = paralelo(delayed(extract_article)(url) for url in tqdm(url_list[:-1]))"
   ]
  },
  {
   "cell_type": "code",
   "execution_count": 23,
   "id": "bc9e43f7",
   "metadata": {},
   "outputs": [
    {
     "ename": "NameError",
     "evalue": "name 'pages' is not defined",
     "output_type": "error",
     "traceback": [
      "\u001b[1;31m---------------------------------------------------------------------------\u001b[0m",
      "\u001b[1;31mNameError\u001b[0m                                 Traceback (most recent call last)",
      "Cell \u001b[1;32mIn[23], line 1\u001b[0m\n\u001b[1;32m----> 1\u001b[0m \u001b[38;5;28mlen\u001b[39m(\u001b[43mpages\u001b[49m)\n",
      "\u001b[1;31mNameError\u001b[0m: name 'pages' is not defined"
     ]
    }
   ],
   "source": [
    "len(pages)"
   ]
  },
  {
   "cell_type": "code",
   "execution_count": 29,
   "id": "6561b35d",
   "metadata": {},
   "outputs": [],
   "source": [
    "articles_raw = pd.DataFrame(pages)"
   ]
  },
  {
   "cell_type": "code",
   "execution_count": 30,
   "id": "53ae5a8d",
   "metadata": {},
   "outputs": [
    {
     "data": {
      "text/html": [
       "<div>\n",
       "<style scoped>\n",
       "    .dataframe tbody tr th:only-of-type {\n",
       "        vertical-align: middle;\n",
       "    }\n",
       "\n",
       "    .dataframe tbody tr th {\n",
       "        vertical-align: top;\n",
       "    }\n",
       "\n",
       "    .dataframe thead th {\n",
       "        text-align: right;\n",
       "    }\n",
       "</style>\n",
       "<table border=\"1\" class=\"dataframe\">\n",
       "  <thead>\n",
       "    <tr style=\"text-align: right;\">\n",
       "      <th></th>\n",
       "      <th>article</th>\n",
       "    </tr>\n",
       "  </thead>\n",
       "  <tbody>\n",
       "    <tr>\n",
       "      <th>0</th>\n",
       "      <td>[PMID- 29723499\\nOWN - NLM\\nSTAT- MEDLINE\\nDCO...</td>\n",
       "    </tr>\n",
       "    <tr>\n",
       "      <th>1</th>\n",
       "      <td>[PMID- 31134902\\nOWN - NLM\\nSTAT- MEDLINE\\nDCO...</td>\n",
       "    </tr>\n",
       "    <tr>\n",
       "      <th>2</th>\n",
       "      <td>[PMID- 27878473\\nOWN - NLM\\nSTAT- MEDLINE\\nDCO...</td>\n",
       "    </tr>\n",
       "    <tr>\n",
       "      <th>3</th>\n",
       "      <td>[PMID- 23572569\\nOWN - NLM\\nSTAT- MEDLINE\\nDCO...</td>\n",
       "    </tr>\n",
       "    <tr>\n",
       "      <th>4</th>\n",
       "      <td>[PMID- 31011228\\nOWN - NLM\\nSTAT- MEDLINE\\nDCO...</td>\n",
       "    </tr>\n",
       "  </tbody>\n",
       "</table>\n",
       "</div>"
      ],
      "text/plain": [
       "                                             article\n",
       "0  [PMID- 29723499\\nOWN - NLM\\nSTAT- MEDLINE\\nDCO...\n",
       "1  [PMID- 31134902\\nOWN - NLM\\nSTAT- MEDLINE\\nDCO...\n",
       "2  [PMID- 27878473\\nOWN - NLM\\nSTAT- MEDLINE\\nDCO...\n",
       "3  [PMID- 23572569\\nOWN - NLM\\nSTAT- MEDLINE\\nDCO...\n",
       "4  [PMID- 31011228\\nOWN - NLM\\nSTAT- MEDLINE\\nDCO..."
      ]
     },
     "execution_count": 30,
     "metadata": {},
     "output_type": "execute_result"
    }
   ],
   "source": [
    "articles_raw.head()"
   ]
  },
  {
   "cell_type": "code",
   "execution_count": 31,
   "id": "f85085b1",
   "metadata": {},
   "outputs": [],
   "source": [
    "articles_raw.to_csv('../data/articles_raw_df.csv', \n",
    "                   index = False)"
   ]
  }
 ],
 "metadata": {
  "kernelspec": {
   "display_name": "Python 3 (ipykernel)",
   "language": "python",
   "name": "python3"
  },
  "language_info": {
   "codemirror_mode": {
    "name": "ipython",
    "version": 3
   },
   "file_extension": ".py",
   "mimetype": "text/x-python",
   "name": "python",
   "nbconvert_exporter": "python",
   "pygments_lexer": "ipython3",
   "version": "3.11.4"
  },
  "toc": {
   "base_numbering": 1,
   "nav_menu": {},
   "number_sections": true,
   "sideBar": true,
   "skip_h1_title": false,
   "title_cell": "Table of Contents",
   "title_sidebar": "Contents",
   "toc_cell": false,
   "toc_position": {},
   "toc_section_display": true,
   "toc_window_display": false
  }
 },
 "nbformat": 4,
 "nbformat_minor": 5
}
