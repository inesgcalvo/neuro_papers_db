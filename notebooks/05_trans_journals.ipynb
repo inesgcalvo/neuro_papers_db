{
 "cells": [
  {
   "cell_type": "markdown",
   "id": "e667e0a9",
   "metadata": {},
   "source": [
    "# <a id='toc1_'></a>[journals](#toc0_)\n",
    "In this notebook, a 'journals' table was created for the database, including various information about the journals and some statistical data obtained from SJR."
   ]
  },
  {
   "cell_type": "markdown",
   "id": "02ed5638",
   "metadata": {},
   "source": [
    "INDEX"
   ]
  },
  {
   "cell_type": "code",
   "execution_count": 2,
   "id": "a539021e",
   "metadata": {},
   "outputs": [],
   "source": [
    "# Libraries\n",
    "import pandas as pd\n",
    "\n",
    "# Countries\n",
    "import pycountry\n",
    "\n",
    "# Functions\n",
    "import sys\n",
    "sys.path.append('../src')\n",
    "from support_transform import *\n",
    "from support_clean import *"
   ]
  },
  {
   "cell_type": "markdown",
   "id": "e02ec976",
   "metadata": {},
   "source": [
    "### <a id='toc1_1_1_'></a>[Open the documents](#toc0_)"
   ]
  },
  {
   "cell_type": "code",
   "execution_count": 2,
   "id": "f62b1589",
   "metadata": {},
   "outputs": [],
   "source": [
    "for year in range(2010, 2023):\n",
    "    df_name = f'ii_{year}'\n",
    "    file_name = f'../data/scimago/scimagojr_{year}.csv'\n",
    "    globals()[df_name] = pd.read_csv(file_name, sep = ';')\n",
    "    \n",
    "df_journal_info = pd.read_csv('../data/journals/journal_info.csv')"
   ]
  },
  {
   "cell_type": "markdown",
   "id": "6c70b4dc",
   "metadata": {},
   "source": [
    "### <a id='toc1_1_2_'></a>[Create a table of journals with the journals of this list](#toc0_)"
   ]
  },
  {
   "cell_type": "code",
   "execution_count": 3,
   "id": "5ce06cfa",
   "metadata": {},
   "outputs": [
    {
     "data": {
      "text/plain": [
       "112"
      ]
     },
     "metadata": {},
     "output_type": "display_data"
    },
    {
     "data": {
      "text/html": [
       "<div>\n",
       "<style scoped>\n",
       "    .dataframe tbody tr th:only-of-type {\n",
       "        vertical-align: middle;\n",
       "    }\n",
       "\n",
       "    .dataframe tbody tr th {\n",
       "        vertical-align: top;\n",
       "    }\n",
       "\n",
       "    .dataframe thead th {\n",
       "        text-align: right;\n",
       "    }\n",
       "</style>\n",
       "<table border=\"1\" class=\"dataframe\">\n",
       "  <thead>\n",
       "    <tr style=\"text-align: right;\">\n",
       "      <th></th>\n",
       "      <th>journal_name</th>\n",
       "      <th>num_articles</th>\n",
       "      <th>num_pages</th>\n",
       "    </tr>\n",
       "  </thead>\n",
       "  <tbody>\n",
       "    <tr>\n",
       "      <th>0</th>\n",
       "      <td>Frontiers of Neurology and Neuroscience</td>\n",
       "      <td>325</td>\n",
       "      <td>33</td>\n",
       "    </tr>\n",
       "    <tr>\n",
       "      <th>1</th>\n",
       "      <td>PLoS Biology</td>\n",
       "      <td>4651</td>\n",
       "      <td>466</td>\n",
       "    </tr>\n",
       "  </tbody>\n",
       "</table>\n",
       "</div>"
      ],
      "text/plain": [
       "                              journal_name  num_articles  num_pages\n",
       "0  Frontiers of Neurology and Neuroscience           325         33\n",
       "1                             PLoS Biology          4651        466"
      ]
     },
     "execution_count": 3,
     "metadata": {},
     "output_type": "execute_result"
    }
   ],
   "source": [
    "journal_info = df_journal_info.copy()\n",
    "display(len(journal_info))\n",
    "journal_info.head(2)"
   ]
  },
  {
   "cell_type": "markdown",
   "id": "d9fb1f55",
   "metadata": {},
   "source": [
    "### <a id='toc1_1_3_'></a>[Enrich the table with information from the scimago tables](#toc0_)"
   ]
  },
  {
   "cell_type": "code",
   "execution_count": 4,
   "id": "6cda505a",
   "metadata": {},
   "outputs": [
    {
     "data": {
      "text/html": [
       "<div>\n",
       "<style scoped>\n",
       "    .dataframe tbody tr th:only-of-type {\n",
       "        vertical-align: middle;\n",
       "    }\n",
       "\n",
       "    .dataframe tbody tr th {\n",
       "        vertical-align: top;\n",
       "    }\n",
       "\n",
       "    .dataframe thead th {\n",
       "        text-align: right;\n",
       "    }\n",
       "</style>\n",
       "<table border=\"1\" class=\"dataframe\">\n",
       "  <thead>\n",
       "    <tr style=\"text-align: right;\">\n",
       "      <th></th>\n",
       "      <th>Rank</th>\n",
       "      <th>Sourceid</th>\n",
       "      <th>Title</th>\n",
       "      <th>Type</th>\n",
       "      <th>Issn</th>\n",
       "      <th>SJR</th>\n",
       "      <th>SJR Quartile</th>\n",
       "      <th>H index</th>\n",
       "      <th>Total Docs. (2010)</th>\n",
       "      <th>Total Docs. (3years)</th>\n",
       "      <th>...</th>\n",
       "      <th>Total Cites (3years)</th>\n",
       "      <th>Citable Docs. (3years)</th>\n",
       "      <th>Cites / Doc. (2years)</th>\n",
       "      <th>Ref. / Doc.</th>\n",
       "      <th>Country</th>\n",
       "      <th>Region</th>\n",
       "      <th>Publisher</th>\n",
       "      <th>Coverage</th>\n",
       "      <th>Categories</th>\n",
       "      <th>Areas</th>\n",
       "    </tr>\n",
       "  </thead>\n",
       "  <tbody>\n",
       "    <tr>\n",
       "      <th>0</th>\n",
       "      <td>1</td>\n",
       "      <td>14181</td>\n",
       "      <td>Annual Review of Neuroscience</td>\n",
       "      <td>journal</td>\n",
       "      <td>0147006X, 15454126</td>\n",
       "      <td>25,551</td>\n",
       "      <td>Q1</td>\n",
       "      <td>256</td>\n",
       "      <td>20</td>\n",
       "      <td>63</td>\n",
       "      <td>...</td>\n",
       "      <td>2130</td>\n",
       "      <td>63</td>\n",
       "      <td>29,51</td>\n",
       "      <td>154,05</td>\n",
       "      <td>United States</td>\n",
       "      <td>Northern America</td>\n",
       "      <td>Annual Reviews Inc.</td>\n",
       "      <td>1978-2022</td>\n",
       "      <td>Neuroscience (miscellaneous) (Q1)</td>\n",
       "      <td>Neuroscience</td>\n",
       "    </tr>\n",
       "    <tr>\n",
       "      <th>1</th>\n",
       "      <td>2</td>\n",
       "      <td>17436</td>\n",
       "      <td>Nature Neuroscience</td>\n",
       "      <td>journal</td>\n",
       "      <td>10976256, 15461726</td>\n",
       "      <td>11,165</td>\n",
       "      <td>Q1</td>\n",
       "      <td>460</td>\n",
       "      <td>282</td>\n",
       "      <td>811</td>\n",
       "      <td>...</td>\n",
       "      <td>10070</td>\n",
       "      <td>755</td>\n",
       "      <td>11,51</td>\n",
       "      <td>33,98</td>\n",
       "      <td>United Kingdom</td>\n",
       "      <td>Western Europe</td>\n",
       "      <td>Nature Publishing Group</td>\n",
       "      <td>1998-2022</td>\n",
       "      <td>Neuroscience (miscellaneous) (Q1)</td>\n",
       "      <td>Neuroscience</td>\n",
       "    </tr>\n",
       "  </tbody>\n",
       "</table>\n",
       "<p>2 rows × 21 columns</p>\n",
       "</div>"
      ],
      "text/plain": [
       "   Rank  Sourceid                          Title     Type                Issn  \\\n",
       "0     1     14181  Annual Review of Neuroscience  journal  0147006X, 15454126   \n",
       "1     2     17436            Nature Neuroscience  journal  10976256, 15461726   \n",
       "\n",
       "      SJR SJR Quartile  H index  Total Docs. (2010)  Total Docs. (3years)  \\\n",
       "0  25,551           Q1      256                  20                    63   \n",
       "1  11,165           Q1      460                 282                   811   \n",
       "\n",
       "   ...  Total Cites (3years)  Citable Docs. (3years)  Cites / Doc. (2years)  \\\n",
       "0  ...                  2130                      63                  29,51   \n",
       "1  ...                 10070                     755                  11,51   \n",
       "\n",
       "  Ref. / Doc.         Country            Region                Publisher  \\\n",
       "0      154,05   United States  Northern America      Annual Reviews Inc.   \n",
       "1       33,98  United Kingdom    Western Europe  Nature Publishing Group   \n",
       "\n",
       "    Coverage                         Categories         Areas  \n",
       "0  1978-2022  Neuroscience (miscellaneous) (Q1)  Neuroscience  \n",
       "1  1998-2022  Neuroscience (miscellaneous) (Q1)  Neuroscience  \n",
       "\n",
       "[2 rows x 21 columns]"
      ]
     },
     "execution_count": 4,
     "metadata": {},
     "output_type": "execute_result"
    }
   ],
   "source": [
    "# Example of scimago table:\n",
    "ii_2010.head(2)"
   ]
  },
  {
   "cell_type": "markdown",
   "id": "25327f8d",
   "metadata": {},
   "source": [
    "#### <a id='toc1_1_3_1_'></a>[Enrich with the info of the Journals](#toc0_)"
   ]
  },
  {
   "cell_type": "code",
   "execution_count": 25,
   "id": "b87dbdeb",
   "metadata": {},
   "outputs": [],
   "source": [
    "cols = ['Title', 'Country', 'Region', 'Publisher', 'Coverage', 'Categories', 'Areas']\n",
    "\n",
    "journal_list = pd.concat([ii_2010[cols],\n",
    "                          ii_2011[cols],\n",
    "                          ii_2012[cols],\n",
    "                          ii_2013[cols],\n",
    "                          ii_2014[cols],\n",
    "                          ii_2015[cols],\n",
    "                          ii_2016[cols],\n",
    "                          ii_2017[cols],\n",
    "                          ii_2018[cols],\n",
    "                          ii_2019[cols],\n",
    "                          ii_2020[cols],\n",
    "                          ii_2021[cols],\n",
    "                          ii_2022[cols]])"
   ]
  },
  {
   "cell_type": "code",
   "execution_count": 6,
   "id": "9584bfad",
   "metadata": {},
   "outputs": [
    {
     "data": {
      "text/plain": [
       "585"
      ]
     },
     "execution_count": 6,
     "metadata": {},
     "output_type": "execute_result"
    }
   ],
   "source": [
    "journal_list = journal_list.drop_duplicates()\n",
    "len(journal_list)"
   ]
  },
  {
   "cell_type": "code",
   "execution_count": 7,
   "id": "f118129f",
   "metadata": {},
   "outputs": [
    {
     "data": {
      "text/plain": [
       "112"
      ]
     },
     "execution_count": 7,
     "metadata": {},
     "output_type": "execute_result"
    }
   ],
   "source": [
    "columns_once = ['Country', 'Region', 'Publisher', 'Coverage', 'Categories', 'Areas']\n",
    "\n",
    "journals = pd.merge(journal_info, journal_list[['Title'] + columns_once], left_on='journal_name', right_on='Title', how='left')\n",
    "journals = journals.drop('Title', axis=1)\n",
    "\n",
    "journals = journals.drop_duplicates(subset=['journal_name'])\n",
    "len(journals['journal_name'].unique())"
   ]
  },
  {
   "cell_type": "markdown",
   "id": "adb3963d",
   "metadata": {},
   "source": [
    "#### <a id='toc1_1_3_2_'></a>[Enrich with the stats of the journals [2010 - 2022]](#toc0_)"
   ]
  },
  {
   "cell_type": "code",
   "execution_count": 9,
   "id": "47ada50f",
   "metadata": {},
   "outputs": [],
   "source": [
    "years = range(2010, 2023)\n",
    "\n",
    "for year in years:\n",
    "    df_name = f'ii_{year}'\n",
    "    \n",
    "    columns_by_year = ['SJR', 'SJR Quartile', 'H index', f'Total Docs. ({year})']\n",
    "    columns_new_names = [f'sjr_{year}', f'quartile_{year}', f'hindex_{year}', f'docs_{year}']\n",
    "    \n",
    "    if df_name in locals():\n",
    "        columns_to_add = [col for col in columns_new_names]\n",
    "        journals = pd.merge(journals, locals()[df_name][['Title'] + columns_by_year], left_on='journal_name', right_on='Title', how='left')\n",
    "        journals = journals.drop('Title', axis=1)\n",
    "        journals = journals.rename(columns=dict(zip(columns_by_year, columns_to_add)))"
   ]
  },
  {
   "cell_type": "code",
   "execution_count": 21,
   "id": "1d98228b",
   "metadata": {},
   "outputs": [
    {
     "data": {
      "text/html": [
       "<div>\n",
       "<style scoped>\n",
       "    .dataframe tbody tr th:only-of-type {\n",
       "        vertical-align: middle;\n",
       "    }\n",
       "\n",
       "    .dataframe tbody tr th {\n",
       "        vertical-align: top;\n",
       "    }\n",
       "\n",
       "    .dataframe thead th {\n",
       "        text-align: right;\n",
       "    }\n",
       "</style>\n",
       "<table border=\"1\" class=\"dataframe\">\n",
       "  <thead>\n",
       "    <tr style=\"text-align: right;\">\n",
       "      <th></th>\n",
       "      <th>journal_name</th>\n",
       "      <th>num_articles</th>\n",
       "      <th>num_pages</th>\n",
       "      <th>Country</th>\n",
       "      <th>Region</th>\n",
       "      <th>Publisher</th>\n",
       "      <th>Coverage</th>\n",
       "      <th>Categories</th>\n",
       "      <th>Areas</th>\n",
       "      <th>sjr_2010</th>\n",
       "      <th>...</th>\n",
       "      <th>hindex_2020</th>\n",
       "      <th>docs_2020</th>\n",
       "      <th>sjr_2021</th>\n",
       "      <th>quartile_2021</th>\n",
       "      <th>hindex_2021</th>\n",
       "      <th>docs_2021</th>\n",
       "      <th>sjr_2022</th>\n",
       "      <th>quartile_2022</th>\n",
       "      <th>hindex_2022</th>\n",
       "      <th>docs_2022</th>\n",
       "    </tr>\n",
       "  </thead>\n",
       "  <tbody>\n",
       "    <tr>\n",
       "      <th>0</th>\n",
       "      <td>Frontiers of Neurology and Neuroscience</td>\n",
       "      <td>325</td>\n",
       "      <td>33</td>\n",
       "      <td>Switzerland</td>\n",
       "      <td>Western Europe</td>\n",
       "      <td>S. Karger AG</td>\n",
       "      <td>2005-2019, 2021</td>\n",
       "      <td>Medicine (miscellaneous) (Q2); Neurology (clin...</td>\n",
       "      <td>Medicine; Neuroscience</td>\n",
       "      <td>0,456</td>\n",
       "      <td>...</td>\n",
       "      <td>32.0</td>\n",
       "      <td>0.0</td>\n",
       "      <td>0,199</td>\n",
       "      <td>Q4</td>\n",
       "      <td>32.0</td>\n",
       "      <td>14.0</td>\n",
       "      <td>0,506</td>\n",
       "      <td>Q3</td>\n",
       "      <td>32.0</td>\n",
       "      <td>0.0</td>\n",
       "    </tr>\n",
       "    <tr>\n",
       "      <th>1</th>\n",
       "      <td>PLoS Biology</td>\n",
       "      <td>4651</td>\n",
       "      <td>466</td>\n",
       "      <td>United States</td>\n",
       "      <td>Northern America</td>\n",
       "      <td>Public Library of Science</td>\n",
       "      <td>2003-2022</td>\n",
       "      <td>Agricultural and Biological Sciences (miscella...</td>\n",
       "      <td>Agricultural and Biological Sciences; Biochemi...</td>\n",
       "      <td>7,847</td>\n",
       "      <td>...</td>\n",
       "      <td>293.0</td>\n",
       "      <td>348.0</td>\n",
       "      <td>3,928</td>\n",
       "      <td>Q1</td>\n",
       "      <td>293.0</td>\n",
       "      <td>337.0</td>\n",
       "      <td>4,005</td>\n",
       "      <td>Q1</td>\n",
       "      <td>293.0</td>\n",
       "      <td>403.0</td>\n",
       "    </tr>\n",
       "  </tbody>\n",
       "</table>\n",
       "<p>2 rows × 61 columns</p>\n",
       "</div>"
      ],
      "text/plain": [
       "                              journal_name  num_articles  num_pages  \\\n",
       "0  Frontiers of Neurology and Neuroscience           325         33   \n",
       "1                             PLoS Biology          4651        466   \n",
       "\n",
       "         Country            Region                  Publisher  \\\n",
       "0    Switzerland    Western Europe               S. Karger AG   \n",
       "1  United States  Northern America  Public Library of Science   \n",
       "\n",
       "          Coverage                                         Categories  \\\n",
       "0  2005-2019, 2021  Medicine (miscellaneous) (Q2); Neurology (clin...   \n",
       "1        2003-2022  Agricultural and Biological Sciences (miscella...   \n",
       "\n",
       "                                               Areas sjr_2010  ...  \\\n",
       "0                             Medicine; Neuroscience    0,456  ...   \n",
       "1  Agricultural and Biological Sciences; Biochemi...    7,847  ...   \n",
       "\n",
       "  hindex_2020  docs_2020  sjr_2021 quartile_2021 hindex_2021  docs_2021  \\\n",
       "0        32.0        0.0     0,199            Q4        32.0       14.0   \n",
       "1       293.0      348.0     3,928            Q1       293.0      337.0   \n",
       "\n",
       "   sjr_2022 quartile_2022 hindex_2022  docs_2022  \n",
       "0     0,506            Q3        32.0        0.0  \n",
       "1     4,005            Q1       293.0      403.0  \n",
       "\n",
       "[2 rows x 61 columns]"
      ]
     },
     "execution_count": 21,
     "metadata": {},
     "output_type": "execute_result"
    }
   ],
   "source": [
    "journals.head(2)"
   ]
  },
  {
   "cell_type": "markdown",
   "id": "dbc58247",
   "metadata": {},
   "source": [
    "### <a id='toc1_1_4_'></a>[Manage NaN Values](#toc0_)"
   ]
  },
  {
   "cell_type": "code",
   "execution_count": 29,
   "id": "e43f18a7",
   "metadata": {},
   "outputs": [
    {
     "data": {
      "image/png": "[encoded data removed]",
      "text/plain": [
       "<Figure size 1000x600 with 1 Axes>"
      ]
     },
     "metadata": {
      "needs_background": "light"
     },
     "output_type": "display_data"
    }
   ],
   "source": [
    "view_nan(journals)"
   ]
  },
  {
   "cell_type": "markdown",
   "id": "0d459b5f",
   "metadata": {},
   "source": [
    "#### <a id='toc1_1_4_1_'></a>[Quartiles](#toc0_)"
   ]
  },
  {
   "cell_type": "code",
   "execution_count": 33,
   "id": "65d6e05a",
   "metadata": {},
   "outputs": [
    {
     "data": {
      "text/plain": [
       "28"
      ]
     },
     "execution_count": 33,
     "metadata": {},
     "output_type": "execute_result"
    }
   ],
   "source": [
    "journals['quartile_2010'].isna().sum()"
   ]
  },
  {
   "cell_type": "code",
   "execution_count": 34,
   "id": "17c1b34d",
   "metadata": {},
   "outputs": [],
   "source": [
    "quartile_cols = [f'quartile_{year}' for year in range(2010, 2023)]\n",
    "journals[quartile_cols] = journals[quartile_cols].fillna('-')"
   ]
  },
  {
   "cell_type": "code",
   "execution_count": 35,
   "id": "e0cf0a15",
   "metadata": {},
   "outputs": [
    {
     "data": {
      "text/plain": [
       "0"
      ]
     },
     "execution_count": 35,
     "metadata": {},
     "output_type": "execute_result"
    }
   ],
   "source": [
    "journals['quartile_2010'].isna().sum()"
   ]
  },
  {
   "cell_type": "markdown",
   "id": "fc67119f",
   "metadata": {},
   "source": [
    "#### <a id='toc1_1_4_2_'></a>[rank, docs and other numeric columns](#toc0_)"
   ]
  },
  {
   "cell_type": "code",
   "execution_count": 42,
   "id": "3f6a0ca3",
   "metadata": {},
   "outputs": [
    {
     "data": {
      "text/plain": [
       "sjr_2010       37\n",
       "hindex_2010    28\n",
       "docs_2010      28\n",
       "dtype: int64"
      ]
     },
     "execution_count": 42,
     "metadata": {},
     "output_type": "execute_result"
    }
   ],
   "source": [
    "journals[['sjr_2010', 'hindex_2010', 'docs_2010']].isna().sum()"
   ]
  },
  {
   "cell_type": "code",
   "execution_count": 45,
   "id": "f1868e5c",
   "metadata": {},
   "outputs": [],
   "source": [
    "sjr_cols = [f'sjr_{year}' for year in range(2010, 2023)]\n",
    "hindex_cols = [f'hindex_{year}' for year in range(2010, 2023)]\n",
    "docs_cols = [f'docs_{year}' for year in range(2010, 2023)]\n",
    "\n",
    "numeric_cols = sjr_cols + hindex_cols + docs_cols\n",
    "\n",
    "journals[numeric_cols] = journals[numeric_cols].fillna(0)"
   ]
  },
  {
   "cell_type": "code",
   "execution_count": 46,
   "id": "e37665b8",
   "metadata": {},
   "outputs": [
    {
     "data": {
      "text/plain": [
       "sjr_2010       0\n",
       "hindex_2010    0\n",
       "docs_2010      0\n",
       "dtype: int64"
      ]
     },
     "execution_count": 46,
     "metadata": {},
     "output_type": "execute_result"
    }
   ],
   "source": [
    "journals[['sjr_2010', 'hindex_2010', 'docs_2010']].isna().sum()"
   ]
  },
  {
   "cell_type": "markdown",
   "id": "b0aaa49e",
   "metadata": {},
   "source": [
    "#### <a id='toc1_1_4_3_'></a>[Other NaNs](#toc0_)"
   ]
  },
  {
   "cell_type": "code",
   "execution_count": 58,
   "id": "3dce68ee",
   "metadata": {},
   "outputs": [
    {
     "data": {
      "text/plain": [
       "Publisher    2\n",
       "Coverage     1\n",
       "dtype: int64"
      ]
     },
     "execution_count": 58,
     "metadata": {},
     "output_type": "execute_result"
    }
   ],
   "source": [
    "journals[['Publisher', 'Coverage']].isna().sum()"
   ]
  },
  {
   "cell_type": "code",
   "execution_count": 59,
   "id": "7576d258",
   "metadata": {},
   "outputs": [],
   "source": [
    "cols = ['Publisher', 'Coverage']\n",
    "journals[cols] = journals[cols].fillna('-')"
   ]
  },
  {
   "cell_type": "code",
   "execution_count": 60,
   "id": "e21ac4bb",
   "metadata": {},
   "outputs": [
    {
     "data": {
      "text/plain": [
       "Publisher    0\n",
       "Coverage     0\n",
       "dtype: int64"
      ]
     },
     "execution_count": 60,
     "metadata": {},
     "output_type": "execute_result"
    }
   ],
   "source": [
    "journals[['Publisher', 'Coverage']].isna().sum()"
   ]
  },
  {
   "cell_type": "markdown",
   "id": "1d4ab8e9",
   "metadata": {},
   "source": [
    "#### <a id='toc1_1_4_4_'></a>[Check NaN absence](#toc0_)"
   ]
  },
  {
   "cell_type": "code",
   "execution_count": 61,
   "id": "cc25610e",
   "metadata": {},
   "outputs": [
    {
     "data": {
      "image/png": "[encoded data removed]",
      "text/plain": [
       "<Figure size 1000x600 with 1 Axes>"
      ]
     },
     "metadata": {
      "needs_background": "light"
     },
     "output_type": "display_data"
    }
   ],
   "source": [
    "view_nan(journals)"
   ]
  },
  {
   "cell_type": "markdown",
   "id": "f8bbd9e2",
   "metadata": {},
   "source": [
    "### Include Foreign Key: country_id"
   ]
  },
  {
   "cell_type": "code",
   "execution_count": 20,
   "id": "f62ca7a6",
   "metadata": {},
   "outputs": [
    {
     "data": {
      "text/html": [
       "<div>\n",
       "<style scoped>\n",
       "    .dataframe tbody tr th:only-of-type {\n",
       "        vertical-align: middle;\n",
       "    }\n",
       "\n",
       "    .dataframe tbody tr th {\n",
       "        vertical-align: top;\n",
       "    }\n",
       "\n",
       "    .dataframe thead th {\n",
       "        text-align: right;\n",
       "    }\n",
       "</style>\n",
       "<table border=\"1\" class=\"dataframe\">\n",
       "  <thead>\n",
       "    <tr style=\"text-align: right;\">\n",
       "      <th></th>\n",
       "      <th>country_id</th>\n",
       "      <th>country_name</th>\n",
       "      <th>official_state_name</th>\n",
       "      <th>sovereignty</th>\n",
       "      <th>alpha_2_code</th>\n",
       "      <th>alpha_3_code</th>\n",
       "      <th>mln_2010</th>\n",
       "      <th>mln_2011</th>\n",
       "      <th>mln_2012</th>\n",
       "      <th>mln_2013</th>\n",
       "      <th>...</th>\n",
       "      <th>wom_2012</th>\n",
       "      <th>wom_2013</th>\n",
       "      <th>wom_2014</th>\n",
       "      <th>wom_2015</th>\n",
       "      <th>wom_2016</th>\n",
       "      <th>wom_2017</th>\n",
       "      <th>wom_2018</th>\n",
       "      <th>wom_2019</th>\n",
       "      <th>wom_2020</th>\n",
       "      <th>wom_2021</th>\n",
       "    </tr>\n",
       "  </thead>\n",
       "  <tbody>\n",
       "    <tr>\n",
       "      <th>0</th>\n",
       "      <td>4</td>\n",
       "      <td>Afghanistan</td>\n",
       "      <td>The Islamic Republic of Afghanistan</td>\n",
       "      <td>UN member state</td>\n",
       "      <td>AF</td>\n",
       "      <td>AFG</td>\n",
       "      <td>0.0</td>\n",
       "      <td>0.0</td>\n",
       "      <td>0.0</td>\n",
       "      <td>0.0</td>\n",
       "      <td>...</td>\n",
       "      <td>0.0</td>\n",
       "      <td>0.0</td>\n",
       "      <td>0.0</td>\n",
       "      <td>0.0</td>\n",
       "      <td>0.0</td>\n",
       "      <td>0.0</td>\n",
       "      <td>0.0</td>\n",
       "      <td>0.0</td>\n",
       "      <td>0.0</td>\n",
       "      <td>0.0</td>\n",
       "    </tr>\n",
       "    <tr>\n",
       "      <th>1</th>\n",
       "      <td>248</td>\n",
       "      <td>Åland Islands</td>\n",
       "      <td>Åland</td>\n",
       "      <td>Finland</td>\n",
       "      <td>AX</td>\n",
       "      <td>ALA</td>\n",
       "      <td>0.0</td>\n",
       "      <td>0.0</td>\n",
       "      <td>0.0</td>\n",
       "      <td>0.0</td>\n",
       "      <td>...</td>\n",
       "      <td>0.0</td>\n",
       "      <td>0.0</td>\n",
       "      <td>0.0</td>\n",
       "      <td>0.0</td>\n",
       "      <td>0.0</td>\n",
       "      <td>0.0</td>\n",
       "      <td>0.0</td>\n",
       "      <td>0.0</td>\n",
       "      <td>0.0</td>\n",
       "      <td>0.0</td>\n",
       "    </tr>\n",
       "  </tbody>\n",
       "</table>\n",
       "<p>2 rows × 56 columns</p>\n",
       "</div>"
      ],
      "text/plain": [
       "   country_id    country_name                  official_state_name  \\\n",
       "0           4     Afghanistan  The Islamic Republic of Afghanistan   \n",
       "1         248   Åland Islands                                Åland   \n",
       "\n",
       "       sovereignty alpha_2_code alpha_3_code  mln_2010  mln_2011  mln_2012  \\\n",
       "0  UN member state           AF          AFG       0.0       0.0       0.0   \n",
       "1          Finland           AX          ALA       0.0       0.0       0.0   \n",
       "\n",
       "   mln_2013  ...  wom_2012  wom_2013  wom_2014  wom_2015  wom_2016  wom_2017  \\\n",
       "0       0.0  ...       0.0       0.0       0.0       0.0       0.0       0.0   \n",
       "1       0.0  ...       0.0       0.0       0.0       0.0       0.0       0.0   \n",
       "\n",
       "   wom_2018  wom_2019  wom_2020  wom_2021  \n",
       "0       0.0       0.0       0.0       0.0  \n",
       "1       0.0       0.0       0.0       0.0  \n",
       "\n",
       "[2 rows x 56 columns]"
      ]
     },
     "execution_count": 20,
     "metadata": {},
     "output_type": "execute_result"
    }
   ],
   "source": [
    "countries = pd.read_csv('../data/countries_db.csv', index_col=False)\n",
    "countries.head(2)"
   ]
  },
  {
   "cell_type": "code",
   "execution_count": 53,
   "id": "b4960979",
   "metadata": {},
   "outputs": [
    {
     "data": {
      "text/plain": [
       "array(['Switzerland', 'United States', 'United Kingdom', 'Poland',\n",
       "       'China', 'Czech Republic', 'New Zealand', 'India', 'Ireland',\n",
       "       'Germany', 'Egypt', 'Netherlands', 'United Arab Emirates', 'Italy',\n",
       "       'Greece', 'South Korea', 'France'], dtype=object)"
      ]
     },
     "execution_count": 53,
     "metadata": {},
     "output_type": "execute_result"
    }
   ],
   "source": [
    "journal_countries = journals['Country'].unique()\n",
    "journal_countries"
   ]
  },
  {
   "cell_type": "code",
   "execution_count": 54,
   "id": "45af1c48",
   "metadata": {},
   "outputs": [],
   "source": [
    "country_codes_dict = {}\n",
    "\n",
    "for name in journal_countries:\n",
    "    country = pycountry.countries.get(name=name)\n",
    "    if country:\n",
    "        country_codes_dict[name] = int(country.numeric)\n",
    "    else:\n",
    "        country_codes_dict[name] = None"
   ]
  },
  {
   "cell_type": "code",
   "execution_count": 59,
   "id": "fd334147",
   "metadata": {},
   "outputs": [
    {
     "data": {
      "text/plain": [
       "{'Switzerland': 756,\n",
       " 'United States': 840,\n",
       " 'United Kingdom': 826,\n",
       " 'Poland': 616,\n",
       " 'China': 156,\n",
       " 'Czech Republic': None,\n",
       " 'New Zealand': 554,\n",
       " 'India': 356,\n",
       " 'Ireland': 372,\n",
       " 'Germany': 276,\n",
       " 'Egypt': 818,\n",
       " 'Netherlands': 528,\n",
       " 'United Arab Emirates': 784,\n",
       " 'Italy': 380,\n",
       " 'Greece': 300,\n",
       " 'South Korea': None,\n",
       " 'France': 250}"
      ]
     },
     "execution_count": 59,
     "metadata": {},
     "output_type": "execute_result"
    }
   ],
   "source": [
    "country_codes_dict"
   ]
  },
  {
   "cell_type": "code",
   "execution_count": 47,
   "id": "61cf38e5",
   "metadata": {},
   "outputs": [],
   "source": [
    "country_codes_dict['Czech Republic'] = 203\n",
    "country_codes_dict['South Korea'] = 410"
   ]
  },
  {
   "cell_type": "code",
   "execution_count": 48,
   "id": "0431b3be",
   "metadata": {},
   "outputs": [
    {
     "data": {
      "text/plain": [
       "{'Switzerland': 756,\n",
       " 'United States': 840,\n",
       " 'United Kingdom': 826,\n",
       " 'Poland': 616,\n",
       " 'China': 156,\n",
       " 'Czech Republic': 203,\n",
       " 'New Zealand': 554,\n",
       " 'India': 356,\n",
       " 'Ireland': 372,\n",
       " 'Germany': 276,\n",
       " 'Egypt': 818,\n",
       " 'Netherlands': 528,\n",
       " 'United Arab Emirates': 784,\n",
       " 'Italy': 380,\n",
       " 'Greece': 300,\n",
       " 'South Korea': 410,\n",
       " 'France': 250}"
      ]
     },
     "execution_count": 48,
     "metadata": {},
     "output_type": "execute_result"
    }
   ],
   "source": [
    "country_codes_dict"
   ]
  },
  {
   "cell_type": "code",
   "execution_count": 60,
   "id": "a4265e46",
   "metadata": {},
   "outputs": [],
   "source": [
    "journals['country_id'] = journals['Country'].map(country_codes_dict)"
   ]
  },
  {
   "cell_type": "markdown",
   "id": "e3c7788f",
   "metadata": {},
   "source": [
    "### Rename columns"
   ]
  },
  {
   "cell_type": "code",
   "execution_count": 61,
   "id": "0915befb",
   "metadata": {},
   "outputs": [],
   "source": [
    "old_names = ['Country', 'Region', 'Publisher', 'Coverage', 'Categories', 'Areas']\n",
    "new_names = ['country', 'region', 'publisher', 'coverage', 'categories', 'areas']\n",
    "\n",
    "for old, new in zip(old_names, new_names):\n",
    "    journals = journals.rename(columns={old: new})"
   ]
  },
  {
   "cell_type": "markdown",
   "id": "5d8296f8",
   "metadata": {},
   "source": [
    "### Order columns"
   ]
  },
  {
   "cell_type": "code",
   "execution_count": 3,
   "id": "c5293832",
   "metadata": {},
   "outputs": [],
   "source": [
    "# journals = pd.read_csv('../data/journals_db.csv')"
   ]
  },
  {
   "cell_type": "code",
   "execution_count": 7,
   "id": "5e943b9d",
   "metadata": {},
   "outputs": [],
   "source": [
    "journals = journals.rename(columns={'Unnamed: 0': 'journal_id'})"
   ]
  },
  {
   "cell_type": "code",
   "execution_count": 13,
   "id": "df04f059",
   "metadata": {},
   "outputs": [],
   "source": [
    "journals = journals[['journal_id', 'country_id', 'journal_name', 'num_articles', 'region', \n",
    "                    'publisher', 'coverage', 'categories', 'areas', \n",
    "                    'sjr_2010', 'quartile_2010', 'hindex_2010', 'docs_2010', \n",
    "                    'sjr_2011', 'quartile_2011', 'hindex_2011', 'docs_2011', \n",
    "                    'sjr_2012', 'quartile_2012', 'hindex_2012', 'docs_2012', \n",
    "                    'sjr_2013', 'quartile_2013', 'hindex_2013', 'docs_2013', \n",
    "                    'sjr_2014', 'quartile_2014', 'hindex_2014', 'docs_2014', \n",
    "                    'sjr_2015', 'quartile_2015', 'hindex_2015', 'docs_2015', \n",
    "                    'sjr_2016', 'quartile_2016', 'hindex_2016', 'docs_2016', \n",
    "                    'sjr_2017', 'quartile_2017', 'hindex_2017', 'docs_2017', \n",
    "                    'sjr_2018', 'quartile_2018', 'hindex_2018', 'docs_2018', \n",
    "                    'sjr_2019', 'quartile_2019', 'hindex_2019', 'docs_2019', \n",
    "                    'sjr_2020', 'quartile_2020', 'hindex_2020', 'docs_2020', \n",
    "                    'sjr_2021', 'quartile_2021', 'hindex_2021', 'docs_2021', \n",
    "                    'sjr_2022', 'quartile_2022', 'hindex_2022', 'docs_2022']]"
   ]
  },
  {
   "cell_type": "markdown",
   "id": "87656901",
   "metadata": {},
   "source": [
    "### Export the df as .csv"
   ]
  },
  {
   "cell_type": "code",
   "execution_count": 15,
   "id": "87da1c79",
   "metadata": {},
   "outputs": [],
   "source": [
    "journals.to_csv('../data/journals_db.csv')"
   ]
  },
  {
   "cell_type": "code",
   "execution_count": null,
   "id": "b3ec6a3b",
   "metadata": {},
   "outputs": [],
   "source": []
  }
 ],
 "metadata": {
  "kernelspec": {
   "display_name": "clase",
   "language": "python",
   "name": "clase"
  },
  "language_info": {
   "codemirror_mode": {
    "name": "ipython",
    "version": 3
   },
   "file_extension": ".py",
   "mimetype": "text/x-python",
   "name": "python",
   "nbconvert_exporter": "python",
   "pygments_lexer": "ipython3",
   "version": "3.11.5"
  },
  "toc": {
   "base_numbering": 1,
   "nav_menu": {},
   "number_sections": true,
   "sideBar": true,
   "skip_h1_title": false,
   "title_cell": "Table of Contents",
   "title_sidebar": "Contents",
   "toc_cell": false,
   "toc_position": {},
   "toc_section_display": true,
   "toc_window_display": false
  }
 },
 "nbformat": 4,
 "nbformat_minor": 5
}
