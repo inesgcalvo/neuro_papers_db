{
 "cells": [
  {
   "cell_type": "markdown",
   "id": "4d2a515e",
   "metadata": {},
   "source": [
    "# 06. Feeding MongoDB\n",
    "\n",
    "This notebook introduces a seamless integration process, enabling the transfer of the enriched DataFrame into `MongoDB`. Leveraging the robust capabilities of MongoDB, the script efficiently stores the comprehensive dataset, ensuring a scalable and organized database for further analysis and retrieval."
   ]
  },
  {
   "cell_type": "code",
   "execution_count": 2,
   "id": "01e2fd1f",
   "metadata": {},
   "outputs": [],
   "source": [
    "# Import Libraries\n",
    "\n",
    "import sys\n",
    "import time\n",
    "import pandas as pd\n",
    "from tqdm.notebook import tqdm\n",
    "from pymongo import MongoClient\n",
    "\n",
    "# from pymongo import MongoClient\n",
    "from IPython.display import clear_output"
   ]
  },
  {
   "cell_type": "markdown",
   "id": "e5c22769",
   "metadata": {},
   "source": [
    "### Import dataframes"
   ]
  },
  {
   "cell_type": "code",
   "execution_count": 3,
   "id": "672f5685",
   "metadata": {},
   "outputs": [
    {
     "data": {
      "text/html": [
       "<div>\n",
       "<style scoped>\n",
       "    .dataframe tbody tr th:only-of-type {\n",
       "        vertical-align: middle;\n",
       "    }\n",
       "\n",
       "    .dataframe tbody tr th {\n",
       "        vertical-align: top;\n",
       "    }\n",
       "\n",
       "    .dataframe thead th {\n",
       "        text-align: right;\n",
       "    }\n",
       "</style>\n",
       "<table border=\"1\" class=\"dataframe\">\n",
       "  <thead>\n",
       "    <tr style=\"text-align: right;\">\n",
       "      <th></th>\n",
       "      <th>DOI</th>\n",
       "      <th>title</th>\n",
       "      <th>authors</th>\n",
       "      <th>affiliations</th>\n",
       "      <th>journal</th>\n",
       "      <th>year</th>\n",
       "      <th>month</th>\n",
       "      <th>volume</th>\n",
       "      <th>first_page</th>\n",
       "      <th>last_page</th>\n",
       "      <th>PMID</th>\n",
       "      <th>PMCID</th>\n",
       "      <th>abstract</th>\n",
       "      <th>href</th>\n",
       "      <th>json_href</th>\n",
       "      <th>first_author</th>\n",
       "      <th>last_author</th>\n",
       "    </tr>\n",
       "  </thead>\n",
       "  <tbody>\n",
       "    <tr>\n",
       "      <th>0</th>\n",
       "      <td>10.1177/17585732221102399</td>\n",
       "      <td>Surgical management of the spastic elbow</td>\n",
       "      <td>['Weisang Luo  1 ', ' Matthew Nixon  1   2']</td>\n",
       "      <td>['Countess of Chester Hospital, Chester, UK.',...</td>\n",
       "      <td>Shoulder Elbow</td>\n",
       "      <td>2023.0</td>\n",
       "      <td>Oct</td>\n",
       "      <td>15(5)</td>\n",
       "      <td>534</td>\n",
       "      <td>543</td>\n",
       "      <td>37811394.0</td>\n",
       "      <td>PMC10557929</td>\n",
       "      <td>['Background: We performed a retrospective rev...</td>\n",
       "      <td>https://doi.org/10.1177/17585732221102399</td>\n",
       "      <td>https://api.crossref.org/works/10.1177/1758573...</td>\n",
       "      <td>Weisang Luo  1</td>\n",
       "      <td>Matthew Nixon  1   2</td>\n",
       "    </tr>\n",
       "    <tr>\n",
       "      <th>1</th>\n",
       "      <td>10.1007/s11571-022-09871-6</td>\n",
       "      <td>Three-dimensional memristive Morris-Lecar mode...</td>\n",
       "      <td>['Han Bao  1 ', ' Xihong Yu  1 ', ' Quan Xu  1...</td>\n",
       "      <td>[\"School of Microelectronics and Control Engin...</td>\n",
       "      <td>Cogn Neurodyn</td>\n",
       "      <td>2023.0</td>\n",
       "      <td>Aug</td>\n",
       "      <td>17(4)</td>\n",
       "      <td>1079</td>\n",
       "      <td>1092</td>\n",
       "      <td>37522038.0</td>\n",
       "      <td>PMC10374513</td>\n",
       "      <td>['To characterize the magnetic induction flow ...</td>\n",
       "      <td>https://doi.org/10.1007/s11571-022-09871-6</td>\n",
       "      <td>https://api.crossref.org/works/10.1007/s11571-...</td>\n",
       "      <td>Han Bao  1</td>\n",
       "      <td>Bocheng Bao  1</td>\n",
       "    </tr>\n",
       "  </tbody>\n",
       "</table>\n",
       "</div>"
      ],
      "text/plain": [
       "                          DOI  \\\n",
       "0   10.1177/17585732221102399   \n",
       "1  10.1007/s11571-022-09871-6   \n",
       "\n",
       "                                               title  \\\n",
       "0           Surgical management of the spastic elbow   \n",
       "1  Three-dimensional memristive Morris-Lecar mode...   \n",
       "\n",
       "                                             authors  \\\n",
       "0       ['Weisang Luo  1 ', ' Matthew Nixon  1   2']   \n",
       "1  ['Han Bao  1 ', ' Xihong Yu  1 ', ' Quan Xu  1...   \n",
       "\n",
       "                                        affiliations         journal    year  \\\n",
       "0  ['Countess of Chester Hospital, Chester, UK.',...  Shoulder Elbow  2023.0   \n",
       "1  [\"School of Microelectronics and Control Engin...   Cogn Neurodyn  2023.0   \n",
       "\n",
       "  month volume first_page last_page        PMID        PMCID  \\\n",
       "0   Oct  15(5)        534       543  37811394.0  PMC10557929   \n",
       "1   Aug  17(4)       1079      1092  37522038.0  PMC10374513   \n",
       "\n",
       "                                            abstract  \\\n",
       "0  ['Background: We performed a retrospective rev...   \n",
       "1  ['To characterize the magnetic induction flow ...   \n",
       "\n",
       "                                         href  \\\n",
       "0   https://doi.org/10.1177/17585732221102399   \n",
       "1  https://doi.org/10.1007/s11571-022-09871-6   \n",
       "\n",
       "                                           json_href     first_author  \\\n",
       "0  https://api.crossref.org/works/10.1177/1758573...  Weisang Luo  1    \n",
       "1  https://api.crossref.org/works/10.1007/s11571-...      Han Bao  1    \n",
       "\n",
       "             last_author  \n",
       "0   Matthew Nixon  1   2  \n",
       "1         Bocheng Bao  1  "
      ]
     },
     "execution_count": 3,
     "metadata": {},
     "output_type": "execute_result"
    }
   ],
   "source": [
    "articles = pd.read_csv('../data/pubmed_articles_clean.csv')\n",
    "articles.head(2)"
   ]
  },
  {
   "cell_type": "code",
   "execution_count": 4,
   "id": "758324c8",
   "metadata": {},
   "outputs": [
    {
     "data": {
      "text/html": [
       "<div>\n",
       "<style scoped>\n",
       "    .dataframe tbody tr th:only-of-type {\n",
       "        vertical-align: middle;\n",
       "    }\n",
       "\n",
       "    .dataframe tbody tr th {\n",
       "        vertical-align: top;\n",
       "    }\n",
       "\n",
       "    .dataframe thead th {\n",
       "        text-align: right;\n",
       "    }\n",
       "</style>\n",
       "<table border=\"1\" class=\"dataframe\">\n",
       "  <thead>\n",
       "    <tr style=\"text-align: right;\">\n",
       "      <th></th>\n",
       "      <th>_id</th>\n",
       "      <th>fst_auth_name</th>\n",
       "      <th>fst_auth_gd</th>\n",
       "      <th>fst_auth_gd_prb</th>\n",
       "      <th>lst_auth_name</th>\n",
       "      <th>lst_auth_gd</th>\n",
       "      <th>lst_auth_gd_prb</th>\n",
       "    </tr>\n",
       "  </thead>\n",
       "  <tbody>\n",
       "    <tr>\n",
       "      <th>0</th>\n",
       "      <td>10.1177/17585732221102399</td>\n",
       "      <td>Weisang</td>\n",
       "      <td>NaN</td>\n",
       "      <td>0.00</td>\n",
       "      <td>Matthew</td>\n",
       "      <td>male</td>\n",
       "      <td>1.00</td>\n",
       "    </tr>\n",
       "    <tr>\n",
       "      <th>1</th>\n",
       "      <td>10.1007/s11571-022-09871-6</td>\n",
       "      <td>Han</td>\n",
       "      <td>male</td>\n",
       "      <td>0.73</td>\n",
       "      <td>Bocheng</td>\n",
       "      <td>male</td>\n",
       "      <td>0.83</td>\n",
       "    </tr>\n",
       "  </tbody>\n",
       "</table>\n",
       "</div>"
      ],
      "text/plain": [
       "                          _id fst_auth_name fst_auth_gd  fst_auth_gd_prb  \\\n",
       "0   10.1177/17585732221102399       Weisang         NaN             0.00   \n",
       "1  10.1007/s11571-022-09871-6           Han        male             0.73   \n",
       "\n",
       "  lst_auth_name lst_auth_gd  lst_auth_gd_prb  \n",
       "0       Matthew        male             1.00  \n",
       "1       Bocheng        male             0.83  "
      ]
     },
     "execution_count": 4,
     "metadata": {},
     "output_type": "execute_result"
    }
   ],
   "source": [
    "genderize = pd.read_csv('../data/genderize_df.csv')\n",
    "genderize.head(2)"
   ]
  },
  {
   "cell_type": "markdown",
   "id": "68c7770e",
   "metadata": {},
   "source": [
    "### Transform to dict"
   ]
  },
  {
   "cell_type": "code",
   "execution_count": 23,
   "id": "b233d85e",
   "metadata": {},
   "outputs": [],
   "source": [
    "articles = articles.rename(columns = {'DOI': '_id'})"
   ]
  },
  {
   "cell_type": "code",
   "execution_count": 26,
   "id": "188e7a19",
   "metadata": {},
   "outputs": [],
   "source": [
    "articles_dict = articles.to_dict(orient = 'records')"
   ]
  },
  {
   "cell_type": "code",
   "execution_count": 5,
   "id": "5a56df86",
   "metadata": {},
   "outputs": [],
   "source": [
    "genderize_dict = genderize.to_dict(orient = 'records')"
   ]
  },
  {
   "cell_type": "markdown",
   "id": "2205d516",
   "metadata": {},
   "source": [
    "### Export to MongoDB"
   ]
  },
  {
   "cell_type": "code",
   "execution_count": 7,
   "id": "c241719f",
   "metadata": {},
   "outputs": [
    {
     "data": {
      "text/plain": [
       "MongoClient(host=['localhost:27017'], document_class=dict, tz_aware=False, connect=True)"
      ]
     },
     "execution_count": 7,
     "metadata": {},
     "output_type": "execute_result"
    }
   ],
   "source": [
    "str_conn = 'mongodb://localhost:27017/'\n",
    "cursor = MongoClient(str_conn)\n",
    "cursor"
   ]
  },
  {
   "cell_type": "code",
   "execution_count": 8,
   "id": "2ebda5c8",
   "metadata": {},
   "outputs": [],
   "source": [
    "db = cursor['publications']"
   ]
  },
  {
   "cell_type": "code",
   "execution_count": 30,
   "id": "59b764b2",
   "metadata": {},
   "outputs": [
    {
     "data": {
      "text/plain": [
       "Collection(Database(MongoClient(host=['localhost:27017'], document_class=dict, tz_aware=False, connect=True), 'publications'), 'pubmed')"
      ]
     },
     "execution_count": 30,
     "metadata": {},
     "output_type": "execute_result"
    }
   ],
   "source": [
    "colec = db['pubmed']\n",
    "colec"
   ]
  },
  {
   "cell_type": "code",
   "execution_count": 45,
   "id": "23824acb",
   "metadata": {},
   "outputs": [],
   "source": [
    "for i in range(len(articles)):\n",
    "    try:\n",
    "        colec.insert_one(articles_dict[i])\n",
    "    except:\n",
    "        continue"
   ]
  },
  {
   "cell_type": "code",
   "execution_count": 9,
   "id": "13d19b92",
   "metadata": {},
   "outputs": [
    {
     "data": {
      "text/plain": [
       "Collection(Database(MongoClient(host=['localhost:27017'], document_class=dict, tz_aware=False, connect=True), 'publications'), 'genderize')"
      ]
     },
     "execution_count": 9,
     "metadata": {},
     "output_type": "execute_result"
    }
   ],
   "source": [
    "colec_2 = db['genderize']\n",
    "colec_2"
   ]
  },
  {
   "cell_type": "code",
   "execution_count": 11,
   "id": "777e587a",
   "metadata": {},
   "outputs": [],
   "source": [
    "for i in range(len(genderize)):\n",
    "    try:\n",
    "        colec_2.insert_one(genderize_dict[i])\n",
    "    except:\n",
    "        continue"
   ]
  },
  {
   "cell_type": "code",
   "execution_count": 12,
   "id": "29414d47",
   "metadata": {},
   "outputs": [],
   "source": [
    "cursor.close()"
   ]
  }
 ],
 "metadata": {
  "kernelspec": {
   "display_name": "Python 3 (ipykernel)",
   "language": "python",
   "name": "python3"
  },
  "language_info": {
   "codemirror_mode": {
    "name": "ipython",
    "version": 3
   },
   "file_extension": ".py",
   "mimetype": "text/x-python",
   "name": "python",
   "nbconvert_exporter": "python",
   "pygments_lexer": "ipython3",
   "version": "3.11.4"
  }
 },
 "nbformat": 4,
 "nbformat_minor": 5
}
