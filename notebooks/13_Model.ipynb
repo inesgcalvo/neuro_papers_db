{
 "cells": [
  {
   "cell_type": "markdown",
   "id": "65a206c0",
   "metadata": {},
   "source": [
    "# <a id='toc1_'></a>[Modeling](#toc0_)\n",
    "In this notebook, the process begins by loading and preprocessing a dataset comprising `title`,`abstract` and `journal` columns. Text data is cleaned through lowercase conversion, removal of non-alphabetic characters, and elimination of stop words. Subsequently, `embeddings` are generated for `title` and `abstract` using a neural network for word embedding, followed by dimensionality reduction through `PCA`. Journal labels are encoded using `LabelEncoder`, and the dataset is split into training and testing sets.\n",
    "\n",
    "In the pursuit of refining our predictive model, I meticulously explored various classification models. Despite encountering challenges in achieving high accuracy rates, the focus shifted towards enhancing the overall process and usability. \n",
    "\n",
    "Robust input preprocessing functions were developed to seamlessly integrate new title and abstract entries into the model, showcasing the resilience of the `pipeline`."
   ]
  },
  {
   "cell_type": "markdown",
   "id": "cc9e9a95",
   "metadata": {},
   "source": [
    "**Table of contents**<a id='toc0_'></a>    \n",
    "- [Modeling](#toc1_)    \n",
    "    - [Import Libraries](#toc1_1_1_)    \n",
    "    - [Load Data](#toc1_1_2_)    \n",
    "    - [Reduce the data to have the same amount of publications per journal](#toc1_1_3_)    \n",
    "    - [Preprocess Data](#toc1_1_4_)    \n",
    "    - [Create Embeddings](#toc1_1_5_)    \n",
    "    - [Encode Labels and Split Data](#toc1_1_6_)    \n",
    "    - [Train and Evaluate Classification Models](#toc1_1_7_)    \n",
    "    - [Grid Search for parametters](#toc1_1_8_)    \n",
    "    - [Train the classification model with all the dataset](#toc1_1_9_)    \n",
    "    - [Save the model and the label encoder](#toc1_1_10_)    \n",
    "    - [Test the model with my own non published neurosciences article](#toc1_1_11_)    \n",
    "\n",
    "<!-- vscode-jupyter-toc-config\n",
    "\tnumbering=false\n",
    "\tanchor=true\n",
    "\tflat=false\n",
    "\tminLevel=1\n",
    "\tmaxLevel=6\n",
    "\t/vscode-jupyter-toc-config -->\n",
    "<!-- THIS CELL WILL BE REPLACED ON TOC UPDATE. DO NOT WRITE YOUR TEXT IN THIS CELL -->"
   ]
  },
  {
   "cell_type": "markdown",
   "id": "1068a696",
   "metadata": {},
   "source": [
    "### <a id='toc1_1_1_'></a>[Import Libraries](#toc0_)"
   ]
  },
  {
   "cell_type": "code",
   "execution_count": 1,
   "id": "5490b28f",
   "metadata": {},
   "outputs": [
    {
     "name": "stdout",
     "output_type": "stream",
     "text": [
      "WARNING:tensorflow:From C:\\Users\\nexina\\anaconda3\\lib\\site-packages\\keras\\src\\losses.py:2976: The name tf.losses.sparse_softmax_cross_entropy is deprecated. Please use tf.compat.v1.losses.sparse_softmax_cross_entropy instead.\n",
      "\n"
     ]
    }
   ],
   "source": [
    "import numpy as np\n",
    "import pandas as pd\n",
    "\n",
    "# Functions\n",
    "import sys\n",
    "sys.path.append('../src')\n",
    "from support_model import *\n",
    "\n",
    "# Text Processing\n",
    "import re\n",
    "import ast\n",
    "import nltk\n",
    "from nltk.corpus import stopwords\n",
    "from nltk.tokenize import word_tokenize\n",
    "\n",
    "# Dimensionality Reduction\n",
    "from sklearn.decomposition import PCA\n",
    "\n",
    "# Deep Learning\n",
    "import tensorflow as tf\n",
    "from tensorflow.keras.preprocessing.text import Tokenizer\n",
    "from tensorflow.keras.preprocessing.sequence import pad_sequences\n",
    "\n",
    "# Machine Learning\n",
    "import joblib\n",
    "from sklearn.preprocessing import LabelEncoder\n",
    "from sklearn.model_selection import train_test_split\n",
    "from sklearn.metrics import accuracy_score\n",
    "from sklearn.model_selection import GridSearchCV\n",
    "\n",
    "# ML Classification Models\n",
    "from sklearn.tree import DecisionTreeClassifier\n",
    "from sklearn.ensemble import RandomForestClassifier, AdaBoostClassifier, GradientBoostingClassifier, BaggingClassifier, ExtraTreesClassifier, VotingClassifier, StackingClassifier\n",
    "from sklearn.naive_bayes import GaussianNB\n",
    "from sklearn.neural_network import MLPClassifier\n",
    "from sklearn.linear_model import LogisticRegression, SGDClassifier\n",
    "from sklearn.neighbors import KNeighborsClassifier\n",
    "from sklearn.svm import SVC, NuSVC, LinearSVC\n",
    "from sklearn.gaussian_process import GaussianProcessClassifier\n",
    "from sklearn.discriminant_analysis import LinearDiscriminantAnalysis, QuadraticDiscriminantAnalysis\n",
    "\n",
    "# Ignore Warnings\n",
    "import warnings\n",
    "warnings.filterwarnings('ignore')"
   ]
  },
  {
   "cell_type": "code",
   "execution_count": 2,
   "id": "724d7eeb",
   "metadata": {},
   "outputs": [],
   "source": [
    "# nltk.download('punkt')"
   ]
  },
  {
   "cell_type": "code",
   "execution_count": 3,
   "id": "2d633e3c",
   "metadata": {},
   "outputs": [],
   "source": [
    "minimum_number_of_journals = 1000\n",
    "n_components = 1\n",
    "n_estimators = 50\n",
    "seed = 12"
   ]
  },
  {
   "cell_type": "markdown",
   "id": "7d1c87dd",
   "metadata": {},
   "source": [
    "### <a id='toc1_1_2_'></a>[Load Data](#toc0_)"
   ]
  },
  {
   "cell_type": "code",
   "execution_count": 4,
   "id": "5eecf349",
   "metadata": {},
   "outputs": [],
   "source": [
    "publications = pd.read_csv('../data/neuropapers_db/publications.csv')"
   ]
  },
  {
   "cell_type": "code",
   "execution_count": 5,
   "id": "f76d3433",
   "metadata": {},
   "outputs": [],
   "source": [
    "pre_data = publications[['title', 'abstract', 'journal']]"
   ]
  },
  {
   "cell_type": "markdown",
   "id": "b8912129",
   "metadata": {},
   "source": [
    "### <a id='toc1_1_3_'></a>[Reduce the data to have the same amount of publications per journal](#toc0_)"
   ]
  },
  {
   "cell_type": "code",
   "execution_count": 6,
   "id": "344d7381",
   "metadata": {},
   "outputs": [],
   "source": [
    "# Count the number of publications per journal\n",
    "counts = pre_data['journal'].value_counts()\n",
    "\n",
    "# Remove the journals with less than 80 publications\n",
    "journals_to_drop = counts[counts < minimum_number_of_journals].index\n",
    "data_filtered = pre_data[~pre_data['journal'].isin(journals_to_drop)]"
   ]
  },
  {
   "cell_type": "code",
   "execution_count": 7,
   "id": "2cb5d1cf",
   "metadata": {},
   "outputs": [
    {
     "data": {
      "text/plain": [
       "Index(['American journal of Alzheimer's disease and other dementias',\n",
       "       'Expert review of neurotherapeutics', 'Reviews in the neurosciences',\n",
       "       'Neuroscientist', 'Neurophotonics', 'Translational neuroscience',\n",
       "       'Annual review of neuroscience',\n",
       "       'Frontiers of neurology and neuroscience', 'Biomedical reports',\n",
       "       'Journal of the history of the neurosciences', 'Nature aging',\n",
       "       'Journal of Physiology Paris', 'Current protocols in neuroscience',\n",
       "       'Acta neurobiologiae experimentalis', 'IBRO reports',\n",
       "       'Functional neurology', 'AJOB neuroscience', 'eLife'],\n",
       "      dtype='object')"
      ]
     },
     "execution_count": 7,
     "metadata": {},
     "output_type": "execute_result"
    }
   ],
   "source": [
    "journals_to_drop"
   ]
  },
  {
   "cell_type": "code",
   "execution_count": 8,
   "id": "dfb24d86",
   "metadata": {},
   "outputs": [],
   "source": [
    "# Reduce randomly the amount of papers per journal\n",
    "data = pd.DataFrame()\n",
    "\n",
    "for journal in data_filtered['journal'].unique():\n",
    "    subset = data_filtered[data_filtered['journal'] == journal]\n",
    "    if len(subset) >= minimum_number_of_journals:\n",
    "        subset = subset.sample(n=minimum_number_of_journals, random_state=seed)\n",
    "    data = pd.concat([data, subset])"
   ]
  },
  {
   "cell_type": "code",
   "execution_count": 9,
   "id": "a146cea9",
   "metadata": {},
   "outputs": [],
   "source": [
    "data = data.sample(frac=1, random_state=seed).reset_index(drop=True)"
   ]
  },
  {
   "cell_type": "markdown",
   "id": "397bab78",
   "metadata": {},
   "source": [
    "### <a id='toc1_1_4_'></a>[Preprocess Data](#toc0_)"
   ]
  },
  {
   "cell_type": "code",
   "execution_count": 11,
   "id": "99343e62",
   "metadata": {},
   "outputs": [],
   "source": [
    "columns_to_preprocess = ['title', 'abstract']\n",
    "for column in columns_to_preprocess:\n",
    "    data[column] = data[column].apply(preprocess_text)"
   ]
  },
  {
   "cell_type": "markdown",
   "id": "207af651",
   "metadata": {},
   "source": [
    "### <a id='toc1_1_5_'></a>[Create Embeddings](#toc0_)"
   ]
  },
  {
   "cell_type": "code",
   "execution_count": 14,
   "id": "54c522be",
   "metadata": {},
   "outputs": [
    {
     "name": "stdout",
     "output_type": "stream",
     "text": [
      "WARNING:tensorflow:From C:\\Users\\nexina\\anaconda3\\lib\\site-packages\\keras\\src\\backend.py:873: The name tf.get_default_graph is deprecated. Please use tf.compat.v1.get_default_graph instead.\n",
      "\n",
      "500/500 [==============================] - 0s 559us/step\n",
      "500/500 [==============================] - 0s 529us/step\n"
     ]
    }
   ],
   "source": [
    "list_of_columns = ['title', 'abstract']\n",
    "new_data = data.copy()\n",
    "\n",
    "for column in list_of_columns:\n",
    "    embeddings_df = column_embeddings(data, column, n_components)\n",
    "    new_data = new_data.merge(embeddings_df, left_index=True, right_index=True)\n",
    "\n",
    "data = new_data.copy()"
   ]
  },
  {
   "cell_type": "markdown",
   "id": "874a269f",
   "metadata": {},
   "source": [
    "### <a id='toc1_1_6_'></a>[Encode Labels and Split Data](#toc0_)"
   ]
  },
  {
   "cell_type": "code",
   "execution_count": 15,
   "id": "07a74303",
   "metadata": {},
   "outputs": [],
   "source": [
    "label_encoder = LabelEncoder()\n",
    "data['y_encoded'] = label_encoder.fit_transform(data['journal'])"
   ]
  },
  {
   "cell_type": "code",
   "execution_count": 16,
   "id": "975556eb",
   "metadata": {},
   "outputs": [],
   "source": [
    "all_columns = data.columns\n",
    "drop_columns = ['title', 'abstract', 'journal', 'y_encoded']\n",
    "columns = all_columns.drop(drop_columns)\n",
    "\n",
    "X = data[columns]\n",
    "y = data['y_encoded']\n",
    "\n",
    "X_train, X_test, y_train, y_test = train_test_split(X, y, test_size=0.2, random_state=seed)"
   ]
  },
  {
   "cell_type": "markdown",
   "id": "90209177",
   "metadata": {},
   "source": [
    "### <a id='toc1_1_7_'></a>[Train and Evaluate Classification Models](#toc0_)"
   ]
  },
  {
   "cell_type": "code",
   "execution_count": 33,
   "id": "d43c3441",
   "metadata": {},
   "outputs": [],
   "source": [
    "models = {\"dtc\": DecisionTreeClassifier(),\n",
    "          \"rfc\": RandomForestClassifier(),\n",
    "          \"svcr\": SVC(kernel=\"rbf\"),\n",
    "          \"svcl\": SVC(kernel=\"linear\"),\n",
    "          \"knc\": KNeighborsClassifier(),\n",
    "          \"logr\": LogisticRegression(),\n",
    "          \"adaboost\": AdaBoostClassifier(),\n",
    "          \"gradient_boosting\": GradientBoostingClassifier(),\n",
    "          \"naive_bayes\": GaussianNB(),\n",
    "          \"mlp\": MLPClassifier(),\n",
    "          \"bagging\": BaggingClassifier(),\n",
    "          \"extra_trees\": ExtraTreesClassifier(),\n",
    "          \"voting\": VotingClassifier(estimators=[('dtc', DecisionTreeClassifier()), ('rfc', RandomForestClassifier()), ('svc', SVC())]),\n",
    "          \"stacking\": StackingClassifier(estimators=[('knc', KNeighborsClassifier()), ('logr', LogisticRegression()), ('svc', SVC())], final_estimator=DecisionTreeClassifier()),\n",
    "          \"sgd\": SGDClassifier(),\n",
    "          \"nu_svc\": NuSVC(),\n",
    "          \"linear_svc\": LinearSVC(),\n",
    "          \"gaussian_process\": GaussianProcessClassifier(),\n",
    "          \"lda\": LinearDiscriminantAnalysis(),\n",
    "          \"qda\": QuadraticDiscriminantAnalysis()}   "
   ]
  },
  {
   "cell_type": "code",
   "execution_count": 37,
   "id": "6e9a5d9a",
   "metadata": {},
   "outputs": [
    {
     "name": "stdout",
     "output_type": "stream",
     "text": [
      "dtc Accuracy: 0.1984375\n",
      "rfc Accuracy: 0.245\n",
      "svcr Accuracy: 0.2621875\n",
      "svcl Accuracy: 0.2496875\n",
      "knc Accuracy: 0.2103125\n",
      "logr Accuracy: 0.2440625\n",
      "adaboost Accuracy: 0.19125\n",
      "gradient_boosting Accuracy: 0.2528125\n",
      "naive_bayes Accuracy: 0.2509375\n",
      "mlp Accuracy: 0.2490625\n",
      "bagging Accuracy: 0.2228125\n",
      "extra_trees Accuracy: 0.240625\n",
      "voting Accuracy: 0.250625\n",
      "stacking Accuracy: 0.203125\n",
      "sgd Accuracy: 0.2153125\n",
      "nu_svc Accuracy: 0.2525\n",
      "linear_svc Accuracy: 0.234375\n",
      "gaussian_process Accuracy: 0.245625\n",
      "lda Accuracy: 0.24\n",
      "qda Accuracy: 0.2628125\n"
     ]
    }
   ],
   "source": [
    "for model_name, model in models.items():\n",
    "    model.fit(X_train, y_train)\n",
    "    y_pred = model.predict(X_test)\n",
    "    accuracy = accuracy_score(y_test, y_pred)\n",
    "    print(f\"{model_name} Accuracy: {accuracy}\")"
   ]
  },
  {
   "cell_type": "markdown",
   "id": "cc608d6b",
   "metadata": {},
   "source": [
    "### <a id='toc1_1_8_'></a>[Grid Search for parametters](#toc0_)"
   ]
  },
  {
   "cell_type": "code",
   "execution_count": 48,
   "id": "9fef9c40",
   "metadata": {},
   "outputs": [],
   "source": [
    "models = {\"svcr\": SVC(kernel=\"rbf\"),\n",
    "          \"qda\": QuadraticDiscriminantAnalysis()}   \n",
    "\n",
    "param_grids = {\"svcr\": {\"C\": [0.1, 1],\n",
    "                        \"gamma\": [0.01, 0.1],\n",
    "                        \"kernel\": ['rbf'],\n",
    "                        \"probability\": [True, False],\n",
    "                        \"tol\": [1e-3, 1e-5],\n",
    "                        \"class_weight\": [None, 'balanced']},\n",
    "               \"qda\": {\"reg_param\": [0.0, 0.2],\n",
    "                       \"store_covariance\": [True, False],\n",
    "                       \"tol\": [1e-3, 1e-5]}}"
   ]
  },
  {
   "cell_type": "code",
   "execution_count": 49,
   "id": "a019da26",
   "metadata": {},
   "outputs": [
    {
     "name": "stdout",
     "output_type": "stream",
     "text": [
      "svcr Best Parameters: {'C': 1, 'class_weight': 'balanced', 'gamma': 0.1, 'kernel': 'rbf', 'probability': True, 'tol': 0.001}\n",
      "svcr Accuracy: 0.2328125\n",
      "qda Best Parameters: {'reg_param': 0.0, 'store_covariance': True, 'tol': 0.001}\n",
      "qda Accuracy: 0.2628125\n"
     ]
    }
   ],
   "source": [
    "# Perform GridSearchCV for each model\n",
    "for model_name, model in models.items():\n",
    "    param_grid = param_grids[model_name]\n",
    "    grid_search = GridSearchCV(model, param_grid, cv=5, scoring='accuracy')\n",
    "    grid_search.fit(X_train, y_train)\n",
    "\n",
    "    # Get the best parameters and retrain the model\n",
    "    best_params = grid_search.best_params_\n",
    "    model.set_params(**best_params)\n",
    "    model.fit(X_train, y_train)\n",
    "\n",
    "    # Make predictions on the test set\n",
    "    y_pred = model.predict(X_test)\n",
    "\n",
    "    # Evaluate the model\n",
    "    accuracy = accuracy_score(y_test, y_pred)\n",
    "    print(f\"{model_name} Best Parameters: {best_params}\")\n",
    "    print(f\"{model_name} Accuracy: {accuracy}\")"
   ]
  },
  {
   "cell_type": "markdown",
   "id": "5f6b3bf3",
   "metadata": {},
   "source": [
    "### <a id='toc1_1_9_'></a>[Train the classification model with all the dataset](#toc0_)"
   ]
  },
  {
   "cell_type": "code",
   "execution_count": 17,
   "id": "1da3f614",
   "metadata": {},
   "outputs": [
    {
     "data": {
      "text/html": [
       "<style>#sk-container-id-1 {color: black;background-color: white;}#sk-container-id-1 pre{padding: 0;}#sk-container-id-1 div.sk-toggleable {background-color: white;}#sk-container-id-1 label.sk-toggleable__label {cursor: pointer;display: block;width: 100%;margin-bottom: 0;padding: 0.3em;box-sizing: border-box;text-align: center;}#sk-container-id-1 label.sk-toggleable__label-arrow:before {content: \"▸\";float: left;margin-right: 0.25em;color: #696969;}#sk-container-id-1 label.sk-toggleable__label-arrow:hover:before {color: black;}#sk-container-id-1 div.sk-estimator:hover label.sk-toggleable__label-arrow:before {color: black;}#sk-container-id-1 div.sk-toggleable__content {max-height: 0;max-width: 0;overflow: hidden;text-align: left;background-color: #f0f8ff;}#sk-container-id-1 div.sk-toggleable__content pre {margin: 0.2em;color: black;border-radius: 0.25em;background-color: #f0f8ff;}#sk-container-id-1 input.sk-toggleable__control:checked~div.sk-toggleable__content {max-height: 200px;max-width: 100%;overflow: auto;}#sk-container-id-1 input.sk-toggleable__control:checked~label.sk-toggleable__label-arrow:before {content: \"▾\";}#sk-container-id-1 div.sk-estimator input.sk-toggleable__control:checked~label.sk-toggleable__label {background-color: #d4ebff;}#sk-container-id-1 div.sk-label input.sk-toggleable__control:checked~label.sk-toggleable__label {background-color: #d4ebff;}#sk-container-id-1 input.sk-hidden--visually {border: 0;clip: rect(1px 1px 1px 1px);clip: rect(1px, 1px, 1px, 1px);height: 1px;margin: -1px;overflow: hidden;padding: 0;position: absolute;width: 1px;}#sk-container-id-1 div.sk-estimator {font-family: monospace;background-color: #f0f8ff;border: 1px dotted black;border-radius: 0.25em;box-sizing: border-box;margin-bottom: 0.5em;}#sk-container-id-1 div.sk-estimator:hover {background-color: #d4ebff;}#sk-container-id-1 div.sk-parallel-item::after {content: \"\";width: 100%;border-bottom: 1px solid gray;flex-grow: 1;}#sk-container-id-1 div.sk-label:hover label.sk-toggleable__label {background-color: #d4ebff;}#sk-container-id-1 div.sk-serial::before {content: \"\";position: absolute;border-left: 1px solid gray;box-sizing: border-box;top: 0;bottom: 0;left: 50%;z-index: 0;}#sk-container-id-1 div.sk-serial {display: flex;flex-direction: column;align-items: center;background-color: white;padding-right: 0.2em;padding-left: 0.2em;position: relative;}#sk-container-id-1 div.sk-item {position: relative;z-index: 1;}#sk-container-id-1 div.sk-parallel {display: flex;align-items: stretch;justify-content: center;background-color: white;position: relative;}#sk-container-id-1 div.sk-item::before, #sk-container-id-1 div.sk-parallel-item::before {content: \"\";position: absolute;border-left: 1px solid gray;box-sizing: border-box;top: 0;bottom: 0;left: 50%;z-index: -1;}#sk-container-id-1 div.sk-parallel-item {display: flex;flex-direction: column;z-index: 1;position: relative;background-color: white;}#sk-container-id-1 div.sk-parallel-item:first-child::after {align-self: flex-end;width: 50%;}#sk-container-id-1 div.sk-parallel-item:last-child::after {align-self: flex-start;width: 50%;}#sk-container-id-1 div.sk-parallel-item:only-child::after {width: 0;}#sk-container-id-1 div.sk-dashed-wrapped {border: 1px dashed gray;margin: 0 0.4em 0.5em 0.4em;box-sizing: border-box;padding-bottom: 0.4em;background-color: white;}#sk-container-id-1 div.sk-label label {font-family: monospace;font-weight: bold;display: inline-block;line-height: 1.2em;}#sk-container-id-1 div.sk-label-container {text-align: center;}#sk-container-id-1 div.sk-container {/* jupyter's `normalize.less` sets `[hidden] { display: none; }` but bootstrap.min.css set `[hidden] { display: none !important; }` so we also need the `!important` here to be able to override the default hidden behavior on the sphinx rendered scikit-learn.org. See: https://github.com/scikit-learn/scikit-learn/issues/21755 */display: inline-block !important;position: relative;}#sk-container-id-1 div.sk-text-repr-fallback {display: none;}</style><div id=\"sk-container-id-1\" class=\"sk-top-container\"><div class=\"sk-text-repr-fallback\"><pre>QuadraticDiscriminantAnalysis()</pre><b>In a Jupyter environment, please rerun this cell to show the HTML representation or trust the notebook. <br />On GitHub, the HTML representation is unable to render, please try loading this page with nbviewer.org.</b></div><div class=\"sk-container\" hidden><div class=\"sk-item\"><div class=\"sk-estimator sk-toggleable\"><input class=\"sk-toggleable__control sk-hidden--visually\" id=\"sk-estimator-id-1\" type=\"checkbox\" checked><label for=\"sk-estimator-id-1\" class=\"sk-toggleable__label sk-toggleable__label-arrow\">QuadraticDiscriminantAnalysis</label><div class=\"sk-toggleable__content\"><pre>QuadraticDiscriminantAnalysis()</pre></div></div></div></div></div>"
      ],
      "text/plain": [
       "QuadraticDiscriminantAnalysis()"
      ]
     },
     "execution_count": 17,
     "metadata": {},
     "output_type": "execute_result"
    }
   ],
   "source": [
    "qda_model = QuadraticDiscriminantAnalysis()\n",
    "qda_model.fit(X, y)"
   ]
  },
  {
   "cell_type": "markdown",
   "id": "9eab8996",
   "metadata": {},
   "source": [
    "### <a id='toc1_1_10_'></a>[Save the model and the label encoder](#toc0_)"
   ]
  },
  {
   "cell_type": "code",
   "execution_count": 18,
   "id": "a9bd4392",
   "metadata": {},
   "outputs": [
    {
     "data": {
      "text/plain": [
       "['label_encoder.pkl']"
      ]
     },
     "execution_count": 18,
     "metadata": {},
     "output_type": "execute_result"
    }
   ],
   "source": [
    "joblib.dump(label_encoder, '../model/label_encoder.pkl')"
   ]
  },
  {
   "cell_type": "code",
   "execution_count": 19,
   "id": "5fe640a4",
   "metadata": {},
   "outputs": [
    {
     "data": {
      "text/plain": [
       "['qda_model.pkl']"
      ]
     },
     "execution_count": 19,
     "metadata": {},
     "output_type": "execute_result"
    }
   ],
   "source": [
    "joblib.dump(qda_model, '../model/qda_model.pkl')"
   ]
  },
  {
   "cell_type": "markdown",
   "id": "e5419708",
   "metadata": {},
   "source": [
    "### <a id='toc1_1_11_'></a>[Test the model with my own non published neurosciences article](#toc0_)\n",
    "https://www.biorxiv.org/content/10.1101/364760v1"
   ]
  },
  {
   "cell_type": "code",
   "execution_count": 21,
   "id": "9d9c0cfd",
   "metadata": {},
   "outputs": [],
   "source": [
    "input_title = \"Expression and role of Galectin-3 in the postnatal development of the cerebellum\"\n",
    "input_abstract = \"Many proteins initially identified in the immune system play roles in neurogenesis, neuronal migration, axon guidance, synaptic plasticity and other processes related to the formation and refinement of neural circuits. Although the function of the immune-related protein Galectin-3 (LGALS3) has been extensively studied in the regulation of inflammation, cancer and microglia activation, little is known about its role in the development of the brain. In this study, we identified that LGALS3 is expressed in the developing postnatal cerebellum. More precisely, LGALS3 is expressed by cells in meninges and in the choroid plexus, and in subpopulations of astrocytes and of microglial cells in the cerebellar cortex. Analysis of Lgals3 knockout mice showed that Lgals3 is dispensable for the development of cerebellar cytoarchitecture and Purkinje cell excitatory synaptogenesis in the mouse.\""
   ]
  },
  {
   "cell_type": "code",
   "execution_count": 22,
   "id": "4fcbcd69",
   "metadata": {},
   "outputs": [
    {
     "name": "stdout",
     "output_type": "stream",
     "text": [
      "1/1 [==============================] - 0s 25ms/step\n",
      "1/1 [==============================] - 0s 25ms/step\n",
      "[{'journal': 'Biological psychology', 'probability': 0.07037802108040132}]\n"
     ]
    }
   ],
   "source": [
    "result = predict_journal_for_input(input_title, input_abstract, qda_model, label_encoder)\n",
    "print(result)"
   ]
  },
  {
   "cell_type": "code",
   "execution_count": null,
   "id": "ba3018c6",
   "metadata": {},
   "outputs": [],
   "source": []
  }
 ],
 "metadata": {
  "kernelspec": {
   "display_name": "Python 3 (ipykernel)",
   "language": "python",
   "name": "python3"
  },
  "language_info": {
   "codemirror_mode": {
    "name": "ipython",
    "version": 3
   },
   "file_extension": ".py",
   "mimetype": "text/x-python",
   "name": "python",
   "nbconvert_exporter": "python",
   "pygments_lexer": "ipython3",
   "version": "3.11.4"
  },
  "toc": {
   "base_numbering": 1,
   "nav_menu": {},
   "number_sections": true,
   "sideBar": true,
   "skip_h1_title": false,
   "title_cell": "Table of Contents",
   "title_sidebar": "Contents",
   "toc_cell": false,
   "toc_position": {},
   "toc_section_display": true,
   "toc_window_display": false
  }
 },
 "nbformat": 4,
 "nbformat_minor": 5
}
