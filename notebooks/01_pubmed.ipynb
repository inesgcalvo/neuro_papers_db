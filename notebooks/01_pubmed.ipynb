{
 "cells": [
  {
   "attachments": {
    "pubmed.svg": {
     "image/svg+xml": [
      "PD94bWwgdmVyc2lvbj0iMS4wIiBlbmNvZGluZz0iVVRGLTgiPz48c3ZnIGlkPSJMYXllcl8yIiB4bWxucz0iaHR0cDovL3d3dy53My5vcmcvMjAwMC9zdmciIHZpZXdCb3g9IjAgMCAyMDIuMyA2OC44Ij48ZGVmcz48c3R5bGU+LmNscy0xe2ZpbGw6I2ZmZjt9LmNscy0ye2ZpbGw6IzMyNjU5OTt9LmNscy0ze2ZpbGw6Izk5OTt9LmNscy00e2ZpbGw6IzAwMDA4Yjt9PC9zdHlsZT48L2RlZnM+PGcgaWQ9IkxheWVyXzEtMiI+PHBhdGggY2xhc3M9ImNscy0yIiBkPSJtOTEuNzIsNjMuOGgwYzYtMjUsMzgsNSwzOCw1VjI1LjhzLTMyLTI3LTM4LTJoMHY0MFoiLz48cGF0aCBkPSJtOTEuNzQsNjMuOGgwYy0zLjQ3LTIwLjkzLTE1LjU2LTE1Ljc4LTE1LjU2LTE1Ljc4bC0uMzUtNDMuOTFzOS4yLTMuMTYsMTUuOTYsMTguMTFoMGwtLjA2LDQxLjU4WiIvPjxwYXRoIGNsYXNzPSJjbHMtMyIgZD0ibTkxLjgyLDY0LjAxaDBjLS45Ni0yNS43Ni04LjAyLTI0LjE2LTguMDItMjQuMTZsLS44My0zOS44NXM3Ljg4LDQuMDYsOS4wMiwxOS45OGgwbC0uMTgsNDQuMDNaIi8+PGc+PGc+PHBhdGggY2xhc3M9ImNscy00IiBkPSJtMjEuODcsMzEuOTFjMCwzLjEtLjkzLDUuNDEtMi43OSw2LjkyLTEuODYsMS41Mi00LjUzLDIuMjctOCwyLjI3aC00LjA4djEzLjI1SDB2LTMxLjYyaDExLjAyYzMuMzQsMCw1Ljk4Ljc2LDcuOTMsMi4yNywxLjk1LDEuNTIsMi45MiwzLjgyLDIuOTIsNi45Wm0tNywuOTJjMC0xLjU3LS40Mi0yLjc0LTEuMjctMy41MS0uODUtLjc3LTIuMDMtMS4xNS0zLjU2LTEuMTVoLTMuMDV2OS40NGgzLjIzYzEuNjEsMCwyLjc5LS40MywzLjUzLTEuMjhzMS4xMi0yLjAyLDEuMTItMy41WiIvPjxwYXRoIGNsYXNzPSJjbHMtNCIgZD0ibTQ1LjgsNTQuMzZoLTYuMzF2LTIuNTNsLTIuNjEsMS40OGMtLjczLjQxLTEuNDkuNzMtMi4yOC45Ni0uNzkuMjMtMS42NS4zNC0yLjU3LjM0LTIuMTgsMC0zLjktLjY3LTUuMTUtMi4wMy0xLjI1LTEuMzUtMS44OC0zLjE0LTEuODgtNS4zNnYtMTQuOTloNi4zMXYxMy41NmMwLC44MS4yOSwxLjUyLjg2LDIuMTQuNTcuNjIsMS40Ni45MiwyLjY1LjkyLDEuMTEsMCwyLjA2LS4yNCwyLjg1LS43MS43OS0uNDgsMS40LS45MSwxLjgzLTEuMzF2LTE0LjZoNi4zMXYyMi4xMloiLz48cGF0aCBjbGFzcz0iY2xzLTQiIGQ9Im03Mi43NSw0Mi44NWMwLDMuMzgtMS4wNCw2LjE5LTMuMTEsOC40NC0yLjA3LDIuMjUtNC42OCwzLjM4LTcuODMsMy4zOC0xLjEzLDAtMi4yNy0uMTYtMy40NC0uNDctMS4xNi0uMzEtMi4wMi0uNjgtMi41Ny0xLjFsLTMuNTQsMS41Ni0xLjUyLS44MXYtMzEuMTJoNi4xOXYxMC41NmwyLjM3LTEuMTVjLjQ3LS4yMi45OS0uNDMsMS41Ny0uNjIuNTgtLjE5LDEuMjItLjI5LDEuOTQtLjI5LDMuMTEsMCw1LjU0LDEuMSw3LjMsMy4yOSwxLjc1LDIuMTksMi42Myw0Ljk3LDIuNjMsOC4zM1ptLTYuMzcuNGMwLTEuODQtLjUtMy40My0xLjUtNC43Ny0xLTEuMzMtMi4yOC0yLTMuODItMi0uOTUsMC0xLjguMTYtMi41Ny40Ni0uNzcuMzEtMS4yOC43LTEuNTQsMS4xNnYxMC41Yy4zNC4zOC44Ny42OSwxLjU5Ljk0LjcyLjI1LDEuNTMuMzcsMi40Mi4zNywxLjk1LDAsMy4zNC0uNTMsNC4xNy0xLjYuODQtMS4wNywxLjI1LTIuNzUsMS4yNS01LjA3WiIvPjwvZz48Zz48cGF0aCBjbGFzcz0iY2xzLTIiIGQ9Im0yMS44NywzMS45MWMwLDMuMS0uOTMsNS40MS0yLjc5LDYuOTItMS44NiwxLjUyLTQuNTMsMi4yNy04LDIuMjdoLTQuMDh2MTMuMjVIMHYtMzEuNjJoMTEuMDJjMy4zNCwwLDUuOTguNzYsNy45MywyLjI3LDEuOTUsMS41MiwyLjkyLDMuODIsMi45Miw2LjlabS03LC45MmMwLTEuNTctLjQyLTIuNzQtMS4yNy0zLjUxLS44NS0uNzctMi4wMy0xLjE1LTMuNTYtMS4xNWgtMy4wNXY5LjQ0aDMuMjNjMS42MSwwLDIuNzktLjQzLDMuNTMtMS4yOHMxLjEyLTIuMDIsMS4xMi0zLjVaIi8+PHBhdGggY2xhc3M9ImNscy0yIiBkPSJtNDUuOCw1NC4zNmgtNi4zMXYtMi41M2wtMi42MSwxLjQ4Yy0uNzMuNDEtMS40OS43My0yLjI4Ljk2LS43OS4yMy0xLjY1LjM0LTIuNTcuMzQtMi4xOCwwLTMuOS0uNjctNS4xNS0yLjAzLTEuMjUtMS4zNS0xLjg4LTMuMTQtMS44OC01LjM2di0xNC45OWg2LjMxdjEzLjU2YzAsLjgxLjI5LDEuNTIuODYsMi4xNC41Ny42MiwxLjQ2LjkyLDIuNjUuOTIsMS4xMSwwLDIuMDYtLjI0LDIuODUtLjcxLjc5LS40OCwxLjQtLjkxLDEuODMtMS4zMXYtMTQuNmg2LjMxdjIyLjEyWiIvPjxwYXRoIGNsYXNzPSJjbHMtMiIgZD0ibTcyLjc1LDQyLjg1YzAsMy4zOC0xLjA0LDYuMTktMy4xMSw4LjQ0LTIuMDcsMi4yNS00LjY4LDMuMzgtNy44MywzLjM4LTEuMTMsMC0yLjI3LS4xNi0zLjQ0LS40Ny0xLjE2LS4zMS0yLjAyLS42OC0yLjU3LTEuMWwtMy41NCwxLjU2LTEuNTItLjgxdi0zMS4xMmg2LjE5djEwLjU2bDIuMzctMS4xNWMuNDctLjIyLjk5LS40MywxLjU3LS42Mi41OC0uMTksMS4yMi0uMjksMS45NC0uMjksMy4xMSwwLDUuNTQsMS4xLDcuMywzLjI5LDEuNzUsMi4xOSwyLjYzLDQuOTcsMi42Myw4LjMzWm0tNi4zNy40YzAtMS44NC0uNS0zLjQzLTEuNS00Ljc3LTEtMS4zMy0yLjI4LTItMy44Mi0yLS45NSwwLTEuOC4xNi0yLjU3LjQ2LS43Ny4zMS0xLjI4LjctMS41NCwxLjE2djEwLjVjLjM0LjM4Ljg3LjY5LDEuNTkuOTQuNzIuMjUsMS41My4zNywyLjQyLjM3LDEuOTUsMCwzLjM0LS41Myw0LjE3LTEuNi44NC0xLjA3LDEuMjUtMi43NSwxLjI1LTUuMDdaIi8+PC9nPjwvZz48Zz48Zz48cGF0aCBjbGFzcz0iY2xzLTQiIGQ9Im0xNTUuMzcsNDQuMjNoLTE2LjM3Yy4zNCwxLjc5LDEuMDUsMy4wOCwyLjEyLDMuODcsMS4wNy43OSwyLjM3LDEuMTksMy45LDEuMTksMS4yMywwLDIuNTktLjE4LDQuMDgtLjUzLDEuNDktLjM2LDIuNjYtLjgyLDMuNTItMS40djUuNTZjLS44MS41OC0yLjAzLDEuMDMtMy42NSwxLjM3LTEuNjIuMzQtMi45My41LTMuOTIuNS0zLjkxLDAtNi45Ni0xLjA3LTkuMTUtMy4yLTIuMTktMi4xMy0zLjI5LTQuOTktMy4yOS04LjU3czEuMTItNi41MSwzLjM2LTguNzNjMi4yNC0yLjIxLDUuMDQtMy4zMiw4LjQtMy4zMnM2LjAzLDEuMTgsOC4wMywzLjU0YzEuOTksMi4zNiwyLjk4LDUuNiwyLjk3LDkuNzFabS01LjgxLTNjLS4zMS0xLjY1LS45NC0yLjktMS44OS0zLjc0LS45NS0uODQtMi4xMi0xLjI2LTMuNTItMS4yNi0xLjYzLDAtMi44Ny40Ni0zLjcsMS4zNi0uODMuOTEtMS4zMywyLjEyLTEuNTEsMy42NGgxMC42MloiLz48cGF0aCBjbGFzcz0iY2xzLTQiIGQ9Im0xNzkuNDcsNTQuMzZoLTQuODFsLTEuMzEtMi0zLjMyLDEuOGMtLjI4LjE1LS42Ny4yNi0xLjIuMzQtLjUyLjA3LS45OC4xMS0xLjM2LjExLTMuMjQsMC01LjcxLTEuMDktNy4zOS0zLjI3LTEuNjgtMi4xOC0yLjUzLTQuOTItMi41NS04LjIyLS4wMS0zLjU3LDEtNi40MSwzLjA0LTguNTIsMi4wNC0yLjExLDQuNzMtMy4xNyw4LjA4LTMuMTcuOTYsMCwxLjguMDgsMi41My4yMy43My4xNSwxLjQzLjQyLDIuMS44di05LjcyaDYuMTl2MzEuNjJabS02LjE5LTYuODF2LTkuNzhjLS4zNC0uNDEtLjkxLS43Ny0xLjctMS4wOC0uNzktLjMtMS42NS0uNDUtMi41OC0uNDUtMS43MiwwLTMsLjUtMy44NCwxLjUxLS44NCwxLjAxLTEuMjYsMi42MS0xLjI2LDQuODFzLjQ1LDMuOTEsMS4zNCw1LjAyYy44OSwxLjExLDIuMSwxLjY2LDMuNjMsMS42Ni45OCwwLDEuODUtLjE3LDIuNTktLjUuNzQtLjMzLDEuMzUtLjczLDEuODEtMS4xOVoiLz48L2c+PGc+PHBhdGggY2xhc3M9ImNscy0yIiBkPSJtMTU1LjM3LDQ0LjIzaC0xNi4zN2MuMzQsMS43OSwxLjA1LDMuMDgsMi4xMiwzLjg3LDEuMDcuNzksMi4zNywxLjE5LDMuOSwxLjE5LDEuMjMsMCwyLjU5LS4xOCw0LjA4LS41MywxLjQ5LS4zNiwyLjY2LS44MiwzLjUyLTEuNHY1LjU2Yy0uODEuNTgtMi4wMywxLjAzLTMuNjUsMS4zNy0xLjYyLjM0LTIuOTMuNS0zLjkyLjUtMy45MSwwLTYuOTYtMS4wNy05LjE1LTMuMi0yLjE5LTIuMTMtMy4yOS00Ljk5LTMuMjktOC41N3MxLjEyLTYuNTEsMy4zNi04LjczYzIuMjQtMi4yMSw1LjA0LTMuMzIsOC40LTMuMzJzNi4wMywxLjE4LDguMDMsMy41NGMxLjk5LDIuMzYsMi45OCw1LjYsMi45Nyw5LjcxWm0tNS44MS0zYy0uMzEtMS42NS0uOTQtMi45LTEuODktMy43NC0uOTUtLjg0LTIuMTItMS4yNi0zLjUyLTEuMjYtMS42MywwLTIuODcuNDYtMy43LDEuMzYtLjgzLjkxLTEuMzMsMi4xMi0xLjUxLDMuNjRoMTAuNjJaIi8+PHBhdGggY2xhc3M9ImNscy0yIiBkPSJtMTc5LjQ3LDU0LjM2aC00LjgxbC0xLjMxLTItMy4zMiwxLjhjLS4yOC4xNS0uNjcuMjYtMS4yLjM0LS41Mi4wNy0uOTguMTEtMS4zNi4xMS0zLjI0LDAtNS43MS0xLjA5LTcuMzktMy4yNy0xLjY4LTIuMTgtMi41My00LjkyLTIuNTUtOC4yMi0uMDEtMy41NywxLTYuNDEsMy4wNC04LjUyLDIuMDQtMi4xMSw0LjczLTMuMTcsOC4wOC0zLjE3Ljk2LDAsMS44LjA4LDIuNTMuMjMuNzMuMTUsMS40My40MiwyLjEuOHYtOS43Mmg2LjE5djMxLjYyWm0tNi4xOS02Ljgxdi05Ljc4Yy0uMzQtLjQxLS45MS0uNzctMS43LTEuMDgtLjc5LS4zLTEuNjUtLjQ1LTIuNTgtLjQ1LTEuNzIsMC0zLC41LTMuODQsMS41MS0uODQsMS4wMS0xLjI2LDIuNjEtMS4yNiw0Ljgxcy40NSwzLjkxLDEuMzQsNS4wMmMuODksMS4xMSwyLjEsMS42NiwzLjYzLDEuNjYuOTgsMCwxLjg1LS4xNywyLjU5LS41Ljc0LS4zMywxLjM1LS43MywxLjgxLTEuMTlaIi8+PC9nPjwvZz48cGF0aCBjbGFzcz0iY2xzLTEiIGQ9Im0xMjYuMTcsNTEuMzhoLTYuMTNsLTIuOTYtMTUuMDQtNS40NiwxMi45MmgtMi43OGwtNC45My0xMi4zMy0yLjk2LDE0LjQ1aC01LjgxbDUuOTgtMjYuOTJoMi4zbDcuMTQsMTUuODgsNy4xMy0xNS44OGgyLjQ4bDUuOTksMjYuOTJaIi8+PHBhdGggY2xhc3M9ImNscy0zIiBkPSJtMjAyLjMsMjIuMTNjMCw0LjQ2LTMuNSw3Ljk3LTguMDYsNy45N3MtOC4xMS0zLjUtOC4xMS03Ljk3LDMuNi03Ljg3LDguMTEtNy44Nyw4LjA2LDMuNSw4LjA2LDcuODdabS0xNC4xNiwwYzAsMy41LDIuNTksNi4yOSw2LjE0LDYuMjlzNi0yLjc4LDYtNi4yNC0yLjU0LTYuMzQtNi4wNS02LjM0LTYuMSwyLjgzLTYuMSw2LjI5Wm00Ljg1LDQuMTNoLTEuODJ2LTcuODdjLjcyLS4xNCwxLjczLS4yNCwzLjAyLS4yNCwxLjQ5LDAsMi4xNi4yNCwyLjc0LjU4LjQzLjM0Ljc3Ljk2Ljc3LDEuNzMsMCwuODYtLjY3LDEuNTQtMS42MywxLjgydi4xYy43Ny4yOSwxLjIuODYsMS40NCwxLjkyLjI0LDEuMi4zOCwxLjY4LjU4LDEuOTdoLTEuOTdjLS4yNC0uMjktLjM4LTEuMDEtLjYyLTEuOTItLjE0LS44Ni0uNjItMS4yNS0xLjYzLTEuMjVoLS44NnYzLjE3Wm0uMDUtNC40NmguODZjMS4wMSwwLDEuODItLjM0LDEuODItMS4xNSwwLS43Mi0uNTMtMS4yLTEuNjgtMS4yLS40OCwwLS44Mi4wNS0xLjAxLjF2Mi4yNloiLz48L2c+PC9zdmc+Cg=="
     ]
    }
   },
   "cell_type": "markdown",
   "id": "9a477f98",
   "metadata": {},
   "source": [
    "# 01. Web Scraping from PubMed\n",
    "\n",
    "This notebook showcases a data extraction process from **PubMed**, focusing on **neuroscience** articles published within the years 2022 and 2023. Leveraging the powerful `selenium` framework, the script navigates through the PubMed platform, systematically retrieving pertinent data from a variety of articles.\n",
    "\n",
    "![pubmed.svg](attachment:pubmed.svg)"
   ]
  },
  {
   "cell_type": "code",
   "execution_count": 1,
   "id": "516c6628",
   "metadata": {},
   "outputs": [],
   "source": [
    "# Libraries Importation\n",
    "\n",
    "import time\n",
    "import pandas as pd\n",
    "\n",
    "from selenium import webdriver\n",
    "from tqdm.notebook import tqdm\n",
    "from selenium.webdriver.common.by import By\n",
    "from selenium.webdriver.common.keys import Keys  \n",
    "from selenium.webdriver.support.ui import Select\n",
    "\n",
    "import warnings\n",
    "warnings.filterwarnings('ignore')"
   ]
  },
  {
   "cell_type": "code",
   "execution_count": 22,
   "id": "bdf8d463",
   "metadata": {},
   "outputs": [],
   "source": [
    "PATH = webdriver.FirefoxOptions()\n",
    "driver = webdriver.Firefox(options = PATH)"
   ]
  },
  {
   "cell_type": "markdown",
   "id": "17c81470",
   "metadata": {},
   "source": [
    "### Definition of the searching terms\n",
    "\n",
    "This search query in PubMed focuses on retrieving journal articles published in the years specified (2022 and 2023), written in English, containing the term `neuron` in their content, while excluding any articles categorized as reviews.\n",
    "\n",
    "    ((\"{year}\"[Date - Publication]) \n",
    "    AND (english[Language]) \n",
    "    AND (neuron[term]) \n",
    "    AND (journal article[Publication Type]) \n",
    "    NOT (review[Publication Type]))"
   ]
  },
  {
   "cell_type": "markdown",
   "id": "505bbc5f",
   "metadata": {},
   "source": [
    "### Define the # of articles following those parametters per year."
   ]
  },
  {
   "cell_type": "code",
   "execution_count": 23,
   "id": "96367206",
   "metadata": {},
   "outputs": [
    {
     "data": {
      "application/vnd.jupyter.widget-view+json": {
       "model_id": "dd4a9c8f7bfb42ce8f5926b31e8a274e",
       "version_major": 2,
       "version_minor": 0
      },
      "text/plain": [
       "  0%|          | 0/2 [00:00<?, ?it/s]"
      ]
     },
     "metadata": {},
     "output_type": "display_data"
    },
    {
     "name": "stdout",
     "output_type": "stream",
     "text": [
      "The search 2022 presents 443 articles in 45 pages\n",
      "The search 2023 presents 336 articles in 34 pages\n"
     ]
    }
   ],
   "source": [
    "years = [2022, 2023]\n",
    "num_pages = []\n",
    "url_list = []\n",
    "\n",
    "for year in tqdm(years):\n",
    "    url = f'https://pubmed.ncbi.nlm.nih.gov/?term=%28%28%22{year}%22%5BDate+-+Publication%5D%29+AND+%28english%5BLanguage%5D%29+AND+%28neuron%5Bterm%5D%29+AND+%28journal+article%5BPublication+Type%5D%29+NOT+%28review%5BPublication+Type%5D%29%292&sort=pubdate'\n",
    "    url_list.append(url)\n",
    "    driver.get(url)\n",
    "    time.sleep(10)\n",
    "\n",
    "    # Number of articles\n",
    "    num_art_selector = '.results-amount-container > div:nth-child(1)'\n",
    "    num_art = driver.find_elements(By.CSS_SELECTOR, num_art_selector)[0].text.split(' ')[0]\n",
    "\n",
    "    # # Number of pages\n",
    "    num_pag_selector = 'html body main#search-page.search-page div.inner-wrap div#search-results.search-results div.top-wrapper div.top-pagination div.page-number-wrapper label.of-total-pages'\n",
    "    num_pag = driver.find_elements(By.CSS_SELECTOR, num_pag_selector)[0].text.split(' ')[1]\n",
    "    num_pages.append(num_pag)\n",
    "\n",
    "    print(f'The search {year} presents {num_art} articles in {num_pag} pages')"
   ]
  },
  {
   "cell_type": "code",
   "execution_count": 26,
   "id": "2f1df107",
   "metadata": {},
   "outputs": [],
   "source": [
    "# Create a Dictionary to save the results\n",
    "\n",
    "articles = {'DOI': [],\n",
    "            'title': [],\n",
    "            'authors': [],\n",
    "            'affiliations': [],\n",
    "            'journal': [],\n",
    "            'year': [],\n",
    "            'month': [],\n",
    "            'volume': [],\n",
    "            'first_page': [],\n",
    "            'last_page': [],\n",
    "            'PMID': [],\n",
    "            'PMCID': [],\n",
    "            'abstract': []}"
   ]
  },
  {
   "cell_type": "code",
   "execution_count": 27,
   "id": "e3ba92f1",
   "metadata": {},
   "outputs": [
    {
     "data": {
      "application/vnd.jupyter.widget-view+json": {
       "model_id": "55616dfa619143f38b94eafaea31f207",
       "version_major": 2,
       "version_minor": 0
      },
      "text/plain": [
       "  0%|          | 0/2 [00:00<?, ?it/s]"
      ]
     },
     "metadata": {},
     "output_type": "display_data"
    },
    {
     "name": "stdout",
     "output_type": "stream",
     "text": [
      "CPU times: total: 4min 59s\n",
      "Wall time: 46min 53s\n"
     ]
    }
   ],
   "source": [
    "%%time\n",
    "\n",
    "for url in tqdm(url_list):\n",
    "    driver.get(url)\n",
    "    \n",
    "    # open the first article website\n",
    "    driver.find_elements(By.CSS_SELECTOR, 'a.docsum-title')[0].click()\n",
    "    time.sleep(1)\n",
    "    \n",
    "    while True:\n",
    "        \n",
    "        # toogle the affiliations\n",
    "        try:\n",
    "            driver.find_elements(By.CSS_SELECTOR, '#toggle-authors')[0].click()\n",
    "        except:\n",
    "            continue\n",
    "\n",
    "        # Feed the dictionary    \n",
    "        articles['title'].append(driver.find_element(By.CSS_SELECTOR, 'h1.heading-title').text)\n",
    "        articles['journal'].append(driver.find_element(By.CSS_SELECTOR, 'div.article-source').text.split('\\n')[0])\n",
    "        \n",
    "        try:\n",
    "            articles['DOI'].append(driver.find_element(By.CSS_SELECTOR, '#full-view-identifiers').text.split(' ')[-1])\n",
    "        except:\n",
    "            articles['DOI'].append('')\n",
    "            \n",
    "        try:\n",
    "            articles['authors'].append(driver.find_element(By.CSS_SELECTOR, 'div.authors').text.split(','))\n",
    "        except:\n",
    "            articles['authors'].append('')\n",
    "\n",
    "        try:\n",
    "            articles['affiliations'].append(driver.find_element(By.CSS_SELECTOR, 'div.affiliations').text.split('\\n')[2::2])\n",
    "        except:\n",
    "            articles['affiliations'].append('')\n",
    "\n",
    "        try:\n",
    "            articles['year'].append(driver.find_element(By.CSS_SELECTOR, 'div.article-source').text.split('.')[1].strip()[:4])\n",
    "        except:\n",
    "            articles['year'].append('')\n",
    "\n",
    "        try:\n",
    "            articles['month'].append(driver.find_element(By.CSS_SELECTOR, 'div.article-source').text.split('.')[1].strip()[5:8])  \n",
    "        except:\n",
    "            articles['month'].append('')\n",
    "\n",
    "        try:\n",
    "            articles['volume'].append(driver.find_element(By.CSS_SELECTOR, 'div.article-source').text.split(';')[1].strip().split(':')[0])\n",
    "        except:\n",
    "            articles['volume'].append('')\n",
    "\n",
    "        try:\n",
    "            articles['first_page'].append(driver.find_element(By.CSS_SELECTOR, 'div.article-source').text.split(';')[1].strip().split(':')[1].split('.')[0].split('-')[0])\n",
    "        except:\n",
    "            articles['first_page'].append(driver.find_element(By.CSS_SELECTOR, 'div.article-source').text)\n",
    "\n",
    "        try:        \n",
    "            articles['last_page'].append(driver.find_element(By.CSS_SELECTOR, 'div.article-source').text.split(';')[1].strip().split(':')[1].split('.')[0].split('-')[1])\n",
    "        except:\n",
    "            articles['last_page'].append('')\n",
    "\n",
    "        try:        \n",
    "            articles['PMID'].append(driver.find_element(By.CSS_SELECTOR, '#full-view-identifiers').text.split(' ')[1])\n",
    "        except:\n",
    "            articles['PMID'].append('')\n",
    "\n",
    "        try:\n",
    "            articles['PMCID'].append(driver.find_element(By.CSS_SELECTOR, '#full-view-identifiers').text.split(' ')[3])\n",
    "        except:\n",
    "            articles['PMCID'].append('')\n",
    "\n",
    "        try:\n",
    "            articles['abstract'].append(driver.find_element(By.CSS_SELECTOR, '#abstract').text.split('\\n')[1:])\n",
    "        except:\n",
    "            articles['abstract'].append('')\n",
    "        \n",
    "        try:\n",
    "            # Go to the next article\n",
    "            if len(driver.find_elements(By.CSS_SELECTOR, 'a.arrow-link:nth-child(1)')) == 1:\n",
    "                driver.find_elements(By.CSS_SELECTOR, 'a.arrow-link:nth-child(1)')[0].click()\n",
    "            else:\n",
    "                driver.find_elements(By.CSS_SELECTOR, 'a.arrow-link:nth-child(1)')[1].click()\n",
    "\n",
    "            # Wait 2 seconds\n",
    "            time.sleep(1)\n",
    "            \n",
    "        except:\n",
    "            break"
   ]
  },
  {
   "cell_type": "code",
   "execution_count": 28,
   "id": "67a27b2e",
   "metadata": {},
   "outputs": [],
   "source": [
    "driver.quit()"
   ]
  },
  {
   "cell_type": "code",
   "execution_count": null,
   "id": "79ba6c30",
   "metadata": {},
   "outputs": [],
   "source": [
    "articles_df = pd.DataFrame(articles)\n",
    "articles_df\n",
    "len(articles_df)"
   ]
  },
  {
   "cell_type": "code",
   "execution_count": 78,
   "id": "0c3f985f",
   "metadata": {},
   "outputs": [],
   "source": [
    "# Save the articles df as .csv\n",
    "\n",
    "articles_df.to_csv('../data/pubmed_articles_raw.csv', index = False)"
   ]
  }
 ],
 "metadata": {
  "kernelspec": {
   "display_name": "Python 3 (ipykernel)",
   "language": "python",
   "name": "python3"
  },
  "language_info": {
   "codemirror_mode": {
    "name": "ipython",
    "version": 3
   },
   "file_extension": ".py",
   "mimetype": "text/x-python",
   "name": "python",
   "nbconvert_exporter": "python",
   "pygments_lexer": "ipython3",
   "version": "3.11.4"
  }
 },
 "nbformat": 4,
 "nbformat_minor": 5
}
