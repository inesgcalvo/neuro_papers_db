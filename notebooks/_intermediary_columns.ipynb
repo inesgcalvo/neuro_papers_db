{
 "cells": [
  {
   "cell_type": "markdown",
   "id": "047779aa",
   "metadata": {},
   "source": [
    "# intermediary tables"
   ]
  },
  {
   "cell_type": "markdown",
   "id": "d9f9e406",
   "metadata": {},
   "source": [
    "INDEX"
   ]
  },
  {
   "cell_type": "code",
   "execution_count": 11,
   "id": "3aa0cd04",
   "metadata": {},
   "outputs": [],
   "source": [
    "# Libraries\n",
    "import pandas as pd\n",
    "\n",
    "# Abstract Syntax Trees\n",
    "import ast"
   ]
  },
  {
   "cell_type": "markdown",
   "id": "9e77d084",
   "metadata": {},
   "source": [
    "### Import tables"
   ]
  },
  {
   "cell_type": "code",
   "execution_count": 16,
   "id": "7ec54694",
   "metadata": {},
   "outputs": [],
   "source": [
    "pub = pd.read_csv('../data/publications_db.csv', )\n",
    "# res = pd.read_csv('../data/researchers_db.csv')\n",
    "aff = pd.read_csv('../data/aff_db.csv')\n",
    "jrn = pd.read_csv('../data/journals_db.csv')"
   ]
  },
  {
   "cell_type": "markdown",
   "id": "1f611f31",
   "metadata": {},
   "source": [
    "### Drop bad index"
   ]
  },
  {
   "cell_type": "code",
   "execution_count": 5,
   "id": "390a5920",
   "metadata": {},
   "outputs": [
    {
     "data": {
      "text/plain": [
       "(61981, 18)"
      ]
     },
     "metadata": {},
     "output_type": "display_data"
    },
    {
     "data": {
      "text/plain": [
       "(61981, 17)"
      ]
     },
     "metadata": {},
     "output_type": "display_data"
    }
   ],
   "source": [
    "to_drop = ['Unnamed: 0']\n",
    "display(pub.shape)\n",
    "pub = pub.drop(columns=to_drop)\n",
    "display(pub.shape)"
   ]
  },
  {
   "cell_type": "code",
   "execution_count": null,
   "id": "1ca03cc8",
   "metadata": {},
   "outputs": [],
   "source": [
    "# display(res.shape)\n",
    "# res = res.drop(columns=to_drop)\n",
    "# display(res.shape)"
   ]
  },
  {
   "cell_type": "code",
   "execution_count": null,
   "id": "6226ff6c",
   "metadata": {},
   "outputs": [],
   "source": [
    "display(aff.shape)\n",
    "aff = aff.drop(columns=to_drop)\n",
    "display(aff.shape)"
   ]
  },
  {
   "cell_type": "code",
   "execution_count": 8,
   "id": "51d2d441",
   "metadata": {},
   "outputs": [
    {
     "data": {
      "text/plain": [
       "(110, 62)"
      ]
     },
     "metadata": {},
     "output_type": "display_data"
    },
    {
     "data": {
      "text/plain": [
       "(110, 61)"
      ]
     },
     "metadata": {},
     "output_type": "display_data"
    }
   ],
   "source": [
    "display(jrn.shape)\n",
    "jrn = jrn.drop(columns=to_drop)\n",
    "display(jrn.shape)"
   ]
  },
  {
   "cell_type": "markdown",
   "id": "40fe47e7",
   "metadata": {},
   "source": [
    "## pub-res"
   ]
  },
  {
   "cell_type": "code",
   "execution_count": 9,
   "id": "7a9b56aa",
   "metadata": {},
   "outputs": [
    {
     "data": {
      "text/html": [
       "<div>\n",
       "<style scoped>\n",
       "    .dataframe tbody tr th:only-of-type {\n",
       "        vertical-align: middle;\n",
       "    }\n",
       "\n",
       "    .dataframe tbody tr th {\n",
       "        vertical-align: top;\n",
       "    }\n",
       "\n",
       "    .dataframe thead th {\n",
       "        text-align: right;\n",
       "    }\n",
       "</style>\n",
       "<table border=\"1\" class=\"dataframe\">\n",
       "  <thead>\n",
       "    <tr style=\"text-align: right;\">\n",
       "      <th></th>\n",
       "      <th>pub_id</th>\n",
       "      <th>journal_id</th>\n",
       "      <th>last_revision</th>\n",
       "      <th>volume</th>\n",
       "      <th>title</th>\n",
       "      <th>pages</th>\n",
       "      <th>DOI</th>\n",
       "      <th>authors</th>\n",
       "      <th>journal</th>\n",
       "      <th>abstract</th>\n",
       "      <th>abstract_words</th>\n",
       "      <th>keywords</th>\n",
       "      <th>terms</th>\n",
       "      <th>pub_type</th>\n",
       "      <th>citation</th>\n",
       "      <th>publication_year</th>\n",
       "      <th>pub_date</th>\n",
       "    </tr>\n",
       "  </thead>\n",
       "  <tbody>\n",
       "    <tr>\n",
       "      <th>0</th>\n",
       "      <td>38012702</td>\n",
       "      <td>105</td>\n",
       "      <td>2023-11-29</td>\n",
       "      <td>20.0</td>\n",
       "      <td>Neuroinflammation, memory, and depression: new...</td>\n",
       "      <td>283</td>\n",
       "      <td>10.1186/s12974-023-02964-x</td>\n",
       "      <td>['Wu, Anbiao', 'Zhang, Jiyan']</td>\n",
       "      <td>Journal of neuroinflammation</td>\n",
       "      <td>As one of most common and severe mental disord...</td>\n",
       "      <td>one common severe mental disorders , major dep...</td>\n",
       "      <td>['one', 'common', 'severe', 'mental', 'disorde...</td>\n",
       "      <td>['Hippocampal neurogenesis', 'Major depressive...</td>\n",
       "      <td>Journal Article</td>\n",
       "      <td>J Neuroinflammation. 2023 Nov 27;20(1):283. do...</td>\n",
       "      <td>2023</td>\n",
       "      <td>2023-01-01</td>\n",
       "    </tr>\n",
       "    <tr>\n",
       "      <th>1</th>\n",
       "      <td>38012669</td>\n",
       "      <td>105</td>\n",
       "      <td>2023-11-29</td>\n",
       "      <td>20.0</td>\n",
       "      <td>OTUD1 ameliorates cerebral ischemic injury thr...</td>\n",
       "      <td>281</td>\n",
       "      <td>10.1186/s12974-023-02968-7</td>\n",
       "      <td>['Zheng, Shengnan', 'Li, Yiquan', 'Song, Xiaom...</td>\n",
       "      <td>Journal of neuroinflammation</td>\n",
       "      <td>BACKGROUND: Inflammatory response triggered by...</td>\n",
       "      <td>BACKGROUND : Inflammatory response triggered i...</td>\n",
       "      <td>['background', 'inflammatory', 'response', 'tr...</td>\n",
       "      <td>['Cerebral ischemic injury', 'Inflammation', '...</td>\n",
       "      <td>Journal Article</td>\n",
       "      <td>J Neuroinflammation. 2023 Nov 27;20(1):281. do...</td>\n",
       "      <td>2023</td>\n",
       "      <td>2023-01-01</td>\n",
       "    </tr>\n",
       "  </tbody>\n",
       "</table>\n",
       "</div>"
      ],
      "text/plain": [
       "     pub_id  journal_id last_revision  volume  \\\n",
       "0  38012702         105    2023-11-29    20.0   \n",
       "1  38012669         105    2023-11-29    20.0   \n",
       "\n",
       "                                               title pages  \\\n",
       "0  Neuroinflammation, memory, and depression: new...   283   \n",
       "1  OTUD1 ameliorates cerebral ischemic injury thr...   281   \n",
       "\n",
       "                          DOI  \\\n",
       "0  10.1186/s12974-023-02964-x   \n",
       "1  10.1186/s12974-023-02968-7   \n",
       "\n",
       "                                             authors  \\\n",
       "0                     ['Wu, Anbiao', 'Zhang, Jiyan']   \n",
       "1  ['Zheng, Shengnan', 'Li, Yiquan', 'Song, Xiaom...   \n",
       "\n",
       "                        journal  \\\n",
       "0  Journal of neuroinflammation   \n",
       "1  Journal of neuroinflammation   \n",
       "\n",
       "                                            abstract  \\\n",
       "0  As one of most common and severe mental disord...   \n",
       "1  BACKGROUND: Inflammatory response triggered by...   \n",
       "\n",
       "                                      abstract_words  \\\n",
       "0  one common severe mental disorders , major dep...   \n",
       "1  BACKGROUND : Inflammatory response triggered i...   \n",
       "\n",
       "                                            keywords  \\\n",
       "0  ['one', 'common', 'severe', 'mental', 'disorde...   \n",
       "1  ['background', 'inflammatory', 'response', 'tr...   \n",
       "\n",
       "                                               terms         pub_type  \\\n",
       "0  ['Hippocampal neurogenesis', 'Major depressive...  Journal Article   \n",
       "1  ['Cerebral ischemic injury', 'Inflammation', '...  Journal Article   \n",
       "\n",
       "                                            citation  publication_year  \\\n",
       "0  J Neuroinflammation. 2023 Nov 27;20(1):283. do...              2023   \n",
       "1  J Neuroinflammation. 2023 Nov 27;20(1):281. do...              2023   \n",
       "\n",
       "     pub_date  \n",
       "0  2023-01-01  \n",
       "1  2023-01-01  "
      ]
     },
     "execution_count": 9,
     "metadata": {},
     "output_type": "execute_result"
    }
   ],
   "source": [
    "pub.head(2)"
   ]
  },
  {
   "cell_type": "code",
   "execution_count": null,
   "id": "019f555c",
   "metadata": {},
   "outputs": [],
   "source": [
    "# dataframe with [pub_id & auhors]"
   ]
  },
  {
   "cell_type": "code",
   "execution_count": 13,
   "id": "3bfe1c58",
   "metadata": {},
   "outputs": [
    {
     "name": "stderr",
     "output_type": "stream",
     "text": [
      "C:\\Users\\ingle\\AppData\\Local\\Temp\\ipykernel_15292\\1776630495.py:4: SettingWithCopyWarning: \n",
      "A value is trying to be set on a copy of a slice from a DataFrame.\n",
      "Try using .loc[row_indexer,col_indexer] = value instead\n",
      "\n",
      "See the caveats in the documentation: https://pandas.pydata.org/pandas-docs/stable/user_guide/indexing.html#returning-a-view-versus-a-copy\n",
      "  df_01['authors'] = df_01['authors'].apply(ast.literal_eval)\n"
     ]
    }
   ],
   "source": [
    "df_01 = pub[['pub_id', 'authors']]\n",
    "\n",
    "# Transform the strings to lists again\n",
    "df_01['authors'] = df_01['authors'].apply(ast.literal_eval)\n",
    "\n",
    "# Create a row per author\n",
    "df_01 = df_01.explode('authors')"
   ]
  },
  {
   "cell_type": "code",
   "execution_count": 14,
   "id": "0c4f615b",
   "metadata": {},
   "outputs": [
    {
     "data": {
      "text/html": [
       "<div>\n",
       "<style scoped>\n",
       "    .dataframe tbody tr th:only-of-type {\n",
       "        vertical-align: middle;\n",
       "    }\n",
       "\n",
       "    .dataframe tbody tr th {\n",
       "        vertical-align: top;\n",
       "    }\n",
       "\n",
       "    .dataframe thead th {\n",
       "        text-align: right;\n",
       "    }\n",
       "</style>\n",
       "<table border=\"1\" class=\"dataframe\">\n",
       "  <thead>\n",
       "    <tr style=\"text-align: right;\">\n",
       "      <th></th>\n",
       "      <th>pub_id</th>\n",
       "      <th>authors</th>\n",
       "    </tr>\n",
       "  </thead>\n",
       "  <tbody>\n",
       "    <tr>\n",
       "      <th>0</th>\n",
       "      <td>38012702</td>\n",
       "      <td>Wu, Anbiao</td>\n",
       "    </tr>\n",
       "    <tr>\n",
       "      <th>0</th>\n",
       "      <td>38012702</td>\n",
       "      <td>Zhang, Jiyan</td>\n",
       "    </tr>\n",
       "    <tr>\n",
       "      <th>1</th>\n",
       "      <td>38012669</td>\n",
       "      <td>Zheng, Shengnan</td>\n",
       "    </tr>\n",
       "    <tr>\n",
       "      <th>1</th>\n",
       "      <td>38012669</td>\n",
       "      <td>Li, Yiquan</td>\n",
       "    </tr>\n",
       "    <tr>\n",
       "      <th>1</th>\n",
       "      <td>38012669</td>\n",
       "      <td>Song, Xiaomeng</td>\n",
       "    </tr>\n",
       "    <tr>\n",
       "      <th>...</th>\n",
       "      <td>...</td>\n",
       "      <td>...</td>\n",
       "    </tr>\n",
       "    <tr>\n",
       "      <th>61979</th>\n",
       "      <td>31803544</td>\n",
       "      <td>Zhou, Meixue</td>\n",
       "    </tr>\n",
       "    <tr>\n",
       "      <th>61980</th>\n",
       "      <td>31803543</td>\n",
       "      <td>Dai, Lisong</td>\n",
       "    </tr>\n",
       "    <tr>\n",
       "      <th>61980</th>\n",
       "      <td>31803543</td>\n",
       "      <td>Zhou, Hongmei</td>\n",
       "    </tr>\n",
       "    <tr>\n",
       "      <th>61980</th>\n",
       "      <td>31803543</td>\n",
       "      <td>Xu, Xiangyang</td>\n",
       "    </tr>\n",
       "    <tr>\n",
       "      <th>61980</th>\n",
       "      <td>31803543</td>\n",
       "      <td>Zuo, Zhentao</td>\n",
       "    </tr>\n",
       "  </tbody>\n",
       "</table>\n",
       "<p>372016 rows × 2 columns</p>\n",
       "</div>"
      ],
      "text/plain": [
       "         pub_id          authors\n",
       "0      38012702       Wu, Anbiao\n",
       "0      38012702     Zhang, Jiyan\n",
       "1      38012669  Zheng, Shengnan\n",
       "1      38012669       Li, Yiquan\n",
       "1      38012669   Song, Xiaomeng\n",
       "...         ...              ...\n",
       "61979  31803544     Zhou, Meixue\n",
       "61980  31803543      Dai, Lisong\n",
       "61980  31803543    Zhou, Hongmei\n",
       "61980  31803543    Xu, Xiangyang\n",
       "61980  31803543     Zuo, Zhentao\n",
       "\n",
       "[372016 rows x 2 columns]"
      ]
     },
     "execution_count": 14,
     "metadata": {},
     "output_type": "execute_result"
    }
   ],
   "source": [
    "# add the res_id to the column\n",
    "\n"
   ]
  },
  {
   "cell_type": "markdown",
   "id": "97319c71",
   "metadata": {},
   "source": [
    "## pub-aff"
   ]
  },
  {
   "cell_type": "code",
   "execution_count": null,
   "id": "93a36d7d",
   "metadata": {},
   "outputs": [],
   "source": [
    "df_02 = pub[['pub_id', 'authors']]\n",
    "\n",
    "# Transform the strings to lists again\n",
    "df_02['authors'] = df_02['authors'].apply(ast.literal_eval)\n",
    "\n",
    "# Create a row per author\n",
    "df_02 = df_02.explode('authors')"
   ]
  },
  {
   "cell_type": "markdown",
   "id": "a79b5e3c",
   "metadata": {},
   "source": [
    "## jrn-res"
   ]
  },
  {
   "cell_type": "code",
   "execution_count": 10,
   "id": "f123376a",
   "metadata": {},
   "outputs": [
    {
     "data": {
      "text/html": [
       "<div>\n",
       "<style scoped>\n",
       "    .dataframe tbody tr th:only-of-type {\n",
       "        vertical-align: middle;\n",
       "    }\n",
       "\n",
       "    .dataframe tbody tr th {\n",
       "        vertical-align: top;\n",
       "    }\n",
       "\n",
       "    .dataframe thead th {\n",
       "        text-align: right;\n",
       "    }\n",
       "</style>\n",
       "<table border=\"1\" class=\"dataframe\">\n",
       "  <thead>\n",
       "    <tr style=\"text-align: right;\">\n",
       "      <th></th>\n",
       "      <th>journal_id</th>\n",
       "      <th>country_id</th>\n",
       "      <th>journal_name</th>\n",
       "      <th>num_articles</th>\n",
       "      <th>region</th>\n",
       "      <th>publisher</th>\n",
       "      <th>coverage</th>\n",
       "      <th>categories</th>\n",
       "      <th>areas</th>\n",
       "      <th>sjr_2010</th>\n",
       "      <th>...</th>\n",
       "      <th>hindex_2020</th>\n",
       "      <th>docs_2020</th>\n",
       "      <th>sjr_2021</th>\n",
       "      <th>quartile_2021</th>\n",
       "      <th>hindex_2021</th>\n",
       "      <th>docs_2021</th>\n",
       "      <th>sjr_2022</th>\n",
       "      <th>quartile_2022</th>\n",
       "      <th>hindex_2022</th>\n",
       "      <th>docs_2022</th>\n",
       "    </tr>\n",
       "  </thead>\n",
       "  <tbody>\n",
       "    <tr>\n",
       "      <th>0</th>\n",
       "      <td>0</td>\n",
       "      <td>756.0</td>\n",
       "      <td>Frontiers of Neurology and Neuroscience</td>\n",
       "      <td>325</td>\n",
       "      <td>Western Europe</td>\n",
       "      <td>S. Karger AG</td>\n",
       "      <td>2005-2019, 2021</td>\n",
       "      <td>Medicine (miscellaneous) (Q2); Neurology (clin...</td>\n",
       "      <td>Medicine; Neuroscience</td>\n",
       "      <td>0,456</td>\n",
       "      <td>...</td>\n",
       "      <td>32.0</td>\n",
       "      <td>0.0</td>\n",
       "      <td>0,199</td>\n",
       "      <td>Q4</td>\n",
       "      <td>32.0</td>\n",
       "      <td>14.0</td>\n",
       "      <td>0,506</td>\n",
       "      <td>Q3</td>\n",
       "      <td>32.0</td>\n",
       "      <td>0.0</td>\n",
       "    </tr>\n",
       "    <tr>\n",
       "      <th>1</th>\n",
       "      <td>1</td>\n",
       "      <td>840.0</td>\n",
       "      <td>PLoS Biology</td>\n",
       "      <td>4651</td>\n",
       "      <td>Northern America</td>\n",
       "      <td>Public Library of Science</td>\n",
       "      <td>2003-2022</td>\n",
       "      <td>Agricultural and Biological Sciences (miscella...</td>\n",
       "      <td>Agricultural and Biological Sciences; Biochemi...</td>\n",
       "      <td>7,847</td>\n",
       "      <td>...</td>\n",
       "      <td>293.0</td>\n",
       "      <td>348.0</td>\n",
       "      <td>3,928</td>\n",
       "      <td>Q1</td>\n",
       "      <td>293.0</td>\n",
       "      <td>337.0</td>\n",
       "      <td>4,005</td>\n",
       "      <td>Q1</td>\n",
       "      <td>293.0</td>\n",
       "      <td>403.0</td>\n",
       "    </tr>\n",
       "  </tbody>\n",
       "</table>\n",
       "<p>2 rows × 61 columns</p>\n",
       "</div>"
      ],
      "text/plain": [
       "   journal_id  country_id                             journal_name  \\\n",
       "0           0       756.0  Frontiers of Neurology and Neuroscience   \n",
       "1           1       840.0                             PLoS Biology   \n",
       "\n",
       "   num_articles            region                  publisher         coverage  \\\n",
       "0           325    Western Europe               S. Karger AG  2005-2019, 2021   \n",
       "1          4651  Northern America  Public Library of Science        2003-2022   \n",
       "\n",
       "                                          categories  \\\n",
       "0  Medicine (miscellaneous) (Q2); Neurology (clin...   \n",
       "1  Agricultural and Biological Sciences (miscella...   \n",
       "\n",
       "                                               areas sjr_2010  ...  \\\n",
       "0                             Medicine; Neuroscience    0,456  ...   \n",
       "1  Agricultural and Biological Sciences; Biochemi...    7,847  ...   \n",
       "\n",
       "  hindex_2020  docs_2020  sjr_2021 quartile_2021 hindex_2021  docs_2021  \\\n",
       "0        32.0        0.0     0,199            Q4        32.0       14.0   \n",
       "1       293.0      348.0     3,928            Q1       293.0      337.0   \n",
       "\n",
       "   sjr_2022 quartile_2022 hindex_2022  docs_2022  \n",
       "0     0,506            Q3        32.0        0.0  \n",
       "1     4,005            Q1       293.0      403.0  \n",
       "\n",
       "[2 rows x 61 columns]"
      ]
     },
     "execution_count": 10,
     "metadata": {},
     "output_type": "execute_result"
    }
   ],
   "source": [
    "jrn.head(2)"
   ]
  },
  {
   "cell_type": "markdown",
   "id": "e19f573b",
   "metadata": {},
   "source": [
    "## aff-res"
   ]
  },
  {
   "cell_type": "code",
   "execution_count": null,
   "id": "f801706e",
   "metadata": {},
   "outputs": [],
   "source": []
  }
 ],
 "metadata": {
  "kernelspec": {
   "display_name": "clase",
   "language": "python",
   "name": "clase"
  },
  "language_info": {
   "codemirror_mode": {
    "name": "ipython",
    "version": 3
   },
   "file_extension": ".py",
   "mimetype": "text/x-python",
   "name": "python",
   "nbconvert_exporter": "python",
   "pygments_lexer": "ipython3",
   "version": "3.11.5"
  },
  "toc": {
   "base_numbering": 1,
   "nav_menu": {},
   "number_sections": true,
   "sideBar": true,
   "skip_h1_title": false,
   "title_cell": "Table of Contents",
   "title_sidebar": "Contents",
   "toc_cell": false,
   "toc_position": {},
   "toc_section_display": true,
   "toc_window_display": false
  }
 },
 "nbformat": 4,
 "nbformat_minor": 5
}
