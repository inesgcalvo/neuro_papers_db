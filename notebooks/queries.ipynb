{
 "cells": [
  {
   "cell_type": "markdown",
   "id": "06804ecc",
   "metadata": {},
   "source": [
    "# ⚠️ 08. MongoDB Queries ⚠️\n",
    "\n",
    "This notebook serves as a pivotal tool for executing targeted queries within the MongoDB database.\n",
    "\n",
    "    # Search articles containing the string 'calvo' in 'authors'\n",
    "    {authors: { $regex: 'calvo', $options: 'i' }}\n",
    "\n",
    "    # Search articles containing the string 'cocaine' in 'title'\n",
    "    {title: { $regex: 'cocaine', $options: 'i' }}\n",
    "    \n",
    "⚠️ incomplete ⚠️"
   ]
  },
  {
   "cell_type": "code",
   "execution_count": 2,
   "id": "a9ea06c9",
   "metadata": {},
   "outputs": [],
   "source": [
    "# Import Libraries\n",
    "\n",
    "from tqdm.notebook import tqdm\n",
    "from pymongo import MongoClient"
   ]
  },
  {
   "cell_type": "markdown",
   "id": "dbcf8cd9",
   "metadata": {},
   "source": [
    "___"
   ]
  },
  {
   "cell_type": "code",
   "execution_count": 3,
   "id": "decbb197",
   "metadata": {},
   "outputs": [
    {
     "data": {
      "text/plain": [
       "MongoClient(host=['localhost:27017'], document_class=dict, tz_aware=False, connect=True)"
      ]
     },
     "execution_count": 3,
     "metadata": {},
     "output_type": "execute_result"
    }
   ],
   "source": [
    "str_conn = 'mongodb://localhost:27017/'\n",
    "cursor = MongoClient(str_conn)\n",
    "cursor"
   ]
  },
  {
   "cell_type": "code",
   "execution_count": 4,
   "id": "09ee3ea0",
   "metadata": {},
   "outputs": [],
   "source": [
    "db = cursor['publications']"
   ]
  },
  {
   "cell_type": "markdown",
   "id": "473b92b9",
   "metadata": {},
   "source": [
    "____"
   ]
  }
 ],
 "metadata": {
  "kernelspec": {
   "display_name": "Python 3 (ipykernel)",
   "language": "python",
   "name": "python3"
  },
  "language_info": {
   "codemirror_mode": {
    "name": "ipython",
    "version": 3
   },
   "file_extension": ".py",
   "mimetype": "text/x-python",
   "name": "python",
   "nbconvert_exporter": "python",
   "pygments_lexer": "ipython3",
   "version": "3.11.4"
  }
 },
 "nbformat": 4,
 "nbformat_minor": 5
}
