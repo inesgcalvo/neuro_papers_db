{
 "cells": [
  {
   "cell_type": "markdown",
   "id": "f9d5ba3a",
   "metadata": {},
   "source": [
    "# Data Enrichment\n",
    "\n",
    "This notebook focuses on comprehensive **data enrichment** of the extracted articles from PubMed."
   ]
  },
  {
   "cell_type": "code",
   "execution_count": 1,
   "id": "711a8d2e",
   "metadata": {},
   "outputs": [],
   "source": [
    "# import re\n",
    "import sys\n",
    "# import ast\n",
    "import pandas as pd\n",
    "\n",
    "# and Functions\n",
    "sys.path.append('../src')\n",
    "from support_01 import *\n",
    "from support_02 import *\n",
    "\n",
    "import warnings\n",
    "warnings.filterwarnings('ignore')"
   ]
  },
  {
   "cell_type": "code",
   "execution_count": 2,
   "id": "a9e3cd11",
   "metadata": {},
   "outputs": [
    {
     "data": {
      "text/plain": [
       "(200, 1)"
      ]
     },
     "execution_count": 2,
     "metadata": {},
     "output_type": "execute_result"
    }
   ],
   "source": [
    "df = pd.read_csv('../data/articles_journals_df.csv')\n",
    "df.shape"
   ]
  },
  {
   "cell_type": "markdown",
   "id": "2f99637c",
   "metadata": {},
   "source": [
    "##### Example of extracted data\n",
    "\n",
    "'PMID- 37815691\\nOWN - NLM\\nSTAT- MEDLINE\\nDCOM- 20231121\\nLR  - 20231123\\nIS  - 1995-8218 (Electronic)\\nIS  - 1673-7067 (Print)\\nIS  - 1995-8218 (Linking)\\nVI  - 39\\nIP  - 12\\nDP  - 2023 Dec\\nTI  - Propofol Brings on the Light for Depression Therapy.\\nPG  - 1891-1894\\nLID - 10.1007/s12264-023-01133-7 [doi]\\nFAU - Yan, Yun\\nAU  - Yan Y\\nAUID- ORCID: 0000-0002-9993-4959\\nAD  - Department of Anesthesiology, China-Japan Friendship Hospital, Chinese Academy of \\n      Medical Sciences and Peking Union Medical College, Beijing, 100029, China.\\nFAU - Ma, Hongli\\nAU  - Ma H\\nAUID- ORCID: 0000-0001-8925-1372\\nAD  - Department of Anesthesiology, China-Japan Friendship Hospital, Chinese Academy of \\n      Medical Sciences and Peking Union Medical College, Beijing, 100029, China.\\nFAU - Zhao, Jing\\nAU  - Zhao J\\nAUID- ORCID: 0000-0002-4640-2609\\nAD  - Department of Anesthesiology, China-Japan Friendship Hospital, Chinese Academy of \\n      Medical Sciences and Peking Union Medical College, Beijing, 100029, China. \\n      zhaojing1009@aliyun.com.\\nLA  - eng\\nPT  - Journal Article\\nDEP - 20231010\\nPL  - Singapore\\nTA  - Neurosci Bull\\nJT  - Neuroscience bulletin\\nJID - 101256850\\nRN  - YI7VU623SF (Propofol)\\nSB  - IM\\nMH  - *Propofol/therapeutic use\\nMH  - Depression/drug therapy\\nPMC - PMC10661581\\nCOIS- The authors declare that there are no conflicts of interest.\\nEDAT- 2023/10/10 12:43\\nMHDA- 2023/11/21 06:43\\nPMCR- 2024/12/01\\nCRDT- 2023/10/10 11:11\\nPHST- 2023/04/11 00:00 [received]\\nPHST- 2023/08/22 00:00 [accepted]\\nPHST- 2024/12/01 00:00 [pmc-release]\\nPHST- 2023/11/21 06:43 [medline]\\nPHST- 2023/10/10 12:43 [pubmed]\\nPHST- 2023/10/10 11:11 [entrez]\\nAID - 10.1007/s12264-023-01133-7 [pii]\\nAID - 1133 [pii]\\nAID - 10.1007/s12264-023-01133-7 [doi]\\nPST - ppublish\\nSO  - Neurosci Bull. 2023 Dec;39(12):1891-1894. doi: 10.1007/s12264-023-01133-7. Epub \\n      2023 Oct 10.'"
   ]
  },
  {
   "cell_type": "code",
   "execution_count": 3,
   "id": "459fc695",
   "metadata": {},
   "outputs": [],
   "source": [
    "articles = df.copy()"
   ]
  },
  {
   "cell_type": "code",
   "execution_count": 4,
   "id": "a3bd83f4",
   "metadata": {},
   "outputs": [
    {
     "data": {
      "text/plain": [
       "(200, 36)"
      ]
     },
     "execution_count": 4,
     "metadata": {},
     "output_type": "execute_result"
    }
   ],
   "source": [
    "articles = pd.concat([articles, articles['0'].apply(lambda x: pd.Series(extraer_informacion(x)))], axis = 1)\n",
    "articles.drop('0', axis = 1, inplace = True)\n",
    "articles.shape"
   ]
  },
  {
   "cell_type": "code",
   "execution_count": 5,
   "id": "dae333d6",
   "metadata": {},
   "outputs": [
    {
     "data": {
      "text/html": [
       "<div>\n",
       "<style scoped>\n",
       "    .dataframe tbody tr th:only-of-type {\n",
       "        vertical-align: middle;\n",
       "    }\n",
       "\n",
       "    .dataframe tbody tr th {\n",
       "        vertical-align: top;\n",
       "    }\n",
       "\n",
       "    .dataframe thead th {\n",
       "        text-align: right;\n",
       "    }\n",
       "</style>\n",
       "<table border=\"1\" class=\"dataframe\">\n",
       "  <thead>\n",
       "    <tr style=\"text-align: right;\">\n",
       "      <th></th>\n",
       "      <th>PMID</th>\n",
       "      <th>OWN</th>\n",
       "      <th>STAT</th>\n",
       "      <th>DCOM</th>\n",
       "      <th>LR</th>\n",
       "      <th>IS</th>\n",
       "      <th>VI</th>\n",
       "      <th>IP</th>\n",
       "      <th>DP</th>\n",
       "      <th>Title</th>\n",
       "      <th>...</th>\n",
       "      <th>SB</th>\n",
       "      <th>MH</th>\n",
       "      <th>PMC</th>\n",
       "      <th>COIS</th>\n",
       "      <th>Received_Date</th>\n",
       "      <th>Accepted_Date</th>\n",
       "      <th>Reference</th>\n",
       "      <th>Dep</th>\n",
       "      <th>Place</th>\n",
       "      <th>Abstract</th>\n",
       "    </tr>\n",
       "  </thead>\n",
       "  <tbody>\n",
       "    <tr>\n",
       "      <th>0</th>\n",
       "      <td>37815691</td>\n",
       "      <td>NLM</td>\n",
       "      <td>MEDLINE</td>\n",
       "      <td>20231121</td>\n",
       "      <td>20231123</td>\n",
       "      <td>[1995-8218 (Electronic), 1673-7067 (Print), 19...</td>\n",
       "      <td>39</td>\n",
       "      <td>12</td>\n",
       "      <td>2023 Dec</td>\n",
       "      <td>Propofol Brings on the Light for Depression Th...</td>\n",
       "      <td>...</td>\n",
       "      <td>IM</td>\n",
       "      <td>[*Propofol/therapeutic use, Depression/drug th...</td>\n",
       "      <td>PMC10661581</td>\n",
       "      <td>The authors declare that there are no conflict...</td>\n",
       "      <td>2023/04/11 00:00</td>\n",
       "      <td>2023/08/22 00:00</td>\n",
       "      <td>Neurosci Bull. 2023 Dec;39(12):1891-1894. doi:...</td>\n",
       "      <td>20231010</td>\n",
       "      <td>Singapore</td>\n",
       "      <td>NaN</td>\n",
       "    </tr>\n",
       "    <tr>\n",
       "      <th>1</th>\n",
       "      <td>37812301</td>\n",
       "      <td>NLM</td>\n",
       "      <td>MEDLINE</td>\n",
       "      <td>20231127</td>\n",
       "      <td>20231127</td>\n",
       "      <td>[1995-8218 (Electronic), 1673-7067 (Print), 19...</td>\n",
       "      <td>39</td>\n",
       "      <td>12</td>\n",
       "      <td>2023 Dec</td>\n",
       "      <td>Alterations of Audiovisual Integration in Alzh...</td>\n",
       "      <td>...</td>\n",
       "      <td>IM</td>\n",
       "      <td>[Animals, Humans, *Alzheimer Disease/pathology...</td>\n",
       "      <td>PMC10661680</td>\n",
       "      <td>The authors declare that they have no conflict...</td>\n",
       "      <td>2023/04/12 00:00</td>\n",
       "      <td>2023/06/22 00:00</td>\n",
       "      <td>Neurosci Bull. 2023 Dec;39(12):1859-1872. doi:...</td>\n",
       "      <td>20231009</td>\n",
       "      <td>Singapore</td>\n",
       "      <td>Audiovisual integration is a vital information...</td>\n",
       "    </tr>\n",
       "  </tbody>\n",
       "</table>\n",
       "<p>2 rows × 36 columns</p>\n",
       "</div>"
      ],
      "text/plain": [
       "       PMID  OWN     STAT      DCOM        LR  \\\n",
       "0  37815691  NLM  MEDLINE  20231121  20231123   \n",
       "1  37812301  NLM  MEDLINE  20231127  20231127   \n",
       "\n",
       "                                                  IS  VI  IP        DP  \\\n",
       "0  [1995-8218 (Electronic), 1673-7067 (Print), 19...  39  12  2023 Dec   \n",
       "1  [1995-8218 (Electronic), 1673-7067 (Print), 19...  39  12  2023 Dec   \n",
       "\n",
       "                                               Title  ...  SB  \\\n",
       "0  Propofol Brings on the Light for Depression Th...  ...  IM   \n",
       "1  Alterations of Audiovisual Integration in Alzh...  ...  IM   \n",
       "\n",
       "                                                  MH          PMC  \\\n",
       "0  [*Propofol/therapeutic use, Depression/drug th...  PMC10661581   \n",
       "1  [Animals, Humans, *Alzheimer Disease/pathology...  PMC10661680   \n",
       "\n",
       "                                                COIS     Received_Date  \\\n",
       "0  The authors declare that there are no conflict...  2023/04/11 00:00   \n",
       "1  The authors declare that they have no conflict...  2023/04/12 00:00   \n",
       "\n",
       "      Accepted_Date                                          Reference  \\\n",
       "0  2023/08/22 00:00  Neurosci Bull. 2023 Dec;39(12):1891-1894. doi:...   \n",
       "1  2023/06/22 00:00  Neurosci Bull. 2023 Dec;39(12):1859-1872. doi:...   \n",
       "\n",
       "        Dep      Place                                           Abstract  \n",
       "0  20231010  Singapore                                                NaN  \n",
       "1  20231009  Singapore  Audiovisual integration is a vital information...  \n",
       "\n",
       "[2 rows x 36 columns]"
      ]
     },
     "execution_count": 5,
     "metadata": {},
     "output_type": "execute_result"
    }
   ],
   "source": [
    "articles.head(2)"
   ]
  },
  {
   "cell_type": "code",
   "execution_count": 6,
   "id": "721c1022",
   "metadata": {},
   "outputs": [
    {
     "data": {
      "text/plain": [
       "Index(['PMID', 'OWN', 'STAT', 'DCOM', 'LR', 'IS', 'VI', 'IP', 'DP', 'Title',\n",
       "       'Pages', 'DOI', 'Authors', 'First_Author', 'Last_Author',\n",
       "       'First_Auth_ID', 'Last_Auth_ID', 'Auth_aff_list', 'First_Auth_aff',\n",
       "       'Last_Auth_aff', 'Jr_abb', 'Journal', 'Lang', 'Pub_Type', 'JID', 'RN',\n",
       "       'SB', 'MH', 'PMC', 'COIS', 'Received_Date', 'Accepted_Date',\n",
       "       'Reference', 'Dep', 'Place', 'Abstract'],\n",
       "      dtype='object')"
      ]
     },
     "execution_count": 6,
     "metadata": {},
     "output_type": "execute_result"
    }
   ],
   "source": [
    "articles.columns"
   ]
  },
  {
   "cell_type": "markdown",
   "id": "0e06866c",
   "metadata": {},
   "source": [
    "___\n",
    "\n",
    "### Data cleansing protocol for the DataFrame:\n",
    "\n",
    "    01. remove empty space from column names and cells:\n",
    "    remove_spaces_column_names(df);\n",
    "    remove_spaces_columns(df);\n",
    "\n",
    "    02. Find duplicates and remove them if needed:\n",
    "    any_duplicate(df)\n",
    "    specific_duplicates(df, col1, col2)\n",
    "    drop_duplicates(df)\n",
    "\n",
    "    03. Find NaN values and visualize them.\n",
    "    nan(df) \n",
    "    view_nan(df) \n",
    "\n",
    "    04. Check the columns that are constant or present low variance:\n",
    "    low_variance(df) \n",
    "    unique_values(df)\n",
    "    constant_columns(df)\n",
    "\n",
    "    * Evaluate if the constant or low variance columns are needed or can be droped:\n",
    "    df.drop('column', axis = 1, inplace = True)\n",
    "\n",
    "    05. Find cells containing special characters:\n",
    "    find_special_chars(df, patron = r'[?¿*$%&]')\n",
    "\n",
    "    06. export the clean table as csv:\n",
    "    df.to_csv('../output_clean/df.csv', index = False)"
   ]
  },
  {
   "cell_type": "code",
   "execution_count": 8,
   "id": "50ca434c",
   "metadata": {},
   "outputs": [
    {
     "data": {
      "image/png": "[encoded data removed]",
      "text/plain": [
       "<Figure size 1000x600 with 1 Axes>"
      ]
     },
     "metadata": {
      "needs_background": "light"
     },
     "output_type": "display_data"
    }
   ],
   "source": [
    "view_nan(articles) "
   ]
  },
  {
   "cell_type": "code",
   "execution_count": null,
   "id": "13dcf3cf",
   "metadata": {},
   "outputs": [],
   "source": []
  },
  {
   "cell_type": "code",
   "execution_count": null,
   "id": "6180fb9c",
   "metadata": {},
   "outputs": [],
   "source": []
  },
  {
   "cell_type": "code",
   "execution_count": null,
   "id": "b1a32c4f",
   "metadata": {},
   "outputs": [],
   "source": []
  },
  {
   "cell_type": "code",
   "execution_count": null,
   "id": "8305ae90",
   "metadata": {},
   "outputs": [],
   "source": []
  },
  {
   "cell_type": "code",
   "execution_count": null,
   "id": "cf63a591",
   "metadata": {},
   "outputs": [],
   "source": [
    "error"
   ]
  },
  {
   "cell_type": "code",
   "execution_count": null,
   "id": "382929cd",
   "metadata": {},
   "outputs": [],
   "source": [
    "# There are NaN values in two columns: \n",
    "# volumnes and last_page.\n",
    "# This is because the absence of protocol \n",
    "# form in the article source\n",
    "\n",
    "articles['first_page'].value_counts()"
   ]
  },
  {
   "cell_type": "code",
   "execution_count": null,
   "id": "5c4a2bf4",
   "metadata": {},
   "outputs": [],
   "source": [
    "bad_results = {'article_source': [], \n",
    "               'index': []}\n",
    "\n",
    "bad_res = articles['first_page'].str.split(\"\\n\").tolist()\n",
    "\n",
    "for i, res in enumerate(bad_res):\n",
    "    if len(res) > 1:\n",
    "        bad_results['article_source'].append(res)\n",
    "        bad_results['index'].append(i)\n",
    "    else:\n",
    "        continue"
   ]
  },
  {
   "cell_type": "code",
   "execution_count": null,
   "id": "ffd3bffc",
   "metadata": {},
   "outputs": [],
   "source": [
    "bad_results_df = pd.DataFrame(bad_results)\n",
    "bad_results_df.head(2)"
   ]
  },
  {
   "cell_type": "code",
   "execution_count": null,
   "id": "85739904",
   "metadata": {},
   "outputs": [],
   "source": [
    "# I need to extract the information from 'first_page' \n",
    "# to feed 'volumne' and 'last_page'\n",
    "# and maintain just the good value in 'first_page' \n",
    "\n",
    "for i in range(228):\n",
    "\n",
    "    article_source = bad_results_df['article_source'][i][-1]\n",
    "\n",
    "    # Using Regex to find the value in between ':' for volume\n",
    "    match_vol = re.search(r\"^(.*):(.*):(.*)$\", article_source)\n",
    "\n",
    "    # Si se encuentra un valor, lo agrega a la nueva columna\n",
    "    if match_vol:\n",
    "        bad_results_df.loc[i, 'volumes'] = match_vol.group(2)\n",
    "        \n",
    "        try:\n",
    "            bad_results_df.loc[i, 'first_page'] = match_vol.group(3).split('-')[0]\n",
    "        except:\n",
    "            continue\n",
    "            \n",
    "        try:    \n",
    "            bad_results_df.loc[i, 'last_page'] = match_vol.group(3).split('-')[1]\n",
    "        except:\n",
    "            continue\n",
    "\n",
    "            break"
   ]
  },
  {
   "cell_type": "code",
   "execution_count": null,
   "id": "8b382f34",
   "metadata": {},
   "outputs": [],
   "source": [
    "# Now, the extracteddd data from thee article source is categorized\n",
    "bad_results_df.head()"
   ]
  },
  {
   "cell_type": "code",
   "execution_count": null,
   "id": "4f19c3a9",
   "metadata": {},
   "outputs": [],
   "source": [
    "for j in range(len(bad_results_df)):\n",
    "    for i in bad_results_df['index']:\n",
    "        articles.loc[i, 'first_page'] = bad_results_df.loc[j, 'first_page']\n",
    "        articles.loc[i, 'last_page'] = bad_results_df.loc[j, 'last_page']\n",
    "        articles.loc[i, 'volume'] = bad_results_df.loc[j, 'volumes']"
   ]
  },
  {
   "cell_type": "code",
   "execution_count": null,
   "id": "9a9cb4a2",
   "metadata": {},
   "outputs": [],
   "source": [
    "articles.head(2)"
   ]
  },
  {
   "cell_type": "code",
   "execution_count": null,
   "id": "7589deea",
   "metadata": {},
   "outputs": [],
   "source": [
    "any_duplicate(articles)"
   ]
  },
  {
   "cell_type": "code",
   "execution_count": null,
   "id": "858a76f3",
   "metadata": {},
   "outputs": [],
   "source": [
    "drop_duplicates(articles)\n",
    "any_duplicate(articles)"
   ]
  },
  {
   "cell_type": "code",
   "execution_count": null,
   "id": "ab9ce67c",
   "metadata": {},
   "outputs": [],
   "source": [
    "view_nan(articles) "
   ]
  },
  {
   "cell_type": "code",
   "execution_count": null,
   "id": "d85bd42d",
   "metadata": {},
   "outputs": [],
   "source": [
    "articles = articles.loc[articles['DOI'].notnull()]"
   ]
  },
  {
   "cell_type": "code",
   "execution_count": null,
   "id": "8a50fe9f",
   "metadata": {},
   "outputs": [],
   "source": [
    "articles['volume'].fillna('none', inplace = True)\n",
    "articles['first_page'].fillna('none', inplace = True)\n",
    "articles['last_page'].fillna('none', inplace = True)\n",
    "articles['href'].fillna('none', inplace = True)\n",
    "articles['json_href'].fillna('none', inplace = True)"
   ]
  },
  {
   "cell_type": "code",
   "execution_count": null,
   "id": "d8a62905",
   "metadata": {},
   "outputs": [],
   "source": [
    "view_nan(articles) "
   ]
  },
  {
   "cell_type": "code",
   "execution_count": null,
   "id": "dd401c01",
   "metadata": {},
   "outputs": [],
   "source": [
    "low_variance(articles) "
   ]
  },
  {
   "cell_type": "code",
   "execution_count": null,
   "id": "72663cd3",
   "metadata": {},
   "outputs": [],
   "source": [
    "unique_values(articles)"
   ]
  },
  {
   "cell_type": "code",
   "execution_count": null,
   "id": "cbadf148",
   "metadata": {},
   "outputs": [],
   "source": [
    "constant_columns(articles)"
   ]
  },
  {
   "cell_type": "code",
   "execution_count": null,
   "id": "935c2f6c",
   "metadata": {},
   "outputs": [],
   "source": [
    "find_special_chars(articles, patron = r'[?¿*$%&]')"
   ]
  },
  {
   "cell_type": "code",
   "execution_count": null,
   "id": "a96dbc06",
   "metadata": {},
   "outputs": [],
   "source": [
    "articles = articles.reset_index(drop = True)"
   ]
  }
 ],
 "metadata": {
  "kernelspec": {
   "display_name": "Python 3 (ipykernel)",
   "language": "python",
   "name": "python3"
  },
  "language_info": {
   "codemirror_mode": {
    "name": "ipython",
    "version": 3
   },
   "file_extension": ".py",
   "mimetype": "text/x-python",
   "name": "python",
   "nbconvert_exporter": "python",
   "pygments_lexer": "ipython3",
   "version": "3.11.4"
  },
  "toc": {
   "base_numbering": 1,
   "nav_menu": {},
   "number_sections": true,
   "sideBar": true,
   "skip_h1_title": false,
   "title_cell": "Table of Contents",
   "title_sidebar": "Contents",
   "toc_cell": false,
   "toc_position": {},
   "toc_section_display": true,
   "toc_window_display": false
  }
 },
 "nbformat": 4,
 "nbformat_minor": 5
}
