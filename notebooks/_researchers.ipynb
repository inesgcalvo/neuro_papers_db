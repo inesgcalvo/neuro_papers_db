{
 "cells": [
  {
   "cell_type": "markdown",
   "id": "5126108a",
   "metadata": {},
   "source": [
    "# researchers"
   ]
  },
  {
   "cell_type": "markdown",
   "id": "3470d7e6",
   "metadata": {},
   "source": [
    "INDEX"
   ]
  },
  {
   "cell_type": "code",
   "execution_count": 52,
   "id": "ed4e504d",
   "metadata": {},
   "outputs": [],
   "source": [
    "# Libraries\n",
    "import pandas as pd\n",
    "\n",
    "# Abstract Syntax Trees\n",
    "import ast\n",
    "\n",
    "# API tools\n",
    "import requests\n",
    "\n",
    "# progress bar\n",
    "from tqdm.notebook import tqdm\n",
    "\n",
    "# Multiprocessing\n",
    "from joblib import Parallel, delayed, effective_n_jobs\n",
    "\n",
    "# Functions\n",
    "import sys\n",
    "sys.path.append('../src')\n",
    "from support_clean import *"
   ]
  },
  {
   "cell_type": "markdown",
   "id": "292ff97a",
   "metadata": {},
   "source": [
    "### Import researchers_df"
   ]
  },
  {
   "cell_type": "code",
   "execution_count": 2,
   "id": "b769e981",
   "metadata": {},
   "outputs": [
    {
     "data": {
      "text/html": [
       "<div>\n",
       "<style scoped>\n",
       "    .dataframe tbody tr th:only-of-type {\n",
       "        vertical-align: middle;\n",
       "    }\n",
       "\n",
       "    .dataframe tbody tr th {\n",
       "        vertical-align: top;\n",
       "    }\n",
       "\n",
       "    .dataframe thead th {\n",
       "        text-align: right;\n",
       "    }\n",
       "</style>\n",
       "<table border=\"1\" class=\"dataframe\">\n",
       "  <thead>\n",
       "    <tr style=\"text-align: right;\">\n",
       "      <th></th>\n",
       "      <th>Unnamed: 0</th>\n",
       "      <th>pub_id</th>\n",
       "      <th>authors</th>\n",
       "      <th>journal_id</th>\n",
       "      <th>first_auth</th>\n",
       "      <th>last_auth</th>\n",
       "      <th>auth_aff_list</th>\n",
       "      <th>first_auth_aff</th>\n",
       "      <th>last_auth_aff</th>\n",
       "    </tr>\n",
       "  </thead>\n",
       "  <tbody>\n",
       "    <tr>\n",
       "      <th>0</th>\n",
       "      <td>0</td>\n",
       "      <td>38012702</td>\n",
       "      <td>['Wu, Anbiao', 'Zhang, Jiyan']</td>\n",
       "      <td>101222974.0</td>\n",
       "      <td>Wu, Anbiao</td>\n",
       "      <td>Zhang, Jiyan</td>\n",
       "      <td>['Beijing Institute of Basic Medical Sciences,...</td>\n",
       "      <td>Beijing Institute of Basic Medical Sciences, B...</td>\n",
       "      <td>Beijing Institute of Basic Medical Sciences, B...</td>\n",
       "    </tr>\n",
       "    <tr>\n",
       "      <th>1</th>\n",
       "      <td>1</td>\n",
       "      <td>38012669</td>\n",
       "      <td>['Zheng, Shengnan', 'Li, Yiquan', 'Song, Xiaom...</td>\n",
       "      <td>101222974.0</td>\n",
       "      <td>Zheng, Shengnan</td>\n",
       "      <td>Liu, Huiqing</td>\n",
       "      <td>['Department of Pharmacology, School of Basic ...</td>\n",
       "      <td>Department of Pharmacology, School of Basic Me...</td>\n",
       "      <td>Department of Rehabilitation Medicine, The Sec...</td>\n",
       "    </tr>\n",
       "  </tbody>\n",
       "</table>\n",
       "</div>"
      ],
      "text/plain": [
       "   Unnamed: 0    pub_id                                            authors  \\\n",
       "0           0  38012702                     ['Wu, Anbiao', 'Zhang, Jiyan']   \n",
       "1           1  38012669  ['Zheng, Shengnan', 'Li, Yiquan', 'Song, Xiaom...   \n",
       "\n",
       "    journal_id       first_auth     last_auth  \\\n",
       "0  101222974.0       Wu, Anbiao  Zhang, Jiyan   \n",
       "1  101222974.0  Zheng, Shengnan  Liu, Huiqing   \n",
       "\n",
       "                                       auth_aff_list  \\\n",
       "0  ['Beijing Institute of Basic Medical Sciences,...   \n",
       "1  ['Department of Pharmacology, School of Basic ...   \n",
       "\n",
       "                                      first_auth_aff  \\\n",
       "0  Beijing Institute of Basic Medical Sciences, B...   \n",
       "1  Department of Pharmacology, School of Basic Me...   \n",
       "\n",
       "                                       last_auth_aff  \n",
       "0  Beijing Institute of Basic Medical Sciences, B...  \n",
       "1  Department of Rehabilitation Medicine, The Sec...  "
      ]
     },
     "execution_count": 2,
     "metadata": {},
     "output_type": "execute_result"
    }
   ],
   "source": [
    "researchers = pd.read_csv('../data/researchers_df.csv')\n",
    "researchers.head(2)"
   ]
  },
  {
   "cell_type": "markdown",
   "id": "08fd3e45",
   "metadata": {},
   "source": [
    "## Data Cleansing"
   ]
  },
  {
   "cell_type": "code",
   "execution_count": 3,
   "id": "be51a724",
   "metadata": {},
   "outputs": [],
   "source": [
    "df = researchers.copy()"
   ]
  },
  {
   "cell_type": "code",
   "execution_count": 4,
   "id": "4d62c8bb",
   "metadata": {},
   "outputs": [
    {
     "data": {
      "text/plain": [
       "(61981, 9)"
      ]
     },
     "metadata": {},
     "output_type": "display_data"
    },
    {
     "data": {
      "text/plain": [
       "(61981, 8)"
      ]
     },
     "metadata": {},
     "output_type": "display_data"
    }
   ],
   "source": [
    "to_drop = ['Unnamed: 0']\n",
    "display(df.shape)\n",
    "df = df.drop(columns=to_drop)\n",
    "display(df.shape)"
   ]
  },
  {
   "cell_type": "code",
   "execution_count": 5,
   "id": "a071843b",
   "metadata": {},
   "outputs": [
    {
     "data": {
      "text/html": [
       "<div>\n",
       "<style scoped>\n",
       "    .dataframe tbody tr th:only-of-type {\n",
       "        vertical-align: middle;\n",
       "    }\n",
       "\n",
       "    .dataframe tbody tr th {\n",
       "        vertical-align: top;\n",
       "    }\n",
       "\n",
       "    .dataframe thead th {\n",
       "        text-align: right;\n",
       "    }\n",
       "</style>\n",
       "<table border=\"1\" class=\"dataframe\">\n",
       "  <thead>\n",
       "    <tr style=\"text-align: right;\">\n",
       "      <th></th>\n",
       "      <th>pub_id</th>\n",
       "      <th>authors</th>\n",
       "      <th>journal_id</th>\n",
       "      <th>first_auth</th>\n",
       "      <th>last_auth</th>\n",
       "      <th>auth_aff_list</th>\n",
       "      <th>first_auth_aff</th>\n",
       "      <th>last_auth_aff</th>\n",
       "    </tr>\n",
       "  </thead>\n",
       "  <tbody>\n",
       "    <tr>\n",
       "      <th>0</th>\n",
       "      <td>38012702</td>\n",
       "      <td>['Wu, Anbiao', 'Zhang, Jiyan']</td>\n",
       "      <td>101222974.0</td>\n",
       "      <td>Wu, Anbiao</td>\n",
       "      <td>Zhang, Jiyan</td>\n",
       "      <td>['Beijing Institute of Basic Medical Sciences,...</td>\n",
       "      <td>Beijing Institute of Basic Medical Sciences, B...</td>\n",
       "      <td>Beijing Institute of Basic Medical Sciences, B...</td>\n",
       "    </tr>\n",
       "    <tr>\n",
       "      <th>1</th>\n",
       "      <td>38012669</td>\n",
       "      <td>['Zheng, Shengnan', 'Li, Yiquan', 'Song, Xiaom...</td>\n",
       "      <td>101222974.0</td>\n",
       "      <td>Zheng, Shengnan</td>\n",
       "      <td>Liu, Huiqing</td>\n",
       "      <td>['Department of Pharmacology, School of Basic ...</td>\n",
       "      <td>Department of Pharmacology, School of Basic Me...</td>\n",
       "      <td>Department of Rehabilitation Medicine, The Sec...</td>\n",
       "    </tr>\n",
       "  </tbody>\n",
       "</table>\n",
       "</div>"
      ],
      "text/plain": [
       "     pub_id                                            authors   journal_id  \\\n",
       "0  38012702                     ['Wu, Anbiao', 'Zhang, Jiyan']  101222974.0   \n",
       "1  38012669  ['Zheng, Shengnan', 'Li, Yiquan', 'Song, Xiaom...  101222974.0   \n",
       "\n",
       "        first_auth     last_auth  \\\n",
       "0       Wu, Anbiao  Zhang, Jiyan   \n",
       "1  Zheng, Shengnan  Liu, Huiqing   \n",
       "\n",
       "                                       auth_aff_list  \\\n",
       "0  ['Beijing Institute of Basic Medical Sciences,...   \n",
       "1  ['Department of Pharmacology, School of Basic ...   \n",
       "\n",
       "                                      first_auth_aff  \\\n",
       "0  Beijing Institute of Basic Medical Sciences, B...   \n",
       "1  Department of Pharmacology, School of Basic Me...   \n",
       "\n",
       "                                       last_auth_aff  \n",
       "0  Beijing Institute of Basic Medical Sciences, B...  \n",
       "1  Department of Rehabilitation Medicine, The Sec...  "
      ]
     },
     "execution_count": 5,
     "metadata": {},
     "output_type": "execute_result"
    }
   ],
   "source": [
    "df = df.rename(columns={'ID': 'pub_id'})\n",
    "df.head(2)"
   ]
  },
  {
   "cell_type": "markdown",
   "id": "80752f10",
   "metadata": {},
   "source": [
    "### Create a df of researchers"
   ]
  },
  {
   "cell_type": "code",
   "execution_count": 6,
   "id": "75b74da2",
   "metadata": {},
   "outputs": [],
   "source": [
    "# Transform the strings to lists again\n",
    "df['authors'] = df['authors'].apply(ast.literal_eval)\n",
    "df_authors = df.explode('authors')"
   ]
  },
  {
   "cell_type": "code",
   "execution_count": 7,
   "id": "b118920e",
   "metadata": {},
   "outputs": [
    {
     "data": {
      "text/html": [
       "<div>\n",
       "<style scoped>\n",
       "    .dataframe tbody tr th:only-of-type {\n",
       "        vertical-align: middle;\n",
       "    }\n",
       "\n",
       "    .dataframe tbody tr th {\n",
       "        vertical-align: top;\n",
       "    }\n",
       "\n",
       "    .dataframe thead th {\n",
       "        text-align: right;\n",
       "    }\n",
       "</style>\n",
       "<table border=\"1\" class=\"dataframe\">\n",
       "  <thead>\n",
       "    <tr style=\"text-align: right;\">\n",
       "      <th></th>\n",
       "      <th>pub_id</th>\n",
       "      <th>authors</th>\n",
       "      <th>journal_id</th>\n",
       "      <th>first_auth</th>\n",
       "      <th>last_auth</th>\n",
       "      <th>auth_aff_list</th>\n",
       "      <th>first_auth_aff</th>\n",
       "      <th>last_auth_aff</th>\n",
       "    </tr>\n",
       "  </thead>\n",
       "  <tbody>\n",
       "    <tr>\n",
       "      <th>0</th>\n",
       "      <td>38012702</td>\n",
       "      <td>Wu, Anbiao</td>\n",
       "      <td>101222974.0</td>\n",
       "      <td>Wu, Anbiao</td>\n",
       "      <td>Zhang, Jiyan</td>\n",
       "      <td>['Beijing Institute of Basic Medical Sciences,...</td>\n",
       "      <td>Beijing Institute of Basic Medical Sciences, B...</td>\n",
       "      <td>Beijing Institute of Basic Medical Sciences, B...</td>\n",
       "    </tr>\n",
       "    <tr>\n",
       "      <th>0</th>\n",
       "      <td>38012702</td>\n",
       "      <td>Zhang, Jiyan</td>\n",
       "      <td>101222974.0</td>\n",
       "      <td>Wu, Anbiao</td>\n",
       "      <td>Zhang, Jiyan</td>\n",
       "      <td>['Beijing Institute of Basic Medical Sciences,...</td>\n",
       "      <td>Beijing Institute of Basic Medical Sciences, B...</td>\n",
       "      <td>Beijing Institute of Basic Medical Sciences, B...</td>\n",
       "    </tr>\n",
       "    <tr>\n",
       "      <th>1</th>\n",
       "      <td>38012669</td>\n",
       "      <td>Zheng, Shengnan</td>\n",
       "      <td>101222974.0</td>\n",
       "      <td>Zheng, Shengnan</td>\n",
       "      <td>Liu, Huiqing</td>\n",
       "      <td>['Department of Pharmacology, School of Basic ...</td>\n",
       "      <td>Department of Pharmacology, School of Basic Me...</td>\n",
       "      <td>Department of Rehabilitation Medicine, The Sec...</td>\n",
       "    </tr>\n",
       "    <tr>\n",
       "      <th>1</th>\n",
       "      <td>38012669</td>\n",
       "      <td>Li, Yiquan</td>\n",
       "      <td>101222974.0</td>\n",
       "      <td>Zheng, Shengnan</td>\n",
       "      <td>Liu, Huiqing</td>\n",
       "      <td>['Department of Pharmacology, School of Basic ...</td>\n",
       "      <td>Department of Pharmacology, School of Basic Me...</td>\n",
       "      <td>Department of Rehabilitation Medicine, The Sec...</td>\n",
       "    </tr>\n",
       "    <tr>\n",
       "      <th>1</th>\n",
       "      <td>38012669</td>\n",
       "      <td>Song, Xiaomeng</td>\n",
       "      <td>101222974.0</td>\n",
       "      <td>Zheng, Shengnan</td>\n",
       "      <td>Liu, Huiqing</td>\n",
       "      <td>['Department of Pharmacology, School of Basic ...</td>\n",
       "      <td>Department of Pharmacology, School of Basic Me...</td>\n",
       "      <td>Department of Rehabilitation Medicine, The Sec...</td>\n",
       "    </tr>\n",
       "  </tbody>\n",
       "</table>\n",
       "</div>"
      ],
      "text/plain": [
       "     pub_id          authors   journal_id       first_auth     last_auth  \\\n",
       "0  38012702       Wu, Anbiao  101222974.0       Wu, Anbiao  Zhang, Jiyan   \n",
       "0  38012702     Zhang, Jiyan  101222974.0       Wu, Anbiao  Zhang, Jiyan   \n",
       "1  38012669  Zheng, Shengnan  101222974.0  Zheng, Shengnan  Liu, Huiqing   \n",
       "1  38012669       Li, Yiquan  101222974.0  Zheng, Shengnan  Liu, Huiqing   \n",
       "1  38012669   Song, Xiaomeng  101222974.0  Zheng, Shengnan  Liu, Huiqing   \n",
       "\n",
       "                                       auth_aff_list  \\\n",
       "0  ['Beijing Institute of Basic Medical Sciences,...   \n",
       "0  ['Beijing Institute of Basic Medical Sciences,...   \n",
       "1  ['Department of Pharmacology, School of Basic ...   \n",
       "1  ['Department of Pharmacology, School of Basic ...   \n",
       "1  ['Department of Pharmacology, School of Basic ...   \n",
       "\n",
       "                                      first_auth_aff  \\\n",
       "0  Beijing Institute of Basic Medical Sciences, B...   \n",
       "0  Beijing Institute of Basic Medical Sciences, B...   \n",
       "1  Department of Pharmacology, School of Basic Me...   \n",
       "1  Department of Pharmacology, School of Basic Me...   \n",
       "1  Department of Pharmacology, School of Basic Me...   \n",
       "\n",
       "                                       last_auth_aff  \n",
       "0  Beijing Institute of Basic Medical Sciences, B...  \n",
       "0  Beijing Institute of Basic Medical Sciences, B...  \n",
       "1  Department of Rehabilitation Medicine, The Sec...  \n",
       "1  Department of Rehabilitation Medicine, The Sec...  \n",
       "1  Department of Rehabilitation Medicine, The Sec...  "
      ]
     },
     "execution_count": 7,
     "metadata": {},
     "output_type": "execute_result"
    }
   ],
   "source": [
    "df_authors[:5]"
   ]
  },
  {
   "cell_type": "markdown",
   "id": "713d1df2",
   "metadata": {},
   "source": [
    "### Create the researchers ID: res_id"
   ]
  },
  {
   "cell_type": "code",
   "execution_count": 8,
   "id": "3e8fa1b2",
   "metadata": {},
   "outputs": [
    {
     "data": {
      "text/plain": [
       "372016"
      ]
     },
     "metadata": {},
     "output_type": "display_data"
    },
    {
     "data": {
      "text/plain": [
       "228898"
      ]
     },
     "metadata": {},
     "output_type": "display_data"
    }
   ],
   "source": [
    "# Create a list with the unique researchers\n",
    "researchers_list = df_authors['authors']\n",
    "display(len(researchers_list))\n",
    "researchers_list = list(set(researchers_list))\n",
    "display(len(researchers_list))"
   ]
  },
  {
   "cell_type": "code",
   "execution_count": 11,
   "id": "c6057c1e",
   "metadata": {},
   "outputs": [],
   "source": [
    "# Transform to df\n",
    "researchers_df = pd.DataFrame(researchers_list)"
   ]
  },
  {
   "cell_type": "code",
   "execution_count": 12,
   "id": "9fc859cf",
   "metadata": {},
   "outputs": [],
   "source": [
    "researchers_df = researchers_df.rename(columns={0: 'researcher'})"
   ]
  },
  {
   "cell_type": "code",
   "execution_count": 13,
   "id": "65d236ca",
   "metadata": {},
   "outputs": [],
   "source": [
    "# Create a column with the surnames\n",
    "researchers_df['surname'] = [row.split(',')[0] for row in researchers_df['researcher']]"
   ]
  },
  {
   "cell_type": "code",
   "execution_count": 14,
   "id": "86913490",
   "metadata": {},
   "outputs": [],
   "source": [
    "# Create a column with the names\n",
    "erratic_names = []\n",
    "\n",
    "def name_column(x): \n",
    "    '''\n",
    "    '''\n",
    "    try:\n",
    "        if ',' in x:\n",
    "            name = x.split(',')[1]\n",
    "            return name\n",
    "        elif len(x.split(' ')) == 2:\n",
    "            name = x.split(' ')[0]\n",
    "            return name\n",
    "        elif len(x.split(' ')) > 2:\n",
    "            return ''\n",
    "        else: \n",
    "            erratic_names.append(x)\n",
    "            return x\n",
    "    except:\n",
    "        erratic_names.append(x)\n",
    "        return x"
   ]
  },
  {
   "cell_type": "code",
   "execution_count": 15,
   "id": "502a3282",
   "metadata": {},
   "outputs": [],
   "source": [
    "researchers_df['name'] = researchers_df['researcher'].apply(name_column)"
   ]
  },
  {
   "cell_type": "code",
   "execution_count": 16,
   "id": "bfbd7dee",
   "metadata": {},
   "outputs": [
    {
     "data": {
      "text/html": [
       "<div>\n",
       "<style scoped>\n",
       "    .dataframe tbody tr th:only-of-type {\n",
       "        vertical-align: middle;\n",
       "    }\n",
       "\n",
       "    .dataframe tbody tr th {\n",
       "        vertical-align: top;\n",
       "    }\n",
       "\n",
       "    .dataframe thead th {\n",
       "        text-align: right;\n",
       "    }\n",
       "</style>\n",
       "<table border=\"1\" class=\"dataframe\">\n",
       "  <thead>\n",
       "    <tr style=\"text-align: right;\">\n",
       "      <th></th>\n",
       "      <th>researcher</th>\n",
       "      <th>surname</th>\n",
       "      <th>name</th>\n",
       "    </tr>\n",
       "  </thead>\n",
       "  <tbody>\n",
       "    <tr>\n",
       "      <th>0</th>\n",
       "      <td>Zhang, Yihe</td>\n",
       "      <td>Zhang</td>\n",
       "      <td>Yihe</td>\n",
       "    </tr>\n",
       "    <tr>\n",
       "      <th>1</th>\n",
       "      <td>El Achkar, Christelle M</td>\n",
       "      <td>El Achkar</td>\n",
       "      <td>Christelle M</td>\n",
       "    </tr>\n",
       "    <tr>\n",
       "      <th>2</th>\n",
       "      <td>Fang, Yiyuan</td>\n",
       "      <td>Fang</td>\n",
       "      <td>Yiyuan</td>\n",
       "    </tr>\n",
       "    <tr>\n",
       "      <th>3</th>\n",
       "      <td>Park, Dong Woo</td>\n",
       "      <td>Park</td>\n",
       "      <td>Dong Woo</td>\n",
       "    </tr>\n",
       "    <tr>\n",
       "      <th>4</th>\n",
       "      <td>Cai, Weijia</td>\n",
       "      <td>Cai</td>\n",
       "      <td>Weijia</td>\n",
       "    </tr>\n",
       "  </tbody>\n",
       "</table>\n",
       "</div>"
      ],
      "text/plain": [
       "                researcher    surname           name\n",
       "0              Zhang, Yihe      Zhang           Yihe\n",
       "1  El Achkar, Christelle M  El Achkar   Christelle M\n",
       "2             Fang, Yiyuan       Fang         Yiyuan\n",
       "3           Park, Dong Woo       Park       Dong Woo\n",
       "4              Cai, Weijia        Cai         Weijia"
      ]
     },
     "execution_count": 16,
     "metadata": {},
     "output_type": "execute_result"
    }
   ],
   "source": [
    "researchers_df.head()"
   ]
  },
  {
   "cell_type": "code",
   "execution_count": 20,
   "id": "3f98cb53",
   "metadata": {},
   "outputs": [],
   "source": [
    "# Create res_id\n",
    "researchers_df['res_id'] = researchers_df.index"
   ]
  },
  {
   "cell_type": "code",
   "execution_count": 24,
   "id": "565bfacf",
   "metadata": {},
   "outputs": [
    {
     "data": {
      "text/html": [
       "<div>\n",
       "<style scoped>\n",
       "    .dataframe tbody tr th:only-of-type {\n",
       "        vertical-align: middle;\n",
       "    }\n",
       "\n",
       "    .dataframe tbody tr th {\n",
       "        vertical-align: top;\n",
       "    }\n",
       "\n",
       "    .dataframe thead th {\n",
       "        text-align: right;\n",
       "    }\n",
       "</style>\n",
       "<table border=\"1\" class=\"dataframe\">\n",
       "  <thead>\n",
       "    <tr style=\"text-align: right;\">\n",
       "      <th></th>\n",
       "      <th>researcher</th>\n",
       "      <th>surname</th>\n",
       "      <th>name</th>\n",
       "      <th>res_id</th>\n",
       "    </tr>\n",
       "  </thead>\n",
       "  <tbody>\n",
       "    <tr>\n",
       "      <th>0</th>\n",
       "      <td>Zhang, Yihe</td>\n",
       "      <td>Zhang</td>\n",
       "      <td>Yihe</td>\n",
       "      <td>0</td>\n",
       "    </tr>\n",
       "    <tr>\n",
       "      <th>1</th>\n",
       "      <td>El Achkar, Christelle M</td>\n",
       "      <td>El Achkar</td>\n",
       "      <td>Christelle M</td>\n",
       "      <td>1</td>\n",
       "    </tr>\n",
       "    <tr>\n",
       "      <th>2</th>\n",
       "      <td>Fang, Yiyuan</td>\n",
       "      <td>Fang</td>\n",
       "      <td>Yiyuan</td>\n",
       "      <td>2</td>\n",
       "    </tr>\n",
       "    <tr>\n",
       "      <th>3</th>\n",
       "      <td>Park, Dong Woo</td>\n",
       "      <td>Park</td>\n",
       "      <td>Dong Woo</td>\n",
       "      <td>3</td>\n",
       "    </tr>\n",
       "    <tr>\n",
       "      <th>4</th>\n",
       "      <td>Cai, Weijia</td>\n",
       "      <td>Cai</td>\n",
       "      <td>Weijia</td>\n",
       "      <td>4</td>\n",
       "    </tr>\n",
       "  </tbody>\n",
       "</table>\n",
       "</div>"
      ],
      "text/plain": [
       "                researcher    surname           name  res_id\n",
       "0              Zhang, Yihe      Zhang           Yihe       0\n",
       "1  El Achkar, Christelle M  El Achkar   Christelle M       1\n",
       "2             Fang, Yiyuan       Fang         Yiyuan       2\n",
       "3           Park, Dong Woo       Park       Dong Woo       3\n",
       "4              Cai, Weijia        Cai         Weijia       4"
      ]
     },
     "execution_count": 24,
     "metadata": {},
     "output_type": "execute_result"
    }
   ],
   "source": [
    "researchers_df.head()"
   ]
  },
  {
   "cell_type": "code",
   "execution_count": 27,
   "id": "f85a591e",
   "metadata": {},
   "outputs": [],
   "source": [
    "# Change the order of the columns\n",
    "researchers_df = researchers_df[['res_id', 'researcher', 'surname', 'name']]"
   ]
  },
  {
   "cell_type": "markdown",
   "id": "b49e073f",
   "metadata": {},
   "source": [
    "### Consider identifying the gender of the author based on their name, recognizing that this method may not always accurately reflect personal gender identity. Exercise sensitivity and be aware of the potential for inaccuracies in the process\n",
    "\n",
    "**genderize.io** is a free API, but limited at 1000 requests by day.\n",
    "\n",
    "    url = f'https://api.genderize.io/?name[]={name}'   \n",
    "\n",
    "**The answer will be like this:**\n",
    "\n",
    "    { \"name\": \"peter\",\n",
    "      \"gender\": \"male\",\n",
    "      \"probability\": 0.99,\n",
    "      \"count\": 165452 }"
   ]
  },
  {
   "cell_type": "code",
   "execution_count": null,
   "id": "171114ef",
   "metadata": {},
   "outputs": [],
   "source": [
    "error"
   ]
  },
  {
   "cell_type": "code",
   "execution_count": 29,
   "id": "acbbc96e",
   "metadata": {},
   "outputs": [],
   "source": [
    "names = researchers_df['name']"
   ]
  },
  {
   "cell_type": "code",
   "execution_count": 54,
   "id": "5b5d9b2b",
   "metadata": {},
   "outputs": [],
   "source": [
    "with open('../genderizer_api.txt', 'r') as file:\n",
    "    genderized_api = file.read().strip()"
   ]
  },
  {
   "cell_type": "code",
   "execution_count": 55,
   "id": "d5f2266b",
   "metadata": {},
   "outputs": [],
   "source": [
    "# Create a list of urls\n",
    "url_list = []\n",
    "\n",
    "for name in names:\n",
    "    \n",
    "    if len(name.split(' ')) > 1:\n",
    "        n = name.split(' ')[1]\n",
    "    else:\n",
    "        n = name\n",
    "        \n",
    "    url = f'https://api.genderize.io?name={n}&apikey={genderized_api}'\n",
    "    url_list.append(url)"
   ]
  },
  {
   "cell_type": "code",
   "execution_count": 56,
   "id": "b8136b4a",
   "metadata": {},
   "outputs": [],
   "source": [
    "gender = []\n",
    "gender_prob = []\n",
    "\n",
    "def get_gender(url):\n",
    "    '''\n",
    "    '''\n",
    "    res = requests.get(url)\n",
    "    res_api = res.json()\n",
    "    gender.append(res_api['gender'])\n",
    "    gender_prob.append(res_api['probability'])\n",
    "    return gender, gender_prob"
   ]
  },
  {
   "cell_type": "code",
   "execution_count": 57,
   "id": "1329f1a6",
   "metadata": {},
   "outputs": [
    {
     "name": "stdout",
     "output_type": "stream",
     "text": [
      "Number of cores: 8\n"
     ]
    }
   ],
   "source": [
    "print(f\"Number of cores: {effective_n_jobs()}\")"
   ]
  },
  {
   "cell_type": "code",
   "execution_count": 60,
   "id": "09993382",
   "metadata": {},
   "outputs": [
    {
     "data": {
      "application/vnd.jupyter.widget-view+json": {
       "model_id": "090e5169fcd04ab3af04c8592bb61055",
       "version_major": 2,
       "version_minor": 0
      },
      "text/plain": [
       "  0%|          | 0/8 [00:00<?, ?it/s]"
      ]
     },
     "metadata": {},
     "output_type": "display_data"
    }
   ],
   "source": [
    "parallel = Parallel(n_jobs = 4, verbose=False)\n",
    "output = parallel(delayed(get_gender)(url) for url in tqdm(url_list[:8]))"
   ]
  },
  {
   "cell_type": "code",
   "execution_count": 72,
   "id": "a971c101",
   "metadata": {},
   "outputs": [],
   "source": [
    "output_df = pd.DataFrame(output, columns=['gender', 'gender_prob'])"
   ]
  },
  {
   "cell_type": "code",
   "execution_count": 73,
   "id": "6f64d173",
   "metadata": {},
   "outputs": [
    {
     "data": {
      "text/html": [
       "<div>\n",
       "<style scoped>\n",
       "    .dataframe tbody tr th:only-of-type {\n",
       "        vertical-align: middle;\n",
       "    }\n",
       "\n",
       "    .dataframe tbody tr th {\n",
       "        vertical-align: top;\n",
       "    }\n",
       "\n",
       "    .dataframe thead th {\n",
       "        text-align: right;\n",
       "    }\n",
       "</style>\n",
       "<table border=\"1\" class=\"dataframe\">\n",
       "  <thead>\n",
       "    <tr style=\"text-align: right;\">\n",
       "      <th></th>\n",
       "      <th>gender</th>\n",
       "      <th>gender_prob</th>\n",
       "    </tr>\n",
       "  </thead>\n",
       "  <tbody>\n",
       "    <tr>\n",
       "      <th>0</th>\n",
       "      <td>[male]</td>\n",
       "      <td>[0.63]</td>\n",
       "    </tr>\n",
       "    <tr>\n",
       "      <th>1</th>\n",
       "      <td>[female]</td>\n",
       "      <td>[0.99]</td>\n",
       "    </tr>\n",
       "    <tr>\n",
       "      <th>2</th>\n",
       "      <td>[male]</td>\n",
       "      <td>[0.78]</td>\n",
       "    </tr>\n",
       "    <tr>\n",
       "      <th>3</th>\n",
       "      <td>[male]</td>\n",
       "      <td>[0.99]</td>\n",
       "    </tr>\n",
       "    <tr>\n",
       "      <th>4</th>\n",
       "      <td>[female]</td>\n",
       "      <td>[0.6]</td>\n",
       "    </tr>\n",
       "    <tr>\n",
       "      <th>5</th>\n",
       "      <td>[female]</td>\n",
       "      <td>[1.0]</td>\n",
       "    </tr>\n",
       "    <tr>\n",
       "      <th>6</th>\n",
       "      <td>[male]</td>\n",
       "      <td>[0.99]</td>\n",
       "    </tr>\n",
       "    <tr>\n",
       "      <th>7</th>\n",
       "      <td>[female]</td>\n",
       "      <td>[1.0]</td>\n",
       "    </tr>\n",
       "  </tbody>\n",
       "</table>\n",
       "</div>"
      ],
      "text/plain": [
       "     gender gender_prob\n",
       "0    [male]      [0.63]\n",
       "1  [female]      [0.99]\n",
       "2    [male]      [0.78]\n",
       "3    [male]      [0.99]\n",
       "4  [female]       [0.6]\n",
       "5  [female]       [1.0]\n",
       "6    [male]      [0.99]\n",
       "7  [female]       [1.0]"
      ]
     },
     "execution_count": 73,
     "metadata": {},
     "output_type": "execute_result"
    }
   ],
   "source": [
    "output_df"
   ]
  },
  {
   "cell_type": "code",
   "execution_count": null,
   "id": "66bc00e5",
   "metadata": {},
   "outputs": [],
   "source": [
    "researchers_df['gender'] = output_df['gender']\n",
    "researchers_df['gender_prob'] = output_df['gender_prob']"
   ]
  },
  {
   "cell_type": "code",
   "execution_count": null,
   "id": "51c12ea9",
   "metadata": {},
   "outputs": [],
   "source": [
    "researchers_df.to_csv('../data/researchers_gender_db.csv')"
   ]
  },
  {
   "cell_type": "code",
   "execution_count": null,
   "id": "a1762ccf",
   "metadata": {},
   "outputs": [],
   "source": []
  },
  {
   "cell_type": "code",
   "execution_count": null,
   "id": "967d9cbb",
   "metadata": {},
   "outputs": [],
   "source": []
  },
  {
   "cell_type": "code",
   "execution_count": null,
   "id": "2f98b1d7",
   "metadata": {},
   "outputs": [],
   "source": []
  },
  {
   "cell_type": "code",
   "execution_count": null,
   "id": "5aad033b",
   "metadata": {},
   "outputs": [],
   "source": []
  },
  {
   "cell_type": "code",
   "execution_count": null,
   "id": "ce8439da",
   "metadata": {},
   "outputs": [],
   "source": []
  },
  {
   "cell_type": "markdown",
   "id": "32f16802",
   "metadata": {},
   "source": [
    "### Create a list of affiliations"
   ]
  },
  {
   "cell_type": "code",
   "execution_count": 9,
   "id": "e6f88868",
   "metadata": {},
   "outputs": [],
   "source": [
    "df['auth_aff_list'] = df['auth_aff_list'].fillna('[]')"
   ]
  },
  {
   "cell_type": "code",
   "execution_count": 10,
   "id": "17948d7d",
   "metadata": {},
   "outputs": [],
   "source": [
    "df['auth_aff_list'] = df['auth_aff_list'].apply(ast.literal_eval)"
   ]
  },
  {
   "cell_type": "code",
   "execution_count": 12,
   "id": "5d11bfd6",
   "metadata": {},
   "outputs": [],
   "source": [
    "df_affiliations = df.explode('auth_aff_list')"
   ]
  },
  {
   "cell_type": "code",
   "execution_count": 13,
   "id": "e7d33970",
   "metadata": {},
   "outputs": [
    {
     "data": {
      "text/html": [
       "<div>\n",
       "<style scoped>\n",
       "    .dataframe tbody tr th:only-of-type {\n",
       "        vertical-align: middle;\n",
       "    }\n",
       "\n",
       "    .dataframe tbody tr th {\n",
       "        vertical-align: top;\n",
       "    }\n",
       "\n",
       "    .dataframe thead th {\n",
       "        text-align: right;\n",
       "    }\n",
       "</style>\n",
       "<table border=\"1\" class=\"dataframe\">\n",
       "  <thead>\n",
       "    <tr style=\"text-align: right;\">\n",
       "      <th></th>\n",
       "      <th>pub_id</th>\n",
       "      <th>authors</th>\n",
       "      <th>first_auth</th>\n",
       "      <th>last_auth</th>\n",
       "      <th>auth_aff_list</th>\n",
       "      <th>first_auth_aff</th>\n",
       "      <th>last_auth_aff</th>\n",
       "    </tr>\n",
       "  </thead>\n",
       "  <tbody>\n",
       "    <tr>\n",
       "      <th>0</th>\n",
       "      <td>38012702</td>\n",
       "      <td>[Wu, Anbiao, Zhang, Jiyan]</td>\n",
       "      <td>Wu, Anbiao</td>\n",
       "      <td>Zhang, Jiyan</td>\n",
       "      <td>Beijing Institute of Basic Medical Sciences, B...</td>\n",
       "      <td>Beijing Institute of Basic Medical Sciences, B...</td>\n",
       "      <td>Beijing Institute of Basic Medical Sciences, B...</td>\n",
       "    </tr>\n",
       "    <tr>\n",
       "      <th>0</th>\n",
       "      <td>38012702</td>\n",
       "      <td>[Wu, Anbiao, Zhang, Jiyan]</td>\n",
       "      <td>Wu, Anbiao</td>\n",
       "      <td>Zhang, Jiyan</td>\n",
       "      <td>Beijing Institute of Basic Medical Sciences, B...</td>\n",
       "      <td>Beijing Institute of Basic Medical Sciences, B...</td>\n",
       "      <td>Beijing Institute of Basic Medical Sciences, B...</td>\n",
       "    </tr>\n",
       "    <tr>\n",
       "      <th>1</th>\n",
       "      <td>38012669</td>\n",
       "      <td>[Zheng, Shengnan, Li, Yiquan, Song, Xiaomeng, ...</td>\n",
       "      <td>Zheng, Shengnan</td>\n",
       "      <td>Liu, Huiqing</td>\n",
       "      <td>Department of Pharmacology, School of Basic Me...</td>\n",
       "      <td>Department of Pharmacology, School of Basic Me...</td>\n",
       "      <td>Department of Rehabilitation Medicine, The Sec...</td>\n",
       "    </tr>\n",
       "    <tr>\n",
       "      <th>1</th>\n",
       "      <td>38012669</td>\n",
       "      <td>[Zheng, Shengnan, Li, Yiquan, Song, Xiaomeng, ...</td>\n",
       "      <td>Zheng, Shengnan</td>\n",
       "      <td>Liu, Huiqing</td>\n",
       "      <td>Department of Pharmacology, School of Basic Me...</td>\n",
       "      <td>Department of Pharmacology, School of Basic Me...</td>\n",
       "      <td>Department of Rehabilitation Medicine, The Sec...</td>\n",
       "    </tr>\n",
       "    <tr>\n",
       "      <th>1</th>\n",
       "      <td>38012669</td>\n",
       "      <td>[Zheng, Shengnan, Li, Yiquan, Song, Xiaomeng, ...</td>\n",
       "      <td>Zheng, Shengnan</td>\n",
       "      <td>Liu, Huiqing</td>\n",
       "      <td>Department of Pharmacology, School of Basic Me...</td>\n",
       "      <td>Department of Pharmacology, School of Basic Me...</td>\n",
       "      <td>Department of Rehabilitation Medicine, The Sec...</td>\n",
       "    </tr>\n",
       "  </tbody>\n",
       "</table>\n",
       "</div>"
      ],
      "text/plain": [
       "     pub_id                                            authors  \\\n",
       "0  38012702                         [Wu, Anbiao, Zhang, Jiyan]   \n",
       "0  38012702                         [Wu, Anbiao, Zhang, Jiyan]   \n",
       "1  38012669  [Zheng, Shengnan, Li, Yiquan, Song, Xiaomeng, ...   \n",
       "1  38012669  [Zheng, Shengnan, Li, Yiquan, Song, Xiaomeng, ...   \n",
       "1  38012669  [Zheng, Shengnan, Li, Yiquan, Song, Xiaomeng, ...   \n",
       "\n",
       "        first_auth     last_auth  \\\n",
       "0       Wu, Anbiao  Zhang, Jiyan   \n",
       "0       Wu, Anbiao  Zhang, Jiyan   \n",
       "1  Zheng, Shengnan  Liu, Huiqing   \n",
       "1  Zheng, Shengnan  Liu, Huiqing   \n",
       "1  Zheng, Shengnan  Liu, Huiqing   \n",
       "\n",
       "                                       auth_aff_list  \\\n",
       "0  Beijing Institute of Basic Medical Sciences, B...   \n",
       "0  Beijing Institute of Basic Medical Sciences, B...   \n",
       "1  Department of Pharmacology, School of Basic Me...   \n",
       "1  Department of Pharmacology, School of Basic Me...   \n",
       "1  Department of Pharmacology, School of Basic Me...   \n",
       "\n",
       "                                      first_auth_aff  \\\n",
       "0  Beijing Institute of Basic Medical Sciences, B...   \n",
       "0  Beijing Institute of Basic Medical Sciences, B...   \n",
       "1  Department of Pharmacology, School of Basic Me...   \n",
       "1  Department of Pharmacology, School of Basic Me...   \n",
       "1  Department of Pharmacology, School of Basic Me...   \n",
       "\n",
       "                                       last_auth_aff  \n",
       "0  Beijing Institute of Basic Medical Sciences, B...  \n",
       "0  Beijing Institute of Basic Medical Sciences, B...  \n",
       "1  Department of Rehabilitation Medicine, The Sec...  \n",
       "1  Department of Rehabilitation Medicine, The Sec...  \n",
       "1  Department of Rehabilitation Medicine, The Sec...  "
      ]
     },
     "execution_count": 13,
     "metadata": {},
     "output_type": "execute_result"
    }
   ],
   "source": [
    "df_affiliations[:5]"
   ]
  },
  {
   "cell_type": "code",
   "execution_count": null,
   "id": "e15dac7c",
   "metadata": {},
   "outputs": [],
   "source": []
  },
  {
   "cell_type": "code",
   "execution_count": null,
   "id": "e2b73026",
   "metadata": {},
   "outputs": [],
   "source": []
  },
  {
   "cell_type": "code",
   "execution_count": null,
   "id": "5be53c6b",
   "metadata": {},
   "outputs": [],
   "source": []
  },
  {
   "cell_type": "code",
   "execution_count": null,
   "id": "1d6c0270",
   "metadata": {},
   "outputs": [],
   "source": []
  },
  {
   "cell_type": "code",
   "execution_count": null,
   "id": "3cdc90ef",
   "metadata": {},
   "outputs": [],
   "source": []
  },
  {
   "cell_type": "code",
   "execution_count": 12,
   "id": "c0188afb",
   "metadata": {},
   "outputs": [],
   "source": [
    "# Create a list with all the researchers\n",
    "researchers_list = []\n",
    "\n",
    "for i,res in enumerate(df['authors']):\n",
    "    j = 0\n",
    "    while j < len(res):\n",
    "        researchers_list.append(res[j])\n",
    "        j += 1"
   ]
  },
  {
   "cell_type": "code",
   "execution_count": 13,
   "id": "afe77b3f",
   "metadata": {},
   "outputs": [
    {
     "data": {
      "text/plain": [
       "372016"
      ]
     },
     "metadata": {},
     "output_type": "display_data"
    },
    {
     "data": {
      "text/plain": [
       "228898"
      ]
     },
     "metadata": {},
     "output_type": "display_data"
    }
   ],
   "source": []
  },
  {
   "cell_type": "code",
   "execution_count": 14,
   "id": "0fedf04f",
   "metadata": {},
   "outputs": [],
   "source": [
    "res_df = pd.DataFrame(researchers_list)"
   ]
  },
  {
   "cell_type": "code",
   "execution_count": 15,
   "id": "c8f6ea6f",
   "metadata": {},
   "outputs": [
    {
     "data": {
      "text/html": [
       "<div>\n",
       "<style scoped>\n",
       "    .dataframe tbody tr th:only-of-type {\n",
       "        vertical-align: middle;\n",
       "    }\n",
       "\n",
       "    .dataframe tbody tr th {\n",
       "        vertical-align: top;\n",
       "    }\n",
       "\n",
       "    .dataframe thead th {\n",
       "        text-align: right;\n",
       "    }\n",
       "</style>\n",
       "<table border=\"1\" class=\"dataframe\">\n",
       "  <thead>\n",
       "    <tr style=\"text-align: right;\">\n",
       "      <th></th>\n",
       "      <th>res_name</th>\n",
       "    </tr>\n",
       "  </thead>\n",
       "  <tbody>\n",
       "    <tr>\n",
       "      <th>0</th>\n",
       "      <td>Terro, F</td>\n",
       "    </tr>\n",
       "    <tr>\n",
       "      <th>1</th>\n",
       "      <td>McCarter, Stuart J</td>\n",
       "    </tr>\n",
       "    <tr>\n",
       "      <th>2</th>\n",
       "      <td>Pflugrad, Henning</td>\n",
       "    </tr>\n",
       "    <tr>\n",
       "      <th>3</th>\n",
       "      <td>Skolnick, Brett</td>\n",
       "    </tr>\n",
       "    <tr>\n",
       "      <th>4</th>\n",
       "      <td>Lu, Jingmin</td>\n",
       "    </tr>\n",
       "  </tbody>\n",
       "</table>\n",
       "</div>"
      ],
      "text/plain": [
       "             res_name\n",
       "0            Terro, F\n",
       "1  McCarter, Stuart J\n",
       "2   Pflugrad, Henning\n",
       "3     Skolnick, Brett\n",
       "4         Lu, Jingmin"
      ]
     },
     "execution_count": 15,
     "metadata": {},
     "output_type": "execute_result"
    }
   ],
   "source": [
    "res_df = res_df.rename(columns={0: 'res_name'})\n",
    "res_df.head()"
   ]
  },
  {
   "cell_type": "code",
   "execution_count": 17,
   "id": "cf8637c4",
   "metadata": {},
   "outputs": [
    {
     "data": {
      "text/plain": [
       "(228898, 1)"
      ]
     },
     "metadata": {},
     "output_type": "display_data"
    },
    {
     "data": {
      "text/plain": [
       "(251823, 8)"
      ]
     },
     "metadata": {},
     "output_type": "display_data"
    }
   ],
   "source": [
    "display(res_df.shape)\n",
    "res_df = pd.merge(res_df, df, left_on='res_name', right_on='last_auth', how='left')\n",
    "display(res_df.shape)"
   ]
  },
  {
   "cell_type": "code",
   "execution_count": 19,
   "id": "48a9dde6",
   "metadata": {},
   "outputs": [
    {
     "data": {
      "text/plain": [
       "(251823, 8)"
      ]
     },
     "metadata": {},
     "output_type": "display_data"
    },
    {
     "data": {
      "text/plain": [
       "(281620, 15)"
      ]
     },
     "metadata": {},
     "output_type": "display_data"
    }
   ],
   "source": [
    "display(res_df.shape)\n",
    "res_df = pd.merge(res_df, df, left_on='res_name', right_on='first_auth', how='left')\n",
    "display(res_df.shape)"
   ]
  },
  {
   "cell_type": "code",
   "execution_count": 21,
   "id": "7c481270",
   "metadata": {},
   "outputs": [
    {
     "data": {
      "text/html": [
       "<div>\n",
       "<style scoped>\n",
       "    .dataframe tbody tr th:only-of-type {\n",
       "        vertical-align: middle;\n",
       "    }\n",
       "\n",
       "    .dataframe tbody tr th {\n",
       "        vertical-align: top;\n",
       "    }\n",
       "\n",
       "    .dataframe thead th {\n",
       "        text-align: right;\n",
       "    }\n",
       "</style>\n",
       "<table border=\"1\" class=\"dataframe\">\n",
       "  <thead>\n",
       "    <tr style=\"text-align: right;\">\n",
       "      <th></th>\n",
       "      <th>res_name</th>\n",
       "      <th>pub_id_x</th>\n",
       "      <th>authors_x</th>\n",
       "      <th>first_auth_x</th>\n",
       "      <th>last_auth_x</th>\n",
       "      <th>auth_aff_list_x</th>\n",
       "      <th>first_auth_aff_x</th>\n",
       "      <th>last_auth_aff_x</th>\n",
       "      <th>pub_id_y</th>\n",
       "      <th>authors_y</th>\n",
       "      <th>first_auth_y</th>\n",
       "      <th>last_auth_y</th>\n",
       "      <th>auth_aff_list_y</th>\n",
       "      <th>first_auth_aff_y</th>\n",
       "      <th>last_auth_aff_y</th>\n",
       "    </tr>\n",
       "  </thead>\n",
       "  <tbody>\n",
       "    <tr>\n",
       "      <th>0</th>\n",
       "      <td>Terro, F</td>\n",
       "      <td>NaN</td>\n",
       "      <td>NaN</td>\n",
       "      <td>NaN</td>\n",
       "      <td>NaN</td>\n",
       "      <td>NaN</td>\n",
       "      <td>NaN</td>\n",
       "      <td>NaN</td>\n",
       "      <td>NaN</td>\n",
       "      <td>NaN</td>\n",
       "      <td>NaN</td>\n",
       "      <td>NaN</td>\n",
       "      <td>NaN</td>\n",
       "      <td>NaN</td>\n",
       "      <td>NaN</td>\n",
       "    </tr>\n",
       "    <tr>\n",
       "      <th>1</th>\n",
       "      <td>McCarter, Stuart J</td>\n",
       "      <td>NaN</td>\n",
       "      <td>NaN</td>\n",
       "      <td>NaN</td>\n",
       "      <td>NaN</td>\n",
       "      <td>NaN</td>\n",
       "      <td>NaN</td>\n",
       "      <td>NaN</td>\n",
       "      <td>27485946.0</td>\n",
       "      <td>[McCarter, Stuart J, St Louis, Erik K, Boeve, ...</td>\n",
       "      <td>McCarter, Stuart J</td>\n",
       "      <td>Boeve, Bradley F</td>\n",
       "      <td>['Mayo Center for Sleep Medicine, Mayo Clinic ...</td>\n",
       "      <td>Mayo Center for Sleep Medicine, Mayo Clinic an...</td>\n",
       "      <td>Department of Neurology, Mayo Clinic and Found...</td>\n",
       "    </tr>\n",
       "  </tbody>\n",
       "</table>\n",
       "</div>"
      ],
      "text/plain": [
       "             res_name  pub_id_x authors_x first_auth_x last_auth_x  \\\n",
       "0            Terro, F       NaN       NaN          NaN         NaN   \n",
       "1  McCarter, Stuart J       NaN       NaN          NaN         NaN   \n",
       "\n",
       "  auth_aff_list_x first_auth_aff_x last_auth_aff_x    pub_id_y  \\\n",
       "0             NaN              NaN             NaN         NaN   \n",
       "1             NaN              NaN             NaN  27485946.0   \n",
       "\n",
       "                                           authors_y        first_auth_y  \\\n",
       "0                                                NaN                 NaN   \n",
       "1  [McCarter, Stuart J, St Louis, Erik K, Boeve, ...  McCarter, Stuart J   \n",
       "\n",
       "        last_auth_y                                    auth_aff_list_y  \\\n",
       "0               NaN                                                NaN   \n",
       "1  Boeve, Bradley F  ['Mayo Center for Sleep Medicine, Mayo Clinic ...   \n",
       "\n",
       "                                    first_auth_aff_y  \\\n",
       "0                                                NaN   \n",
       "1  Mayo Center for Sleep Medicine, Mayo Clinic an...   \n",
       "\n",
       "                                     last_auth_aff_y  \n",
       "0                                                NaN  \n",
       "1  Department of Neurology, Mayo Clinic and Found...  "
      ]
     },
     "execution_count": 21,
     "metadata": {},
     "output_type": "execute_result"
    }
   ],
   "source": [
    "res_df.head(2)"
   ]
  },
  {
   "cell_type": "markdown",
   "id": "4ea56492",
   "metadata": {},
   "source": [
    "### Fill nan and reduce the dimensions"
   ]
  },
  {
   "cell_type": "code",
   "execution_count": 23,
   "id": "f868006c",
   "metadata": {},
   "outputs": [],
   "source": [
    "cols_to_fill = ['pub_id_x', \n",
    "                'authors_x', \n",
    "                'first_auth_x', \n",
    "                'last_auth_x',\n",
    "                'auth_aff_list_x', \n",
    "                'first_auth_aff_x', \n",
    "                'last_auth_aff_x']\n",
    "\n",
    "for col in cols_to_fill:\n",
    "    res_df[col].fillna(res_df[col.replace('_x', '_y')], inplace=True)\n",
    "\n",
    "res_df.drop(columns=['pub_id_y', 'authors_y', 'first_auth_y', 'last_auth_y', 'auth_aff_list_y', 'first_auth_aff_y', 'last_auth_aff_y'], inplace=True)"
   ]
  },
  {
   "cell_type": "code",
   "execution_count": 24,
   "id": "dfc9418d",
   "metadata": {},
   "outputs": [],
   "source": [
    "for col in cols_to_fill:\n",
    "    new_name = col.replace('_x', '')\n",
    "    res_df.rename(columns={col: new_name}, inplace=True)"
   ]
  },
  {
   "cell_type": "code",
   "execution_count": 26,
   "id": "324585b8",
   "metadata": {},
   "outputs": [
    {
     "data": {
      "text/html": [
       "<div>\n",
       "<style scoped>\n",
       "    .dataframe tbody tr th:only-of-type {\n",
       "        vertical-align: middle;\n",
       "    }\n",
       "\n",
       "    .dataframe tbody tr th {\n",
       "        vertical-align: top;\n",
       "    }\n",
       "\n",
       "    .dataframe thead th {\n",
       "        text-align: right;\n",
       "    }\n",
       "</style>\n",
       "<table border=\"1\" class=\"dataframe\">\n",
       "  <thead>\n",
       "    <tr style=\"text-align: right;\">\n",
       "      <th></th>\n",
       "      <th>res_name</th>\n",
       "      <th>pub_id</th>\n",
       "      <th>authors</th>\n",
       "      <th>first_auth</th>\n",
       "      <th>last_auth</th>\n",
       "      <th>auth_aff_list</th>\n",
       "      <th>first_auth_aff</th>\n",
       "      <th>last_auth_aff</th>\n",
       "    </tr>\n",
       "  </thead>\n",
       "  <tbody>\n",
       "    <tr>\n",
       "      <th>0</th>\n",
       "      <td>Terro, F</td>\n",
       "      <td>NaN</td>\n",
       "      <td>NaN</td>\n",
       "      <td>NaN</td>\n",
       "      <td>NaN</td>\n",
       "      <td>NaN</td>\n",
       "      <td>NaN</td>\n",
       "      <td>NaN</td>\n",
       "    </tr>\n",
       "    <tr>\n",
       "      <th>1</th>\n",
       "      <td>McCarter, Stuart J</td>\n",
       "      <td>27485946.0</td>\n",
       "      <td>[McCarter, Stuart J, St Louis, Erik K, Boeve, ...</td>\n",
       "      <td>McCarter, Stuart J</td>\n",
       "      <td>Boeve, Bradley F</td>\n",
       "      <td>['Mayo Center for Sleep Medicine, Mayo Clinic ...</td>\n",
       "      <td>Mayo Center for Sleep Medicine, Mayo Clinic an...</td>\n",
       "      <td>Department of Neurology, Mayo Clinic and Found...</td>\n",
       "    </tr>\n",
       "  </tbody>\n",
       "</table>\n",
       "</div>"
      ],
      "text/plain": [
       "             res_name      pub_id  \\\n",
       "0            Terro, F         NaN   \n",
       "1  McCarter, Stuart J  27485946.0   \n",
       "\n",
       "                                             authors          first_auth  \\\n",
       "0                                                NaN                 NaN   \n",
       "1  [McCarter, Stuart J, St Louis, Erik K, Boeve, ...  McCarter, Stuart J   \n",
       "\n",
       "          last_auth                                      auth_aff_list  \\\n",
       "0               NaN                                                NaN   \n",
       "1  Boeve, Bradley F  ['Mayo Center for Sleep Medicine, Mayo Clinic ...   \n",
       "\n",
       "                                      first_auth_aff  \\\n",
       "0                                                NaN   \n",
       "1  Mayo Center for Sleep Medicine, Mayo Clinic an...   \n",
       "\n",
       "                                       last_auth_aff  \n",
       "0                                                NaN  \n",
       "1  Department of Neurology, Mayo Clinic and Found...  "
      ]
     },
     "execution_count": 26,
     "metadata": {},
     "output_type": "execute_result"
    }
   ],
   "source": [
    "res_df.head(2)"
   ]
  },
  {
   "cell_type": "markdown",
   "id": "3c9b0372",
   "metadata": {},
   "source": [
    "### Drop duplicates"
   ]
  },
  {
   "cell_type": "code",
   "execution_count": 29,
   "id": "bf9cc3d7",
   "metadata": {},
   "outputs": [
    {
     "data": {
      "text/plain": [
       "(281620, 8)"
      ]
     },
     "metadata": {},
     "output_type": "display_data"
    },
    {
     "data": {
      "text/plain": [
       "(228898, 8)"
      ]
     },
     "metadata": {},
     "output_type": "display_data"
    }
   ],
   "source": [
    "display(res_df.shape)\n",
    "res_df = res_df.drop_duplicates(subset=['res_name'])\n",
    "display(res_df.shape)"
   ]
  },
  {
   "cell_type": "markdown",
   "id": "182f4887",
   "metadata": {},
   "source": [
    "### Find collabs"
   ]
  },
  {
   "cell_type": "code",
   "execution_count": 36,
   "id": "c2897894",
   "metadata": {},
   "outputs": [],
   "source": [
    "# SLOW CELL \n",
    "'''\n",
    "res_df['collab'] = res_df['res_name'].apply(lambda name: [author for authors_list in df['authors'] for author in authors_list if name == author])\n",
    "''';"
   ]
  },
  {
   "cell_type": "code",
   "execution_count": 33,
   "id": "3f3531df",
   "metadata": {},
   "outputs": [],
   "source": []
  },
  {
   "cell_type": "code",
   "execution_count": 35,
   "id": "540d1553",
   "metadata": {},
   "outputs": [
    {
     "data": {
      "text/html": [
       "<div>\n",
       "<style scoped>\n",
       "    .dataframe tbody tr th:only-of-type {\n",
       "        vertical-align: middle;\n",
       "    }\n",
       "\n",
       "    .dataframe tbody tr th {\n",
       "        vertical-align: top;\n",
       "    }\n",
       "\n",
       "    .dataframe thead th {\n",
       "        text-align: right;\n",
       "    }\n",
       "</style>\n",
       "<table border=\"1\" class=\"dataframe\">\n",
       "  <thead>\n",
       "    <tr style=\"text-align: right;\">\n",
       "      <th></th>\n",
       "      <th>res_name</th>\n",
       "      <th>pub_id</th>\n",
       "      <th>authors</th>\n",
       "      <th>first_auth</th>\n",
       "      <th>last_auth</th>\n",
       "      <th>auth_aff_list</th>\n",
       "      <th>first_auth_aff</th>\n",
       "      <th>last_auth_aff</th>\n",
       "      <th>collab</th>\n",
       "    </tr>\n",
       "  </thead>\n",
       "  <tbody>\n",
       "    <tr>\n",
       "      <th>0</th>\n",
       "      <td>Terro, F</td>\n",
       "      <td>NaN</td>\n",
       "      <td>NaN</td>\n",
       "      <td>NaN</td>\n",
       "      <td>NaN</td>\n",
       "      <td>NaN</td>\n",
       "      <td>NaN</td>\n",
       "      <td>NaN</td>\n",
       "      <td>[Terro, F]</td>\n",
       "    </tr>\n",
       "    <tr>\n",
       "      <th>1</th>\n",
       "      <td>McCarter, Stuart J</td>\n",
       "      <td>27485946.0</td>\n",
       "      <td>[McCarter, Stuart J, St Louis, Erik K, Boeve, ...</td>\n",
       "      <td>McCarter, Stuart J</td>\n",
       "      <td>Boeve, Bradley F</td>\n",
       "      <td>['Mayo Center for Sleep Medicine, Mayo Clinic ...</td>\n",
       "      <td>Mayo Center for Sleep Medicine, Mayo Clinic an...</td>\n",
       "      <td>Department of Neurology, Mayo Clinic and Found...</td>\n",
       "      <td>[McCarter, Stuart J, McCarter, Stuart J]</td>\n",
       "    </tr>\n",
       "    <tr>\n",
       "      <th>3</th>\n",
       "      <td>Pflugrad, Henning</td>\n",
       "      <td>NaN</td>\n",
       "      <td>NaN</td>\n",
       "      <td>NaN</td>\n",
       "      <td>NaN</td>\n",
       "      <td>NaN</td>\n",
       "      <td>NaN</td>\n",
       "      <td>NaN</td>\n",
       "      <td>[Pflugrad, Henning]</td>\n",
       "    </tr>\n",
       "    <tr>\n",
       "      <th>4</th>\n",
       "      <td>Skolnick, Brett</td>\n",
       "      <td>NaN</td>\n",
       "      <td>NaN</td>\n",
       "      <td>NaN</td>\n",
       "      <td>NaN</td>\n",
       "      <td>NaN</td>\n",
       "      <td>NaN</td>\n",
       "      <td>NaN</td>\n",
       "      <td>[Skolnick, Brett]</td>\n",
       "    </tr>\n",
       "    <tr>\n",
       "      <th>5</th>\n",
       "      <td>Lu, Jingmin</td>\n",
       "      <td>NaN</td>\n",
       "      <td>NaN</td>\n",
       "      <td>NaN</td>\n",
       "      <td>NaN</td>\n",
       "      <td>NaN</td>\n",
       "      <td>NaN</td>\n",
       "      <td>NaN</td>\n",
       "      <td>[Lu, Jingmin]</td>\n",
       "    </tr>\n",
       "  </tbody>\n",
       "</table>\n",
       "</div>"
      ],
      "text/plain": [
       "             res_name      pub_id  \\\n",
       "0            Terro, F         NaN   \n",
       "1  McCarter, Stuart J  27485946.0   \n",
       "3   Pflugrad, Henning         NaN   \n",
       "4     Skolnick, Brett         NaN   \n",
       "5         Lu, Jingmin         NaN   \n",
       "\n",
       "                                             authors          first_auth  \\\n",
       "0                                                NaN                 NaN   \n",
       "1  [McCarter, Stuart J, St Louis, Erik K, Boeve, ...  McCarter, Stuart J   \n",
       "3                                                NaN                 NaN   \n",
       "4                                                NaN                 NaN   \n",
       "5                                                NaN                 NaN   \n",
       "\n",
       "          last_auth                                      auth_aff_list  \\\n",
       "0               NaN                                                NaN   \n",
       "1  Boeve, Bradley F  ['Mayo Center for Sleep Medicine, Mayo Clinic ...   \n",
       "3               NaN                                                NaN   \n",
       "4               NaN                                                NaN   \n",
       "5               NaN                                                NaN   \n",
       "\n",
       "                                      first_auth_aff  \\\n",
       "0                                                NaN   \n",
       "1  Mayo Center for Sleep Medicine, Mayo Clinic an...   \n",
       "3                                                NaN   \n",
       "4                                                NaN   \n",
       "5                                                NaN   \n",
       "\n",
       "                                       last_auth_aff  \\\n",
       "0                                                NaN   \n",
       "1  Department of Neurology, Mayo Clinic and Found...   \n",
       "3                                                NaN   \n",
       "4                                                NaN   \n",
       "5                                                NaN   \n",
       "\n",
       "                                     collab  \n",
       "0                                [Terro, F]  \n",
       "1  [McCarter, Stuart J, McCarter, Stuart J]  \n",
       "3                       [Pflugrad, Henning]  \n",
       "4                         [Skolnick, Brett]  \n",
       "5                             [Lu, Jingmin]  "
      ]
     },
     "execution_count": 35,
     "metadata": {},
     "output_type": "execute_result"
    }
   ],
   "source": [
    "res_df.head()"
   ]
  },
  {
   "cell_type": "code",
   "execution_count": 31,
   "id": "f8dbf9cf",
   "metadata": {},
   "outputs": [
    {
     "data": {
      "image/png": "[encoded data removed]",
      "text/plain": [
       "<Figure size 1000x600 with 1 Axes>"
      ]
     },
     "metadata": {
      "needs_background": "light"
     },
     "output_type": "display_data"
    }
   ],
   "source": [
    "view_nan(res_df)"
   ]
  },
  {
   "cell_type": "code",
   "execution_count": null,
   "id": "52522f2c",
   "metadata": {},
   "outputs": [],
   "source": []
  },
  {
   "cell_type": "markdown",
   "id": "ea346af0",
   "metadata": {},
   "source": []
  },
  {
   "cell_type": "code",
   "execution_count": null,
   "id": "78e34eee",
   "metadata": {},
   "outputs": [],
   "source": []
  },
  {
   "cell_type": "code",
   "execution_count": null,
   "id": "51346342",
   "metadata": {},
   "outputs": [],
   "source": []
  },
  {
   "cell_type": "code",
   "execution_count": null,
   "id": "97b0c938",
   "metadata": {},
   "outputs": [],
   "source": []
  },
  {
   "cell_type": "code",
   "execution_count": null,
   "id": "a869e08d",
   "metadata": {},
   "outputs": [],
   "source": [
    "res_df.to_csv('../data/res_db.csv')"
   ]
  }
 ],
 "metadata": {
  "kernelspec": {
   "display_name": "clase",
   "language": "python",
   "name": "clase"
  },
  "language_info": {
   "codemirror_mode": {
    "name": "ipython",
    "version": 3
   },
   "file_extension": ".py",
   "mimetype": "text/x-python",
   "name": "python",
   "nbconvert_exporter": "python",
   "pygments_lexer": "ipython3",
   "version": "3.11.5"
  },
  "toc": {
   "base_numbering": 1,
   "nav_menu": {},
   "number_sections": true,
   "sideBar": true,
   "skip_h1_title": false,
   "title_cell": "Table of Contents",
   "title_sidebar": "Contents",
   "toc_cell": false,
   "toc_position": {},
   "toc_section_display": true,
   "toc_window_display": false
  }
 },
 "nbformat": 4,
 "nbformat_minor": 5
}
