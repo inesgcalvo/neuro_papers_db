{
 "cells": [
  {
   "cell_type": "markdown",
   "metadata": {},
   "source": [
    "# <a id='toc1_'></a>[World University Rankings](#toc0_)\n",
    "\n",
    "![logo_QS.png](attachment:logo_QS.png)\n",
    "\n",
    "QS World University Rankings 2024: Top global universities\n",
    "\n",
    "The 20th edition of the QS World University Rankings features 1,500 institutions across 104 locations and is the only ranking of its kind to emphasise employability and sustainability.\n",
    "\n",
    "This year, we've implemented our largest-ever methodological enhancement, introducing three new metrics: Sustainability, Employment Outcomes and International Research Network. \n",
    "\n",
    "https://www.topuniversities.com/"
   ]
  },
  {
   "cell_type": "markdown",
   "metadata": {},
   "source": [
    "**Table of contents**<a id='toc0_'></a>    \n",
    "- [World University Rankings](#toc1_)    \n",
    "    - [Open the data](#toc1_1_1_)    \n",
    "    - [Clean the data](#toc1_1_2_)    \n",
    "    - [Obtain the coordenates of the universities](#toc1_1_3_)    \n",
    "    - [Export as .csv](#toc1_1_4_)    \n",
    "    - [Create a map of the Universities with folium](#toc1_1_5_)    \n",
    "\n",
    "<!-- vscode-jupyter-toc-config\n",
    "\tnumbering=false\n",
    "\tanchor=true\n",
    "\tflat=false\n",
    "\tminLevel=1\n",
    "\tmaxLevel=6\n",
    "\t/vscode-jupyter-toc-config -->\n",
    "<!-- THIS CELL WILL BE REPLACED ON TOC UPDATE. DO NOT WRITE YOUR TEXT IN THIS CELL -->"
   ]
  },
  {
   "cell_type": "code",
   "execution_count": 1,
   "id": "ceaad482",
   "metadata": {},
   "outputs": [],
   "source": [
    "# Libraries\n",
    "import pandas as pd\n",
    "import pylab as plt\n",
    "import seaborn as sns\n",
    "\n",
    "# Extract coordenates\n",
    "from geopy.geocoders import GoogleV3\n",
    "\n",
    "# Draw maps\n",
    "import folium\n",
    "from folium.plugins import MarkerCluster\n",
    "\n",
    "# Functions\n",
    "import sys\n",
    "sys.path.append('../src')\n",
    "from support_clean import *\n",
    "\n",
    "# Ignore Warnings\n",
    "import warnings\n",
    "warnings.filterwarnings('ignore')"
   ]
  },
  {
   "cell_type": "markdown",
   "metadata": {},
   "source": [
    "### <a id='toc1_1_1_'></a>[Open the data](#toc0_)"
   ]
  },
  {
   "cell_type": "code",
   "execution_count": 2,
   "id": "0086473c",
   "metadata": {},
   "outputs": [
    {
     "data": {
      "text/html": [
       "<div>\n",
       "<style scoped>\n",
       "    .dataframe tbody tr th:only-of-type {\n",
       "        vertical-align: middle;\n",
       "    }\n",
       "\n",
       "    .dataframe tbody tr th {\n",
       "        vertical-align: top;\n",
       "    }\n",
       "\n",
       "    .dataframe thead th {\n",
       "        text-align: right;\n",
       "    }\n",
       "</style>\n",
       "<table border=\"1\" class=\"dataframe\">\n",
       "  <thead>\n",
       "    <tr style=\"text-align: right;\">\n",
       "      <th></th>\n",
       "      <th>RANK_2024</th>\n",
       "      <th>RANK_2023</th>\n",
       "      <th>Institution Name</th>\n",
       "      <th>country</th>\n",
       "      <th>Location</th>\n",
       "      <th>SIZE</th>\n",
       "      <th>FOCUS</th>\n",
       "      <th>RES.</th>\n",
       "      <th>STATUS</th>\n",
       "      <th>Academic Reputation</th>\n",
       "      <th>Employer Reputation</th>\n",
       "      <th>Faculty Student</th>\n",
       "      <th>Citations per Faculty</th>\n",
       "      <th>International Faculty</th>\n",
       "      <th>International Students</th>\n",
       "      <th>International Research Network</th>\n",
       "      <th>Employment Outcomes</th>\n",
       "      <th>Sustainability</th>\n",
       "      <th>Overall</th>\n",
       "    </tr>\n",
       "  </thead>\n",
       "  <tbody>\n",
       "    <tr>\n",
       "      <th>0</th>\n",
       "      <td>1</td>\n",
       "      <td>1</td>\n",
       "      <td>Massachusetts Institute of Technology (MIT)</td>\n",
       "      <td>US</td>\n",
       "      <td>United States</td>\n",
       "      <td>M</td>\n",
       "      <td>CO</td>\n",
       "      <td>VH</td>\n",
       "      <td>B</td>\n",
       "      <td>100.0</td>\n",
       "      <td>100.0</td>\n",
       "      <td>100.0</td>\n",
       "      <td>100.0</td>\n",
       "      <td>100.0</td>\n",
       "      <td>88.2</td>\n",
       "      <td>94.3</td>\n",
       "      <td>100.0</td>\n",
       "      <td>95.2</td>\n",
       "      <td>100</td>\n",
       "    </tr>\n",
       "    <tr>\n",
       "      <th>1</th>\n",
       "      <td>2</td>\n",
       "      <td>2</td>\n",
       "      <td>University of Cambridge</td>\n",
       "      <td>UK</td>\n",
       "      <td>United Kingdom</td>\n",
       "      <td>L</td>\n",
       "      <td>FC</td>\n",
       "      <td>VH</td>\n",
       "      <td>A</td>\n",
       "      <td>100.0</td>\n",
       "      <td>100.0</td>\n",
       "      <td>100.0</td>\n",
       "      <td>92.3</td>\n",
       "      <td>100.0</td>\n",
       "      <td>95.8</td>\n",
       "      <td>99.9</td>\n",
       "      <td>100.0</td>\n",
       "      <td>97.3</td>\n",
       "      <td>99.2</td>\n",
       "    </tr>\n",
       "    <tr>\n",
       "      <th>2</th>\n",
       "      <td>3</td>\n",
       "      <td>4</td>\n",
       "      <td>University of Oxford</td>\n",
       "      <td>UK</td>\n",
       "      <td>United Kingdom</td>\n",
       "      <td>L</td>\n",
       "      <td>FC</td>\n",
       "      <td>VH</td>\n",
       "      <td>A</td>\n",
       "      <td>100.0</td>\n",
       "      <td>100.0</td>\n",
       "      <td>100.0</td>\n",
       "      <td>90.6</td>\n",
       "      <td>98.2</td>\n",
       "      <td>98.2</td>\n",
       "      <td>100.0</td>\n",
       "      <td>100.0</td>\n",
       "      <td>97.8</td>\n",
       "      <td>98.9</td>\n",
       "    </tr>\n",
       "    <tr>\n",
       "      <th>3</th>\n",
       "      <td>4</td>\n",
       "      <td>5</td>\n",
       "      <td>Harvard University</td>\n",
       "      <td>US</td>\n",
       "      <td>United States</td>\n",
       "      <td>L</td>\n",
       "      <td>FC</td>\n",
       "      <td>VH</td>\n",
       "      <td>B</td>\n",
       "      <td>100.0</td>\n",
       "      <td>100.0</td>\n",
       "      <td>98.3</td>\n",
       "      <td>100.0</td>\n",
       "      <td>84.6</td>\n",
       "      <td>66.8</td>\n",
       "      <td>100.0</td>\n",
       "      <td>100.0</td>\n",
       "      <td>96.7</td>\n",
       "      <td>98.3</td>\n",
       "    </tr>\n",
       "    <tr>\n",
       "      <th>4</th>\n",
       "      <td>5</td>\n",
       "      <td>3</td>\n",
       "      <td>Stanford University</td>\n",
       "      <td>US</td>\n",
       "      <td>United States</td>\n",
       "      <td>L</td>\n",
       "      <td>FC</td>\n",
       "      <td>VH</td>\n",
       "      <td>B</td>\n",
       "      <td>100.0</td>\n",
       "      <td>100.0</td>\n",
       "      <td>100.0</td>\n",
       "      <td>99.9</td>\n",
       "      <td>99.9</td>\n",
       "      <td>51.2</td>\n",
       "      <td>95.8</td>\n",
       "      <td>100.0</td>\n",
       "      <td>94.4</td>\n",
       "      <td>98.1</td>\n",
       "    </tr>\n",
       "  </tbody>\n",
       "</table>\n",
       "</div>"
      ],
      "text/plain": [
       "  RANK_2024 RANK_2023                              Institution Name country  \\\n",
       "0         1         1  Massachusetts Institute of Technology (MIT)       US   \n",
       "1         2         2                       University of Cambridge      UK   \n",
       "2         3         4                          University of Oxford      UK   \n",
       "3         4         5                            Harvard University      US   \n",
       "4         5         3                           Stanford University      US   \n",
       "\n",
       "         Location SIZE FOCUS RES. STATUS  Academic Reputation  \\\n",
       "0   United States    M    CO   VH      B                100.0   \n",
       "1  United Kingdom    L    FC   VH      A                100.0   \n",
       "2  United Kingdom    L    FC   VH      A                100.0   \n",
       "3   United States    L    FC   VH      B                100.0   \n",
       "4   United States    L    FC   VH      B                100.0   \n",
       "\n",
       "   Employer Reputation  Faculty Student  Citations per Faculty  \\\n",
       "0                100.0            100.0                  100.0   \n",
       "1                100.0            100.0                   92.3   \n",
       "2                100.0            100.0                   90.6   \n",
       "3                100.0             98.3                  100.0   \n",
       "4                100.0            100.0                   99.9   \n",
       "\n",
       "   International Faculty  International Students  \\\n",
       "0                  100.0                    88.2   \n",
       "1                  100.0                    95.8   \n",
       "2                   98.2                    98.2   \n",
       "3                   84.6                    66.8   \n",
       "4                   99.9                    51.2   \n",
       "\n",
       "   International Research Network  Employment Outcomes  Sustainability Overall  \n",
       "0                            94.3                100.0            95.2     100  \n",
       "1                            99.9                100.0            97.3    99.2  \n",
       "2                           100.0                100.0            97.8    98.9  \n",
       "3                           100.0                100.0            96.7    98.3  \n",
       "4                            95.8                100.0            94.4    98.1  "
      ]
     },
     "execution_count": 2,
     "metadata": {},
     "output_type": "execute_result"
    }
   ],
   "source": [
    "universities = pd.read_excel('../data/universities/2024_QS_World_University_Rankings.xlsx')\n",
    "universities.head()"
   ]
  },
  {
   "cell_type": "markdown",
   "metadata": {},
   "source": [
    "### <a id='toc1_1_2_'></a>[Clean the data](#toc0_)"
   ]
  },
  {
   "cell_type": "code",
   "execution_count": 3,
   "id": "c30decb4",
   "metadata": {},
   "outputs": [
    {
     "data": {
      "image/png": "[encoded data removed]",
      "text/plain": [
       "<Figure size 1000x600 with 1 Axes>"
      ]
     },
     "metadata": {
      "needs_background": "light"
     },
     "output_type": "display_data"
    }
   ],
   "source": [
    "view_nan(universities)"
   ]
  },
  {
   "cell_type": "raw",
   "id": "b3d7d4b8",
   "metadata": {},
   "source": [
    "    Column                          Non-Null Count  Dtype  \n",
    "    ---  ------                          --------------  -----  \n",
    "     0   RANK_2024                       1498 non-null   object      --> int\n",
    "     1   RANK_2023                       1415 non-null   object      --> drop\n",
    "     2   Institution Name                1498 non-null   object \n",
    "     3   country                         1498 non-null   object \n",
    "     4   Location                        1498 non-null   object \n",
    "     5   SIZE                            1475 non-null   object      --> drop\n",
    "     6   FOCUS                           1497 non-null   object \n",
    "     7   RES.                            1411 non-null   object      --> drop\n",
    "     8   STATUS                          1453 non-null   object      --> drop\n",
    "     9   Academic Reputation             1498 non-null   float64\n",
    "     10  Employer Reputation             1497 non-null   float64\n",
    "     11  Faculty Student                 1474 non-null   float64     --> drop\n",
    "     12  Citations per Faculty           1474 non-null   float64     --> drop\n",
    "     13  International Faculty           1372 non-null   float64     --> drop\n",
    "     14  International Students          1418 non-null   float64     --> drop\n",
    "     15  International Research Network  1494 non-null   float64     --> drop\n",
    "     16  Employment Outcomes             1474 non-null   float64     --> drop\n",
    "     17  Sustainability                  1398 non-null   float64     --> drop\n",
    "     18  Overall                         1498 non-null   object      --> drop"
   ]
  },
  {
   "cell_type": "code",
   "execution_count": 4,
   "id": "8d60aee4",
   "metadata": {},
   "outputs": [],
   "source": [
    "# column RANK_2024 from object --> to integer\n",
    "\n",
    "def clean_rank(x):\n",
    "\n",
    "    if type(x) != int:\n",
    "        x = x.replace('=', '').replace('+', '')\n",
    "        return x.split('-')[0]\n",
    "    \n",
    "    else:\n",
    "        return x"
   ]
  },
  {
   "cell_type": "code",
   "execution_count": 5,
   "id": "983a8076",
   "metadata": {},
   "outputs": [],
   "source": [
    "universities['RANK_2024'] = universities['RANK_2024'].apply(clean_rank)\n",
    "universities['RANK_2024'] = pd.to_numeric(universities['RANK_2024']).astype('Int64')"
   ]
  },
  {
   "cell_type": "code",
   "execution_count": 6,
   "id": "09b1132f",
   "metadata": {},
   "outputs": [],
   "source": [
    "# drop columns\n",
    "columns_to_drop = ['RANK_2023',\n",
    "                   'SIZE',\n",
    "                   'RES.',\n",
    "                   'FOCUS',\n",
    "                   'STATUS',\n",
    "                   'Employer Reputation',\n",
    "                   'Faculty Student', \n",
    "                   'Citations per Faculty', \n",
    "                   'International Faculty', \n",
    "                   'International Students', \n",
    "                   'International Research Network', \n",
    "                   'Employment Outcomes', \n",
    "                   'Sustainability',\n",
    "                   'Overall']\n",
    "\n",
    "universities = universities.drop(columns = columns_to_drop)"
   ]
  },
  {
   "cell_type": "code",
   "execution_count": 7,
   "id": "56285988",
   "metadata": {},
   "outputs": [],
   "source": [
    "column_name_mapping = {'RANK_2024': 'Rank_2024',\n",
    "                       'Institution Name': 'Institution_Name',\n",
    "                       'country': 'Country',\n",
    "                       'Location': 'Location',\n",
    "                       'Academic Reputation': 'Academic_Reputation'}"
   ]
  },
  {
   "cell_type": "code",
   "execution_count": 8,
   "id": "5b317db1",
   "metadata": {},
   "outputs": [],
   "source": [
    "universities = universities.rename(columns=column_name_mapping)"
   ]
  },
  {
   "cell_type": "markdown",
   "metadata": {},
   "source": [
    "### <a id='toc1_1_3_'></a>[Obtain the coordenates of the universities](#toc0_)"
   ]
  },
  {
   "cell_type": "code",
   "execution_count": 9,
   "id": "3683e6f2",
   "metadata": {},
   "outputs": [],
   "source": [
    "with open('../google_api_key.txt', 'r') as file:\n",
    "    google_api_key = file.read().strip()"
   ]
  },
  {
   "cell_type": "code",
   "execution_count": null,
   "id": "097a7831",
   "metadata": {},
   "outputs": [],
   "source": [
    "university_names = universities['Institution_Name'].tolist()\n",
    "locations = universities['Location'].tolist()\n",
    "    \n",
    "geolocator = GoogleV3(api_key= google_api_key)\n",
    "\n",
    "latitudes = []\n",
    "longitudes = []\n",
    "\n",
    "for university, location in zip(university_names, locations):\n",
    "    try:\n",
    "        location_info = geolocator.geocode(f\"{university}, {location}\")\n",
    "        latitudes.append(location_info.latitude)\n",
    "        longitudes.append(location_info.longitude)\n",
    "    except AttributeError:\n",
    "        latitudes.append(None)\n",
    "        longitudes.append(None)\n",
    "\n",
    "\n",
    "universities['Latitude'] = latitudes\n",
    "universities['Longitude'] = longitudes"
   ]
  },
  {
   "cell_type": "markdown",
   "metadata": {},
   "source": [
    "### <a id='toc1_1_4_'></a>[Export as .csv](#toc0_)"
   ]
  },
  {
   "cell_type": "code",
   "execution_count": 52,
   "id": "b53eb362",
   "metadata": {},
   "outputs": [
    {
     "name": "stdout",
     "output_type": "stream",
     "text": [
      "<class 'pandas.core.frame.DataFrame'>\n",
      "RangeIndex: 1498 entries, 0 to 1497\n",
      "Data columns (total 7 columns):\n",
      " #   Column               Non-Null Count  Dtype  \n",
      "---  ------               --------------  -----  \n",
      " 0   Rank_2024            1498 non-null   Int64  \n",
      " 1   Institution_Name     1498 non-null   object \n",
      " 2   Country              1498 non-null   object \n",
      " 3   Location             1498 non-null   object \n",
      " 4   Academic_Reputation  1498 non-null   float64\n",
      " 5   Latitude             1498 non-null   float64\n",
      " 6   Longitude            1498 non-null   float64\n",
      "dtypes: Int64(1), float64(3), object(3)\n",
      "memory usage: 83.5+ KB\n"
     ]
    }
   ],
   "source": [
    "universities.info()"
   ]
  },
  {
   "cell_type": "code",
   "execution_count": 61,
   "id": "0295b522",
   "metadata": {},
   "outputs": [],
   "source": [
    "universities.to_csv('../data/universities_db.csv')"
   ]
  },
  {
   "cell_type": "markdown",
   "metadata": {},
   "source": [
    "### <a id='toc1_1_5_'></a>[Create a map of the Universities with folium](#toc0_)"
   ]
  },
  {
   "cell_type": "code",
   "execution_count": 18,
   "id": "32bc19af",
   "metadata": {},
   "outputs": [],
   "source": [
    "universities = pd.read_csv('../data/universities_db.csv', index_col=False)\n",
    "universities.drop('Unnamed: 0', axis=1, inplace = True)"
   ]
  },
  {
   "cell_type": "code",
   "execution_count": 30,
   "id": "10fd8f91",
   "metadata": {},
   "outputs": [],
   "source": [
    "# help(folium.Map())"
   ]
  },
  {
   "cell_type": "code",
   "execution_count": 19,
   "id": "1d4577a9",
   "metadata": {},
   "outputs": [],
   "source": [
    "map_center = [universities['Latitude'].iloc[0], universities['Longitude'].iloc[0]]\n",
    "my_map = folium.Map(location=map_center, zoom_start=10, tiles='cartodbdark_matter')\n",
    "marker_cluster = MarkerCluster().add_to(my_map)\n",
    "\n",
    "for index, row in universities.iterrows():\n",
    "    university_name = row['Institution_Name']\n",
    "    university_rank = row['Rank_2024']\n",
    "    location = [row['Latitude'], row['Longitude']]\n",
    "    icon_color = 'black'\n",
    "    icon_name = 'fa-solid fa-building-columns'\n",
    "    \n",
    "# Other icons that I like and can be used for universities:\n",
    "    # 'graduation-cap' \n",
    "    # 'fa-solid fa-skull'\n",
    "\n",
    "    folium.Marker(location,\n",
    "                  popup = f'{university_name} Rank: {university_rank}',\n",
    "                  icon = folium.Icon(color=icon_color, \n",
    "                                     icon=f'fa-{icon_name}', \n",
    "                                     prefix='fa')).add_to(marker_cluster)"
   ]
  },
  {
   "cell_type": "code",
   "execution_count": 20,
   "id": "a392b104",
   "metadata": {},
   "outputs": [],
   "source": [
    "my_map.save('../html/universities_map.html')"
   ]
  },
  {
   "cell_type": "code",
   "execution_count": null,
   "id": "4aff8ab8",
   "metadata": {},
   "outputs": [],
   "source": []
  }
 ],
 "metadata": {
  "kernelspec": {
   "display_name": "Python 3 (ipykernel)",
   "language": "python",
   "name": "python3"
  },
  "language_info": {
   "codemirror_mode": {
    "name": "ipython",
    "version": 3
   },
   "file_extension": ".py",
   "mimetype": "text/x-python",
   "name": "python",
   "nbconvert_exporter": "python",
   "pygments_lexer": "ipython3",
   "version": "3.11.4"
  },
  "toc": {
   "base_numbering": 1,
   "nav_menu": {},
   "number_sections": true,
   "sideBar": true,
   "skip_h1_title": false,
   "title_cell": "Table of Contents",
   "title_sidebar": "Contents",
   "toc_cell": false,
   "toc_position": {},
   "toc_section_display": true,
   "toc_window_display": false
  }
 },
 "nbformat": 4,
 "nbformat_minor": 5
}
