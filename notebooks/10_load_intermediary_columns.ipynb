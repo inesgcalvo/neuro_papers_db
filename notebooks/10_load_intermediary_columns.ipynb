{
 "cells": [
  {
   "cell_type": "markdown",
   "metadata": {},
   "source": [
    "# <a id='toc1_'></a>[intermediary tables](#toc0_)\n",
    "\n",
    "In this notebook, four intermediary tables were created for the database: \n",
    "\n",
    "    pub_res: pub_id & res_id\n",
    "    pub-aff: pub_id & aff_id\n",
    "    jrn-res: journal_id & res_id\n",
    "    aff-res: aff_id & res_id\n",
    "    \n",
    "This is the way to manage the many-to-many relationships of the database neuropapers_db"
   ]
  },
  {
   "cell_type": "markdown",
   "metadata": {},
   "source": [
    "**Table of contents**<a id='toc0_'></a>    \n",
    "- [intermediary tables](#toc1_)    \n",
    "    - [Import tables](#toc1_1_1_)    \n",
    "  - [pub-res](#toc1_2_)    \n",
    "  - [pub-aff](#toc1_3_)    \n",
    "  - [jrn-res](#toc1_4_)    \n",
    "  - [aff-res](#toc1_5_)    \n",
    "\n",
    "<!-- vscode-jupyter-toc-config\n",
    "\tnumbering=false\n",
    "\tanchor=true\n",
    "\tflat=false\n",
    "\tminLevel=1\n",
    "\tmaxLevel=6\n",
    "\t/vscode-jupyter-toc-config -->\n",
    "<!-- THIS CELL WILL BE REPLACED ON TOC UPDATE. DO NOT WRITE YOUR TEXT IN THIS CELL -->"
   ]
  },
  {
   "cell_type": "code",
   "execution_count": 1,
   "id": "723cbc53",
   "metadata": {},
   "outputs": [],
   "source": [
    "# Libraries\n",
    "import pandas as pd\n",
    "\n",
    "# Abstract Syntax Trees\n",
    "import ast\n",
    "\n",
    "# Ignore Warnings\n",
    "import warnings\n",
    "warnings.filterwarnings('ignore')"
   ]
  },
  {
   "cell_type": "markdown",
   "metadata": {},
   "source": [
    "### <a id='toc1_1_1_'></a>[Import tables](#toc0_)"
   ]
  },
  {
   "cell_type": "code",
   "execution_count": 2,
   "id": "ae22d4c4",
   "metadata": {},
   "outputs": [],
   "source": [
    "pub = pd.read_csv('../data/neuropapers_db/publications.csv', )\n",
    "res = pd.read_csv('../data/neuropapers_db/researchers.csv')\n",
    "aff = pd.read_csv('../data/neuropapers_db/affiliations.csv')\n",
    "jrn = pd.read_csv('../data/neuropapers_db/journals.csv')"
   ]
  },
  {
   "cell_type": "code",
   "execution_count": 3,
   "id": "1ed04de6",
   "metadata": {},
   "outputs": [
    {
     "data": {
      "text/plain": [
       "Index(['pub_id', 'journal_id', 'last_revision', 'volume', 'title', 'pages',\n",
       "       'DOI', 'authors', 'journal', 'abstract', 'abstract_words', 'keywords',\n",
       "       'terms', 'pub_type', 'citation', 'publication_year', 'pub_date'],\n",
       "      dtype='object')"
      ]
     },
     "metadata": {},
     "output_type": "display_data"
    },
    {
     "data": {
      "text/plain": [
       "Index(['res_id', 'researcher', 'surname', 'name', 'gender', 'prob'], dtype='object')"
      ]
     },
     "metadata": {},
     "output_type": "display_data"
    },
    {
     "data": {
      "text/plain": [
       "Index(['affiliation_names', 'aff_id', 'longitude', 'latitude'], dtype='object')"
      ]
     },
     "metadata": {},
     "output_type": "display_data"
    },
    {
     "data": {
      "text/plain": [
       "Index(['journal_id', 'country_id', 'journal_name', 'num_articles', 'region',\n",
       "       'publisher', 'coverage', 'categories', 'areas', 'sjr_2010',\n",
       "       'quartile_2010', 'hindex_2010', 'docs_2010', 'sjr_2011',\n",
       "       'quartile_2011', 'hindex_2011', 'docs_2011', 'sjr_2012',\n",
       "       'quartile_2012', 'hindex_2012', 'docs_2012', 'sjr_2013',\n",
       "       'quartile_2013', 'hindex_2013', 'docs_2013', 'sjr_2014',\n",
       "       'quartile_2014', 'hindex_2014', 'docs_2014', 'sjr_2015',\n",
       "       'quartile_2015', 'hindex_2015', 'docs_2015', 'sjr_2016',\n",
       "       'quartile_2016', 'hindex_2016', 'docs_2016', 'sjr_2017',\n",
       "       'quartile_2017', 'hindex_2017', 'docs_2017', 'sjr_2018',\n",
       "       'quartile_2018', 'hindex_2018', 'docs_2018', 'sjr_2019',\n",
       "       'quartile_2019', 'hindex_2019', 'docs_2019', 'sjr_2020',\n",
       "       'quartile_2020', 'hindex_2020', 'docs_2020', 'sjr_2021',\n",
       "       'quartile_2021', 'hindex_2021', 'docs_2021', 'sjr_2022',\n",
       "       'quartile_2022', 'hindex_2022', 'docs_2022'],\n",
       "      dtype='object')"
      ]
     },
     "metadata": {},
     "output_type": "display_data"
    }
   ],
   "source": [
    "display(pub.columns, res.columns, aff.columns, jrn.columns)"
   ]
  },
  {
   "cell_type": "markdown",
   "metadata": {},
   "source": [
    "## <a id='toc1_2_'></a>[pub-res](#toc0_)"
   ]
  },
  {
   "cell_type": "code",
   "execution_count": 4,
   "id": "b8f37a33",
   "metadata": {},
   "outputs": [
    {
     "data": {
      "text/html": [
       "<div>\n",
       "<style scoped>\n",
       "    .dataframe tbody tr th:only-of-type {\n",
       "        vertical-align: middle;\n",
       "    }\n",
       "\n",
       "    .dataframe tbody tr th {\n",
       "        vertical-align: top;\n",
       "    }\n",
       "\n",
       "    .dataframe thead th {\n",
       "        text-align: right;\n",
       "    }\n",
       "</style>\n",
       "<table border=\"1\" class=\"dataframe\">\n",
       "  <thead>\n",
       "    <tr style=\"text-align: right;\">\n",
       "      <th></th>\n",
       "      <th>pub_id</th>\n",
       "      <th>journal_id</th>\n",
       "      <th>last_revision</th>\n",
       "      <th>volume</th>\n",
       "      <th>title</th>\n",
       "      <th>pages</th>\n",
       "      <th>DOI</th>\n",
       "      <th>authors</th>\n",
       "      <th>journal</th>\n",
       "      <th>abstract</th>\n",
       "      <th>abstract_words</th>\n",
       "      <th>keywords</th>\n",
       "      <th>terms</th>\n",
       "      <th>pub_type</th>\n",
       "      <th>citation</th>\n",
       "      <th>publication_year</th>\n",
       "      <th>pub_date</th>\n",
       "    </tr>\n",
       "  </thead>\n",
       "  <tbody>\n",
       "    <tr>\n",
       "      <th>0</th>\n",
       "      <td>38012702</td>\n",
       "      <td>105</td>\n",
       "      <td>2023-11-29</td>\n",
       "      <td>20.0</td>\n",
       "      <td>Neuroinflammation, memory, and depression: new...</td>\n",
       "      <td>283</td>\n",
       "      <td>10.1186/s12974-023-02964-x</td>\n",
       "      <td>['Wu, Anbiao', 'Zhang, Jiyan']</td>\n",
       "      <td>Journal of neuroinflammation</td>\n",
       "      <td>As one of most common and severe mental disord...</td>\n",
       "      <td>one common severe mental disorders , major dep...</td>\n",
       "      <td>['one', 'common', 'severe', 'mental', 'disorde...</td>\n",
       "      <td>['Hippocampal neurogenesis', 'Major depressive...</td>\n",
       "      <td>Journal Article</td>\n",
       "      <td>J Neuroinflammation. 2023 Nov 27;20(1):283. do...</td>\n",
       "      <td>2023</td>\n",
       "      <td>2023-01-01</td>\n",
       "    </tr>\n",
       "    <tr>\n",
       "      <th>1</th>\n",
       "      <td>38012669</td>\n",
       "      <td>105</td>\n",
       "      <td>2023-11-29</td>\n",
       "      <td>20.0</td>\n",
       "      <td>OTUD1 ameliorates cerebral ischemic injury thr...</td>\n",
       "      <td>281</td>\n",
       "      <td>10.1186/s12974-023-02968-7</td>\n",
       "      <td>['Zheng, Shengnan', 'Li, Yiquan', 'Song, Xiaom...</td>\n",
       "      <td>Journal of neuroinflammation</td>\n",
       "      <td>BACKGROUND: Inflammatory response triggered by...</td>\n",
       "      <td>BACKGROUND : Inflammatory response triggered i...</td>\n",
       "      <td>['background', 'inflammatory', 'response', 'tr...</td>\n",
       "      <td>['Cerebral ischemic injury', 'Inflammation', '...</td>\n",
       "      <td>Journal Article</td>\n",
       "      <td>J Neuroinflammation. 2023 Nov 27;20(1):281. do...</td>\n",
       "      <td>2023</td>\n",
       "      <td>2023-01-01</td>\n",
       "    </tr>\n",
       "  </tbody>\n",
       "</table>\n",
       "</div>"
      ],
      "text/plain": [
       "     pub_id  journal_id last_revision  volume  \\\n",
       "0  38012702         105    2023-11-29    20.0   \n",
       "1  38012669         105    2023-11-29    20.0   \n",
       "\n",
       "                                               title pages  \\\n",
       "0  Neuroinflammation, memory, and depression: new...   283   \n",
       "1  OTUD1 ameliorates cerebral ischemic injury thr...   281   \n",
       "\n",
       "                          DOI  \\\n",
       "0  10.1186/s12974-023-02964-x   \n",
       "1  10.1186/s12974-023-02968-7   \n",
       "\n",
       "                                             authors  \\\n",
       "0                     ['Wu, Anbiao', 'Zhang, Jiyan']   \n",
       "1  ['Zheng, Shengnan', 'Li, Yiquan', 'Song, Xiaom...   \n",
       "\n",
       "                        journal  \\\n",
       "0  Journal of neuroinflammation   \n",
       "1  Journal of neuroinflammation   \n",
       "\n",
       "                                            abstract  \\\n",
       "0  As one of most common and severe mental disord...   \n",
       "1  BACKGROUND: Inflammatory response triggered by...   \n",
       "\n",
       "                                      abstract_words  \\\n",
       "0  one common severe mental disorders , major dep...   \n",
       "1  BACKGROUND : Inflammatory response triggered i...   \n",
       "\n",
       "                                            keywords  \\\n",
       "0  ['one', 'common', 'severe', 'mental', 'disorde...   \n",
       "1  ['background', 'inflammatory', 'response', 'tr...   \n",
       "\n",
       "                                               terms         pub_type  \\\n",
       "0  ['Hippocampal neurogenesis', 'Major depressive...  Journal Article   \n",
       "1  ['Cerebral ischemic injury', 'Inflammation', '...  Journal Article   \n",
       "\n",
       "                                            citation  publication_year  \\\n",
       "0  J Neuroinflammation. 2023 Nov 27;20(1):283. do...              2023   \n",
       "1  J Neuroinflammation. 2023 Nov 27;20(1):281. do...              2023   \n",
       "\n",
       "     pub_date  \n",
       "0  2023-01-01  \n",
       "1  2023-01-01  "
      ]
     },
     "execution_count": 4,
     "metadata": {},
     "output_type": "execute_result"
    }
   ],
   "source": [
    "pub.head(2)"
   ]
  },
  {
   "cell_type": "code",
   "execution_count": 5,
   "id": "967e9b79",
   "metadata": {},
   "outputs": [],
   "source": [
    "# dataframe with [pub_id & auhors]\n",
    "df_01 = pub[['pub_id', 'authors']]\n",
    "\n",
    "# Transform the strings to lists again\n",
    "df_01['authors'] = df_01['authors'].apply(ast.literal_eval)\n",
    "\n",
    "# Create a row per author\n",
    "df_01 = df_01.explode('authors')"
   ]
  },
  {
   "cell_type": "code",
   "execution_count": 6,
   "id": "b4ac7651",
   "metadata": {},
   "outputs": [
    {
     "data": {
      "text/html": [
       "<div>\n",
       "<style scoped>\n",
       "    .dataframe tbody tr th:only-of-type {\n",
       "        vertical-align: middle;\n",
       "    }\n",
       "\n",
       "    .dataframe tbody tr th {\n",
       "        vertical-align: top;\n",
       "    }\n",
       "\n",
       "    .dataframe thead th {\n",
       "        text-align: right;\n",
       "    }\n",
       "</style>\n",
       "<table border=\"1\" class=\"dataframe\">\n",
       "  <thead>\n",
       "    <tr style=\"text-align: right;\">\n",
       "      <th></th>\n",
       "      <th>res_id</th>\n",
       "      <th>researcher</th>\n",
       "      <th>surname</th>\n",
       "      <th>name</th>\n",
       "      <th>gender</th>\n",
       "      <th>prob</th>\n",
       "    </tr>\n",
       "  </thead>\n",
       "  <tbody>\n",
       "    <tr>\n",
       "      <th>0</th>\n",
       "      <td>0</td>\n",
       "      <td>Howe, Charles L</td>\n",
       "      <td>Howe</td>\n",
       "      <td>Charles L</td>\n",
       "      <td>male</td>\n",
       "      <td>1.0</td>\n",
       "    </tr>\n",
       "    <tr>\n",
       "      <th>1</th>\n",
       "      <td>1</td>\n",
       "      <td>Sun, Hong-Shuo</td>\n",
       "      <td>Sun</td>\n",
       "      <td>Hong-Shuo</td>\n",
       "      <td>unknown</td>\n",
       "      <td>0.0</td>\n",
       "    </tr>\n",
       "  </tbody>\n",
       "</table>\n",
       "</div>"
      ],
      "text/plain": [
       "   res_id       researcher surname        name   gender  prob\n",
       "0       0  Howe, Charles L    Howe   Charles L     male   1.0\n",
       "1       1   Sun, Hong-Shuo     Sun   Hong-Shuo  unknown   0.0"
      ]
     },
     "execution_count": 6,
     "metadata": {},
     "output_type": "execute_result"
    }
   ],
   "source": [
    "res.head(2)"
   ]
  },
  {
   "cell_type": "code",
   "execution_count": 7,
   "id": "183bd3e0",
   "metadata": {},
   "outputs": [],
   "source": [
    "# dataframe with res_id and 'researcher'\n",
    "df_02 = res[['res_id', 'researcher']]"
   ]
  },
  {
   "cell_type": "code",
   "execution_count": 8,
   "id": "428aa492",
   "metadata": {},
   "outputs": [
    {
     "data": {
      "text/html": [
       "<div>\n",
       "<style scoped>\n",
       "    .dataframe tbody tr th:only-of-type {\n",
       "        vertical-align: middle;\n",
       "    }\n",
       "\n",
       "    .dataframe tbody tr th {\n",
       "        vertical-align: top;\n",
       "    }\n",
       "\n",
       "    .dataframe thead th {\n",
       "        text-align: right;\n",
       "    }\n",
       "</style>\n",
       "<table border=\"1\" class=\"dataframe\">\n",
       "  <thead>\n",
       "    <tr style=\"text-align: right;\">\n",
       "      <th></th>\n",
       "      <th>res_id</th>\n",
       "      <th>researcher</th>\n",
       "    </tr>\n",
       "  </thead>\n",
       "  <tbody>\n",
       "    <tr>\n",
       "      <th>0</th>\n",
       "      <td>0</td>\n",
       "      <td>Howe, Charles L</td>\n",
       "    </tr>\n",
       "    <tr>\n",
       "      <th>1</th>\n",
       "      <td>1</td>\n",
       "      <td>Sun, Hong-Shuo</td>\n",
       "    </tr>\n",
       "  </tbody>\n",
       "</table>\n",
       "</div>"
      ],
      "text/plain": [
       "   res_id       researcher\n",
       "0       0  Howe, Charles L\n",
       "1       1   Sun, Hong-Shuo"
      ]
     },
     "execution_count": 8,
     "metadata": {},
     "output_type": "execute_result"
    }
   ],
   "source": [
    "df_02.head(2)"
   ]
  },
  {
   "cell_type": "code",
   "execution_count": 9,
   "id": "f9d49c43",
   "metadata": {},
   "outputs": [
    {
     "data": {
      "text/plain": [
       "(371874, 2)"
      ]
     },
     "metadata": {},
     "output_type": "display_data"
    },
    {
     "data": {
      "text/plain": [
       "(371874, 4)"
      ]
     },
     "execution_count": 9,
     "metadata": {},
     "output_type": "execute_result"
    }
   ],
   "source": [
    "# add the res_id to the table\n",
    "display(df_01.shape)\n",
    "merged_df = pd.merge(df_01, df_02, left_on='authors', right_on='researcher', how='inner')\n",
    "merged_df.shape"
   ]
  },
  {
   "cell_type": "code",
   "execution_count": 10,
   "id": "c2bd9941",
   "metadata": {},
   "outputs": [
    {
     "data": {
      "text/plain": [
       "pub_id        0\n",
       "authors       0\n",
       "res_id        0\n",
       "researcher    0\n",
       "dtype: int64"
      ]
     },
     "execution_count": 10,
     "metadata": {},
     "output_type": "execute_result"
    }
   ],
   "source": [
    "merged_df.isna().sum()"
   ]
  },
  {
   "cell_type": "code",
   "execution_count": 11,
   "id": "1644d890",
   "metadata": {},
   "outputs": [
    {
     "data": {
      "text/plain": [
       "Index(['pub_id', 'authors', 'res_id', 'researcher'], dtype='object')"
      ]
     },
     "execution_count": 11,
     "metadata": {},
     "output_type": "execute_result"
    }
   ],
   "source": [
    "merged_df.columns"
   ]
  },
  {
   "cell_type": "code",
   "execution_count": 12,
   "id": "88b7e9b1",
   "metadata": {},
   "outputs": [],
   "source": [
    "# Export as .csv\n",
    "pub_res = merged_df[['pub_id', 'res_id']]"
   ]
  },
  {
   "cell_type": "code",
   "execution_count": 13,
   "id": "1dfeeb23",
   "metadata": {},
   "outputs": [
    {
     "data": {
      "text/plain": [
       "(371874, 2)"
      ]
     },
     "metadata": {},
     "output_type": "display_data"
    },
    {
     "data": {
      "text/plain": [
       "(371851, 2)"
      ]
     },
     "metadata": {},
     "output_type": "display_data"
    }
   ],
   "source": [
    "display(pub_res.shape)\n",
    "pub_res = pub_res.drop_duplicates()\n",
    "display(pub_res.shape)"
   ]
  },
  {
   "cell_type": "code",
   "execution_count": 14,
   "id": "ee2121b0",
   "metadata": {},
   "outputs": [
    {
     "data": {
      "text/plain": [
       "pub_id    0\n",
       "res_id    0\n",
       "dtype: int64"
      ]
     },
     "execution_count": 14,
     "metadata": {},
     "output_type": "execute_result"
    }
   ],
   "source": [
    "pub_res.isna().sum()"
   ]
  },
  {
   "cell_type": "code",
   "execution_count": 15,
   "id": "42f25c37",
   "metadata": {},
   "outputs": [],
   "source": [
    "pub_res.to_csv('../data/neuropapers_db/pub_res.csv', index=False)"
   ]
  },
  {
   "cell_type": "markdown",
   "metadata": {},
   "source": [
    "## <a id='toc1_3_'></a>[pub-aff](#toc0_)"
   ]
  },
  {
   "cell_type": "code",
   "execution_count": 16,
   "id": "fc9c90c9",
   "metadata": {},
   "outputs": [],
   "source": [
    "affiliations = pd.read_csv('../data/affiliations_df.csv')"
   ]
  },
  {
   "cell_type": "code",
   "execution_count": 17,
   "id": "86ab4458",
   "metadata": {},
   "outputs": [
    {
     "data": {
      "text/plain": [
       "Index(['Unnamed: 0', 'pub_id', 'authors', 'auth_aff_list', 'first_auth_aff',\n",
       "       'last_auth_aff'],\n",
       "      dtype='object')"
      ]
     },
     "execution_count": 17,
     "metadata": {},
     "output_type": "execute_result"
    }
   ],
   "source": [
    "affiliations.columns"
   ]
  },
  {
   "cell_type": "code",
   "execution_count": 18,
   "id": "ecf0fffe",
   "metadata": {},
   "outputs": [],
   "source": [
    "df_03 = affiliations[['pub_id', 'auth_aff_list']]"
   ]
  },
  {
   "cell_type": "code",
   "execution_count": 19,
   "id": "a8b4e6ea",
   "metadata": {},
   "outputs": [
    {
     "data": {
      "text/html": [
       "<div>\n",
       "<style scoped>\n",
       "    .dataframe tbody tr th:only-of-type {\n",
       "        vertical-align: middle;\n",
       "    }\n",
       "\n",
       "    .dataframe tbody tr th {\n",
       "        vertical-align: top;\n",
       "    }\n",
       "\n",
       "    .dataframe thead th {\n",
       "        text-align: right;\n",
       "    }\n",
       "</style>\n",
       "<table border=\"1\" class=\"dataframe\">\n",
       "  <thead>\n",
       "    <tr style=\"text-align: right;\">\n",
       "      <th></th>\n",
       "      <th>pub_id</th>\n",
       "      <th>auth_aff_list</th>\n",
       "    </tr>\n",
       "  </thead>\n",
       "  <tbody>\n",
       "    <tr>\n",
       "      <th>0</th>\n",
       "      <td>38012702</td>\n",
       "      <td>['Beijing Institute of Basic Medical Sciences,...</td>\n",
       "    </tr>\n",
       "    <tr>\n",
       "      <th>1</th>\n",
       "      <td>38012669</td>\n",
       "      <td>['Department of Pharmacology, School of Basic ...</td>\n",
       "    </tr>\n",
       "  </tbody>\n",
       "</table>\n",
       "</div>"
      ],
      "text/plain": [
       "     pub_id                                      auth_aff_list\n",
       "0  38012702  ['Beijing Institute of Basic Medical Sciences,...\n",
       "1  38012669  ['Department of Pharmacology, School of Basic ..."
      ]
     },
     "execution_count": 19,
     "metadata": {},
     "output_type": "execute_result"
    }
   ],
   "source": [
    "df_03.head(2)"
   ]
  },
  {
   "cell_type": "code",
   "execution_count": 20,
   "id": "9636be22",
   "metadata": {},
   "outputs": [],
   "source": [
    "# Fill NaN with an empty list for the anonymous publications\n",
    "df_03['auth_aff_list'] = df_03['auth_aff_list'].fillna('[]')"
   ]
  },
  {
   "cell_type": "code",
   "execution_count": 21,
   "id": "172004c7",
   "metadata": {},
   "outputs": [],
   "source": [
    "# Transform the strings to lists again\n",
    "df_03['auth_aff_list'] = df_03['auth_aff_list'].apply(ast.literal_eval)"
   ]
  },
  {
   "cell_type": "code",
   "execution_count": 22,
   "id": "4fc86be6",
   "metadata": {},
   "outputs": [],
   "source": [
    "# Create a row per author\n",
    "df_03 = df_03.explode('auth_aff_list')"
   ]
  },
  {
   "cell_type": "code",
   "execution_count": 23,
   "id": "fb43327d",
   "metadata": {},
   "outputs": [
    {
     "data": {
      "text/html": [
       "<div>\n",
       "<style scoped>\n",
       "    .dataframe tbody tr th:only-of-type {\n",
       "        vertical-align: middle;\n",
       "    }\n",
       "\n",
       "    .dataframe tbody tr th {\n",
       "        vertical-align: top;\n",
       "    }\n",
       "\n",
       "    .dataframe thead th {\n",
       "        text-align: right;\n",
       "    }\n",
       "</style>\n",
       "<table border=\"1\" class=\"dataframe\">\n",
       "  <thead>\n",
       "    <tr style=\"text-align: right;\">\n",
       "      <th></th>\n",
       "      <th>pub_id</th>\n",
       "      <th>auth_aff_list</th>\n",
       "    </tr>\n",
       "  </thead>\n",
       "  <tbody>\n",
       "    <tr>\n",
       "      <th>0</th>\n",
       "      <td>38012702</td>\n",
       "      <td>Beijing Institute of Basic Medical Sciences, B...</td>\n",
       "    </tr>\n",
       "    <tr>\n",
       "      <th>0</th>\n",
       "      <td>38012702</td>\n",
       "      <td>Beijing Institute of Basic Medical Sciences, B...</td>\n",
       "    </tr>\n",
       "  </tbody>\n",
       "</table>\n",
       "</div>"
      ],
      "text/plain": [
       "     pub_id                                      auth_aff_list\n",
       "0  38012702  Beijing Institute of Basic Medical Sciences, B...\n",
       "0  38012702  Beijing Institute of Basic Medical Sciences, B..."
      ]
     },
     "execution_count": 23,
     "metadata": {},
     "output_type": "execute_result"
    }
   ],
   "source": [
    "df_03.head(2)"
   ]
  },
  {
   "cell_type": "code",
   "execution_count": 24,
   "id": "4a1fdb24",
   "metadata": {},
   "outputs": [],
   "source": [
    "df_04 = aff[['affiliation_names', 'aff_id']]"
   ]
  },
  {
   "cell_type": "code",
   "execution_count": 25,
   "id": "26056018",
   "metadata": {},
   "outputs": [
    {
     "data": {
      "text/html": [
       "<div>\n",
       "<style scoped>\n",
       "    .dataframe tbody tr th:only-of-type {\n",
       "        vertical-align: middle;\n",
       "    }\n",
       "\n",
       "    .dataframe tbody tr th {\n",
       "        vertical-align: top;\n",
       "    }\n",
       "\n",
       "    .dataframe thead th {\n",
       "        text-align: right;\n",
       "    }\n",
       "</style>\n",
       "<table border=\"1\" class=\"dataframe\">\n",
       "  <thead>\n",
       "    <tr style=\"text-align: right;\">\n",
       "      <th></th>\n",
       "      <th>affiliation_names</th>\n",
       "      <th>aff_id</th>\n",
       "    </tr>\n",
       "  </thead>\n",
       "  <tbody>\n",
       "    <tr>\n",
       "      <th>0</th>\n",
       "      <td>The fourth affiliated hospital, Harbin Medical...</td>\n",
       "      <td>0</td>\n",
       "    </tr>\n",
       "    <tr>\n",
       "      <th>1</th>\n",
       "      <td>Department of Biology, University of Padova, P...</td>\n",
       "      <td>1</td>\n",
       "    </tr>\n",
       "  </tbody>\n",
       "</table>\n",
       "</div>"
      ],
      "text/plain": [
       "                                   affiliation_names  aff_id\n",
       "0  The fourth affiliated hospital, Harbin Medical...       0\n",
       "1  Department of Biology, University of Padova, P...       1"
      ]
     },
     "execution_count": 25,
     "metadata": {},
     "output_type": "execute_result"
    }
   ],
   "source": [
    "df_04.head(2)"
   ]
  },
  {
   "cell_type": "code",
   "execution_count": 26,
   "id": "5ea6f92f",
   "metadata": {},
   "outputs": [
    {
     "data": {
      "text/plain": [
       "(371874, 2)"
      ]
     },
     "metadata": {},
     "output_type": "display_data"
    },
    {
     "data": {
      "text/plain": [
       "(373699, 4)"
      ]
     },
     "execution_count": 26,
     "metadata": {},
     "output_type": "execute_result"
    }
   ],
   "source": [
    "# add the aff_id to the table\n",
    "display(df_01.shape)\n",
    "merged_df_02 = pd.merge(df_03, df_04, left_on='auth_aff_list', right_on='affiliation_names', how='inner')\n",
    "merged_df_02.shape"
   ]
  },
  {
   "cell_type": "code",
   "execution_count": 27,
   "id": "a0cc929a",
   "metadata": {},
   "outputs": [],
   "source": [
    "pub_aff = merged_df_02[['pub_id', 'aff_id']]"
   ]
  },
  {
   "cell_type": "code",
   "execution_count": 28,
   "id": "71cd9d5d",
   "metadata": {},
   "outputs": [
    {
     "data": {
      "text/plain": [
       "(373699, 2)"
      ]
     },
     "metadata": {},
     "output_type": "display_data"
    },
    {
     "data": {
      "text/plain": [
       "(169938, 2)"
      ]
     },
     "metadata": {},
     "output_type": "display_data"
    }
   ],
   "source": [
    "display(pub_aff.shape)\n",
    "pub_aff = pub_aff.drop_duplicates()\n",
    "display(pub_aff.shape)"
   ]
  },
  {
   "cell_type": "code",
   "execution_count": 29,
   "id": "6c09c46f",
   "metadata": {},
   "outputs": [
    {
     "data": {
      "text/plain": [
       "pub_id    0\n",
       "aff_id    0\n",
       "dtype: int64"
      ]
     },
     "execution_count": 29,
     "metadata": {},
     "output_type": "execute_result"
    }
   ],
   "source": [
    "pub_aff.isna().sum()"
   ]
  },
  {
   "cell_type": "code",
   "execution_count": 30,
   "id": "58042061",
   "metadata": {},
   "outputs": [],
   "source": [
    "pub_aff.to_csv('../data/neuropapers_db/pub_aff.csv', index=False)"
   ]
  },
  {
   "cell_type": "markdown",
   "metadata": {},
   "source": [
    "## <a id='toc1_4_'></a>[jrn-res](#toc0_)"
   ]
  },
  {
   "cell_type": "code",
   "execution_count": 31,
   "id": "ebc9c424",
   "metadata": {},
   "outputs": [],
   "source": [
    "publications = pd.read_csv('../data/publications_df.csv')"
   ]
  },
  {
   "cell_type": "code",
   "execution_count": 32,
   "id": "a1f6c14b",
   "metadata": {},
   "outputs": [],
   "source": [
    "df_05 = publications[['journal', 'authors']]"
   ]
  },
  {
   "cell_type": "code",
   "execution_count": 33,
   "id": "65763a16",
   "metadata": {},
   "outputs": [],
   "source": [
    "df_06 = jrn[['journal_id', 'journal_name']]"
   ]
  },
  {
   "cell_type": "code",
   "execution_count": 34,
   "id": "380fcc67",
   "metadata": {},
   "outputs": [],
   "source": [
    "df_07 = res[['res_id', 'researcher']]"
   ]
  },
  {
   "cell_type": "code",
   "execution_count": 35,
   "id": "f775cd1f",
   "metadata": {},
   "outputs": [
    {
     "data": {
      "text/plain": [
       "str"
      ]
     },
     "execution_count": 35,
     "metadata": {},
     "output_type": "execute_result"
    }
   ],
   "source": [
    "type(df_05['authors'][0])"
   ]
  },
  {
   "cell_type": "code",
   "execution_count": 36,
   "id": "3ef583e1",
   "metadata": {},
   "outputs": [],
   "source": [
    "# Transform the strings to lists again\n",
    "df_05['authors'] = df_05['authors'].apply(ast.literal_eval)\n",
    "\n",
    "# Create a row per author\n",
    "df_05 = df_05.explode('authors')"
   ]
  },
  {
   "cell_type": "code",
   "execution_count": 37,
   "id": "bf4b2287",
   "metadata": {},
   "outputs": [
    {
     "data": {
      "text/html": [
       "<div>\n",
       "<style scoped>\n",
       "    .dataframe tbody tr th:only-of-type {\n",
       "        vertical-align: middle;\n",
       "    }\n",
       "\n",
       "    .dataframe tbody tr th {\n",
       "        vertical-align: top;\n",
       "    }\n",
       "\n",
       "    .dataframe thead th {\n",
       "        text-align: right;\n",
       "    }\n",
       "</style>\n",
       "<table border=\"1\" class=\"dataframe\">\n",
       "  <thead>\n",
       "    <tr style=\"text-align: right;\">\n",
       "      <th></th>\n",
       "      <th>journal</th>\n",
       "      <th>authors</th>\n",
       "    </tr>\n",
       "  </thead>\n",
       "  <tbody>\n",
       "    <tr>\n",
       "      <th>0</th>\n",
       "      <td>Journal of neuroinflammation</td>\n",
       "      <td>Wu, Anbiao</td>\n",
       "    </tr>\n",
       "    <tr>\n",
       "      <th>0</th>\n",
       "      <td>Journal of neuroinflammation</td>\n",
       "      <td>Zhang, Jiyan</td>\n",
       "    </tr>\n",
       "  </tbody>\n",
       "</table>\n",
       "</div>"
      ],
      "text/plain": [
       "                        journal       authors\n",
       "0  Journal of neuroinflammation    Wu, Anbiao\n",
       "0  Journal of neuroinflammation  Zhang, Jiyan"
      ]
     },
     "execution_count": 37,
     "metadata": {},
     "output_type": "execute_result"
    }
   ],
   "source": [
    "df_05.head(2)"
   ]
  },
  {
   "cell_type": "code",
   "execution_count": 38,
   "id": "c3942c3a",
   "metadata": {},
   "outputs": [],
   "source": [
    "# Rename the two journals with problematic names according with the 'journals'\n",
    "old_names = ['The Neuroscientist : a review journal bringing neurobiology, neurology and ',\n",
    "             'Journal of physiology, Paris']\n",
    "new_names = ['Neuroscientist', 'Journal of Physiology Paris']\n",
    "\n",
    "df_05['journal'] = df_05['journal'].replace(old_names, new_names)"
   ]
  },
  {
   "cell_type": "code",
   "execution_count": 39,
   "id": "d67c61ed",
   "metadata": {},
   "outputs": [],
   "source": [
    "df_05['journal'] = df_05['journal'].str.title()\n",
    "df_06['journal_name'] = df_06['journal_name'].str.title()"
   ]
  },
  {
   "cell_type": "code",
   "execution_count": 40,
   "id": "b50b400c",
   "metadata": {},
   "outputs": [
    {
     "data": {
      "text/plain": [
       "(372016, 2)"
      ]
     },
     "metadata": {},
     "output_type": "display_data"
    },
    {
     "data": {
      "text/plain": [
       "(372016, 4)"
      ]
     },
     "execution_count": 40,
     "metadata": {},
     "output_type": "execute_result"
    }
   ],
   "source": [
    "# add the jrn_id to the table\n",
    "display(df_05.shape)\n",
    "merged_df_03 = pd.merge(df_05, df_06, left_on='journal', right_on='journal_name', how='left')\n",
    "merged_df_03.shape"
   ]
  },
  {
   "cell_type": "code",
   "execution_count": 41,
   "id": "99466a99",
   "metadata": {},
   "outputs": [
    {
     "data": {
      "text/plain": [
       "journal         0\n",
       "authors         0\n",
       "journal_id      0\n",
       "journal_name    0\n",
       "dtype: int64"
      ]
     },
     "execution_count": 41,
     "metadata": {},
     "output_type": "execute_result"
    }
   ],
   "source": [
    "merged_df_03.isna().sum()"
   ]
  },
  {
   "cell_type": "code",
   "execution_count": 42,
   "id": "edb99c4d",
   "metadata": {},
   "outputs": [
    {
     "data": {
      "text/plain": [
       "(372016, 4)"
      ]
     },
     "metadata": {},
     "output_type": "display_data"
    },
    {
     "data": {
      "text/plain": [
       "(372016, 6)"
      ]
     },
     "execution_count": 42,
     "metadata": {},
     "output_type": "execute_result"
    }
   ],
   "source": [
    "# add the res_id to the table\n",
    "display(merged_df_03.shape)\n",
    "merged_df_04 = pd.merge(merged_df_03, df_07, left_on='authors', right_on='researcher', how='left')\n",
    "merged_df_04.shape"
   ]
  },
  {
   "cell_type": "code",
   "execution_count": 43,
   "id": "cc91364a",
   "metadata": {},
   "outputs": [
    {
     "data": {
      "text/html": [
       "<div>\n",
       "<style scoped>\n",
       "    .dataframe tbody tr th:only-of-type {\n",
       "        vertical-align: middle;\n",
       "    }\n",
       "\n",
       "    .dataframe tbody tr th {\n",
       "        vertical-align: top;\n",
       "    }\n",
       "\n",
       "    .dataframe thead th {\n",
       "        text-align: right;\n",
       "    }\n",
       "</style>\n",
       "<table border=\"1\" class=\"dataframe\">\n",
       "  <thead>\n",
       "    <tr style=\"text-align: right;\">\n",
       "      <th></th>\n",
       "      <th>journal</th>\n",
       "      <th>authors</th>\n",
       "      <th>journal_id</th>\n",
       "      <th>journal_name</th>\n",
       "      <th>res_id</th>\n",
       "      <th>researcher</th>\n",
       "    </tr>\n",
       "  </thead>\n",
       "  <tbody>\n",
       "    <tr>\n",
       "      <th>0</th>\n",
       "      <td>Journal Of Neuroinflammation</td>\n",
       "      <td>Wu, Anbiao</td>\n",
       "      <td>105</td>\n",
       "      <td>Journal Of Neuroinflammation</td>\n",
       "      <td>54006</td>\n",
       "      <td>Wu, Anbiao</td>\n",
       "    </tr>\n",
       "    <tr>\n",
       "      <th>1</th>\n",
       "      <td>Journal Of Neuroinflammation</td>\n",
       "      <td>Zhang, Jiyan</td>\n",
       "      <td>105</td>\n",
       "      <td>Journal Of Neuroinflammation</td>\n",
       "      <td>92026</td>\n",
       "      <td>Zhang, Jiyan</td>\n",
       "    </tr>\n",
       "  </tbody>\n",
       "</table>\n",
       "</div>"
      ],
      "text/plain": [
       "                        journal       authors  journal_id  \\\n",
       "0  Journal Of Neuroinflammation    Wu, Anbiao         105   \n",
       "1  Journal Of Neuroinflammation  Zhang, Jiyan         105   \n",
       "\n",
       "                   journal_name  res_id    researcher  \n",
       "0  Journal Of Neuroinflammation   54006    Wu, Anbiao  \n",
       "1  Journal Of Neuroinflammation   92026  Zhang, Jiyan  "
      ]
     },
     "execution_count": 43,
     "metadata": {},
     "output_type": "execute_result"
    }
   ],
   "source": [
    "merged_df_04.head(2)"
   ]
  },
  {
   "cell_type": "code",
   "execution_count": 44,
   "id": "40709192",
   "metadata": {},
   "outputs": [],
   "source": [
    "jrn_res = merged_df_04[['journal_id', 'res_id']]"
   ]
  },
  {
   "cell_type": "code",
   "execution_count": 45,
   "id": "03f929d3",
   "metadata": {},
   "outputs": [
    {
     "data": {
      "text/plain": [
       "(372016, 2)"
      ]
     },
     "metadata": {},
     "output_type": "display_data"
    },
    {
     "data": {
      "text/plain": [
       "(269401, 2)"
      ]
     },
     "metadata": {},
     "output_type": "display_data"
    }
   ],
   "source": [
    "display(jrn_res.shape)\n",
    "jrn_res = jrn_res.drop_duplicates()\n",
    "display(jrn_res.shape)"
   ]
  },
  {
   "cell_type": "code",
   "execution_count": 46,
   "id": "3d5f0e07",
   "metadata": {},
   "outputs": [
    {
     "data": {
      "text/plain": [
       "journal_id    0\n",
       "res_id        0\n",
       "dtype: int64"
      ]
     },
     "execution_count": 46,
     "metadata": {},
     "output_type": "execute_result"
    }
   ],
   "source": [
    "jrn_res.isna().sum()"
   ]
  },
  {
   "cell_type": "code",
   "execution_count": 47,
   "id": "0b2faea3",
   "metadata": {},
   "outputs": [],
   "source": [
    "jrn_res.to_csv('../data/neuropapers_db/jrn_res.csv', index=False)"
   ]
  },
  {
   "cell_type": "markdown",
   "metadata": {},
   "source": [
    "## <a id='toc1_5_'></a>[aff-res](#toc0_)"
   ]
  },
  {
   "cell_type": "code",
   "execution_count": 48,
   "id": "1fa9df52",
   "metadata": {},
   "outputs": [],
   "source": [
    "df_08 = affiliations[['authors', 'auth_aff_list']]\n",
    "df_09 = aff[['affiliation_names', 'aff_id']]\n",
    "df_10 = res[['res_id', 'researcher']]"
   ]
  },
  {
   "cell_type": "code",
   "execution_count": 49,
   "id": "7d316023",
   "metadata": {},
   "outputs": [
    {
     "data": {
      "text/plain": [
       "authors            0\n",
       "auth_aff_list    674\n",
       "dtype: int64"
      ]
     },
     "execution_count": 49,
     "metadata": {},
     "output_type": "execute_result"
    }
   ],
   "source": [
    "# Clean affiliations\n",
    "df_08.isna().sum()"
   ]
  },
  {
   "cell_type": "code",
   "execution_count": 50,
   "id": "0e137587",
   "metadata": {},
   "outputs": [],
   "source": [
    "# Fill NaN with an empty list for the anonymous publications\n",
    "df_08['auth_aff_list'] = df_08['auth_aff_list'].fillna('[]')"
   ]
  },
  {
   "cell_type": "code",
   "execution_count": 51,
   "id": "d3e1dc4a",
   "metadata": {},
   "outputs": [
    {
     "data": {
      "text/plain": [
       "(str, str)"
      ]
     },
     "execution_count": 51,
     "metadata": {},
     "output_type": "execute_result"
    }
   ],
   "source": [
    "type(df_08['authors'][0]), type(df_08['auth_aff_list'][0])"
   ]
  },
  {
   "cell_type": "code",
   "execution_count": 52,
   "id": "3675531b",
   "metadata": {},
   "outputs": [],
   "source": [
    "# Transform the strings to lists again\n",
    "df_08['auth_aff_list'] = df_08['auth_aff_list'].apply(ast.literal_eval)\n",
    "df_08['authors'] = df_08['authors'].apply(ast.literal_eval)"
   ]
  },
  {
   "cell_type": "code",
   "execution_count": 53,
   "id": "3e6a336e",
   "metadata": {},
   "outputs": [
    {
     "data": {
      "text/plain": [
       "(list, list)"
      ]
     },
     "execution_count": 53,
     "metadata": {},
     "output_type": "execute_result"
    }
   ],
   "source": [
    "type(df_08['authors'][0]), type(df_08['auth_aff_list'][0])"
   ]
  },
  {
   "cell_type": "code",
   "execution_count": 54,
   "id": "34bbc1cc",
   "metadata": {},
   "outputs": [],
   "source": [
    "# Create a row per affiliation\n",
    "df_08_exp = df_08.explode('auth_aff_list')"
   ]
  },
  {
   "cell_type": "code",
   "execution_count": 55,
   "id": "6eceb3f9",
   "metadata": {},
   "outputs": [],
   "source": [
    "# Create a row per researcher\n",
    "df_08_exp = df_08_exp.explode('authors')"
   ]
  },
  {
   "cell_type": "code",
   "execution_count": 56,
   "id": "fad3866b",
   "metadata": {},
   "outputs": [
    {
     "data": {
      "text/plain": [
       "(3683436, 2)"
      ]
     },
     "metadata": {},
     "output_type": "display_data"
    },
    {
     "data": {
      "text/plain": [
       "(1463368, 2)"
      ]
     },
     "metadata": {},
     "output_type": "display_data"
    }
   ],
   "source": [
    "display(df_08_exp.shape)\n",
    "df_08_exp = df_08_exp.drop_duplicates()\n",
    "display(df_08_exp.shape)"
   ]
  },
  {
   "cell_type": "code",
   "execution_count": 57,
   "id": "9d69ec01",
   "metadata": {},
   "outputs": [
    {
     "data": {
      "text/plain": [
       "(1463368, 2)"
      ]
     },
     "metadata": {},
     "output_type": "display_data"
    },
    {
     "data": {
      "text/plain": [
       "(1460099, 4)"
      ]
     },
     "execution_count": 57,
     "metadata": {},
     "output_type": "execute_result"
    }
   ],
   "source": [
    "# add the aff_id to the table\n",
    "display(df_08_exp.shape)\n",
    "merged_df_05 = pd.merge(df_08_exp, df_09, left_on='auth_aff_list', right_on='affiliation_names', how='inner')\n",
    "merged_df_05.shape"
   ]
  },
  {
   "cell_type": "code",
   "execution_count": 58,
   "id": "7fcfa075",
   "metadata": {},
   "outputs": [
    {
     "data": {
      "text/plain": [
       "(1460099, 4)"
      ]
     },
     "metadata": {},
     "output_type": "display_data"
    },
    {
     "data": {
      "text/plain": [
       "(1460099, 6)"
      ]
     },
     "execution_count": 58,
     "metadata": {},
     "output_type": "execute_result"
    }
   ],
   "source": [
    "# add the res_id to the table\n",
    "display(merged_df_05.shape)\n",
    "merged_df_06 = pd.merge(merged_df_05, df_10, left_on='authors', right_on='researcher', how='left')\n",
    "merged_df_06.shape"
   ]
  },
  {
   "cell_type": "code",
   "execution_count": 59,
   "id": "b974f2ab",
   "metadata": {},
   "outputs": [],
   "source": [
    "aff_res = merged_df_06[['aff_id', 'res_id']]"
   ]
  },
  {
   "cell_type": "code",
   "execution_count": 60,
   "id": "b5b5d405",
   "metadata": {},
   "outputs": [
    {
     "data": {
      "text/plain": [
       "(1460099, 2)"
      ]
     },
     "metadata": {},
     "output_type": "display_data"
    },
    {
     "data": {
      "text/plain": [
       "(1460099, 2)"
      ]
     },
     "metadata": {},
     "output_type": "display_data"
    }
   ],
   "source": [
    "display(aff_res.shape)\n",
    "aff_res = aff_res.drop_duplicates()\n",
    "display(aff_res.shape)"
   ]
  },
  {
   "cell_type": "code",
   "execution_count": 61,
   "id": "1d2870b8",
   "metadata": {},
   "outputs": [
    {
     "data": {
      "text/plain": [
       "aff_id    0\n",
       "res_id    0\n",
       "dtype: int64"
      ]
     },
     "execution_count": 61,
     "metadata": {},
     "output_type": "execute_result"
    }
   ],
   "source": [
    "aff_res.isna().sum()"
   ]
  },
  {
   "cell_type": "code",
   "execution_count": 62,
   "id": "8e6341c5",
   "metadata": {},
   "outputs": [],
   "source": [
    "aff_res.to_csv('../data/neuropapers_db/aff_res.csv', index=False)"
   ]
  },
  {
   "cell_type": "code",
   "execution_count": null,
   "id": "6a3d1883",
   "metadata": {},
   "outputs": [],
   "source": []
  }
 ],
 "metadata": {
  "kernelspec": {
   "display_name": "clase",
   "language": "python",
   "name": "clase"
  },
  "language_info": {
   "codemirror_mode": {
    "name": "ipython",
    "version": 3
   },
   "file_extension": ".py",
   "mimetype": "text/x-python",
   "name": "python",
   "nbconvert_exporter": "python",
   "pygments_lexer": "ipython3",
   "version": "3.11.5"
  },
  "toc": {
   "base_numbering": 1,
   "nav_menu": {},
   "number_sections": true,
   "sideBar": true,
   "skip_h1_title": false,
   "title_cell": "Table of Contents",
   "title_sidebar": "Contents",
   "toc_cell": false,
   "toc_position": {},
   "toc_section_display": true,
   "toc_window_display": false
  }
 },
 "nbformat": 4,
 "nbformat_minor": 5
}
