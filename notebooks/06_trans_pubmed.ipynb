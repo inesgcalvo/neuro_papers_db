{
 "cells": [
  {
   "cell_type": "markdown",
   "id": "d1e9ee0e",
   "metadata": {},
   "source": [
    "# Publication Transformation\n",
    "\n",
    "In this notebook, I have gathered all the raw dataframes that I previously obtained from PubMed through web scraping. \n",
    "\n",
    "* First, I vertically concatenated all the documents, \n",
    "* Second I split the data into columns, and\n",
    "* Third, I performed proper cleaning of the data.\n",
    "\n",
    "The goal was to integrate the data into the neuropapers database."
   ]
  },
  {
   "cell_type": "markdown",
   "id": "a2a15f7d",
   "metadata": {},
   "source": [
    "INDEX"
   ]
  },
  {
   "cell_type": "markdown",
   "id": "0497e4f7",
   "metadata": {},
   "source": [
    "___\n",
    "## Concatenate all the dataframes vertically"
   ]
  },
  {
   "cell_type": "code",
   "execution_count": 3,
   "id": "af81cbf4",
   "metadata": {},
   "outputs": [],
   "source": [
    "# Libraries\n",
    "import os\n",
    "import pandas as pd\n",
    "\n",
    "# Functions\n",
    "import sys\n",
    "sys.path.append('../src')\n",
    "from support_transform import *\n",
    "from support_clean import *\n",
    "\n",
    "# Natural Language Toolkit\n",
    "import nltk\n",
    "from nltk import FreqDist\n",
    "from nltk.corpus import stopwords\n",
    "from nltk.tokenize import word_tokenize\n",
    "\n",
    "# Ignore Warnings\n",
    "import warnings\n",
    "warnings.filterwarnings('ignore')"
   ]
  },
  {
   "cell_type": "code",
   "execution_count": 2,
   "id": "50ff2101",
   "metadata": {},
   "outputs": [],
   "source": [
    "# list the files\n",
    "folder = '../data/pubmed/'\n",
    "files_in_folder = os.listdir(folder)"
   ]
  },
  {
   "cell_type": "code",
   "execution_count": 3,
   "id": "4bf78bb4",
   "metadata": {},
   "outputs": [],
   "source": [
    "# Open all the .csv files as DataFrames\n",
    "\n",
    "list_dfs = []\n",
    "\n",
    "min_num = int(min(files_in_folder)[7:10])\n",
    "max_num = int(max(files_in_folder)[7:10]) + 1\n",
    "\n",
    "for num in range(min_num, max_num):\n",
    "    if num < 10:\n",
    "        name = f'00{num}'\n",
    "    elif num < 100:\n",
    "        name = f'0{num}'\n",
    "    elif num < 1000:\n",
    "        name = f'{num}'\n",
    "    else:\n",
    "        raise(\"Don't exceed yourself with the amount of data, Inés!\")\n",
    "    \n",
    "    df_name = f'df_{name}'\n",
    "    file_name = f'../data/pubmed/raw_df_{name}.csv'\n",
    "    \n",
    "    try:\n",
    "        globals()[df_name] = pd.read_csv(file_name, sep=';')\n",
    "        list_dfs.append(df_name)\n",
    "        \n",
    "    except:\n",
    "        globals()[df_name] = pd.read_csv(file_name, encoding='latin-1')\n",
    "        list_dfs.append(df_name)\n",
    "        continue"
   ]
  },
  {
   "cell_type": "code",
   "execution_count": 4,
   "id": "a925929c",
   "metadata": {},
   "outputs": [
    {
     "data": {
      "text/plain": [
       "82"
      ]
     },
     "execution_count": 4,
     "metadata": {},
     "output_type": "execute_result"
    }
   ],
   "source": [
    "len(list_dfs)"
   ]
  },
  {
   "cell_type": "code",
   "execution_count": 5,
   "id": "d1376826",
   "metadata": {},
   "outputs": [],
   "source": [
    "# Concatenate vertically all the dataframes\n",
    "dataframes = {name: globals()[name] for name in list_dfs}\n",
    "pubmed = pd.concat(dataframes.values(), axis=0, ignore_index=True)"
   ]
  },
  {
   "cell_type": "code",
   "execution_count": 8,
   "id": "ced0cb54",
   "metadata": {},
   "outputs": [
    {
     "data": {
      "text/plain": [
       "(7855328, 1)"
      ]
     },
     "metadata": {},
     "output_type": "display_data"
    },
    {
     "data": {
      "text/plain": [
       "(68171, 1)"
      ]
     },
     "execution_count": 8,
     "metadata": {},
     "output_type": "execute_result"
    }
   ],
   "source": [
    "display(df.shape)\n",
    "df = df.drop_duplicates()\n",
    "df.shape"
   ]
  },
  {
   "cell_type": "code",
   "execution_count": 86,
   "id": "43b0a018",
   "metadata": {},
   "outputs": [],
   "source": [
    "df.to_csv('../data/articles/articles_raw.csv')"
   ]
  },
  {
   "cell_type": "markdown",
   "id": "c64fd9f1",
   "metadata": {},
   "source": [
    "___\n",
    "## Divide the data in columns\n",
    "\n",
    "##### Description of the fields\n",
    "    PMID: PubMed Identifier for the article (PubMed unique identifier).\n",
    "    OWN: Ownership or database where the record is held (e.g., NLM for National Library of Medicine).\n",
    "    STAT: Article status (e.g., MEDLINE).\n",
    "    DCOM: Date of completion (e.g., 20220128).\n",
    "    LR: Last revision date (e.g., 20220128).\n",
    "    IS: ISSN (International Standard Serial Number) for electronic and linking formats.\n",
    "    VI: Volume.\n",
    "    DP: Date of publication.\n",
    "    TI: Title of the article.\n",
    "    LID: Locator ID (e.g., DOI - Digital Object Identifier).\n",
    "    AB: Abstract of the article.\n",
    "    CI: Copyright information.\n",
    "    FAU: Full Author Name.\n",
    "    AU: Abbreviated Author Name.\n",
    "    AUID: Author Identifier (e.g., ORCID).\n",
    "    AD: Author's affiliation.\n",
    "    LA: Language of the article (e.g., English).\n",
    "    PT: Publication type (e.g., Journal Article, Research Support).\n",
    "    DEP: Date of entry into PubMed.\n",
    "    PL: Place of publication (e.g., England).\n",
    "    TA: Journal title abbreviation.\n",
    "    JT: Full Journal Title.\n",
    "    JID: Journal ID (e.g., NLM unique identifier).\n",
    "    RN: Registry Number (e.g., for chemical substances).\n",
    "    SB: Source of publication (e.g., IM for Index Medicus).\n",
    "    MH: MeSH terms (Medical Subject Headings).\n",
    "    PMC: PubMed Central ID.\n",
    "    OTO: Other Term(s).\n",
    "    OT: Original title or other information.\n",
    "    COIS: Conflict of Interest Statement.\n",
    "    EDAT: Entry Date.\n",
    "    MHDA: Date of last major update.\n",
    "    CRDT: Create Date.\n",
    "    PHST: Publication History Status and Dates.\n",
    "    AID: Article Identifier (e.g., DOI or PMID).\n",
    "    PST: Publication Status.\n",
    "    SO: Source (e.g., Journal citation with title, volume, and page).\n",
    "    \n",
    "##### Example of extracted data\n",
    "'PMID- 37815691\\nOWN - NLM\\nSTAT- MEDLINE\\nDCOM- 20231121\\nLR  - 20231123\\nIS  - 1995-8218 (Electronic)\\nIS  - 1673-7067 (Print)\\nIS  - 1995-8218 (Linking)\\nVI  - 39\\nIP  - 12\\nDP  - 2023 Dec\\nTI  - Propofol Brings on the Light for Depression Therapy.\\nPG  - 1891-1894\\nLID - 10.1007/s12264-023-01133-7 [doi]\\nFAU - Yan, Yun\\nAU  - Yan Y\\nAUID- ORCID: 0000-0002-9993-4959\\nAD  - Department of Anesthesiology, China-Japan Friendship Hospital, Chinese Academy of \\n      Medical Sciences and Peking Union Medical College, Beijing, 100029, China.\\nFAU - Ma, Hongli\\nAU  - Ma H\\nAUID- ORCID: 0000-0001-8925-1372\\nAD  - Department of Anesthesiology, China-Japan Friendship Hospital, Chinese Academy of \\n      Medical Sciences and Peking Union Medical College, Beijing, 100029, China.\\nFAU - Zhao, Jing\\nAU  - Zhao J\\nAUID- ORCID: 0000-0002-4640-2609\\nAD  - Department of Anesthesiology, China-Japan Friendship Hospital, Chinese Academy of \\n      Medical Sciences and Peking Union Medical College, Beijing, 100029, China. \\n      zhaojing1009@aliyun.com.\\nLA  - eng\\nPT  - Journal Article\\nDEP - 20231010\\nPL  - Singapore\\nTA  - Neurosci Bull\\nJT  - Neuroscience bulletin\\nJID - 101256850\\nRN  - YI7VU623SF (Propofol)\\nSB  - IM\\nMH  - *Propofol/therapeutic use\\nMH  - Depression/drug therapy\\nPMC - PMC10661581\\nCOIS- The authors declare that there are no conflicts of interest.\\nEDAT- 2023/10/10 12:43\\nMHDA- 2023/11/21 06:43\\nPMCR- 2024/12/01\\nCRDT- 2023/10/10 11:11\\nPHST- 2023/04/11 00:00 [received]\\nPHST- 2023/08/22 00:00 [accepted]\\nPHST- 2024/12/01 00:00 [pmc-release]\\nPHST- 2023/11/21 06:43 [medline]\\nPHST- 2023/10/10 12:43 [pubmed]\\nPHST- 2023/10/10 11:11 [entrez]\\nAID - 10.1007/s12264-023-01133-7 [pii]\\nAID - 1133 [pii]\\nAID - 10.1007/s12264-023-01133-7 [doi]\\nPST - ppublish\\nSO  - Neurosci Bull. 2023 Dec;39(12):1891-1894. doi: 10.1007/s12264-023-01133-7. Epub \\n      2023 Oct 10.'"
   ]
  },
  {
   "cell_type": "code",
   "execution_count": 47,
   "id": "95172d2e",
   "metadata": {},
   "outputs": [
    {
     "data": {
      "text/plain": [
       "(68171, 38)"
      ]
     },
     "execution_count": 47,
     "metadata": {},
     "output_type": "execute_result"
    }
   ],
   "source": [
    "articles = pd.concat([df, df['0'].apply(lambda x: pd.Series(extraer_informacion(x)))], axis = 1)\n",
    "articles.drop('0', axis = 1, inplace = True)\n",
    "articles.shape"
   ]
  },
  {
   "cell_type": "code",
   "execution_count": 10,
   "id": "10a7502f",
   "metadata": {},
   "outputs": [],
   "source": [
    "articles.to_csv('../data/articles/articles_raw_df.csv')"
   ]
  },
  {
   "cell_type": "markdown",
   "id": "a18fa595",
   "metadata": {},
   "source": [
    "___\n",
    "## Data cleansing"
   ]
  },
  {
   "cell_type": "code",
   "execution_count": 6,
   "id": "817e1e81",
   "metadata": {},
   "outputs": [],
   "source": [
    "# articles = pd.read_csv('../data/articles/articles_raw_df.csv', index_col=False)\n",
    "# articles.drop(columns='Unnamed: 0', axis=1, inplace=True)\n",
    "# articles.columns"
   ]
  },
  {
   "cell_type": "code",
   "execution_count": 10,
   "id": "931cb69f",
   "metadata": {},
   "outputs": [],
   "source": [
    "df = articles.copy()"
   ]
  },
  {
   "cell_type": "code",
   "execution_count": 11,
   "id": "bbb93d06",
   "metadata": {},
   "outputs": [
    {
     "name": "stdout",
     "output_type": "stream",
     "text": [
      "<class 'pandas.core.frame.DataFrame'>\n",
      "RangeIndex: 68171 entries, 0 to 68170\n",
      "Data columns (total 38 columns):\n",
      " #   Column                 Non-Null Count  Dtype  \n",
      "---  ------                 --------------  -----  \n",
      " 0   ID                     68158 non-null  float64\n",
      " 1   ownership              68158 non-null  object \n",
      " 2   status                 68158 non-null  object \n",
      " 3   completion_date        57064 non-null  float64\n",
      " 4   last_revision          68158 non-null  float64\n",
      " 5   ISSN                   68158 non-null  object \n",
      " 6   volume                 67579 non-null  float64\n",
      " 7   issue                  40295 non-null  float64\n",
      " 8   publication_date       68158 non-null  object \n",
      " 9   title                  68158 non-null  object \n",
      " 10  pages                  65745 non-null  object \n",
      " 11  DOI                    66899 non-null  object \n",
      " 12  authors                67574 non-null  object \n",
      " 13  first_auth             67574 non-null  object \n",
      " 14  last_auth              67574 non-null  object \n",
      " 15  auth_aff_list          66101 non-null  object \n",
      " 16  first_auth_aff         66101 non-null  object \n",
      " 17  last_auth_aff          66101 non-null  object \n",
      " 18  journal_abb            68158 non-null  object \n",
      " 19  journal                68158 non-null  object \n",
      " 20  other_terms            46127 non-null  object \n",
      " 21  copyright_information  31319 non-null  object \n",
      " 22  abstract               62626 non-null  object \n",
      " 23  lang                   68158 non-null  object \n",
      " 24  pub_type               68158 non-null  object \n",
      " 25  journal_ID             68158 non-null  float64\n",
      " 26  source_pub             53444 non-null  object \n",
      " 27  MeSH_terms             54418 non-null  object \n",
      " 28  pubmed_central_ID      38451 non-null  object \n",
      " 29  conflict_int           23424 non-null  object \n",
      " 30  received_date          44697 non-null  object \n",
      " 31  accepted_date          44930 non-null  object \n",
      " 32  citation               68158 non-null  object \n",
      " 33  entry_date             62114 non-null  float64\n",
      " 34  pub_place              68158 non-null  object \n",
      " 35  registry_num           28675 non-null  object \n",
      " 36  first_auth_ID          15579 non-null  object \n",
      " 37  last_auth_ID           15579 non-null  object \n",
      "dtypes: float64(7), object(31)\n",
      "memory usage: 211.9 MB\n"
     ]
    }
   ],
   "source": [
    "df.info(memory_usage='deep')"
   ]
  },
  {
   "cell_type": "code",
   "execution_count": 12,
   "id": "a645bfad",
   "metadata": {},
   "outputs": [
    {
     "data": {
      "image/png": "[encoded data removed]",
      "text/plain": [
       "<Figure size 1000x600 with 1 Axes>"
      ]
     },
     "metadata": {
      "needs_background": "light"
     },
     "output_type": "display_data"
    }
   ],
   "source": [
    "view_nan(df)"
   ]
  },
  {
   "cell_type": "markdown",
   "id": "92a51513",
   "metadata": {},
   "source": [
    "#### 'ID' column"
   ]
  },
  {
   "cell_type": "code",
   "execution_count": 13,
   "id": "0372c338",
   "metadata": {},
   "outputs": [
    {
     "data": {
      "text/plain": [
       "(68171, 38)"
      ]
     },
     "metadata": {},
     "output_type": "display_data"
    },
    {
     "data": {
      "text/plain": [
       "(68158, 38)"
      ]
     },
     "metadata": {},
     "output_type": "display_data"
    }
   ],
   "source": [
    "display(df.shape)\n",
    "df = df.dropna(subset=['ID'])\n",
    "display(df.shape)"
   ]
  },
  {
   "cell_type": "code",
   "execution_count": 14,
   "id": "5111832c",
   "metadata": {},
   "outputs": [
    {
     "name": "stdout",
     "output_type": "stream",
     "text": [
      "<class 'pandas.core.series.Series'>\n",
      "Int64Index: 68158 entries, 0 to 68170\n",
      "Series name: ID\n",
      "Non-Null Count  Dtype\n",
      "--------------  -----\n",
      "68158 non-null  int64\n",
      "dtypes: int64(1)\n",
      "memory usage: 1.0 MB\n"
     ]
    }
   ],
   "source": [
    "df['ID'] = df['ID'].astype('int64')\n",
    "df['ID'].info()"
   ]
  },
  {
   "cell_type": "markdown",
   "id": "ca6b4352",
   "metadata": {},
   "source": [
    "#### Drop constant columns"
   ]
  },
  {
   "cell_type": "code",
   "execution_count": 15,
   "id": "2ad05fcf",
   "metadata": {},
   "outputs": [
    {
     "data": {
      "text/plain": [
       "([], ['ownership', 'lang'])"
      ]
     },
     "execution_count": 15,
     "metadata": {},
     "output_type": "execute_result"
    }
   ],
   "source": [
    "constant_columns(df)"
   ]
  },
  {
   "cell_type": "code",
   "execution_count": 16,
   "id": "160dd54d",
   "metadata": {},
   "outputs": [
    {
     "data": {
      "text/plain": [
       "(68158, 38)"
      ]
     },
     "metadata": {},
     "output_type": "display_data"
    },
    {
     "data": {
      "text/plain": [
       "(68158, 36)"
      ]
     },
     "metadata": {},
     "output_type": "display_data"
    }
   ],
   "source": [
    "display(df.shape)\n",
    "df.drop(['ownership', 'lang'], axis=1, inplace=True)\n",
    "display(df.shape)"
   ]
  },
  {
   "cell_type": "markdown",
   "id": "31e5e8f1",
   "metadata": {},
   "source": [
    "#### Drop columns"
   ]
  },
  {
   "cell_type": "code",
   "execution_count": 17,
   "id": "ae1710cd",
   "metadata": {},
   "outputs": [
    {
     "data": {
      "text/plain": [
       "last_auth_ID             52579\n",
       "first_auth_ID            52579\n",
       "conflict_int             44734\n",
       "registry_num             39483\n",
       "copyright_information    36839\n",
       "pubmed_central_ID        29715\n",
       "issue                    27863\n",
       "received_date            23461\n",
       "accepted_date            23228\n",
       "other_terms              22031\n",
       "dtype: int64"
      ]
     },
     "execution_count": 17,
     "metadata": {},
     "output_type": "execute_result"
    }
   ],
   "source": [
    "df.isna().sum().sort_values(ascending = False).head(10)"
   ]
  },
  {
   "cell_type": "code",
   "execution_count": 18,
   "id": "42c55cde",
   "metadata": {},
   "outputs": [],
   "source": [
    "to_drop = ['last_auth_ID',          \n",
    "           'first_auth_ID',            \n",
    "           'conflict_int',             \n",
    "           'registry_num',             \n",
    "           'copyright_information',    \n",
    "           'pubmed_central_ID',        \n",
    "           'issue',                    \n",
    "           'received_date',            \n",
    "           'accepted_date']           "
   ]
  },
  {
   "cell_type": "code",
   "execution_count": 19,
   "id": "3b7871f5",
   "metadata": {},
   "outputs": [
    {
     "data": {
      "text/plain": [
       "(68158, 36)"
      ]
     },
     "metadata": {},
     "output_type": "display_data"
    },
    {
     "data": {
      "text/plain": [
       "(68158, 27)"
      ]
     },
     "metadata": {},
     "output_type": "display_data"
    }
   ],
   "source": [
    "display(df.shape)\n",
    "df = df.drop(columns=to_drop)\n",
    "display(df.shape)"
   ]
  },
  {
   "cell_type": "code",
   "execution_count": 20,
   "id": "7ec724e2",
   "metadata": {},
   "outputs": [
    {
     "data": {
      "text/plain": [
       "other_terms        22031\n",
       "source_pub         14714\n",
       "MeSH_terms         13740\n",
       "completion_date    11094\n",
       "entry_date          6044\n",
       "abstract            5532\n",
       "pages               2413\n",
       "last_auth_aff       2057\n",
       "first_auth_aff      2057\n",
       "auth_aff_list       2057\n",
       "dtype: int64"
      ]
     },
     "execution_count": 20,
     "metadata": {},
     "output_type": "execute_result"
    }
   ],
   "source": [
    "df.isna().sum().sort_values(ascending = False).head(10)"
   ]
  },
  {
   "cell_type": "code",
   "execution_count": 21,
   "id": "f997c886",
   "metadata": {},
   "outputs": [],
   "source": [
    "to_drop = ['source_pub',          \n",
    "           'completion_date',            \n",
    "           'entry_date']   "
   ]
  },
  {
   "cell_type": "code",
   "execution_count": 22,
   "id": "f7270dbe",
   "metadata": {},
   "outputs": [
    {
     "data": {
      "text/plain": [
       "(68158, 27)"
      ]
     },
     "metadata": {},
     "output_type": "display_data"
    },
    {
     "data": {
      "text/plain": [
       "(68158, 24)"
      ]
     },
     "metadata": {},
     "output_type": "display_data"
    }
   ],
   "source": [
    "display(df.shape)\n",
    "df = df.drop(columns=to_drop)\n",
    "display(df.shape)"
   ]
  },
  {
   "cell_type": "code",
   "execution_count": 23,
   "id": "6aba40a2",
   "metadata": {},
   "outputs": [
    {
     "data": {
      "text/plain": [
       "other_terms       22031\n",
       "MeSH_terms        13740\n",
       "abstract           5532\n",
       "pages              2413\n",
       "auth_aff_list      2057\n",
       "first_auth_aff     2057\n",
       "last_auth_aff      2057\n",
       "DOI                1259\n",
       "authors             584\n",
       "first_auth          584\n",
       "last_auth           584\n",
       "volume              579\n",
       "dtype: int64"
      ]
     },
     "execution_count": 23,
     "metadata": {},
     "output_type": "execute_result"
    }
   ],
   "source": [
    "df.isna().sum().sort_values(ascending = False).head(12)"
   ]
  },
  {
   "cell_type": "markdown",
   "id": "26482706",
   "metadata": {},
   "source": [
    "___\n",
    "### Fill NaN values\n",
    "#### Merge terms in one column"
   ]
  },
  {
   "cell_type": "code",
   "execution_count": 24,
   "id": "7e1c0dc6",
   "metadata": {},
   "outputs": [
    {
     "data": {
      "text/plain": [
       "0    ['Hippocampal neurogenesis', 'Major depressive...\n",
       "1    ['Cerebral ischemic injury', 'Inflammation', '...\n",
       "Name: other_terms, dtype: object"
      ]
     },
     "execution_count": 24,
     "metadata": {},
     "output_type": "execute_result"
    }
   ],
   "source": [
    "df['other_terms'].head(2)"
   ]
  },
  {
   "cell_type": "code",
   "execution_count": 25,
   "id": "25ae4cb0",
   "metadata": {},
   "outputs": [
    {
     "data": {
      "text/plain": [
       "0    ['Adult', 'Animals', 'Humans', '*Depressive Di...\n",
       "1    ['Mice', 'Animals', 'NF-kappa B/metabolism', '...\n",
       "Name: MeSH_terms, dtype: object"
      ]
     },
     "execution_count": 25,
     "metadata": {},
     "output_type": "execute_result"
    }
   ],
   "source": [
    "df['MeSH_terms'].head(2)"
   ]
  },
  {
   "cell_type": "code",
   "execution_count": 26,
   "id": "5eb75eec",
   "metadata": {},
   "outputs": [],
   "source": [
    "df['terms'] = df['other_terms'].fillna(df['MeSH_terms'])"
   ]
  },
  {
   "cell_type": "code",
   "execution_count": 27,
   "id": "1d13d900",
   "metadata": {},
   "outputs": [
    {
     "data": {
      "text/plain": [
       "terms           1550\n",
       "other_terms    22031\n",
       "MeSH_terms     13740\n",
       "dtype: int64"
      ]
     },
     "execution_count": 27,
     "metadata": {},
     "output_type": "execute_result"
    }
   ],
   "source": [
    "df[['terms', 'other_terms', 'MeSH_terms']].isna().sum()"
   ]
  },
  {
   "cell_type": "code",
   "execution_count": 28,
   "id": "5dfb19a5",
   "metadata": {},
   "outputs": [
    {
     "data": {
      "text/plain": [
       "(68158, 25)"
      ]
     },
     "metadata": {},
     "output_type": "display_data"
    },
    {
     "data": {
      "text/plain": [
       "(68158, 23)"
      ]
     },
     "metadata": {},
     "output_type": "display_data"
    }
   ],
   "source": [
    "to_drop = ['other_terms', 'MeSH_terms']\n",
    "display(df.shape)\n",
    "df = df.drop(columns=to_drop)\n",
    "display(df.shape)"
   ]
  },
  {
   "cell_type": "markdown",
   "id": "480e3870",
   "metadata": {},
   "source": [
    "#### abstract"
   ]
  },
  {
   "cell_type": "code",
   "execution_count": 29,
   "id": "a6f8150f",
   "metadata": {},
   "outputs": [
    {
     "data": {
      "text/plain": [
       "29     Correction: Gas6 induces infammation and reduc...\n",
       "123    Correction: Smek1 deficiency exacerbates exper...\n",
       "180    Correction: Association of dimethylarginines a...\n",
       "231    Retraction Note to: Regulation of autophagy by...\n",
       "243    Correction: Caffeine blocks disruption of bloo...\n",
       "Name: title, dtype: object"
      ]
     },
     "execution_count": 29,
     "metadata": {},
     "output_type": "execute_result"
    }
   ],
   "source": [
    "df['title'].loc[df['abstract'].isna()].head()"
   ]
  },
  {
   "cell_type": "code",
   "execution_count": 30,
   "id": "18e42c50",
   "metadata": {},
   "outputs": [
    {
     "data": {
      "text/plain": [
       "(68158, 23)"
      ]
     },
     "metadata": {},
     "output_type": "display_data"
    },
    {
     "data": {
      "text/plain": [
       "(62626, 23)"
      ]
     },
     "metadata": {},
     "output_type": "display_data"
    }
   ],
   "source": [
    "display(df.shape)\n",
    "df = df.dropna(subset=['abstract'])\n",
    "display(df.shape)"
   ]
  },
  {
   "cell_type": "markdown",
   "id": "c6d3e1c3",
   "metadata": {},
   "source": [
    "#### authors"
   ]
  },
  {
   "cell_type": "code",
   "execution_count": 31,
   "id": "a370287e",
   "metadata": {},
   "outputs": [
    {
     "data": {
      "text/plain": [
       "3669     Erratum: Covariance properties under natural i...\n",
       "3711     Retraction: Deep learning for autism diagnosis...\n",
       "3727     Retraction: Spiking correlation analysis of sy...\n",
       "4669     Retraction: Sensing risk, fearing uncertainty:...\n",
       "12409    CORRIGENDUM to The Language Connectome: New Pa...\n",
       "Name: title, dtype: object"
      ]
     },
     "execution_count": 31,
     "metadata": {},
     "output_type": "execute_result"
    }
   ],
   "source": [
    "df['title'].loc[df['authors'].isna()].head()"
   ]
  },
  {
   "cell_type": "code",
   "execution_count": 32,
   "id": "d5271bb4",
   "metadata": {},
   "outputs": [
    {
     "data": {
      "text/plain": [
       "(62626, 23)"
      ]
     },
     "metadata": {},
     "output_type": "display_data"
    },
    {
     "data": {
      "text/plain": [
       "(62552, 23)"
      ]
     },
     "metadata": {},
     "output_type": "display_data"
    }
   ],
   "source": [
    "display(df.shape)\n",
    "df = df.dropna(subset=['authors'])\n",
    "display(df.shape)"
   ]
  },
  {
   "cell_type": "markdown",
   "id": "dbcb89bf",
   "metadata": {},
   "source": [
    "#### DOI"
   ]
  },
  {
   "cell_type": "code",
   "execution_count": 33,
   "id": "98cc4535",
   "metadata": {},
   "outputs": [
    {
     "data": {
      "text/plain": [
       "pages             2362\n",
       "DOI               1086\n",
       "last_auth_aff      797\n",
       "auth_aff_list      797\n",
       "first_auth_aff     797\n",
       "terms              546\n",
       "volume             536\n",
       "pub_place            0\n",
       "dtype: int64"
      ]
     },
     "execution_count": 33,
     "metadata": {},
     "output_type": "execute_result"
    }
   ],
   "source": [
    "df.isna().sum().sort_values(ascending = False).head(8)"
   ]
  },
  {
   "cell_type": "code",
   "execution_count": 34,
   "id": "f4db6c30",
   "metadata": {},
   "outputs": [
    {
     "data": {
      "text/plain": [
       "3168    J Neuroinflammation. 2012 Sep 13;9:214. doi: 1...\n",
       "3173    J Neuroinflammation. 2012 Sep 3;9:209. doi: 10...\n",
       "Name: citation, dtype: object"
      ]
     },
     "execution_count": 34,
     "metadata": {},
     "output_type": "execute_result"
    }
   ],
   "source": [
    "df['citation'].loc[df['DOI'].isna()].head(2)"
   ]
  },
  {
   "cell_type": "code",
   "execution_count": 35,
   "id": "b3238c29",
   "metadata": {},
   "outputs": [],
   "source": [
    "df['DOI'] = df['DOI'].fillna(df['citation'].str.extract(r'doi:\\s*(\\S+)', expand=False))"
   ]
  },
  {
   "cell_type": "code",
   "execution_count": 36,
   "id": "88fb89bf",
   "metadata": {},
   "outputs": [
    {
     "data": {
      "text/plain": [
       "(62552, 23)"
      ]
     },
     "metadata": {},
     "output_type": "display_data"
    },
    {
     "data": {
      "text/plain": [
       "(61981, 23)"
      ]
     },
     "metadata": {},
     "output_type": "display_data"
    }
   ],
   "source": [
    "display(df.shape)\n",
    "df = df.dropna(subset=['DOI'])\n",
    "display(df.shape)"
   ]
  },
  {
   "cell_type": "markdown",
   "id": "6cf44c88",
   "metadata": {},
   "source": [
    "#### pages"
   ]
  },
  {
   "cell_type": "code",
   "execution_count": 37,
   "id": "3111f7de",
   "metadata": {},
   "outputs": [
    {
     "data": {
      "text/html": [
       "<div>\n",
       "<style scoped>\n",
       "    .dataframe tbody tr th:only-of-type {\n",
       "        vertical-align: middle;\n",
       "    }\n",
       "\n",
       "    .dataframe tbody tr th {\n",
       "        vertical-align: top;\n",
       "    }\n",
       "\n",
       "    .dataframe thead th {\n",
       "        text-align: right;\n",
       "    }\n",
       "</style>\n",
       "<table border=\"1\" class=\"dataframe\">\n",
       "  <thead>\n",
       "    <tr style=\"text-align: right;\">\n",
       "      <th></th>\n",
       "      <th>citation</th>\n",
       "      <th>volume</th>\n",
       "    </tr>\n",
       "  </thead>\n",
       "  <tbody>\n",
       "    <tr>\n",
       "      <th>5392</th>\n",
       "      <td>Front Comput Neurosci. 2010 Sep 24;4:133. doi:...</td>\n",
       "      <td>4.0</td>\n",
       "    </tr>\n",
       "    <tr>\n",
       "      <th>5395</th>\n",
       "      <td>Front Comput Neurosci. 2010 Sep 22;4:132. doi:...</td>\n",
       "      <td>4.0</td>\n",
       "    </tr>\n",
       "  </tbody>\n",
       "</table>\n",
       "</div>"
      ],
      "text/plain": [
       "                                               citation  volume\n",
       "5392  Front Comput Neurosci. 2010 Sep 24;4:133. doi:...     4.0\n",
       "5395  Front Comput Neurosci. 2010 Sep 22;4:132. doi:...     4.0"
      ]
     },
     "execution_count": 37,
     "metadata": {},
     "output_type": "execute_result"
    }
   ],
   "source": [
    "df[['citation', 'volume']].loc[df['pages'].isna()].head(2)"
   ]
  },
  {
   "cell_type": "code",
   "execution_count": 38,
   "id": "e8449f40",
   "metadata": {},
   "outputs": [],
   "source": [
    "df['pages'] = df['pages'].fillna(df['citation'].str.extract(r':\\s*([^.]+)\\.', expand=False))"
   ]
  },
  {
   "cell_type": "code",
   "execution_count": 39,
   "id": "5d5c4f5d",
   "metadata": {},
   "outputs": [],
   "source": [
    "df['pages'] = df['pages'].fillna('-')"
   ]
  },
  {
   "cell_type": "markdown",
   "id": "6eda0f89",
   "metadata": {},
   "source": [
    "#### volume"
   ]
  },
  {
   "cell_type": "code",
   "execution_count": 40,
   "id": "e60f85af",
   "metadata": {},
   "outputs": [
    {
     "data": {
      "text/plain": [
       "5414     J Neurophysiol. 2023 Nov 15. doi: 10.1152/jn.0...\n",
       "5415     J Neurophysiol. 2023 Nov 15. doi: 10.1152/jn.0...\n",
       "5416     J Neurophysiol. 2023 Nov 15. doi: 10.1152/jn.0...\n",
       "5417     J Neurophysiol. 2023 Nov 15. doi: 10.1152/jn.0...\n",
       "5418     J Neurophysiol. 2023 Nov 15. doi: 10.1152/jn.0...\n",
       "                               ...                        \n",
       "64632    J Hist Neurosci. 2023 Nov 8:1-11. doi: 10.1080...\n",
       "64634    J Hist Neurosci. 2023 Oct 20:1-56. doi: 10.108...\n",
       "64641    J Hist Neurosci. 2023 Sep 18:1-22. doi: 10.108...\n",
       "65782    J Hist Neurosci. 2023 Sep 8:1-16. doi: 10.1080...\n",
       "65783    J Hist Neurosci. 2023 Jul 21:1-16. doi: 10.108...\n",
       "Name: citation, Length: 536, dtype: object"
      ]
     },
     "execution_count": 40,
     "metadata": {},
     "output_type": "execute_result"
    }
   ],
   "source": [
    "df['citation'].loc[df['volume'].isna()]"
   ]
  },
  {
   "cell_type": "code",
   "execution_count": 41,
   "id": "8010c009",
   "metadata": {},
   "outputs": [],
   "source": [
    "df['volume'] = df['volume'].fillna(df['citation'].str.extract(r'(\\d+)\\s*:', expand=False))"
   ]
  },
  {
   "cell_type": "code",
   "execution_count": 42,
   "id": "62f70633",
   "metadata": {},
   "outputs": [],
   "source": [
    "df['volume'] = df['volume'].fillna('')"
   ]
  },
  {
   "cell_type": "markdown",
   "id": "4caa0583",
   "metadata": {},
   "source": [
    "## Create a column of the abstract without stopwords"
   ]
  },
  {
   "cell_type": "code",
   "execution_count": 43,
   "id": "8d8f0ea6",
   "metadata": {},
   "outputs": [
    {
     "name": "stderr",
     "output_type": "stream",
     "text": [
      "[nltk_data] Downloading package stopwords to\n",
      "[nltk_data]     C:\\Users\\ingle\\AppData\\Roaming\\nltk_data...\n",
      "[nltk_data]   Package stopwords is already up-to-date!\n",
      "[nltk_data] Downloading package punkt to\n",
      "[nltk_data]     C:\\Users\\ingle\\AppData\\Roaming\\nltk_data...\n",
      "[nltk_data]   Package punkt is already up-to-date!\n"
     ]
    },
    {
     "data": {
      "text/plain": [
       "True"
      ]
     },
     "execution_count": 43,
     "metadata": {},
     "output_type": "execute_result"
    }
   ],
   "source": [
    "# Download the stopwords dataset\n",
    "nltk.download('stopwords')\n",
    "\n",
    "# Download the NLTK data for tokenization\n",
    "nltk.download('punkt')"
   ]
  },
  {
   "cell_type": "code",
   "execution_count": 44,
   "id": "cd991ad5",
   "metadata": {},
   "outputs": [],
   "source": [
    "def remove_stopwords(text):\n",
    "    '''\n",
    "    Remove common English stopwords from a given text.\n",
    "\n",
    "    Parameters:\n",
    "    - text (str): The input text from which stopwords will be removed.\n",
    "\n",
    "    Returns:\n",
    "    - str or None: If the input text is not null, the function returns the modified text\n",
    "      with stopwords removed. If the input text is null, it returns None.\n",
    "    '''\n",
    "    if pd.isnull(text):\n",
    "        return None\n",
    "    stop_words = set(stopwords.words('english'))\n",
    "    word_tokens = word_tokenize(text)\n",
    "    filtered_text = [word for word in word_tokens if word.lower() not in stop_words]\n",
    "    return ' '.join(filtered_text)"
   ]
  },
  {
   "cell_type": "code",
   "execution_count": 45,
   "id": "ec73fd2f",
   "metadata": {},
   "outputs": [],
   "source": [
    "df['abstract_words'] = df['abstract'].apply(remove_stopwords)"
   ]
  },
  {
   "cell_type": "markdown",
   "id": "53df0ff0",
   "metadata": {},
   "source": [
    "## Create a column of the abstract keywords"
   ]
  },
  {
   "cell_type": "code",
   "execution_count": 46,
   "id": "0094190c",
   "metadata": {},
   "outputs": [],
   "source": [
    "def get_most_frequent_words(text, num_words=5):\n",
    "    '''\n",
    "    Get the most frequent words from a given text.\n",
    "\n",
    "    Parameters:\n",
    "    - text (str): The input text from which to extract the most frequent words.\n",
    "    - num_words (int, optional): The number of most frequent words to retrieve (default is 5).\n",
    "\n",
    "    Returns:\n",
    "    - list: A list containing the most frequent words in the input text.\n",
    "    '''\n",
    "    stop_words = set(stopwords.words('english'))\n",
    "    word_tokens = word_tokenize(text)\n",
    "    filtered_words = [word.lower() for word in word_tokens if word.isalpha() and word.lower() not in stop_words]\n",
    "    freq_dist = FreqDist(filtered_words)\n",
    "    most_common = freq_dist.most_common(num_words)\n",
    "    return [word[0] for word in most_common]"
   ]
  },
  {
   "cell_type": "code",
   "execution_count": 47,
   "id": "cc6e3c38",
   "metadata": {},
   "outputs": [],
   "source": [
    "df['keywords'] = df['abstract'].apply(get_most_frequent_words)"
   ]
  },
  {
   "cell_type": "markdown",
   "id": "2d89b531",
   "metadata": {},
   "source": [
    "#### terms\n",
    "Here, the idea is to fill the terms with the most common words of the abstract,"
   ]
  },
  {
   "cell_type": "code",
   "execution_count": 48,
   "id": "c339597c",
   "metadata": {},
   "outputs": [],
   "source": [
    "# Fill NaN values in 'terms' with the abstract's keywords\n",
    "df['terms'] = df.apply(lambda row: row['keywords'] if pd.isnull(row['terms']) else row['terms'], axis=1)"
   ]
  },
  {
   "cell_type": "markdown",
   "id": "dba6f12b",
   "metadata": {},
   "source": [
    "___\n",
    "## Separate the data into groups"
   ]
  },
  {
   "cell_type": "code",
   "execution_count": 54,
   "id": "c9c501ba",
   "metadata": {},
   "outputs": [],
   "source": [
    "df = df.rename(columns={'ID': 'pub_id'})\n",
    "df = df.rename(columns={'journal_ID': 'journal_id'})"
   ]
  },
  {
   "cell_type": "markdown",
   "id": "500ef450",
   "metadata": {},
   "source": [
    "### publications"
   ]
  },
  {
   "cell_type": "code",
   "execution_count": 56,
   "id": "99f145df",
   "metadata": {},
   "outputs": [],
   "source": [
    "pub_columns = ['pub_id', 'status', 'last_revision', 'volume', 'publication_date', 'title', \n",
    "               'pages', 'DOI', 'authors', 'journal', 'journal_id', 'abstract', 'abstract_words', 'keywords',\n",
    "               'terms', 'pub_type', 'citation']"
   ]
  },
  {
   "cell_type": "code",
   "execution_count": 57,
   "id": "824e7d07",
   "metadata": {},
   "outputs": [],
   "source": [
    "df[pub_columns].to_csv('../data/publications_df.csv')"
   ]
  },
  {
   "cell_type": "markdown",
   "id": "a327e124",
   "metadata": {},
   "source": [
    "### researchers"
   ]
  },
  {
   "cell_type": "code",
   "execution_count": 58,
   "id": "546a789e",
   "metadata": {},
   "outputs": [],
   "source": [
    "res_columns = ['pub_id', 'authors', 'journal_id', 'first_auth', 'last_auth', 'auth_aff_list', 'first_auth_aff', 'last_auth_aff']"
   ]
  },
  {
   "cell_type": "code",
   "execution_count": 59,
   "id": "0314cc48",
   "metadata": {},
   "outputs": [],
   "source": [
    "df[res_columns].to_csv('../data/researchers_df.csv')"
   ]
  },
  {
   "cell_type": "markdown",
   "id": "88499284",
   "metadata": {},
   "source": [
    "### affiliations"
   ]
  },
  {
   "cell_type": "code",
   "execution_count": 60,
   "id": "d7ab0468",
   "metadata": {},
   "outputs": [],
   "source": [
    "aff_columns = ['pub_id', 'authors', 'auth_aff_list', 'first_auth_aff', 'last_auth_aff']"
   ]
  },
  {
   "cell_type": "code",
   "execution_count": 61,
   "id": "6801ecdb",
   "metadata": {},
   "outputs": [],
   "source": [
    "df[aff_columns].to_csv('../data/affiliations_df.csv')"
   ]
  },
  {
   "cell_type": "code",
   "execution_count": null,
   "id": "b54564ad",
   "metadata": {},
   "outputs": [],
   "source": []
  }
 ],
 "metadata": {
  "kernelspec": {
   "display_name": "Python 3 (ipykernel)",
   "language": "python",
   "name": "python3"
  },
  "language_info": {
   "codemirror_mode": {
    "name": "ipython",
    "version": 3
   },
   "file_extension": ".py",
   "mimetype": "text/x-python",
   "name": "python",
   "nbconvert_exporter": "python",
   "pygments_lexer": "ipython3",
   "version": "3.11.4"
  },
  "toc": {
   "base_numbering": 1,
   "nav_menu": {},
   "number_sections": true,
   "sideBar": true,
   "skip_h1_title": false,
   "title_cell": "Table of Contents",
   "title_sidebar": "Contents",
   "toc_cell": false,
   "toc_position": {},
   "toc_section_display": true,
   "toc_window_display": false
  }
 },
 "nbformat": 4,
 "nbformat_minor": 5
}
