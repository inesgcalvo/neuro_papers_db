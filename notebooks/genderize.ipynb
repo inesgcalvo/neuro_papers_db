{
 "cells": [
  {
   "cell_type": "markdown",
   "id": "3a26a06a",
   "metadata": {},
   "source": [
    "# 05. Genderize API\n",
    "\n",
    "This notebook focuses on assigning gender to the first and last author's proper names within the DataFrame, leveraging the `genderize.io` API, which offers free access for up to 1000 requests per day. By integrating the gender prediction capabilities of the API, the script enhances the existing dataset by incorporating gender-specific attributes for both, the first and the last authors."
   ]
  },
  {
   "cell_type": "code",
   "execution_count": 1,
   "id": "f8a3f8bb",
   "metadata": {},
   "outputs": [],
   "source": [
    "# Libraries Importation\n",
    "\n",
    "import time\n",
    "import requests\n",
    "import pandas as pd\n",
    "\n",
    "from tqdm.notebook import tqdm\n",
    "\n",
    "import warnings\n",
    "warnings.filterwarnings('ignore')"
   ]
  },
  {
   "cell_type": "code",
   "execution_count": 2,
   "id": "4e0a1bee",
   "metadata": {},
   "outputs": [],
   "source": [
    "# Import the clean data\n",
    "\n",
    "articles = pd.read_csv('../data/pubmed_articles_clean.csv')"
   ]
  },
  {
   "cell_type": "code",
   "execution_count": 3,
   "id": "690c0212",
   "metadata": {},
   "outputs": [
    {
     "data": {
      "text/html": [
       "<div>\n",
       "<style scoped>\n",
       "    .dataframe tbody tr th:only-of-type {\n",
       "        vertical-align: middle;\n",
       "    }\n",
       "\n",
       "    .dataframe tbody tr th {\n",
       "        vertical-align: top;\n",
       "    }\n",
       "\n",
       "    .dataframe thead th {\n",
       "        text-align: right;\n",
       "    }\n",
       "</style>\n",
       "<table border=\"1\" class=\"dataframe\">\n",
       "  <thead>\n",
       "    <tr style=\"text-align: right;\">\n",
       "      <th></th>\n",
       "      <th>DOI</th>\n",
       "      <th>title</th>\n",
       "      <th>authors</th>\n",
       "      <th>affiliations</th>\n",
       "      <th>journal</th>\n",
       "      <th>year</th>\n",
       "      <th>month</th>\n",
       "      <th>volume</th>\n",
       "      <th>first_page</th>\n",
       "      <th>last_page</th>\n",
       "      <th>PMID</th>\n",
       "      <th>PMCID</th>\n",
       "      <th>abstract</th>\n",
       "      <th>href</th>\n",
       "      <th>json_href</th>\n",
       "      <th>first_author</th>\n",
       "      <th>last_author</th>\n",
       "    </tr>\n",
       "  </thead>\n",
       "  <tbody>\n",
       "    <tr>\n",
       "      <th>0</th>\n",
       "      <td>10.1177/17585732221102399</td>\n",
       "      <td>Surgical management of the spastic elbow</td>\n",
       "      <td>['Weisang Luo  1 ', ' Matthew Nixon  1   2']</td>\n",
       "      <td>['Countess of Chester Hospital, Chester, UK.',...</td>\n",
       "      <td>Shoulder Elbow</td>\n",
       "      <td>2023.0</td>\n",
       "      <td>Oct</td>\n",
       "      <td>15(5)</td>\n",
       "      <td>534</td>\n",
       "      <td>543</td>\n",
       "      <td>37811394.0</td>\n",
       "      <td>PMC10557929</td>\n",
       "      <td>['Background: We performed a retrospective rev...</td>\n",
       "      <td>https://doi.org/10.1177/17585732221102399</td>\n",
       "      <td>https://api.crossref.org/works/10.1177/1758573...</td>\n",
       "      <td>Weisang Luo  1</td>\n",
       "      <td>Matthew Nixon  1   2</td>\n",
       "    </tr>\n",
       "    <tr>\n",
       "      <th>1</th>\n",
       "      <td>10.1007/s11571-022-09871-6</td>\n",
       "      <td>Three-dimensional memristive Morris-Lecar mode...</td>\n",
       "      <td>['Han Bao  1 ', ' Xihong Yu  1 ', ' Quan Xu  1...</td>\n",
       "      <td>[\"School of Microelectronics and Control Engin...</td>\n",
       "      <td>Cogn Neurodyn</td>\n",
       "      <td>2023.0</td>\n",
       "      <td>Aug</td>\n",
       "      <td>17(4)</td>\n",
       "      <td>1079</td>\n",
       "      <td>1092</td>\n",
       "      <td>37522038.0</td>\n",
       "      <td>PMC10374513</td>\n",
       "      <td>['To characterize the magnetic induction flow ...</td>\n",
       "      <td>https://doi.org/10.1007/s11571-022-09871-6</td>\n",
       "      <td>https://api.crossref.org/works/10.1007/s11571-...</td>\n",
       "      <td>Han Bao  1</td>\n",
       "      <td>Bocheng Bao  1</td>\n",
       "    </tr>\n",
       "  </tbody>\n",
       "</table>\n",
       "</div>"
      ],
      "text/plain": [
       "                          DOI  \\\n",
       "0   10.1177/17585732221102399   \n",
       "1  10.1007/s11571-022-09871-6   \n",
       "\n",
       "                                               title  \\\n",
       "0           Surgical management of the spastic elbow   \n",
       "1  Three-dimensional memristive Morris-Lecar mode...   \n",
       "\n",
       "                                             authors  \\\n",
       "0       ['Weisang Luo  1 ', ' Matthew Nixon  1   2']   \n",
       "1  ['Han Bao  1 ', ' Xihong Yu  1 ', ' Quan Xu  1...   \n",
       "\n",
       "                                        affiliations         journal    year  \\\n",
       "0  ['Countess of Chester Hospital, Chester, UK.',...  Shoulder Elbow  2023.0   \n",
       "1  [\"School of Microelectronics and Control Engin...   Cogn Neurodyn  2023.0   \n",
       "\n",
       "  month volume first_page last_page        PMID        PMCID  \\\n",
       "0   Oct  15(5)        534       543  37811394.0  PMC10557929   \n",
       "1   Aug  17(4)       1079      1092  37522038.0  PMC10374513   \n",
       "\n",
       "                                            abstract  \\\n",
       "0  ['Background: We performed a retrospective rev...   \n",
       "1  ['To characterize the magnetic induction flow ...   \n",
       "\n",
       "                                         href  \\\n",
       "0   https://doi.org/10.1177/17585732221102399   \n",
       "1  https://doi.org/10.1007/s11571-022-09871-6   \n",
       "\n",
       "                                           json_href     first_author  \\\n",
       "0  https://api.crossref.org/works/10.1177/1758573...  Weisang Luo  1    \n",
       "1  https://api.crossref.org/works/10.1007/s11571-...      Han Bao  1    \n",
       "\n",
       "             last_author  \n",
       "0   Matthew Nixon  1   2  \n",
       "1         Bocheng Bao  1  "
      ]
     },
     "execution_count": 3,
     "metadata": {},
     "output_type": "execute_result"
    }
   ],
   "source": [
    "articles.head(2)"
   ]
  },
  {
   "cell_type": "code",
   "execution_count": 4,
   "id": "57acd100",
   "metadata": {},
   "outputs": [
    {
     "data": {
      "text/plain": [
       "(783, 17)"
      ]
     },
     "execution_count": 4,
     "metadata": {},
     "output_type": "execute_result"
    }
   ],
   "source": [
    "articles.shape"
   ]
  },
  {
   "cell_type": "markdown",
   "id": "5829a013",
   "metadata": {},
   "source": [
    "___\n",
    "\n",
    "## genderize.io\n",
    "\n",
    "This API will be used to determine the gender of a given name.\n",
    "\n",
    "Free API, but limited at 1000 requests by day.\n",
    "\n",
    "\n",
    "### It is possible to ask for ten names at the time or one by one.\n",
    "\n",
    "    names = [f'name[]={i}&name[]={j}&name[]={k}&name[]={l}&name[]={m}&name[]={n}&name[]={o}&name[]={p}&name[]={q}&name[]={r}'\n",
    "\n",
    "    url = f'https://api.genderize.io/?name[]={name}'\n",
    "    \n",
    "\n",
    "### The answer will be like this\n",
    "\n",
    "    {\n",
    "      \"name\": \"peter\",\n",
    "      \"gender\": \"male\",\n",
    "      \"probability\": 0.99,\n",
    "      \"count\": 165452\n",
    "    }"
   ]
  },
  {
   "cell_type": "markdown",
   "id": "9f5a5b33",
   "metadata": {},
   "source": [
    "### Day 1: First Authors"
   ]
  },
  {
   "cell_type": "code",
   "execution_count": 5,
   "id": "1456929f",
   "metadata": {},
   "outputs": [],
   "source": [
    "fst_auth_name = [name.split(' ')[0] for name in articles['first_author']]"
   ]
  },
  {
   "cell_type": "code",
   "execution_count": 13,
   "id": "1294447b",
   "metadata": {},
   "outputs": [
    {
     "data": {
      "application/vnd.jupyter.widget-view+json": {
       "model_id": "c8a576c427b04a8eae5a1a50f8dc8259",
       "version_major": 2,
       "version_minor": 0
      },
      "text/plain": [
       "  0%|          | 0/783 [00:00<?, ?it/s]"
      ]
     },
     "metadata": {},
     "output_type": "display_data"
    }
   ],
   "source": [
    "fst_auth_gd = []\n",
    "fst_auth_gd_prb = []\n",
    "\n",
    "for name in tqdm(fst_auth_name):\n",
    "    url = f'https://api.genderize.io/?name[]={name}'\n",
    "    res = requests.get(url)\n",
    "    res_api = res.json()\n",
    "    fst_auth_gd.append(res_api[0]['gender'])\n",
    "    fst_auth_gd_prb.append(res_api[0]['probability'])"
   ]
  },
  {
   "cell_type": "code",
   "execution_count": 14,
   "id": "8b24c73d",
   "metadata": {},
   "outputs": [],
   "source": [
    "genderize = {'_id': [],\n",
    "             'fst_auth_name': [],\n",
    "             'fst_auth_gd': [],\n",
    "             'fst_auth_gd_prb': [],\n",
    "             'lst_auth_name': [],\n",
    "             'lst_auth_gd': [],\n",
    "             'lst_auth_gd_prb': []}"
   ]
  },
  {
   "cell_type": "code",
   "execution_count": 17,
   "id": "5b4c8152",
   "metadata": {},
   "outputs": [],
   "source": [
    "genderize['_id'] = [i for i in articles['DOI']]\n",
    "genderize['fst_auth_name'] = fst_auth_name\n",
    "genderize['fst_auth_gd'] = fst_auth_gd\n",
    "genderize['fst_auth_gd_prb'] = fst_auth_gd_prb"
   ]
  },
  {
   "cell_type": "code",
   "execution_count": 25,
   "id": "a8840a93",
   "metadata": {},
   "outputs": [
    {
     "data": {
      "text/html": [
       "<div>\n",
       "<style scoped>\n",
       "    .dataframe tbody tr th:only-of-type {\n",
       "        vertical-align: middle;\n",
       "    }\n",
       "\n",
       "    .dataframe tbody tr th {\n",
       "        vertical-align: top;\n",
       "    }\n",
       "\n",
       "    .dataframe thead th {\n",
       "        text-align: right;\n",
       "    }\n",
       "</style>\n",
       "<table border=\"1\" class=\"dataframe\">\n",
       "  <thead>\n",
       "    <tr style=\"text-align: right;\">\n",
       "      <th></th>\n",
       "      <th>index</th>\n",
       "      <th>fst_auth_name</th>\n",
       "      <th>fst_auth_gd</th>\n",
       "      <th>fst_auth_gd_prb</th>\n",
       "    </tr>\n",
       "  </thead>\n",
       "  <tbody>\n",
       "    <tr>\n",
       "      <th>0</th>\n",
       "      <td>0</td>\n",
       "      <td>Weisang</td>\n",
       "      <td>None</td>\n",
       "      <td>0.00</td>\n",
       "    </tr>\n",
       "    <tr>\n",
       "      <th>1</th>\n",
       "      <td>1</td>\n",
       "      <td>Han</td>\n",
       "      <td>male</td>\n",
       "      <td>0.73</td>\n",
       "    </tr>\n",
       "    <tr>\n",
       "      <th>2</th>\n",
       "      <td>2</td>\n",
       "      <td>Euan</td>\n",
       "      <td>male</td>\n",
       "      <td>1.00</td>\n",
       "    </tr>\n",
       "    <tr>\n",
       "      <th>3</th>\n",
       "      <td>3</td>\n",
       "      <td>Quan</td>\n",
       "      <td>male</td>\n",
       "      <td>0.90</td>\n",
       "    </tr>\n",
       "    <tr>\n",
       "      <th>4</th>\n",
       "      <td>4</td>\n",
       "      <td>Akiyo</td>\n",
       "      <td>female</td>\n",
       "      <td>0.91</td>\n",
       "    </tr>\n",
       "  </tbody>\n",
       "</table>\n",
       "</div>"
      ],
      "text/plain": [
       "   index fst_auth_name fst_auth_gd  fst_auth_gd_prb\n",
       "0      0       Weisang        None             0.00\n",
       "1      1           Han        male             0.73\n",
       "2      2          Euan        male             1.00\n",
       "3      3          Quan        male             0.90\n",
       "4      4         Akiyo      female             0.91"
      ]
     },
     "execution_count": 25,
     "metadata": {},
     "output_type": "execute_result"
    }
   ],
   "source": [
    "columns = ['_id', 'fst_auth_name', 'fst_auth_gd', 'fst_auth_gd_prb']\n",
    "genderize_df = pd.DataFrame(genderize, columns = columns)\n",
    "genderize_df.head()"
   ]
  },
  {
   "cell_type": "code",
   "execution_count": 14,
   "id": "e0635ade",
   "metadata": {},
   "outputs": [],
   "source": [
    "genderize_df.to_csv('../data/genderize_df_fst.csv', index = False)"
   ]
  },
  {
   "cell_type": "markdown",
   "id": "0584e5d8",
   "metadata": {},
   "source": [
    "### Day 2: Last Authors"
   ]
  },
  {
   "cell_type": "markdown",
   "id": "6afd5dd3",
   "metadata": {},
   "source": [
    "Open genderize_df_fst and complete with last authors"
   ]
  },
  {
   "cell_type": "code",
   "execution_count": 3,
   "id": "8ca00b11",
   "metadata": {},
   "outputs": [],
   "source": [
    "genderize_df = pd.read_csv('../data/genderize_df_fst.csv')"
   ]
  },
  {
   "cell_type": "code",
   "execution_count": 4,
   "id": "1a181d00",
   "metadata": {},
   "outputs": [
    {
     "data": {
      "text/html": [
       "<div>\n",
       "<style scoped>\n",
       "    .dataframe tbody tr th:only-of-type {\n",
       "        vertical-align: middle;\n",
       "    }\n",
       "\n",
       "    .dataframe tbody tr th {\n",
       "        vertical-align: top;\n",
       "    }\n",
       "\n",
       "    .dataframe thead th {\n",
       "        text-align: right;\n",
       "    }\n",
       "</style>\n",
       "<table border=\"1\" class=\"dataframe\">\n",
       "  <thead>\n",
       "    <tr style=\"text-align: right;\">\n",
       "      <th></th>\n",
       "      <th>_id</th>\n",
       "      <th>fst_auth_name</th>\n",
       "      <th>fst_auth_gd</th>\n",
       "      <th>fst_auth_gd_prb</th>\n",
       "    </tr>\n",
       "  </thead>\n",
       "  <tbody>\n",
       "    <tr>\n",
       "      <th>0</th>\n",
       "      <td>10.1177/17585732221102399</td>\n",
       "      <td>Weisang</td>\n",
       "      <td>NaN</td>\n",
       "      <td>0.00</td>\n",
       "    </tr>\n",
       "    <tr>\n",
       "      <th>1</th>\n",
       "      <td>10.1007/s11571-022-09871-6</td>\n",
       "      <td>Han</td>\n",
       "      <td>male</td>\n",
       "      <td>0.73</td>\n",
       "    </tr>\n",
       "  </tbody>\n",
       "</table>\n",
       "</div>"
      ],
      "text/plain": [
       "                          _id fst_auth_name fst_auth_gd  fst_auth_gd_prb\n",
       "0   10.1177/17585732221102399       Weisang         NaN             0.00\n",
       "1  10.1007/s11571-022-09871-6           Han        male             0.73"
      ]
     },
     "execution_count": 4,
     "metadata": {},
     "output_type": "execute_result"
    }
   ],
   "source": [
    "genderize_df.head(2)"
   ]
  },
  {
   "cell_type": "code",
   "execution_count": 5,
   "id": "8b215149",
   "metadata": {},
   "outputs": [],
   "source": [
    "lst_auth_name = [name.split()[0] for name in articles['last_author']]"
   ]
  },
  {
   "cell_type": "code",
   "execution_count": 8,
   "id": "1bee4aca",
   "metadata": {},
   "outputs": [
    {
     "data": {
      "application/vnd.jupyter.widget-view+json": {
       "model_id": "2b4b577e4cd84ea0825d24d5123a6d99",
       "version_major": 2,
       "version_minor": 0
      },
      "text/plain": [
       "  0%|          | 0/783 [00:00<?, ?it/s]"
      ]
     },
     "metadata": {},
     "output_type": "display_data"
    }
   ],
   "source": [
    "lst_auth_gd = []\n",
    "lst_auth_gd_prb = []\n",
    "\n",
    "for name in tqdm(lst_auth_name):\n",
    "    url = f'https://api.genderize.io/?name[]={name}'\n",
    "    res = requests.get(url)\n",
    "    res_api = res.json()\n",
    "    lst_auth_gd.append(res_api[0]['gender'])\n",
    "    lst_auth_gd_prb.append(res_api[0]['probability'])"
   ]
  },
  {
   "cell_type": "code",
   "execution_count": 9,
   "id": "43c3717e",
   "metadata": {},
   "outputs": [],
   "source": [
    "genderize_df['lst_auth_name'] = lst_auth_name\n",
    "genderize_df['lst_auth_gd'] = lst_auth_gd\n",
    "genderize_df['lst_auth_gd_prb'] = lst_auth_gd_prb"
   ]
  },
  {
   "cell_type": "code",
   "execution_count": 10,
   "id": "86404949",
   "metadata": {},
   "outputs": [
    {
     "data": {
      "text/html": [
       "<div>\n",
       "<style scoped>\n",
       "    .dataframe tbody tr th:only-of-type {\n",
       "        vertical-align: middle;\n",
       "    }\n",
       "\n",
       "    .dataframe tbody tr th {\n",
       "        vertical-align: top;\n",
       "    }\n",
       "\n",
       "    .dataframe thead th {\n",
       "        text-align: right;\n",
       "    }\n",
       "</style>\n",
       "<table border=\"1\" class=\"dataframe\">\n",
       "  <thead>\n",
       "    <tr style=\"text-align: right;\">\n",
       "      <th></th>\n",
       "      <th>_id</th>\n",
       "      <th>fst_auth_name</th>\n",
       "      <th>fst_auth_gd</th>\n",
       "      <th>fst_auth_gd_prb</th>\n",
       "      <th>lst_auth_name</th>\n",
       "      <th>lst_auth_gd</th>\n",
       "      <th>lst_auth_gd_prb</th>\n",
       "    </tr>\n",
       "  </thead>\n",
       "  <tbody>\n",
       "    <tr>\n",
       "      <th>0</th>\n",
       "      <td>10.1177/17585732221102399</td>\n",
       "      <td>Weisang</td>\n",
       "      <td>NaN</td>\n",
       "      <td>0.00</td>\n",
       "      <td>Matthew</td>\n",
       "      <td>male</td>\n",
       "      <td>1.00</td>\n",
       "    </tr>\n",
       "    <tr>\n",
       "      <th>1</th>\n",
       "      <td>10.1007/s11571-022-09871-6</td>\n",
       "      <td>Han</td>\n",
       "      <td>male</td>\n",
       "      <td>0.73</td>\n",
       "      <td>Bocheng</td>\n",
       "      <td>male</td>\n",
       "      <td>0.83</td>\n",
       "    </tr>\n",
       "  </tbody>\n",
       "</table>\n",
       "</div>"
      ],
      "text/plain": [
       "                          _id fst_auth_name fst_auth_gd  fst_auth_gd_prb  \\\n",
       "0   10.1177/17585732221102399       Weisang         NaN             0.00   \n",
       "1  10.1007/s11571-022-09871-6           Han        male             0.73   \n",
       "\n",
       "  lst_auth_name lst_auth_gd  lst_auth_gd_prb  \n",
       "0       Matthew        male             1.00  \n",
       "1       Bocheng        male             0.83  "
      ]
     },
     "execution_count": 10,
     "metadata": {},
     "output_type": "execute_result"
    }
   ],
   "source": [
    "genderize_df.head(2)"
   ]
  },
  {
   "cell_type": "code",
   "execution_count": 12,
   "id": "96f89a58",
   "metadata": {},
   "outputs": [],
   "source": [
    "genderize_df.to_csv('../data/genderize_df.csv', index = False)"
   ]
  }
 ],
 "metadata": {
  "kernelspec": {
   "display_name": "Python 3 (ipykernel)",
   "language": "python",
   "name": "python3"
  },
  "language_info": {
   "codemirror_mode": {
    "name": "ipython",
    "version": 3
   },
   "file_extension": ".py",
   "mimetype": "text/x-python",
   "name": "python",
   "nbconvert_exporter": "python",
   "pygments_lexer": "ipython3",
   "version": "3.11.4"
  },
  "toc": {
   "base_numbering": 1,
   "nav_menu": {},
   "number_sections": true,
   "sideBar": true,
   "skip_h1_title": false,
   "title_cell": "Table of Contents",
   "title_sidebar": "Contents",
   "toc_cell": false,
   "toc_position": {},
   "toc_section_display": true,
   "toc_window_display": false
  }
 },
 "nbformat": 4,
 "nbformat_minor": 5
}
