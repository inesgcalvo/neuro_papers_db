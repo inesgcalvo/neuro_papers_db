{
 "cells": [
  {
   "attachments": {
    "crossref.png": {
     "image/png": "[encoded data removed]"
    }
   },
   "cell_type": "markdown",
   "id": "e5c16716",
   "metadata": {},
   "source": [
    "# 03. Web Scraping from Crossref\n",
    "\n",
    "This notebook presents an innovative approach to extract additional information from **CrossRef** by utilizing the `DOI` of the article previously acquired from **PubMed**. The script augments the existing DataFrame with two essential columns: `href`, which contains the direct link to the official article page, and `json_href`, facilitating access to the metadata from CrossRef. Leveraging the capabilities of the `selenium` framework, the script seamlessly navigates the CrossRef platform.\n",
    "\n",
    "![crossref.png](attachment:crossref.png)"
   ]
  },
  {
   "cell_type": "code",
   "execution_count": 1,
   "id": "c7998b52",
   "metadata": {},
   "outputs": [],
   "source": [
    "# Libraries Importation\n",
    "\n",
    "import time\n",
    "import pandas as pd\n",
    "\n",
    "from tqdm.notebook import tqdm\n",
    "from selenium import webdriver\n",
    "from selenium.webdriver.common.by import By\n",
    "from selenium.webdriver.common.keys import Keys  \n",
    "\n",
    "import warnings\n",
    "warnings.filterwarnings('ignore')"
   ]
  },
  {
   "cell_type": "code",
   "execution_count": 3,
   "id": "72a36556",
   "metadata": {},
   "outputs": [],
   "source": [
    "articles = pd.read_csv('../data/pubmed_articles_raw.csv')"
   ]
  },
  {
   "cell_type": "code",
   "execution_count": 6,
   "id": "85337d54",
   "metadata": {
    "scrolled": false
   },
   "outputs": [
    {
     "data": {
      "text/html": [
       "<div>\n",
       "<style scoped>\n",
       "    .dataframe tbody tr th:only-of-type {\n",
       "        vertical-align: middle;\n",
       "    }\n",
       "\n",
       "    .dataframe tbody tr th {\n",
       "        vertical-align: top;\n",
       "    }\n",
       "\n",
       "    .dataframe thead th {\n",
       "        text-align: right;\n",
       "    }\n",
       "</style>\n",
       "<table border=\"1\" class=\"dataframe\">\n",
       "  <thead>\n",
       "    <tr style=\"text-align: right;\">\n",
       "      <th></th>\n",
       "      <th>DOI</th>\n",
       "      <th>title</th>\n",
       "      <th>authors</th>\n",
       "      <th>affiliations</th>\n",
       "      <th>journal</th>\n",
       "      <th>year</th>\n",
       "      <th>month</th>\n",
       "      <th>volume</th>\n",
       "      <th>first_page</th>\n",
       "      <th>last_page</th>\n",
       "      <th>PMID</th>\n",
       "      <th>PMCID</th>\n",
       "      <th>abstract</th>\n",
       "    </tr>\n",
       "  </thead>\n",
       "  <tbody>\n",
       "    <tr>\n",
       "      <th>0</th>\n",
       "      <td>10.1177/17585732221102399</td>\n",
       "      <td>Surgical management of the spastic elbow</td>\n",
       "      <td>['Weisang Luo  1 ', ' Matthew Nixon  1   2']</td>\n",
       "      <td>['Countess of Chester Hospital, Chester, UK.',...</td>\n",
       "      <td>Shoulder Elbow</td>\n",
       "      <td>2023</td>\n",
       "      <td>Oct</td>\n",
       "      <td>15(5)</td>\n",
       "      <td>534</td>\n",
       "      <td>543</td>\n",
       "      <td>37811394</td>\n",
       "      <td>PMC10557929</td>\n",
       "      <td>['Background: We performed a retrospective rev...</td>\n",
       "    </tr>\n",
       "    <tr>\n",
       "      <th>1</th>\n",
       "      <td>10.1007/s11571-022-09871-6</td>\n",
       "      <td>Three-dimensional memristive Morris-Lecar mode...</td>\n",
       "      <td>['Han Bao  1 ', ' Xihong Yu  1 ', ' Quan Xu  1...</td>\n",
       "      <td>[\"School of Microelectronics and Control Engin...</td>\n",
       "      <td>Cogn Neurodyn</td>\n",
       "      <td>2023</td>\n",
       "      <td>Aug</td>\n",
       "      <td>17(4)</td>\n",
       "      <td>1079</td>\n",
       "      <td>1092</td>\n",
       "      <td>37522038</td>\n",
       "      <td>PMC10374513</td>\n",
       "      <td>['To characterize the magnetic induction flow ...</td>\n",
       "    </tr>\n",
       "  </tbody>\n",
       "</table>\n",
       "</div>"
      ],
      "text/plain": [
       "                          DOI  \\\n",
       "0   10.1177/17585732221102399   \n",
       "1  10.1007/s11571-022-09871-6   \n",
       "\n",
       "                                               title  \\\n",
       "0           Surgical management of the spastic elbow   \n",
       "1  Three-dimensional memristive Morris-Lecar mode...   \n",
       "\n",
       "                                             authors  \\\n",
       "0       ['Weisang Luo  1 ', ' Matthew Nixon  1   2']   \n",
       "1  ['Han Bao  1 ', ' Xihong Yu  1 ', ' Quan Xu  1...   \n",
       "\n",
       "                                        affiliations         journal  year  \\\n",
       "0  ['Countess of Chester Hospital, Chester, UK.',...  Shoulder Elbow  2023   \n",
       "1  [\"School of Microelectronics and Control Engin...   Cogn Neurodyn  2023   \n",
       "\n",
       "  month volume first_page last_page      PMID        PMCID  \\\n",
       "0   Oct  15(5)        534       543  37811394  PMC10557929   \n",
       "1   Aug  17(4)       1079      1092  37522038  PMC10374513   \n",
       "\n",
       "                                            abstract  \n",
       "0  ['Background: We performed a retrospective rev...  \n",
       "1  ['To characterize the magnetic induction flow ...  "
      ]
     },
     "execution_count": 6,
     "metadata": {},
     "output_type": "execute_result"
    }
   ],
   "source": [
    "articles.head(2)"
   ]
  },
  {
   "cell_type": "markdown",
   "id": "0e88114c",
   "metadata": {},
   "source": [
    "___"
   ]
  },
  {
   "cell_type": "code",
   "execution_count": 88,
   "id": "538e3390",
   "metadata": {},
   "outputs": [],
   "source": [
    "PATH = webdriver.FirefoxOptions()\n",
    "driver = webdriver.Firefox(options = PATH)"
   ]
  },
  {
   "cell_type": "code",
   "execution_count": 89,
   "id": "b7efbc40",
   "metadata": {},
   "outputs": [],
   "source": [
    "url = 'https://search.crossref.org/'\n",
    "driver.get(url)\n",
    "search_doi = driver.find_element(By.CSS_SELECTOR, '#search-input')\n",
    "time.sleep(3)"
   ]
  },
  {
   "cell_type": "code",
   "execution_count": 90,
   "id": "4fd05246",
   "metadata": {},
   "outputs": [
    {
     "data": {
      "application/vnd.jupyter.widget-view+json": {
       "model_id": "1a47974b24154cbabfbbcadb1c2b7e69",
       "version_major": 2,
       "version_minor": 0
      },
      "text/plain": [
       "  0%|          | 0/176 [00:00<?, ?it/s]"
      ]
     },
     "metadata": {},
     "output_type": "display_data"
    }
   ],
   "source": [
    "href = []\n",
    "json_href = []\n",
    "error = []\n",
    "\n",
    "for doi in tqdm(articles['DOI']):\n",
    "    try:\n",
    "        search_doi.clear()\n",
    "        search_doi.send_keys(doi)\n",
    "        search_doi.send_keys(Keys.ENTER)\n",
    "        time.sleep(3)\n",
    "        try:\n",
    "            article_box = driver.find_element(By.XPATH, '/html/body/div[3]/div[3]/div[1]/div[2]/table/tbody/tr/td')\n",
    "            href.append(driver.find_element(By.CSS_SELECTOR, '.item-links > a:nth-child(1)').text)\n",
    "            driver.find_element(By.CSS_SELECTOR, '.dropdown-toggle').click()\n",
    "            json_href.append(driver.find_element(By.CSS_SELECTOR, '.dropdown-menu > li:nth-child(3) > a:nth-child(1)').get_attribute('href'))\n",
    "            search_doi = driver.find_element(By.CSS_SELECTOR, '#search-input')\n",
    "        except:\n",
    "            href.append('')\n",
    "            json_href.append('')\n",
    "            continue\n",
    "    except:\n",
    "        error.append(doi)\n",
    "        href.append('error')\n",
    "        json_href.append('error')\n",
    "        url = 'https://search.crossref.org/'\n",
    "        driver.get(url)\n",
    "        search_doi = driver.find_element(By.CSS_SELECTOR, '#search-input')\n",
    "        time.sleep(3)\n",
    "        next"
   ]
  },
  {
   "cell_type": "raw",
   "id": "2df6f2b4",
   "metadata": {},
   "source": [
    "750/926 \n",
    "\n",
    "429 Too Many Requests\n",
    "You have sent too many requests in a given amount of time. "
   ]
  },
  {
   "cell_type": "code",
   "execution_count": 91,
   "id": "69e19c28",
   "metadata": {},
   "outputs": [],
   "source": [
    "driver.quit()"
   ]
  },
  {
   "cell_type": "code",
   "execution_count": 94,
   "id": "e0a4b97b",
   "metadata": {},
   "outputs": [],
   "source": [
    "cross_ref['href'] = href\n",
    "cross_ref['json_href'] = json_href"
   ]
  },
  {
   "cell_type": "code",
   "execution_count": 95,
   "id": "ace8db5c",
   "metadata": {},
   "outputs": [
    {
     "data": {
      "text/html": [
       "<div>\n",
       "<style scoped>\n",
       "    .dataframe tbody tr th:only-of-type {\n",
       "        vertical-align: middle;\n",
       "    }\n",
       "\n",
       "    .dataframe tbody tr th {\n",
       "        vertical-align: top;\n",
       "    }\n",
       "\n",
       "    .dataframe thead th {\n",
       "        text-align: right;\n",
       "    }\n",
       "</style>\n",
       "<table border=\"1\" class=\"dataframe\">\n",
       "  <thead>\n",
       "    <tr style=\"text-align: right;\">\n",
       "      <th></th>\n",
       "      <th>href</th>\n",
       "      <th>json_href</th>\n",
       "    </tr>\n",
       "  </thead>\n",
       "  <tbody>\n",
       "    <tr>\n",
       "      <th>0</th>\n",
       "      <td>https://doi.org/10.3390/ijms24065986</td>\n",
       "      <td>https://api.crossref.org/works/10.3390/ijms240...</td>\n",
       "    </tr>\n",
       "    <tr>\n",
       "      <th>1</th>\n",
       "      <td>https://doi.org/10.1523/jneurosci.1496-22.2023</td>\n",
       "      <td>https://api.crossref.org/works/10.1523/jneuros...</td>\n",
       "    </tr>\n",
       "  </tbody>\n",
       "</table>\n",
       "</div>"
      ],
      "text/plain": [
       "                                             href  \\\n",
       "0            https://doi.org/10.3390/ijms24065986   \n",
       "1  https://doi.org/10.1523/jneurosci.1496-22.2023   \n",
       "\n",
       "                                           json_href  \n",
       "0  https://api.crossref.org/works/10.3390/ijms240...  \n",
       "1  https://api.crossref.org/works/10.1523/jneuros...  "
      ]
     },
     "execution_count": 95,
     "metadata": {},
     "output_type": "execute_result"
    }
   ],
   "source": [
    "cross_ref_df = pd.DataFrame(cross_ref)\n",
    "cross_ref_df.head(2)"
   ]
  },
  {
   "cell_type": "code",
   "execution_count": 110,
   "id": "5ddd0cbe",
   "metadata": {},
   "outputs": [],
   "source": [
    "cross_ref_df.to_csv('../data/cross_ref', index=False)"
   ]
  },
  {
   "cell_type": "code",
   "execution_count": 111,
   "id": "db8a207c",
   "metadata": {},
   "outputs": [],
   "source": [
    "errors = ['10.1016/j.ijbiomac.2022.12.030',\n",
    "          '10.1021/acs.nanolett.2c02775',\n",
    "          '10.1186/s12974-022-02676-8',\n",
    "          '10.1002/cbin.11890',\n",
    "          '10.1038/s41401-022-00871-0',\n",
    "          '10.1111/ene.15388',\n",
    "          '10.3390/brainsci12070945',\n",
    "          '10.3389/fphar.2022.899169',\n",
    "          '10.1016/j.brs.2022.04.002',\n",
    "          '10.4103/1673-5374.324857',\n",
    "          '10.1093/mtomcs/mfac005',\n",
    "          '10.3389/fphar.2022.845930',\n",
    "          '10.3390/antiox11030466',\n",
    "          '10.1016/j.stem.2021.11.009',\n",
    "          '10.1016/j.neuron.2021.10.019',\n",
    "          '10.1177/09603271221102519',\n",
    "          '10.1159/000516412',\n",
    "          '10.1080/15592294.2021.1896983',\n",
    "          '10.1016/j.neuro.2023.10.005',\n",
    "          '10.1016/j.wneu.2023.09.065',\n",
    "          '10.1080/15548627.2023.2249750',\n",
    "          '10.1016/j.jns.2023.120710',\n",
    "          '10.1111/nan.12897',\n",
    "          '10.3390/ijms24065986''10.3389/fnhum.2023.1126510',\n",
    "          '10.1080/10985549.2023.2169563',\n",
    "          '10.3389/fnins.2022.1082375',\n",
    "          '10.2147/JIR.S387127',\n",
    "          '10.1159/000522091',\n",
    "          '10.1080/17588928.2022.2084605']"
   ]
  },
  {
   "cell_type": "code",
   "execution_count": 112,
   "id": "5a3bf698",
   "metadata": {},
   "outputs": [],
   "source": [
    "cross_ref_errors_df = pd.DataFrame(errors)"
   ]
  },
  {
   "cell_type": "code",
   "execution_count": 113,
   "id": "bd313a2b",
   "metadata": {},
   "outputs": [],
   "source": [
    "cross_ref_errors_df.to_csv('../data/cross_ref_errors', index=False)"
   ]
  }
 ],
 "metadata": {
  "kernelspec": {
   "display_name": "Python 3 (ipykernel)",
   "language": "python",
   "name": "python3"
  },
  "language_info": {
   "codemirror_mode": {
    "name": "ipython",
    "version": 3
   },
   "file_extension": ".py",
   "mimetype": "text/x-python",
   "name": "python",
   "nbconvert_exporter": "python",
   "pygments_lexer": "ipython3",
   "version": "3.11.4"
  }
 },
 "nbformat": 4,
 "nbformat_minor": 5
}
