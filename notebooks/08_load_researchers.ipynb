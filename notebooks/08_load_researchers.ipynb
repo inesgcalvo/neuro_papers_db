{
 "cells": [
  {
   "cell_type": "markdown",
   "metadata": {},
   "source": [
    "# <a id='toc1_'></a>[researchers](#toc0_)\n",
    "\n",
    "In this notebook, the `researchers` table was created for the database, including various information about the researchers from pubmed enriched with the gender and its probability from `genderize` API."
   ]
  },
  {
   "cell_type": "markdown",
   "metadata": {},
   "source": [
    "**Table of contents**<a id='toc0_'></a>    \n",
    "- [researchers](#toc1_)    \n",
    "    - [Import researchers_df](#toc1_1_1_)    \n",
    "  - [Data Cleansing](#toc1_2_)    \n",
    "    - [Create a df of researchers](#toc1_2_1_)    \n",
    "    - [Create the researchers ID: res_id](#toc1_2_2_)    \n",
    "    - [Consider identifying the gender of the author based on their name, recognizing that this method may not always accurately reflect personal gender identity. Exercise sensitivity and be aware of the potential for inaccuracies in the process](#toc1_2_3_)    \n",
    "    - [Include the gender columns](#toc1_2_4_)    \n",
    "      - [Concatenate vertically all the files from the extraction](#toc1_2_4_1_)    \n",
    "\n",
    "<!-- vscode-jupyter-toc-config\n",
    "\tnumbering=false\n",
    "\tanchor=true\n",
    "\tflat=false\n",
    "\tminLevel=1\n",
    "\tmaxLevel=6\n",
    "\t/vscode-jupyter-toc-config -->\n",
    "<!-- THIS CELL WILL BE REPLACED ON TOC UPDATE. DO NOT WRITE YOUR TEXT IN THIS CELL -->"
   ]
  },
  {
   "cell_type": "code",
   "execution_count": 79,
   "id": "ed4e504d",
   "metadata": {},
   "outputs": [],
   "source": [
    "# Libraries\n",
    "import os\n",
    "import pandas as pd\n",
    "\n",
    "# Abstract Syntax Trees\n",
    "import ast\n",
    "\n",
    "# API tools\n",
    "import requests\n",
    "\n",
    "# progress bar\n",
    "from tqdm.notebook import tqdm\n",
    "\n",
    "# Multiprocessing\n",
    "from joblib import Parallel, delayed, effective_n_jobs\n",
    "\n",
    "# Functions\n",
    "import sys\n",
    "sys.path.append('../src')\n",
    "from support_clean import *"
   ]
  },
  {
   "cell_type": "markdown",
   "metadata": {},
   "source": [
    "### <a id='toc1_1_1_'></a>[Import researchers_df](#toc0_)"
   ]
  },
  {
   "cell_type": "code",
   "execution_count": 2,
   "id": "b769e981",
   "metadata": {},
   "outputs": [
    {
     "data": {
      "text/html": [
       "<div>\n",
       "<style scoped>\n",
       "    .dataframe tbody tr th:only-of-type {\n",
       "        vertical-align: middle;\n",
       "    }\n",
       "\n",
       "    .dataframe tbody tr th {\n",
       "        vertical-align: top;\n",
       "    }\n",
       "\n",
       "    .dataframe thead th {\n",
       "        text-align: right;\n",
       "    }\n",
       "</style>\n",
       "<table border=\"1\" class=\"dataframe\">\n",
       "  <thead>\n",
       "    <tr style=\"text-align: right;\">\n",
       "      <th></th>\n",
       "      <th>Unnamed: 0</th>\n",
       "      <th>pub_id</th>\n",
       "      <th>authors</th>\n",
       "      <th>journal_id</th>\n",
       "      <th>first_auth</th>\n",
       "      <th>last_auth</th>\n",
       "      <th>auth_aff_list</th>\n",
       "      <th>first_auth_aff</th>\n",
       "      <th>last_auth_aff</th>\n",
       "    </tr>\n",
       "  </thead>\n",
       "  <tbody>\n",
       "    <tr>\n",
       "      <th>0</th>\n",
       "      <td>0</td>\n",
       "      <td>38012702</td>\n",
       "      <td>['Wu, Anbiao', 'Zhang, Jiyan']</td>\n",
       "      <td>101222974.0</td>\n",
       "      <td>Wu, Anbiao</td>\n",
       "      <td>Zhang, Jiyan</td>\n",
       "      <td>['Beijing Institute of Basic Medical Sciences,...</td>\n",
       "      <td>Beijing Institute of Basic Medical Sciences, B...</td>\n",
       "      <td>Beijing Institute of Basic Medical Sciences, B...</td>\n",
       "    </tr>\n",
       "    <tr>\n",
       "      <th>1</th>\n",
       "      <td>1</td>\n",
       "      <td>38012669</td>\n",
       "      <td>['Zheng, Shengnan', 'Li, Yiquan', 'Song, Xiaom...</td>\n",
       "      <td>101222974.0</td>\n",
       "      <td>Zheng, Shengnan</td>\n",
       "      <td>Liu, Huiqing</td>\n",
       "      <td>['Department of Pharmacology, School of Basic ...</td>\n",
       "      <td>Department of Pharmacology, School of Basic Me...</td>\n",
       "      <td>Department of Rehabilitation Medicine, The Sec...</td>\n",
       "    </tr>\n",
       "  </tbody>\n",
       "</table>\n",
       "</div>"
      ],
      "text/plain": [
       "   Unnamed: 0    pub_id                                            authors  \\\n",
       "0           0  38012702                     ['Wu, Anbiao', 'Zhang, Jiyan']   \n",
       "1           1  38012669  ['Zheng, Shengnan', 'Li, Yiquan', 'Song, Xiaom...   \n",
       "\n",
       "    journal_id       first_auth     last_auth  \\\n",
       "0  101222974.0       Wu, Anbiao  Zhang, Jiyan   \n",
       "1  101222974.0  Zheng, Shengnan  Liu, Huiqing   \n",
       "\n",
       "                                       auth_aff_list  \\\n",
       "0  ['Beijing Institute of Basic Medical Sciences,...   \n",
       "1  ['Department of Pharmacology, School of Basic ...   \n",
       "\n",
       "                                      first_auth_aff  \\\n",
       "0  Beijing Institute of Basic Medical Sciences, B...   \n",
       "1  Department of Pharmacology, School of Basic Me...   \n",
       "\n",
       "                                       last_auth_aff  \n",
       "0  Beijing Institute of Basic Medical Sciences, B...  \n",
       "1  Department of Rehabilitation Medicine, The Sec...  "
      ]
     },
     "execution_count": 2,
     "metadata": {},
     "output_type": "execute_result"
    }
   ],
   "source": [
    "researchers = pd.read_csv('../data/researchers_df.csv')\n",
    "researchers.head(2)"
   ]
  },
  {
   "cell_type": "markdown",
   "metadata": {},
   "source": [
    "## <a id='toc1_2_'></a>[Data Cleansing](#toc0_)"
   ]
  },
  {
   "cell_type": "code",
   "execution_count": 3,
   "id": "be51a724",
   "metadata": {},
   "outputs": [],
   "source": [
    "df = researchers.copy()"
   ]
  },
  {
   "cell_type": "code",
   "execution_count": 4,
   "id": "4d62c8bb",
   "metadata": {},
   "outputs": [
    {
     "data": {
      "text/plain": [
       "(61981, 9)"
      ]
     },
     "metadata": {},
     "output_type": "display_data"
    },
    {
     "data": {
      "text/plain": [
       "(61981, 8)"
      ]
     },
     "metadata": {},
     "output_type": "display_data"
    }
   ],
   "source": [
    "to_drop = ['Unnamed: 0']\n",
    "display(df.shape)\n",
    "df = df.drop(columns=to_drop)\n",
    "display(df.shape)"
   ]
  },
  {
   "cell_type": "code",
   "execution_count": 5,
   "id": "a071843b",
   "metadata": {},
   "outputs": [
    {
     "data": {
      "text/html": [
       "<div>\n",
       "<style scoped>\n",
       "    .dataframe tbody tr th:only-of-type {\n",
       "        vertical-align: middle;\n",
       "    }\n",
       "\n",
       "    .dataframe tbody tr th {\n",
       "        vertical-align: top;\n",
       "    }\n",
       "\n",
       "    .dataframe thead th {\n",
       "        text-align: right;\n",
       "    }\n",
       "</style>\n",
       "<table border=\"1\" class=\"dataframe\">\n",
       "  <thead>\n",
       "    <tr style=\"text-align: right;\">\n",
       "      <th></th>\n",
       "      <th>pub_id</th>\n",
       "      <th>authors</th>\n",
       "      <th>journal_id</th>\n",
       "      <th>first_auth</th>\n",
       "      <th>last_auth</th>\n",
       "      <th>auth_aff_list</th>\n",
       "      <th>first_auth_aff</th>\n",
       "      <th>last_auth_aff</th>\n",
       "    </tr>\n",
       "  </thead>\n",
       "  <tbody>\n",
       "    <tr>\n",
       "      <th>0</th>\n",
       "      <td>38012702</td>\n",
       "      <td>['Wu, Anbiao', 'Zhang, Jiyan']</td>\n",
       "      <td>101222974.0</td>\n",
       "      <td>Wu, Anbiao</td>\n",
       "      <td>Zhang, Jiyan</td>\n",
       "      <td>['Beijing Institute of Basic Medical Sciences,...</td>\n",
       "      <td>Beijing Institute of Basic Medical Sciences, B...</td>\n",
       "      <td>Beijing Institute of Basic Medical Sciences, B...</td>\n",
       "    </tr>\n",
       "    <tr>\n",
       "      <th>1</th>\n",
       "      <td>38012669</td>\n",
       "      <td>['Zheng, Shengnan', 'Li, Yiquan', 'Song, Xiaom...</td>\n",
       "      <td>101222974.0</td>\n",
       "      <td>Zheng, Shengnan</td>\n",
       "      <td>Liu, Huiqing</td>\n",
       "      <td>['Department of Pharmacology, School of Basic ...</td>\n",
       "      <td>Department of Pharmacology, School of Basic Me...</td>\n",
       "      <td>Department of Rehabilitation Medicine, The Sec...</td>\n",
       "    </tr>\n",
       "  </tbody>\n",
       "</table>\n",
       "</div>"
      ],
      "text/plain": [
       "     pub_id                                            authors   journal_id  \\\n",
       "0  38012702                     ['Wu, Anbiao', 'Zhang, Jiyan']  101222974.0   \n",
       "1  38012669  ['Zheng, Shengnan', 'Li, Yiquan', 'Song, Xiaom...  101222974.0   \n",
       "\n",
       "        first_auth     last_auth  \\\n",
       "0       Wu, Anbiao  Zhang, Jiyan   \n",
       "1  Zheng, Shengnan  Liu, Huiqing   \n",
       "\n",
       "                                       auth_aff_list  \\\n",
       "0  ['Beijing Institute of Basic Medical Sciences,...   \n",
       "1  ['Department of Pharmacology, School of Basic ...   \n",
       "\n",
       "                                      first_auth_aff  \\\n",
       "0  Beijing Institute of Basic Medical Sciences, B...   \n",
       "1  Department of Pharmacology, School of Basic Me...   \n",
       "\n",
       "                                       last_auth_aff  \n",
       "0  Beijing Institute of Basic Medical Sciences, B...  \n",
       "1  Department of Rehabilitation Medicine, The Sec...  "
      ]
     },
     "execution_count": 5,
     "metadata": {},
     "output_type": "execute_result"
    }
   ],
   "source": [
    "df = df.rename(columns={'ID': 'pub_id'})\n",
    "df.head(2)"
   ]
  },
  {
   "cell_type": "markdown",
   "metadata": {},
   "source": [
    "### <a id='toc1_2_1_'></a>[Create a df of researchers](#toc0_)"
   ]
  },
  {
   "cell_type": "code",
   "execution_count": 6,
   "id": "75b74da2",
   "metadata": {},
   "outputs": [],
   "source": [
    "# Transform the strings to lists again\n",
    "df['authors'] = df['authors'].apply(ast.literal_eval)"
   ]
  },
  {
   "cell_type": "code",
   "execution_count": 7,
   "id": "87388d8e",
   "metadata": {},
   "outputs": [],
   "source": [
    "# Create a row per author\n",
    "df_authors = df.explode('authors')"
   ]
  },
  {
   "cell_type": "code",
   "execution_count": 8,
   "id": "b118920e",
   "metadata": {},
   "outputs": [
    {
     "data": {
      "text/html": [
       "<div>\n",
       "<style scoped>\n",
       "    .dataframe tbody tr th:only-of-type {\n",
       "        vertical-align: middle;\n",
       "    }\n",
       "\n",
       "    .dataframe tbody tr th {\n",
       "        vertical-align: top;\n",
       "    }\n",
       "\n",
       "    .dataframe thead th {\n",
       "        text-align: right;\n",
       "    }\n",
       "</style>\n",
       "<table border=\"1\" class=\"dataframe\">\n",
       "  <thead>\n",
       "    <tr style=\"text-align: right;\">\n",
       "      <th></th>\n",
       "      <th>pub_id</th>\n",
       "      <th>authors</th>\n",
       "      <th>journal_id</th>\n",
       "      <th>first_auth</th>\n",
       "      <th>last_auth</th>\n",
       "      <th>auth_aff_list</th>\n",
       "      <th>first_auth_aff</th>\n",
       "      <th>last_auth_aff</th>\n",
       "    </tr>\n",
       "  </thead>\n",
       "  <tbody>\n",
       "    <tr>\n",
       "      <th>0</th>\n",
       "      <td>38012702</td>\n",
       "      <td>Wu, Anbiao</td>\n",
       "      <td>101222974.0</td>\n",
       "      <td>Wu, Anbiao</td>\n",
       "      <td>Zhang, Jiyan</td>\n",
       "      <td>['Beijing Institute of Basic Medical Sciences,...</td>\n",
       "      <td>Beijing Institute of Basic Medical Sciences, B...</td>\n",
       "      <td>Beijing Institute of Basic Medical Sciences, B...</td>\n",
       "    </tr>\n",
       "    <tr>\n",
       "      <th>0</th>\n",
       "      <td>38012702</td>\n",
       "      <td>Zhang, Jiyan</td>\n",
       "      <td>101222974.0</td>\n",
       "      <td>Wu, Anbiao</td>\n",
       "      <td>Zhang, Jiyan</td>\n",
       "      <td>['Beijing Institute of Basic Medical Sciences,...</td>\n",
       "      <td>Beijing Institute of Basic Medical Sciences, B...</td>\n",
       "      <td>Beijing Institute of Basic Medical Sciences, B...</td>\n",
       "    </tr>\n",
       "    <tr>\n",
       "      <th>1</th>\n",
       "      <td>38012669</td>\n",
       "      <td>Zheng, Shengnan</td>\n",
       "      <td>101222974.0</td>\n",
       "      <td>Zheng, Shengnan</td>\n",
       "      <td>Liu, Huiqing</td>\n",
       "      <td>['Department of Pharmacology, School of Basic ...</td>\n",
       "      <td>Department of Pharmacology, School of Basic Me...</td>\n",
       "      <td>Department of Rehabilitation Medicine, The Sec...</td>\n",
       "    </tr>\n",
       "    <tr>\n",
       "      <th>1</th>\n",
       "      <td>38012669</td>\n",
       "      <td>Li, Yiquan</td>\n",
       "      <td>101222974.0</td>\n",
       "      <td>Zheng, Shengnan</td>\n",
       "      <td>Liu, Huiqing</td>\n",
       "      <td>['Department of Pharmacology, School of Basic ...</td>\n",
       "      <td>Department of Pharmacology, School of Basic Me...</td>\n",
       "      <td>Department of Rehabilitation Medicine, The Sec...</td>\n",
       "    </tr>\n",
       "    <tr>\n",
       "      <th>1</th>\n",
       "      <td>38012669</td>\n",
       "      <td>Song, Xiaomeng</td>\n",
       "      <td>101222974.0</td>\n",
       "      <td>Zheng, Shengnan</td>\n",
       "      <td>Liu, Huiqing</td>\n",
       "      <td>['Department of Pharmacology, School of Basic ...</td>\n",
       "      <td>Department of Pharmacology, School of Basic Me...</td>\n",
       "      <td>Department of Rehabilitation Medicine, The Sec...</td>\n",
       "    </tr>\n",
       "  </tbody>\n",
       "</table>\n",
       "</div>"
      ],
      "text/plain": [
       "     pub_id          authors   journal_id       first_auth     last_auth  \\\n",
       "0  38012702       Wu, Anbiao  101222974.0       Wu, Anbiao  Zhang, Jiyan   \n",
       "0  38012702     Zhang, Jiyan  101222974.0       Wu, Anbiao  Zhang, Jiyan   \n",
       "1  38012669  Zheng, Shengnan  101222974.0  Zheng, Shengnan  Liu, Huiqing   \n",
       "1  38012669       Li, Yiquan  101222974.0  Zheng, Shengnan  Liu, Huiqing   \n",
       "1  38012669   Song, Xiaomeng  101222974.0  Zheng, Shengnan  Liu, Huiqing   \n",
       "\n",
       "                                       auth_aff_list  \\\n",
       "0  ['Beijing Institute of Basic Medical Sciences,...   \n",
       "0  ['Beijing Institute of Basic Medical Sciences,...   \n",
       "1  ['Department of Pharmacology, School of Basic ...   \n",
       "1  ['Department of Pharmacology, School of Basic ...   \n",
       "1  ['Department of Pharmacology, School of Basic ...   \n",
       "\n",
       "                                      first_auth_aff  \\\n",
       "0  Beijing Institute of Basic Medical Sciences, B...   \n",
       "0  Beijing Institute of Basic Medical Sciences, B...   \n",
       "1  Department of Pharmacology, School of Basic Me...   \n",
       "1  Department of Pharmacology, School of Basic Me...   \n",
       "1  Department of Pharmacology, School of Basic Me...   \n",
       "\n",
       "                                       last_auth_aff  \n",
       "0  Beijing Institute of Basic Medical Sciences, B...  \n",
       "0  Beijing Institute of Basic Medical Sciences, B...  \n",
       "1  Department of Rehabilitation Medicine, The Sec...  \n",
       "1  Department of Rehabilitation Medicine, The Sec...  \n",
       "1  Department of Rehabilitation Medicine, The Sec...  "
      ]
     },
     "execution_count": 8,
     "metadata": {},
     "output_type": "execute_result"
    }
   ],
   "source": [
    "df_authors[:5]"
   ]
  },
  {
   "cell_type": "markdown",
   "metadata": {},
   "source": [
    "### <a id='toc1_2_2_'></a>[Create the researchers ID: res_id](#toc0_)"
   ]
  },
  {
   "cell_type": "code",
   "execution_count": 9,
   "id": "3e8fa1b2",
   "metadata": {},
   "outputs": [
    {
     "data": {
      "text/plain": [
       "372016"
      ]
     },
     "metadata": {},
     "output_type": "display_data"
    },
    {
     "data": {
      "text/plain": [
       "228898"
      ]
     },
     "metadata": {},
     "output_type": "display_data"
    }
   ],
   "source": [
    "# Create a list with the unique researchers\n",
    "researchers_list = df_authors['authors']\n",
    "display(len(researchers_list))\n",
    "researchers_list = list(set(researchers_list))\n",
    "display(len(researchers_list))"
   ]
  },
  {
   "cell_type": "code",
   "execution_count": 10,
   "id": "c6057c1e",
   "metadata": {},
   "outputs": [],
   "source": [
    "# Transform to df\n",
    "researchers_df = pd.DataFrame(researchers_list)"
   ]
  },
  {
   "cell_type": "code",
   "execution_count": 11,
   "id": "9fc859cf",
   "metadata": {},
   "outputs": [],
   "source": [
    "researchers_df = researchers_df.rename(columns={0: 'researcher'})"
   ]
  },
  {
   "cell_type": "code",
   "execution_count": 12,
   "id": "65d236ca",
   "metadata": {},
   "outputs": [],
   "source": [
    "# Create a column with the surnames\n",
    "researchers_df['surname'] = [row.split(',')[0] for row in researchers_df['researcher']]"
   ]
  },
  {
   "cell_type": "code",
   "execution_count": 13,
   "id": "86913490",
   "metadata": {},
   "outputs": [],
   "source": [
    "# Create a column with the names\n",
    "erratic_names = []\n",
    "\n",
    "def name_column(x): \n",
    "    '''\n",
    "    '''\n",
    "    try:\n",
    "        if ',' in x:\n",
    "            name = x.split(',')[1]\n",
    "            return name\n",
    "        elif len(x.split(' ')) == 2:\n",
    "            name = x.split(' ')[0]\n",
    "            return name\n",
    "        elif len(x.split(' ')) > 2:\n",
    "            return ''\n",
    "        else: \n",
    "            erratic_names.append(x)\n",
    "            return x\n",
    "    except:\n",
    "        erratic_names.append(x)\n",
    "        return x"
   ]
  },
  {
   "cell_type": "code",
   "execution_count": 14,
   "id": "502a3282",
   "metadata": {},
   "outputs": [],
   "source": [
    "researchers_df['name'] = researchers_df['researcher'].apply(name_column)"
   ]
  },
  {
   "cell_type": "code",
   "execution_count": 15,
   "id": "bfbd7dee",
   "metadata": {},
   "outputs": [
    {
     "data": {
      "text/html": [
       "<div>\n",
       "<style scoped>\n",
       "    .dataframe tbody tr th:only-of-type {\n",
       "        vertical-align: middle;\n",
       "    }\n",
       "\n",
       "    .dataframe tbody tr th {\n",
       "        vertical-align: top;\n",
       "    }\n",
       "\n",
       "    .dataframe thead th {\n",
       "        text-align: right;\n",
       "    }\n",
       "</style>\n",
       "<table border=\"1\" class=\"dataframe\">\n",
       "  <thead>\n",
       "    <tr style=\"text-align: right;\">\n",
       "      <th></th>\n",
       "      <th>researcher</th>\n",
       "      <th>surname</th>\n",
       "      <th>name</th>\n",
       "    </tr>\n",
       "  </thead>\n",
       "  <tbody>\n",
       "    <tr>\n",
       "      <th>0</th>\n",
       "      <td>Howe, Charles L</td>\n",
       "      <td>Howe</td>\n",
       "      <td>Charles L</td>\n",
       "    </tr>\n",
       "    <tr>\n",
       "      <th>1</th>\n",
       "      <td>Sun, Hong-Shuo</td>\n",
       "      <td>Sun</td>\n",
       "      <td>Hong-Shuo</td>\n",
       "    </tr>\n",
       "    <tr>\n",
       "      <th>2</th>\n",
       "      <td>Arroyo, Rafael</td>\n",
       "      <td>Arroyo</td>\n",
       "      <td>Rafael</td>\n",
       "    </tr>\n",
       "    <tr>\n",
       "      <th>3</th>\n",
       "      <td>Gonçalves, Bruno</td>\n",
       "      <td>Gonçalves</td>\n",
       "      <td>Bruno</td>\n",
       "    </tr>\n",
       "    <tr>\n",
       "      <th>4</th>\n",
       "      <td>Wall, Michael</td>\n",
       "      <td>Wall</td>\n",
       "      <td>Michael</td>\n",
       "    </tr>\n",
       "  </tbody>\n",
       "</table>\n",
       "</div>"
      ],
      "text/plain": [
       "         researcher    surname        name\n",
       "0   Howe, Charles L       Howe   Charles L\n",
       "1    Sun, Hong-Shuo        Sun   Hong-Shuo\n",
       "2    Arroyo, Rafael     Arroyo      Rafael\n",
       "3  Gonçalves, Bruno  Gonçalves       Bruno\n",
       "4     Wall, Michael       Wall     Michael"
      ]
     },
     "execution_count": 15,
     "metadata": {},
     "output_type": "execute_result"
    }
   ],
   "source": [
    "researchers_df.head()"
   ]
  },
  {
   "cell_type": "code",
   "execution_count": 16,
   "id": "3f98cb53",
   "metadata": {},
   "outputs": [],
   "source": [
    "# Create res_id\n",
    "researchers_df['res_id'] = researchers_df.index"
   ]
  },
  {
   "cell_type": "code",
   "execution_count": 17,
   "id": "565bfacf",
   "metadata": {},
   "outputs": [
    {
     "data": {
      "text/html": [
       "<div>\n",
       "<style scoped>\n",
       "    .dataframe tbody tr th:only-of-type {\n",
       "        vertical-align: middle;\n",
       "    }\n",
       "\n",
       "    .dataframe tbody tr th {\n",
       "        vertical-align: top;\n",
       "    }\n",
       "\n",
       "    .dataframe thead th {\n",
       "        text-align: right;\n",
       "    }\n",
       "</style>\n",
       "<table border=\"1\" class=\"dataframe\">\n",
       "  <thead>\n",
       "    <tr style=\"text-align: right;\">\n",
       "      <th></th>\n",
       "      <th>researcher</th>\n",
       "      <th>surname</th>\n",
       "      <th>name</th>\n",
       "      <th>res_id</th>\n",
       "    </tr>\n",
       "  </thead>\n",
       "  <tbody>\n",
       "    <tr>\n",
       "      <th>0</th>\n",
       "      <td>Howe, Charles L</td>\n",
       "      <td>Howe</td>\n",
       "      <td>Charles L</td>\n",
       "      <td>0</td>\n",
       "    </tr>\n",
       "    <tr>\n",
       "      <th>1</th>\n",
       "      <td>Sun, Hong-Shuo</td>\n",
       "      <td>Sun</td>\n",
       "      <td>Hong-Shuo</td>\n",
       "      <td>1</td>\n",
       "    </tr>\n",
       "    <tr>\n",
       "      <th>2</th>\n",
       "      <td>Arroyo, Rafael</td>\n",
       "      <td>Arroyo</td>\n",
       "      <td>Rafael</td>\n",
       "      <td>2</td>\n",
       "    </tr>\n",
       "    <tr>\n",
       "      <th>3</th>\n",
       "      <td>Gonçalves, Bruno</td>\n",
       "      <td>Gonçalves</td>\n",
       "      <td>Bruno</td>\n",
       "      <td>3</td>\n",
       "    </tr>\n",
       "    <tr>\n",
       "      <th>4</th>\n",
       "      <td>Wall, Michael</td>\n",
       "      <td>Wall</td>\n",
       "      <td>Michael</td>\n",
       "      <td>4</td>\n",
       "    </tr>\n",
       "  </tbody>\n",
       "</table>\n",
       "</div>"
      ],
      "text/plain": [
       "         researcher    surname        name  res_id\n",
       "0   Howe, Charles L       Howe   Charles L       0\n",
       "1    Sun, Hong-Shuo        Sun   Hong-Shuo       1\n",
       "2    Arroyo, Rafael     Arroyo      Rafael       2\n",
       "3  Gonçalves, Bruno  Gonçalves       Bruno       3\n",
       "4     Wall, Michael       Wall     Michael       4"
      ]
     },
     "execution_count": 17,
     "metadata": {},
     "output_type": "execute_result"
    }
   ],
   "source": [
    "researchers_df.head()"
   ]
  },
  {
   "cell_type": "code",
   "execution_count": 18,
   "id": "f85a591e",
   "metadata": {},
   "outputs": [],
   "source": [
    "# Change the order of the columns\n",
    "researchers_df = researchers_df[['res_id', 'researcher', 'surname', 'name']]"
   ]
  },
  {
   "cell_type": "markdown",
   "metadata": {},
   "source": [
    "### <a id='toc1_2_3_'></a>[Consider identifying the gender of the author based on their name, recognizing that this method may not always accurately reflect personal gender identity. Exercise sensitivity and be aware of the potential for inaccuracies in the process](#toc0_)\n",
    "\n",
    "**genderize.io** is a free API, but limited at 1000 requests by day.\n",
    "\n",
    "    url = f'https://api.genderize.io/?name[]={name}'   \n",
    "\n",
    "**The answer will be like this:**\n",
    "\n",
    "    { \"name\": \"peter\",\n",
    "      \"gender\": \"male\",\n",
    "      \"probability\": 0.99,\n",
    "      \"count\": 165452 }"
   ]
  },
  {
   "cell_type": "code",
   "execution_count": null,
   "id": "acbbc96e",
   "metadata": {},
   "outputs": [],
   "source": [
    "names = researchers_df['name']"
   ]
  },
  {
   "cell_type": "code",
   "execution_count": null,
   "id": "5b5d9b2b",
   "metadata": {},
   "outputs": [],
   "source": [
    "with open('../genderizer_api.txt', 'r') as file:\n",
    "    genderized_api = file.read().strip()"
   ]
  },
  {
   "cell_type": "code",
   "execution_count": null,
   "id": "d5f2266b",
   "metadata": {},
   "outputs": [],
   "source": [
    "# Create a list of urls\n",
    "url_list = []\n",
    "\n",
    "for name in names:\n",
    "    \n",
    "    if len(name.split(' ')) > 1:\n",
    "        n = name.split(' ')[1]\n",
    "    else:\n",
    "        n = name\n",
    "        \n",
    "    url = f'https://api.genderize.io?name={n}&apikey={genderized_api}'\n",
    "    url_list.append(url)"
   ]
  },
  {
   "cell_type": "code",
   "execution_count": null,
   "id": "b8136b4a",
   "metadata": {},
   "outputs": [],
   "source": [
    "gender = []\n",
    "gender_prob = []\n",
    "\n",
    "def get_gender(url):\n",
    "    '''\n",
    "    '''\n",
    "    res = requests.get(url)\n",
    "    res_api = res.json()\n",
    "    gender.append(res_api['gender'])\n",
    "    gender_prob.append(res_api['probability'])\n",
    "    return gender, gender_prob"
   ]
  },
  {
   "cell_type": "code",
   "execution_count": null,
   "id": "1329f1a6",
   "metadata": {},
   "outputs": [],
   "source": [
    "print(f\"Number of cores: {effective_n_jobs()}\")"
   ]
  },
  {
   "cell_type": "code",
   "execution_count": null,
   "id": "26e8065d",
   "metadata": {},
   "outputs": [],
   "source": [
    "parallel = Parallel(n_jobs=-1, verbose=False)"
   ]
  },
  {
   "cell_type": "code",
   "execution_count": null,
   "id": "09993382",
   "metadata": {},
   "outputs": [],
   "source": [
    "i = 0\n",
    "j = 5000\n",
    "\n",
    "j_max = len(url_list)\n",
    "\n",
    "errors = []\n",
    "\n",
    "while j < j_max:\n",
    "    \n",
    "    try:\n",
    "        output = parallel(delayed(get_gender)(url) for url in tqdm(url_list[i:j]))\n",
    "        output_df = pd.DataFrame(output, columns=['gender', 'gender_prob'])\n",
    "        output_df.to_csv(f'../data/gender/gender_{i}.csv')\n",
    "        \n",
    "        i = j\n",
    "        j += 5000\n",
    "        \n",
    "    except:\n",
    "        errors.append()\n",
    "        i = j\n",
    "        j += 5000"
   ]
  },
  {
   "cell_type": "code",
   "execution_count": null,
   "id": "eec32fc6",
   "metadata": {},
   "outputs": [],
   "source": [
    "#### Continue the Data Extraction after the error"
   ]
  },
  {
   "cell_type": "code",
   "execution_count": null,
   "id": "8a74b08b",
   "metadata": {},
   "outputs": [],
   "source": [
    "errors = []\n",
    "\n",
    "def get_gender(url, gender, gender_prob):\n",
    "    try:\n",
    "        res = requests.get(url)\n",
    "        res.raise_for_status()\n",
    "        res_api = res.json()\n",
    "        gender.append(res_api['gender'])\n",
    "        gender_prob.append(res_api['probability'])\n",
    "    except requests.exceptions.RequestException as req_err:\n",
    "        errors.append(f\"Request error for {url}: {req_err}\")\n",
    "    except JSONDecodeError as json_err:\n",
    "        errors.append(f\"JSON decoding error for {url}: {json_err}\")\n",
    "    except KeyError as key_err:\n",
    "        errors.append(f\"KeyError for {url}: {key_err}\")\n",
    "    return gender, gender_prob"
   ]
  },
  {
   "cell_type": "code",
   "execution_count": null,
   "id": "11dedb7e",
   "metadata": {},
   "outputs": [],
   "source": [
    "gender = []\n",
    "gender_prob = []\n",
    "i = 195000\n",
    "output = parallel(delayed(get_gender)(url, gender, gender_prob) for url in tqdm(url_list[i:]))\n",
    "output_df = pd.DataFrame(output, columns=['gender', 'gender_prob'])\n",
    "output_df.to_csv(f'../data/gender/gender_{i}.csv')"
   ]
  },
  {
   "cell_type": "markdown",
   "metadata": {},
   "source": [
    "### <a id='toc1_2_4_'></a>[Include the gender columns](#toc0_)\n",
    "#### <a id='toc1_2_4_1_'></a>[Concatenate vertically all the files from the extraction](#toc0_)"
   ]
  },
  {
   "cell_type": "code",
   "execution_count": 23,
   "id": "3ec4b199",
   "metadata": {},
   "outputs": [],
   "source": [
    "folder = '../data/gender/'\n",
    "\n",
    "dfs = []\n",
    "\n",
    "for doc in os.listdir(folder):\n",
    "    if doc.endswith('.csv'):\n",
    "        path = os.path.join(folder, doc)\n",
    "        df = pd.read_csv(path)\n",
    "        dfs.append(df)"
   ]
  },
  {
   "cell_type": "code",
   "execution_count": 27,
   "id": "f5597afe",
   "metadata": {},
   "outputs": [],
   "source": [
    "gender_dfs = pd.concat(dfs, axis=0, ignore_index=True)"
   ]
  },
  {
   "cell_type": "code",
   "execution_count": 32,
   "id": "028d6373",
   "metadata": {},
   "outputs": [
    {
     "data": {
      "text/plain": [
       "Unnamed: 0     0\n",
       "gender         0\n",
       "gender_prob    0\n",
       "dtype: int64"
      ]
     },
     "execution_count": 32,
     "metadata": {},
     "output_type": "execute_result"
    }
   ],
   "source": [
    "gender_dfs.isna().sum()"
   ]
  },
  {
   "cell_type": "code",
   "execution_count": 62,
   "id": "b6f5904b",
   "metadata": {},
   "outputs": [],
   "source": [
    "researchers_df['gender'] = gender_dfs['gender']"
   ]
  },
  {
   "cell_type": "code",
   "execution_count": 63,
   "id": "5410b12a",
   "metadata": {},
   "outputs": [],
   "source": [
    "researchers_df['prob'] = gender_dfs['gender_prob']"
   ]
  },
  {
   "cell_type": "code",
   "execution_count": 64,
   "id": "cf2573b5",
   "metadata": {},
   "outputs": [
    {
     "data": {
      "text/plain": [
       "res_id        0\n",
       "researcher    0\n",
       "surname       0\n",
       "name          0\n",
       "gender        0\n",
       "prob          0\n",
       "dtype: int64"
      ]
     },
     "execution_count": 64,
     "metadata": {},
     "output_type": "execute_result"
    }
   ],
   "source": [
    "researchers_df.isna().sum()"
   ]
  },
  {
   "cell_type": "code",
   "execution_count": 66,
   "id": "465ca0bb",
   "metadata": {},
   "outputs": [
    {
     "data": {
      "text/html": [
       "<div>\n",
       "<style scoped>\n",
       "    .dataframe tbody tr th:only-of-type {\n",
       "        vertical-align: middle;\n",
       "    }\n",
       "\n",
       "    .dataframe tbody tr th {\n",
       "        vertical-align: top;\n",
       "    }\n",
       "\n",
       "    .dataframe thead th {\n",
       "        text-align: right;\n",
       "    }\n",
       "</style>\n",
       "<table border=\"1\" class=\"dataframe\">\n",
       "  <thead>\n",
       "    <tr style=\"text-align: right;\">\n",
       "      <th></th>\n",
       "      <th>res_id</th>\n",
       "      <th>researcher</th>\n",
       "      <th>surname</th>\n",
       "      <th>name</th>\n",
       "      <th>gender</th>\n",
       "      <th>prob</th>\n",
       "    </tr>\n",
       "  </thead>\n",
       "  <tbody>\n",
       "    <tr>\n",
       "      <th>0</th>\n",
       "      <td>0</td>\n",
       "      <td>Howe, Charles L</td>\n",
       "      <td>Howe</td>\n",
       "      <td>Charles L</td>\n",
       "      <td>['male']</td>\n",
       "      <td>[1.0]</td>\n",
       "    </tr>\n",
       "    <tr>\n",
       "      <th>1</th>\n",
       "      <td>1</td>\n",
       "      <td>Sun, Hong-Shuo</td>\n",
       "      <td>Sun</td>\n",
       "      <td>Hong-Shuo</td>\n",
       "      <td>[None]</td>\n",
       "      <td>[0.0]</td>\n",
       "    </tr>\n",
       "    <tr>\n",
       "      <th>2</th>\n",
       "      <td>2</td>\n",
       "      <td>Arroyo, Rafael</td>\n",
       "      <td>Arroyo</td>\n",
       "      <td>Rafael</td>\n",
       "      <td>['male']</td>\n",
       "      <td>[1.0]</td>\n",
       "    </tr>\n",
       "    <tr>\n",
       "      <th>3</th>\n",
       "      <td>3</td>\n",
       "      <td>Gonçalves, Bruno</td>\n",
       "      <td>Gonçalves</td>\n",
       "      <td>Bruno</td>\n",
       "      <td>['female']</td>\n",
       "      <td>[0.99]</td>\n",
       "    </tr>\n",
       "    <tr>\n",
       "      <th>4</th>\n",
       "      <td>4</td>\n",
       "      <td>Wall, Michael</td>\n",
       "      <td>Wall</td>\n",
       "      <td>Michael</td>\n",
       "      <td>['male']</td>\n",
       "      <td>[1.0]</td>\n",
       "    </tr>\n",
       "  </tbody>\n",
       "</table>\n",
       "</div>"
      ],
      "text/plain": [
       "   res_id        researcher    surname        name      gender    prob\n",
       "0       0   Howe, Charles L       Howe   Charles L    ['male']   [1.0]\n",
       "1       1    Sun, Hong-Shuo        Sun   Hong-Shuo      [None]   [0.0]\n",
       "2       2    Arroyo, Rafael     Arroyo      Rafael    ['male']   [1.0]\n",
       "3       3  Gonçalves, Bruno  Gonçalves       Bruno  ['female']  [0.99]\n",
       "4       4     Wall, Michael       Wall     Michael    ['male']   [1.0]"
      ]
     },
     "execution_count": 66,
     "metadata": {},
     "output_type": "execute_result"
    }
   ],
   "source": [
    "researchers_df.head()"
   ]
  },
  {
   "cell_type": "code",
   "execution_count": 67,
   "id": "ff5e68bc",
   "metadata": {},
   "outputs": [
    {
     "name": "stdout",
     "output_type": "stream",
     "text": [
      "<class 'pandas.core.frame.DataFrame'>\n",
      "RangeIndex: 228898 entries, 0 to 228897\n",
      "Data columns (total 6 columns):\n",
      " #   Column      Non-Null Count   Dtype \n",
      "---  ------      --------------   ----- \n",
      " 0   res_id      228898 non-null  int64 \n",
      " 1   researcher  228898 non-null  object\n",
      " 2   surname     228898 non-null  object\n",
      " 3   name        228898 non-null  object\n",
      " 4   gender      228898 non-null  object\n",
      " 5   prob        228898 non-null  object\n",
      "dtypes: int64(1), object(5)\n",
      "memory usage: 10.5+ MB\n"
     ]
    }
   ],
   "source": [
    "researchers_df.info()"
   ]
  },
  {
   "cell_type": "code",
   "execution_count": null,
   "id": "bab9c84e",
   "metadata": {},
   "outputs": [],
   "source": [
    "# Transform the strings to lists again\n",
    "researchers_df['gender'] = researchers_df['gender'].apply(ast.literal_eval)"
   ]
  },
  {
   "cell_type": "code",
   "execution_count": 70,
   "id": "2f98b1d7",
   "metadata": {},
   "outputs": [],
   "source": [
    "researchers_df['prob'] = researchers_df['prob'].apply(ast.literal_eval)"
   ]
  },
  {
   "cell_type": "code",
   "execution_count": 71,
   "id": "5aad033b",
   "metadata": {},
   "outputs": [
    {
     "data": {
      "text/html": [
       "<div>\n",
       "<style scoped>\n",
       "    .dataframe tbody tr th:only-of-type {\n",
       "        vertical-align: middle;\n",
       "    }\n",
       "\n",
       "    .dataframe tbody tr th {\n",
       "        vertical-align: top;\n",
       "    }\n",
       "\n",
       "    .dataframe thead th {\n",
       "        text-align: right;\n",
       "    }\n",
       "</style>\n",
       "<table border=\"1\" class=\"dataframe\">\n",
       "  <thead>\n",
       "    <tr style=\"text-align: right;\">\n",
       "      <th></th>\n",
       "      <th>res_id</th>\n",
       "      <th>researcher</th>\n",
       "      <th>surname</th>\n",
       "      <th>name</th>\n",
       "      <th>gender</th>\n",
       "      <th>prob</th>\n",
       "    </tr>\n",
       "  </thead>\n",
       "  <tbody>\n",
       "    <tr>\n",
       "      <th>0</th>\n",
       "      <td>0</td>\n",
       "      <td>Howe, Charles L</td>\n",
       "      <td>Howe</td>\n",
       "      <td>Charles L</td>\n",
       "      <td>[male]</td>\n",
       "      <td>[1.0]</td>\n",
       "    </tr>\n",
       "    <tr>\n",
       "      <th>1</th>\n",
       "      <td>1</td>\n",
       "      <td>Sun, Hong-Shuo</td>\n",
       "      <td>Sun</td>\n",
       "      <td>Hong-Shuo</td>\n",
       "      <td>[None]</td>\n",
       "      <td>[0.0]</td>\n",
       "    </tr>\n",
       "    <tr>\n",
       "      <th>2</th>\n",
       "      <td>2</td>\n",
       "      <td>Arroyo, Rafael</td>\n",
       "      <td>Arroyo</td>\n",
       "      <td>Rafael</td>\n",
       "      <td>[male]</td>\n",
       "      <td>[1.0]</td>\n",
       "    </tr>\n",
       "    <tr>\n",
       "      <th>3</th>\n",
       "      <td>3</td>\n",
       "      <td>Gonçalves, Bruno</td>\n",
       "      <td>Gonçalves</td>\n",
       "      <td>Bruno</td>\n",
       "      <td>[female]</td>\n",
       "      <td>[0.99]</td>\n",
       "    </tr>\n",
       "    <tr>\n",
       "      <th>4</th>\n",
       "      <td>4</td>\n",
       "      <td>Wall, Michael</td>\n",
       "      <td>Wall</td>\n",
       "      <td>Michael</td>\n",
       "      <td>[male]</td>\n",
       "      <td>[1.0]</td>\n",
       "    </tr>\n",
       "  </tbody>\n",
       "</table>\n",
       "</div>"
      ],
      "text/plain": [
       "   res_id        researcher    surname        name    gender    prob\n",
       "0       0   Howe, Charles L       Howe   Charles L    [male]   [1.0]\n",
       "1       1    Sun, Hong-Shuo        Sun   Hong-Shuo    [None]   [0.0]\n",
       "2       2    Arroyo, Rafael     Arroyo      Rafael    [male]   [1.0]\n",
       "3       3  Gonçalves, Bruno  Gonçalves       Bruno  [female]  [0.99]\n",
       "4       4     Wall, Michael       Wall     Michael    [male]   [1.0]"
      ]
     },
     "execution_count": 71,
     "metadata": {},
     "output_type": "execute_result"
    }
   ],
   "source": [
    "researchers_df.head()"
   ]
  },
  {
   "cell_type": "code",
   "execution_count": 72,
   "id": "ce8439da",
   "metadata": {},
   "outputs": [],
   "source": [
    "# Clean and transform \"gender\" column\n",
    "researchers_df['gender'] = researchers_df['gender'].apply(lambda x: x[0] if x and len(x) > 0 else None)\n",
    "\n",
    "# Clean and transform \"prob\" column to float\n",
    "researchers_df['prob'] = researchers_df['prob'].apply(lambda x: x[0] if x and len(x) > 0 else None).astype(float)"
   ]
  },
  {
   "cell_type": "code",
   "execution_count": 73,
   "id": "e15dac7c",
   "metadata": {},
   "outputs": [
    {
     "data": {
      "text/html": [
       "<div>\n",
       "<style scoped>\n",
       "    .dataframe tbody tr th:only-of-type {\n",
       "        vertical-align: middle;\n",
       "    }\n",
       "\n",
       "    .dataframe tbody tr th {\n",
       "        vertical-align: top;\n",
       "    }\n",
       "\n",
       "    .dataframe thead th {\n",
       "        text-align: right;\n",
       "    }\n",
       "</style>\n",
       "<table border=\"1\" class=\"dataframe\">\n",
       "  <thead>\n",
       "    <tr style=\"text-align: right;\">\n",
       "      <th></th>\n",
       "      <th>res_id</th>\n",
       "      <th>researcher</th>\n",
       "      <th>surname</th>\n",
       "      <th>name</th>\n",
       "      <th>gender</th>\n",
       "      <th>prob</th>\n",
       "    </tr>\n",
       "  </thead>\n",
       "  <tbody>\n",
       "    <tr>\n",
       "      <th>0</th>\n",
       "      <td>0</td>\n",
       "      <td>Howe, Charles L</td>\n",
       "      <td>Howe</td>\n",
       "      <td>Charles L</td>\n",
       "      <td>male</td>\n",
       "      <td>1.00</td>\n",
       "    </tr>\n",
       "    <tr>\n",
       "      <th>1</th>\n",
       "      <td>1</td>\n",
       "      <td>Sun, Hong-Shuo</td>\n",
       "      <td>Sun</td>\n",
       "      <td>Hong-Shuo</td>\n",
       "      <td>None</td>\n",
       "      <td>0.00</td>\n",
       "    </tr>\n",
       "    <tr>\n",
       "      <th>2</th>\n",
       "      <td>2</td>\n",
       "      <td>Arroyo, Rafael</td>\n",
       "      <td>Arroyo</td>\n",
       "      <td>Rafael</td>\n",
       "      <td>male</td>\n",
       "      <td>1.00</td>\n",
       "    </tr>\n",
       "    <tr>\n",
       "      <th>3</th>\n",
       "      <td>3</td>\n",
       "      <td>Gonçalves, Bruno</td>\n",
       "      <td>Gonçalves</td>\n",
       "      <td>Bruno</td>\n",
       "      <td>female</td>\n",
       "      <td>0.99</td>\n",
       "    </tr>\n",
       "    <tr>\n",
       "      <th>4</th>\n",
       "      <td>4</td>\n",
       "      <td>Wall, Michael</td>\n",
       "      <td>Wall</td>\n",
       "      <td>Michael</td>\n",
       "      <td>male</td>\n",
       "      <td>1.00</td>\n",
       "    </tr>\n",
       "  </tbody>\n",
       "</table>\n",
       "</div>"
      ],
      "text/plain": [
       "   res_id        researcher    surname        name  gender  prob\n",
       "0       0   Howe, Charles L       Howe   Charles L    male  1.00\n",
       "1       1    Sun, Hong-Shuo        Sun   Hong-Shuo    None  0.00\n",
       "2       2    Arroyo, Rafael     Arroyo      Rafael    male  1.00\n",
       "3       3  Gonçalves, Bruno  Gonçalves       Bruno  female  0.99\n",
       "4       4     Wall, Michael       Wall     Michael    male  1.00"
      ]
     },
     "execution_count": 73,
     "metadata": {},
     "output_type": "execute_result"
    }
   ],
   "source": [
    "researchers_df.head()"
   ]
  },
  {
   "cell_type": "code",
   "execution_count": 74,
   "id": "e2b73026",
   "metadata": {},
   "outputs": [
    {
     "name": "stdout",
     "output_type": "stream",
     "text": [
      "<class 'pandas.core.frame.DataFrame'>\n",
      "RangeIndex: 228898 entries, 0 to 228897\n",
      "Data columns (total 6 columns):\n",
      " #   Column      Non-Null Count   Dtype  \n",
      "---  ------      --------------   -----  \n",
      " 0   res_id      228898 non-null  int64  \n",
      " 1   researcher  228898 non-null  object \n",
      " 2   surname     228898 non-null  object \n",
      " 3   name        228898 non-null  object \n",
      " 4   gender      218132 non-null  object \n",
      " 5   prob        228897 non-null  float64\n",
      "dtypes: float64(1), int64(1), object(4)\n",
      "memory usage: 10.5+ MB\n"
     ]
    }
   ],
   "source": [
    "researchers_df.info()"
   ]
  },
  {
   "cell_type": "code",
   "execution_count": 76,
   "id": "cf216f8c",
   "metadata": {},
   "outputs": [],
   "source": [
    "researchers_df['gender'] = researchers_df['gender'].fillna('unknown')\n",
    "researchers_df['prob'] = researchers_df['prob'].fillna(0)"
   ]
  },
  {
   "cell_type": "code",
   "execution_count": 77,
   "id": "5be53c6b",
   "metadata": {},
   "outputs": [
    {
     "data": {
      "image/png": "[encoded data removed]",
      "text/plain": [
       "<Figure size 1000x600 with 1 Axes>"
      ]
     },
     "metadata": {
      "needs_background": "light"
     },
     "output_type": "display_data"
    }
   ],
   "source": [
    "view_nan(researchers_df)"
   ]
  },
  {
   "cell_type": "code",
   "execution_count": 92,
   "id": "97b0c938",
   "metadata": {},
   "outputs": [],
   "source": [
    "researchers_df.to_csv('../data/neuropapers_db/researchers.csv', index=False)"
   ]
  },
  {
   "cell_type": "code",
   "execution_count": null,
   "id": "cef8b0c4",
   "metadata": {},
   "outputs": [],
   "source": []
  }
 ],
 "metadata": {
  "kernelspec": {
   "display_name": "Python 3 (ipykernel)",
   "language": "python",
   "name": "python3"
  },
  "language_info": {
   "codemirror_mode": {
    "name": "ipython",
    "version": 3
   },
   "file_extension": ".py",
   "mimetype": "text/x-python",
   "name": "python",
   "nbconvert_exporter": "python",
   "pygments_lexer": "ipython3",
   "version": "3.11.4"
  },
  "toc": {
   "base_numbering": 1,
   "nav_menu": {},
   "number_sections": true,
   "sideBar": true,
   "skip_h1_title": false,
   "title_cell": "Table of Contents",
   "title_sidebar": "Contents",
   "toc_cell": false,
   "toc_position": {},
   "toc_section_display": true,
   "toc_window_display": false
  }
 },
 "nbformat": 4,
 "nbformat_minor": 5
}
